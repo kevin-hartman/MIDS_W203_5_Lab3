{
 "cells": [
  {
   "cell_type": "code",
   "execution_count": 197,
   "metadata": {},
   "outputs": [],
   "source": [
    "library(effsize)\n",
    "library(dplyr)\n",
    "library(ggplot2)\n",
    "library(corrplot)\n",
    "library(stargazer)\n",
    "library(MASS)"
   ]
  },
  {
   "cell_type": "code",
   "execution_count": 198,
   "metadata": {},
   "outputs": [],
   "source": [
    "# Imports Data\n",
    "dfCrime = read.csv(\"crime_v2.csv\")"
   ]
  },
  {
   "cell_type": "code",
   "execution_count": 199,
   "metadata": {},
   "outputs": [],
   "source": [
    "# summary(dfCrime)"
   ]
  },
  {
   "cell_type": "code",
   "execution_count": 200,
   "metadata": {},
   "outputs": [],
   "source": [
    "#unique(dfCrime$prbconv)"
   ]
  },
  {
   "cell_type": "code",
   "execution_count": 201,
   "metadata": {},
   "outputs": [
    {
     "data": {
      "text/html": [
       "97"
      ],
      "text/latex": [
       "97"
      ],
      "text/markdown": [
       "97"
      ],
      "text/plain": [
       "[1] 97"
      ]
     },
     "metadata": {},
     "output_type": "display_data"
    }
   ],
   "source": [
    "# dfCrime[is.na(dfCrime),]\n",
    "# dfCrime\n",
    "nrow(dfCrime)"
   ]
  },
  {
   "cell_type": "code",
   "execution_count": 202,
   "metadata": {},
   "outputs": [
    {
     "data": {
      "text/html": [
       "91"
      ],
      "text/latex": [
       "91"
      ],
      "text/markdown": [
       "91"
      ],
      "text/plain": [
       "[1] 91"
      ]
     },
     "metadata": {},
     "output_type": "display_data"
    }
   ],
   "source": [
    "dfCrime <-na.omit(dfCrime) # get rid of the NA rows\n",
    "nrow(dfCrime)"
   ]
  },
  {
   "cell_type": "code",
   "execution_count": 203,
   "metadata": {},
   "outputs": [
    {
     "data": {
      "text/html": [
       "<table>\n",
       "<thead><tr><th></th><th scope=col>county</th><th scope=col>year</th><th scope=col>crmrte</th><th scope=col>prbarr</th><th scope=col>prbconv</th><th scope=col>prbpris</th><th scope=col>avgsen</th><th scope=col>polpc</th><th scope=col>density</th><th scope=col>taxpc</th><th scope=col>⋯</th><th scope=col>wtuc</th><th scope=col>wtrd</th><th scope=col>wfir</th><th scope=col>wser</th><th scope=col>wmfg</th><th scope=col>wfed</th><th scope=col>wsta</th><th scope=col>wloc</th><th scope=col>mix</th><th scope=col>pctymle</th></tr></thead>\n",
       "<tbody>\n",
       "\t<tr><th scope=row>89</th><td>193        </td><td>87         </td><td>0.0235277  </td><td>0.266055   </td><td>0.588859022</td><td>0.423423   </td><td>5.86       </td><td>0.00117887 </td><td>0.8138298  </td><td>28.51783   </td><td>⋯          </td><td>480.1948   </td><td>268.3836   </td><td>365.0196   </td><td>295.9352   </td><td>295.63     </td><td>468.26     </td><td>337.88     </td><td>348.74     </td><td>0.1105016  </td><td>0.07819394 </td></tr>\n",
       "</tbody>\n",
       "</table>\n"
      ],
      "text/latex": [
       "\\begin{tabular}{r|lllllllllllllllllllllllll}\n",
       "  & county & year & crmrte & prbarr & prbconv & prbpris & avgsen & polpc & density & taxpc & ⋯ & wtuc & wtrd & wfir & wser & wmfg & wfed & wsta & wloc & mix & pctymle\\\\\n",
       "\\hline\n",
       "\t89 & 193         & 87          & 0.0235277   & 0.266055    & 0.588859022 & 0.423423    & 5.86        & 0.00117887  & 0.8138298   & 28.51783    & ⋯           & 480.1948    & 268.3836    & 365.0196    & 295.9352    & 295.63      & 468.26      & 337.88      & 348.74      & 0.1105016   & 0.07819394 \\\\\n",
       "\\end{tabular}\n"
      ],
      "text/markdown": [
       "\n",
       "| <!--/--> | county | year | crmrte | prbarr | prbconv | prbpris | avgsen | polpc | density | taxpc | ⋯ | wtuc | wtrd | wfir | wser | wmfg | wfed | wsta | wloc | mix | pctymle | \n",
       "|---|\n",
       "| 89 | 193         | 87          | 0.0235277   | 0.266055    | 0.588859022 | 0.423423    | 5.86        | 0.00117887  | 0.8138298   | 28.51783    | ⋯           | 480.1948    | 268.3836    | 365.0196    | 295.9352    | 295.63      | 468.26      | 337.88      | 348.74      | 0.1105016   | 0.07819394  | \n",
       "\n",
       "\n"
      ],
      "text/plain": [
       "   county year crmrte    prbarr   prbconv     prbpris  avgsen polpc     \n",
       "89 193    87   0.0235277 0.266055 0.588859022 0.423423 5.86   0.00117887\n",
       "   density   taxpc    ⋯ wtuc     wtrd     wfir     wser     wmfg   wfed  \n",
       "89 0.8138298 28.51783 ⋯ 480.1948 268.3836 365.0196 295.9352 295.63 468.26\n",
       "   wsta   wloc   mix       pctymle   \n",
       "89 337.88 348.74 0.1105016 0.07819394"
      ]
     },
     "metadata": {},
     "output_type": "display_data"
    }
   ],
   "source": [
    "dfCrime[duplicated(dfCrime),]\n",
    "# unique(dfCrime$county)"
   ]
  },
  {
   "cell_type": "code",
   "execution_count": 204,
   "metadata": {},
   "outputs": [
    {
     "data": {
      "text/html": [
       "90"
      ],
      "text/latex": [
       "90"
      ],
      "text/markdown": [
       "90"
      ],
      "text/plain": [
       "[1] 90"
      ]
     },
     "metadata": {},
     "output_type": "display_data"
    }
   ],
   "source": [
    "dfCrime <- dfCrime[!duplicated(dfCrime),] # get rid of the duplicated row\n",
    "nrow(dfCrime)"
   ]
  },
  {
   "cell_type": "code",
   "execution_count": 205,
   "metadata": {},
   "outputs": [
    {
     "name": "stderr",
     "output_type": "stream",
     "text": [
      "Warning message in eval(expr, envir, enclos):\n",
      "“NAs introduced by coercion”"
     ]
    }
   ],
   "source": [
    "dfCrime$prbconv<-as.numeric(levels(dfCrime$prbconv))[dfCrime$prbconv]\n",
    "#dfCrime$prbconv<-as.double(dfCrime$prbconv)"
   ]
  },
  {
   "cell_type": "code",
   "execution_count": 206,
   "metadata": {},
   "outputs": [],
   "source": [
    "#dfCrime$county<-as.factor(dfCrime$county) #note that we're missing 10 counties from NC; 6 were blank rows in this set, one row was a duplicate"
   ]
  },
  {
   "cell_type": "code",
   "execution_count": 207,
   "metadata": {},
   "outputs": [],
   "source": [
    "dfCrime$pctmin80<-dfCrime$pctmin80/100 # units are off in comparison to pctymle; we either divide by 100 here or multiply the other one"
   ]
  },
  {
   "cell_type": "code",
   "execution_count": 208,
   "metadata": {},
   "outputs": [],
   "source": [
    "#Map central and west to a region code.\n",
    "# Note that county 71 has both western and central codes\n",
    "dfCrime$region <- case_when (\n",
    "            (dfCrime$central ==0 & dfCrime$west ==0) ~ 0, #Eastern, Coastal, Other\n",
    "            (dfCrime$central ==0 & dfCrime$west ==1) ~ 1, #Western\n",
    "            (dfCrime$central ==1 & dfCrime$west ==0) ~ 2, #Central\n",
    "            (dfCrime$central ==1 & dfCrime$west ==1) ~ 3, #Central-Western border county - this could be Charlotte or it could be a coding error.\n",
    "        )"
   ]
  },
  {
   "cell_type": "code",
   "execution_count": 209,
   "metadata": {},
   "outputs": [],
   "source": [
    "# create a factor for 'central', 'western', 'central/western' and 'eastern, coastal, other' region\n",
    "#dfCrime$region =\n",
    "#             factor( dfCrime$region , levels = 0:3 , labels =\n",
    "#                     c( 'Region 1',\n",
    "#                        'Region 2',\n",
    "#                        'Region 3',\n",
    "#                        'Region 4'\n",
    "#                       )\n",
    "#                    )"
   ]
  },
  {
   "cell_type": "code",
   "execution_count": 210,
   "metadata": {},
   "outputs": [],
   "source": [
    "# create factor for SMSA (standard metropolitan statistical areas) with two levels - inside or outside\n",
    "#    https://www2.census.gov/prod2/decennial/documents/1980/1980censusofpopu8011uns_bw.pdf\n",
    "dfCrime$metro =\n",
    "            factor( dfCrime$urban , levels = 0:1 , labels =\n",
    "                    c( 'Outside',\n",
    "                       'Inside'\n",
    "                      )\n",
    "                   )"
   ]
  },
  {
   "cell_type": "code",
   "execution_count": 211,
   "metadata": {},
   "outputs": [
    {
     "data": {
      "text/html": [
       "253.1188202"
      ],
      "text/latex": [
       "253.1188202"
      ],
      "text/markdown": [
       "253.1188202"
      ],
      "text/plain": [
       "[1] 253.1188"
      ]
     },
     "metadata": {},
     "output_type": "display_data"
    }
   ],
   "source": [
    "dfCrime$wser[which(dfCrime$county==185)]<- median(dfCrime$wser)\n",
    "dfCrime$wser[which(dfCrime$county==185)]"
   ]
  },
  {
   "cell_type": "code",
   "execution_count": 213,
   "metadata": {},
   "outputs": [],
   "source": [
    "#transform our variables\n",
    "\n",
    "dfCrime$lpolpc <-log10(dfCrime$polpc)\n",
    "dfCrime$lprbpris <- log10(dfCrime$prbpris)\n",
    "dfCrime$lpctymle <- log10(dfCrime$pctymle)\n",
    "dfCrime$lavgsen <- log10(dfCrime$avgsen)\n",
    "dfCrime$ldensity <- log10(dfCrime$density)\n",
    "dfCrime$ltaxpc <- log10(dfCrime$taxpc)\n",
    "dfCrime$lmix <- log10(dfCrime$mix)\n",
    "dfCrime$lpctmin80 <- log10(dfCrime$pctmin80)\n",
    "\n",
    "dfCrime$lcrmrte = log10(dfCrime$crmrte)\n",
    "dfCrime$lprbconv = log10(dfCrime$prbconv)\n",
    "dfCrime$lprbarr = log10(dfCrime$prbarr)\n",
    "dfCrime$lwcon<-log10(dfCrime$wcon)\n",
    "dfCrime$lwtrd<-log10(dfCrime$wtrd)\n",
    "dfCrime$lwfir<-log10(dfCrime$wfir)\n",
    "dfCrime$lwser<-log10(dfCrime$wser)\n",
    "dfCrime$lwmfg<-log10(dfCrime$wmfg)\n",
    "dfCrime$lwfed<-log10(dfCrime$wfed)\n",
    "dfCrime$lwsta<-log10(dfCrime$wsta)\n",
    "dfCrime$lwloc<-log10(dfCrime$wloc)"
   ]
  },
  {
   "cell_type": "code",
   "execution_count": 214,
   "metadata": {},
   "outputs": [],
   "source": [
    "#create a geography index factor based on density and percent minority,  young male and region\n",
    "\n",
    "dfCrime$geoidx<-as.factor(round(log10(dfCrime$density) + dfCrime$pctymle + dfCrime$pctmin80 + dfCrime$region, digits=1))"
   ]
  },
  {
   "cell_type": "code",
   "execution_count": 218,
   "metadata": {},
   "outputs": [],
   "source": [
    "# dfCrime %>% arrange(desc(geoidx))"
   ]
  },
  {
   "cell_type": "code",
   "execution_count": 216,
   "metadata": {},
   "outputs": [],
   "source": [
    "#create a wage index and a probability of police encounter index\n",
    "\n",
    "dfCrime$wgidx <- dfCrime$lwcon + dfCrime$lwtrd + dfCrime$lwfir + dfCrime$lwser + dfCrime$lwmfg + dfCrime$lwfed + dfCrime$lwsta + dfCrime$lwloc \n",
    "\n",
    "dfCrime$plidx <- log10(dfCrime$prbarr * dfCrime$prbconv)"
   ]
  },
  {
   "cell_type": "code",
   "execution_count": 223,
   "metadata": {},
   "outputs": [
    {
     "data": {
      "text/plain": [
       "\n",
       "Call:\n",
       "lm(formula = crmrte ~ geoidx + wgidx + plidx, data = dfCrime)\n",
       "\n",
       "Coefficients:\n",
       "(Intercept)   geoidx-0.2   geoidx-0.1      geoidx0    geoidx0.1    geoidx0.2  \n",
       " -0.1567212    0.0447850    0.0026583   -0.0009477    0.0087603    0.0095009  \n",
       "  geoidx0.3    geoidx0.4    geoidx0.5    geoidx0.6    geoidx0.7    geoidx0.8  \n",
       "  0.0097414    0.0127857    0.0188229    0.0123168    0.0177272   -0.0062599  \n",
       "  geoidx0.9      geoidx1    geoidx1.1    geoidx1.2    geoidx1.3    geoidx1.4  \n",
       " -0.0075956   -0.0005851    0.0340720    0.0022172    0.0068682    0.0028945  \n",
       "  geoidx1.6      geoidx2    geoidx2.1    geoidx2.2    geoidx2.3    geoidx2.4  \n",
       "  0.0114381    0.0070829   -0.0012655    0.0024048    0.0060753    0.0045903  \n",
       "  geoidx2.5    geoidx2.6    geoidx2.7      geoidx3    geoidx3.1    geoidx3.2  \n",
       "  0.0145975    0.0078045    0.0263554    0.0201410    0.0256400    0.0305602  \n",
       "  geoidx3.3    geoidx3.9        wgidx        plidx  \n",
       "  0.0559585    0.0184015    0.0076894   -0.0298097  \n"
      ]
     },
     "metadata": {},
     "output_type": "display_data"
    },
    {
     "data": {
      "text/plain": [
       "\n",
       "Call:\n",
       "lm(formula = crmrte ~ geoidx + wgidx + plidx, data = dfCrime)\n",
       "\n",
       "Residuals:\n",
       "      Min        1Q    Median        3Q       Max \n",
       "-0.033618 -0.004255  0.000000  0.004375  0.018517 \n",
       "\n",
       "Coefficients:\n",
       "              Estimate Std. Error t value Pr(>|t|)    \n",
       "(Intercept) -0.1567212  0.0981298  -1.597  0.11588    \n",
       "geoidx-0.2   0.0447850  0.0155623   2.878  0.00566 ** \n",
       "geoidx-0.1   0.0026583  0.0151383   0.176  0.86124    \n",
       "geoidx0     -0.0009477  0.0125364  -0.076  0.94001    \n",
       "geoidx0.1    0.0087603  0.0120258   0.728  0.46937    \n",
       "geoidx0.2    0.0095009  0.0121034   0.785  0.43577    \n",
       "geoidx0.3    0.0097414  0.0120587   0.808  0.42261    \n",
       "geoidx0.4    0.0127857  0.0134379   0.951  0.34546    \n",
       "geoidx0.5    0.0188229  0.0119578   1.574  0.12110    \n",
       "geoidx0.6    0.0123168  0.0134939   0.913  0.36528    \n",
       "geoidx0.7    0.0177272  0.0117714   1.506  0.13770    \n",
       "geoidx0.8   -0.0062599  0.0124231  -0.504  0.61631    \n",
       "geoidx0.9   -0.0075956  0.0132183  -0.575  0.56784    \n",
       "geoidx1     -0.0005851  0.0121104  -0.048  0.96164    \n",
       "geoidx1.1    0.0340720  0.0131388   2.593  0.01211 *  \n",
       "geoidx1.2    0.0022172  0.0127462   0.174  0.86253    \n",
       "geoidx1.3    0.0068682  0.0135995   0.505  0.61552    \n",
       "geoidx1.4    0.0028945  0.0156840   0.185  0.85425    \n",
       "geoidx1.6    0.0114381  0.0161417   0.709  0.48151    \n",
       "geoidx2      0.0070829  0.0152911   0.463  0.64501    \n",
       "geoidx2.1   -0.0012655  0.0134566  -0.094  0.92541    \n",
       "geoidx2.2    0.0024048  0.0119569   0.201  0.84133    \n",
       "geoidx2.3    0.0060753  0.0119529   0.508  0.61326    \n",
       "geoidx2.4    0.0045903  0.0128956   0.356  0.72321    \n",
       "geoidx2.5    0.0145975  0.0125989   1.159  0.25152    \n",
       "geoidx2.6    0.0078045  0.0130419   0.598  0.55198    \n",
       "geoidx2.7    0.0263554  0.0131347   2.007  0.04964 *  \n",
       "geoidx3      0.0201410  0.0172938   1.165  0.24910    \n",
       "geoidx3.1    0.0256400  0.0141324   1.814  0.07499 .  \n",
       "geoidx3.2    0.0305602  0.0174537   1.751  0.08543 .  \n",
       "geoidx3.3    0.0559585  0.0177652   3.150  0.00262 ** \n",
       "geoidx3.9    0.0184015  0.0161053   1.143  0.25808    \n",
       "wgidx        0.0076894  0.0050480   1.523  0.13332    \n",
       "plidx       -0.0298097  0.0050670  -5.883 2.35e-07 ***\n",
       "---\n",
       "Signif. codes:  0 ‘***’ 0.001 ‘**’ 0.01 ‘*’ 0.05 ‘.’ 0.1 ‘ ’ 1\n",
       "\n",
       "Residual standard error: 0.01069 on 56 degrees of freedom\n",
       "Multiple R-squared:  0.7985,\tAdjusted R-squared:  0.6797 \n",
       "F-statistic: 6.723 on 33 and 56 DF,  p-value: 2.964e-10\n"
      ]
     },
     "metadata": {},
     "output_type": "display_data"
    }
   ],
   "source": [
    "mod2 <- lm(crmrte ~ geoidx + wgidx + plidx, data = dfCrime)\n",
    "mod2\n",
    "\n",
    "summary(mod2)\n"
   ]
  },
  {
   "cell_type": "code",
   "execution_count": null,
   "metadata": {},
   "outputs": [],
   "source": []
  },
  {
   "cell_type": "code",
   "execution_count": 222,
   "metadata": {},
   "outputs": [
    {
     "data": {
      "text/plain": [
       "\n",
       "Call:\n",
       "lm(formula = crmrte ~ geoidx * (wgidx + plidx), data = dfCrime)\n",
       "\n",
       "Coefficients:\n",
       "     (Intercept)        geoidx-0.2        geoidx-0.1           geoidx0  \n",
       "      -0.0804947         0.0256716         0.0059788         2.0291939  \n",
       "       geoidx0.1         geoidx0.2         geoidx0.3         geoidx0.4  \n",
       "      -0.0309486         0.0503274        -1.7817866         1.5560038  \n",
       "       geoidx0.5         geoidx0.6         geoidx0.7         geoidx0.8  \n",
       "       0.1988769        -0.3764389        -0.3892855         0.2051321  \n",
       "       geoidx0.9           geoidx1         geoidx1.1         geoidx1.2  \n",
       "      -6.6720860        -0.2025711        -1.2350986        -0.0009710  \n",
       "       geoidx1.3         geoidx1.4         geoidx1.6           geoidx2  \n",
       "       0.6472370         0.0004612         0.0041874         0.0018409  \n",
       "       geoidx2.1         geoidx2.2         geoidx2.3         geoidx2.4  \n",
       "       1.0739868        -0.3606538         0.7358592        -0.6715809  \n",
       "       geoidx2.5         geoidx2.6         geoidx2.7           geoidx3  \n",
       "       2.2044173        -0.1244761         0.7671279         0.0158142  \n",
       "       geoidx3.1         geoidx3.2         geoidx3.3         geoidx3.9  \n",
       "       0.0125422         0.0224659         0.0457178         0.0050819  \n",
       "           wgidx             plidx  geoidx-0.2:wgidx  geoidx-0.1:wgidx  \n",
       "       0.0022539        -0.0672487                NA                NA  \n",
       "   geoidx0:wgidx   geoidx0.1:wgidx   geoidx0.2:wgidx   geoidx0.3:wgidx  \n",
       "      -0.1016223         0.0038225        -0.0001127         0.0945824  \n",
       " geoidx0.4:wgidx   geoidx0.5:wgidx   geoidx0.6:wgidx   geoidx0.7:wgidx  \n",
       "      -0.0781952        -0.0071689         0.0193551         0.0217122  \n",
       " geoidx0.8:wgidx   geoidx0.9:wgidx     geoidx1:wgidx   geoidx1.1:wgidx  \n",
       "      -0.0080964         0.3412447         0.0122656         0.0626735  \n",
       " geoidx1.2:wgidx   geoidx1.3:wgidx   geoidx1.4:wgidx   geoidx1.6:wgidx  \n",
       "       0.0024325        -0.0323452                NA                NA  \n",
       "   geoidx2:wgidx   geoidx2.1:wgidx   geoidx2.2:wgidx   geoidx2.3:wgidx  \n",
       "              NA        -0.0539296         0.0213533        -0.0363390  \n",
       " geoidx2.4:wgidx   geoidx2.5:wgidx   geoidx2.6:wgidx   geoidx2.7:wgidx  \n",
       "       0.0289102        -0.1035752         0.0075881        -0.0374149  \n",
       "   geoidx3:wgidx   geoidx3.1:wgidx   geoidx3.2:wgidx   geoidx3.3:wgidx  \n",
       "              NA                NA                NA                NA  \n",
       " geoidx3.9:wgidx  geoidx-0.2:plidx  geoidx-0.1:plidx     geoidx0:plidx  \n",
       "              NA                NA                NA         0.0557165  \n",
       " geoidx0.1:plidx   geoidx0.2:plidx   geoidx0.3:plidx   geoidx0.4:plidx  \n",
       "       0.0438763         0.0478806         0.0776767                NA  \n",
       " geoidx0.5:plidx   geoidx0.6:plidx   geoidx0.7:plidx   geoidx0.8:plidx  \n",
       "       0.0451532                NA         0.0284738         0.0653117  \n",
       " geoidx0.9:plidx     geoidx1:plidx   geoidx1.1:plidx   geoidx1.2:plidx  \n",
       "              NA         0.0489627        -0.0048331         0.0522135  \n",
       " geoidx1.3:plidx   geoidx1.4:plidx   geoidx1.6:plidx     geoidx2:plidx  \n",
       "              NA                NA                NA                NA  \n",
       " geoidx2.1:plidx   geoidx2.2:plidx   geoidx2.3:plidx   geoidx2.4:plidx  \n",
       "              NA         0.0709770         0.0144476        -0.1071875  \n",
       " geoidx2.5:plidx   geoidx2.6:plidx   geoidx2.7:plidx     geoidx3:plidx  \n",
       "       0.1369693         0.0246732                NA                NA  \n",
       " geoidx3.1:plidx   geoidx3.2:plidx   geoidx3.3:plidx   geoidx3.9:plidx  \n",
       "              NA                NA                NA                NA  \n"
      ]
     },
     "metadata": {},
     "output_type": "display_data"
    },
    {
     "data": {
      "text/plain": [
       "\n",
       "Call:\n",
       "lm(formula = crmrte ~ geoidx * (wgidx + plidx), data = dfCrime)\n",
       "\n",
       "Residuals:\n",
       "      Min        1Q    Median        3Q       Max \n",
       "-0.018625 -0.001197  0.000000  0.000000  0.015948 \n",
       "\n",
       "Coefficients: (26 not defined because of singularities)\n",
       "                   Estimate Std. Error t value Pr(>|t|)   \n",
       "(Intercept)      -0.0804947  0.2006834  -0.401  0.69260   \n",
       "geoidx-0.2        0.0256716  0.0185091   1.387  0.18072   \n",
       "geoidx-0.1        0.0059788  0.0125922   0.475  0.64007   \n",
       "geoidx0           2.0291939  7.5147527   0.270  0.78991   \n",
       "geoidx0.1        -0.0309486  1.1908699  -0.026  0.97952   \n",
       "geoidx0.2         0.0503274  0.4461084   0.113  0.91130   \n",
       "geoidx0.3        -1.7817866  1.0006967  -1.781  0.09018 . \n",
       "geoidx0.4         1.5560038  2.7921254   0.557  0.58352   \n",
       "geoidx0.5         0.1988769  0.3334243   0.596  0.55755   \n",
       "geoidx0.6        -0.3764389  1.0374688  -0.363  0.72053   \n",
       "geoidx0.7        -0.3892855  0.2830063  -1.376  0.18418   \n",
       "geoidx0.8         0.2051321  0.9176484   0.224  0.82538   \n",
       "geoidx0.9        -6.6720860  2.5314434  -2.636  0.01585 * \n",
       "geoidx1          -0.2025711  0.4200911  -0.482  0.63489   \n",
       "geoidx1.1        -1.2350986  0.5050950  -2.445  0.02385 * \n",
       "geoidx1.2        -0.0009710  0.7594590  -0.001  0.99899   \n",
       "geoidx1.3         0.6472370  1.4711825   0.440  0.66470   \n",
       "geoidx1.4         0.0004612  0.0155202   0.030  0.97659   \n",
       "geoidx1.6         0.0041874  0.0184867   0.227  0.82311   \n",
       "geoidx2           0.0018409  0.0138152   0.133  0.89533   \n",
       "geoidx2.1         1.0739868  1.4972695   0.717  0.48149   \n",
       "geoidx2.2        -0.3606538  0.5019143  -0.719  0.48073   \n",
       "geoidx2.3         0.7358592  1.0142301   0.726  0.47653   \n",
       "geoidx2.4        -0.6715809  0.8097969  -0.829  0.41671   \n",
       "geoidx2.5         2.2044173  2.6364138   0.836  0.41295   \n",
       "geoidx2.6        -0.1244761  1.1179962  -0.111  0.91246   \n",
       "geoidx2.7         0.7671279  0.4880776   1.572  0.13170   \n",
       "geoidx3           0.0158142  0.0225549   0.701  0.49129   \n",
       "geoidx3.1         0.0125422  0.0182971   0.685  0.50091   \n",
       "geoidx3.2         0.0224659  0.0238839   0.941  0.35812   \n",
       "geoidx3.3         0.0457178  0.0254688   1.795  0.08777 . \n",
       "geoidx3.9         0.0050819  0.0197184   0.258  0.79925   \n",
       "wgidx             0.0022539  0.0102883   0.219  0.82881   \n",
       "plidx            -0.0672487  0.0222906  -3.017  0.00681 **\n",
       "geoidx-0.2:wgidx         NA         NA      NA       NA   \n",
       "geoidx-0.1:wgidx         NA         NA      NA       NA   \n",
       "geoidx0:wgidx    -0.1016223  0.3980740  -0.255  0.80111   \n",
       "geoidx0.1:wgidx   0.0038225  0.0550996   0.069  0.94538   \n",
       "geoidx0.2:wgidx  -0.0001127  0.0228090  -0.005  0.99611   \n",
       "geoidx0.3:wgidx   0.0945824  0.0517140   1.829  0.08236 . \n",
       "geoidx0.4:wgidx  -0.0781952  0.1409206  -0.555  0.58512   \n",
       "geoidx0.5:wgidx  -0.0071689  0.0168223  -0.426  0.67455   \n",
       "geoidx0.6:wgidx   0.0193551  0.0524285   0.369  0.71588   \n",
       "geoidx0.7:wgidx   0.0217122  0.0143237   1.516  0.14521   \n",
       "geoidx0.8:wgidx  -0.0080964  0.0465476  -0.174  0.86366   \n",
       "geoidx0.9:wgidx   0.3412447  0.1295330   2.634  0.01590 * \n",
       "geoidx1:wgidx     0.0122656  0.0210846   0.582  0.56725   \n",
       "geoidx1.1:wgidx   0.0626735  0.0256493   2.443  0.02395 * \n",
       "geoidx1.2:wgidx   0.0024325  0.0384407   0.063  0.95017   \n",
       "geoidx1.3:wgidx  -0.0323452  0.0737958  -0.438  0.66586   \n",
       "geoidx1.4:wgidx          NA         NA      NA       NA   \n",
       "geoidx1.6:wgidx          NA         NA      NA       NA   \n",
       "geoidx2:wgidx            NA         NA      NA       NA   \n",
       "geoidx2.1:wgidx  -0.0539296  0.0753950  -0.715  0.48269   \n",
       "geoidx2.2:wgidx   0.0213533  0.0261658   0.816  0.42407   \n",
       "geoidx2.3:wgidx  -0.0363390  0.0530198  -0.685  0.50097   \n",
       "geoidx2.4:wgidx   0.0289102  0.0356479   0.811  0.42692   \n",
       "geoidx2.5:wgidx  -0.1035752  0.1275245  -0.812  0.42624   \n",
       "geoidx2.6:wgidx   0.0075881  0.0548086   0.138  0.89127   \n",
       "geoidx2.7:wgidx  -0.0374149  0.0246207  -1.520  0.14425   \n",
       "geoidx3:wgidx            NA         NA      NA       NA   \n",
       "geoidx3.1:wgidx          NA         NA      NA       NA   \n",
       "geoidx3.2:wgidx          NA         NA      NA       NA   \n",
       "geoidx3.3:wgidx          NA         NA      NA       NA   \n",
       "geoidx3.9:wgidx          NA         NA      NA       NA   \n",
       "geoidx-0.2:plidx         NA         NA      NA       NA   \n",
       "geoidx-0.1:plidx         NA         NA      NA       NA   \n",
       "geoidx0:plidx     0.0557165  0.2203286   0.253  0.80294   \n",
       "geoidx0.1:plidx   0.0438763  0.1550975   0.283  0.78016   \n",
       "geoidx0.2:plidx   0.0478806  0.0365324   1.311  0.20483   \n",
       "geoidx0.3:plidx   0.0776767  0.0324766   2.392  0.02671 * \n",
       "geoidx0.4:plidx          NA         NA      NA       NA   \n",
       "geoidx0.5:plidx   0.0451532  0.0357770   1.262  0.22144   \n",
       "geoidx0.6:plidx          NA         NA      NA       NA   \n",
       "geoidx0.7:plidx   0.0284738  0.0233036   1.222  0.23597   \n",
       "geoidx0.8:plidx   0.0653117  0.0279515   2.337  0.02998 * \n",
       "geoidx0.9:plidx          NA         NA      NA       NA   \n",
       "geoidx1:plidx     0.0489627  0.0486237   1.007  0.32598   \n",
       "geoidx1.1:plidx  -0.0048331  0.0286329  -0.169  0.86765   \n",
       "geoidx1.2:plidx   0.0522135  0.0281801   1.853  0.07872 . \n",
       "geoidx1.3:plidx          NA         NA      NA       NA   \n",
       "geoidx1.4:plidx          NA         NA      NA       NA   \n",
       "geoidx1.6:plidx          NA         NA      NA       NA   \n",
       "geoidx2:plidx            NA         NA      NA       NA   \n",
       "geoidx2.1:plidx          NA         NA      NA       NA   \n",
       "geoidx2.2:plidx   0.0709770  0.0546036   1.300  0.20843   \n",
       "geoidx2.3:plidx   0.0144476  0.0496725   0.291  0.77416   \n",
       "geoidx2.4:plidx  -0.1071875  0.1168878  -0.917  0.37006   \n",
       "geoidx2.5:plidx   0.1369693  0.1239954   1.105  0.28243   \n",
       "geoidx2.6:plidx   0.0246732  0.0612682   0.403  0.69144   \n",
       "geoidx2.7:plidx          NA         NA      NA       NA   \n",
       "geoidx3:plidx            NA         NA      NA       NA   \n",
       "geoidx3.1:plidx          NA         NA      NA       NA   \n",
       "geoidx3.2:plidx          NA         NA      NA       NA   \n",
       "geoidx3.3:plidx          NA         NA      NA       NA   \n",
       "geoidx3.9:plidx          NA         NA      NA       NA   \n",
       "---\n",
       "Signif. codes:  0 ‘***’ 0.001 ‘**’ 0.01 ‘*’ 0.05 ‘.’ 0.1 ‘ ’ 1\n",
       "\n",
       "Residual standard error: 0.008696 on 20 degrees of freedom\n",
       "Multiple R-squared:  0.9524,\tAdjusted R-squared:  0.788 \n",
       "F-statistic: 5.794 on 69 and 20 DF,  p-value: 3.012e-05\n"
      ]
     },
     "metadata": {},
     "output_type": "display_data"
    }
   ],
   "source": [
    "mod3 <- lm(crmrte ~ geoidx * ( wgidx + plidx), data = dfCrime)\n",
    "mod3\n",
    "\n",
    "summary(mod3)"
   ]
  },
  {
   "cell_type": "code",
   "execution_count": 225,
   "metadata": {},
   "outputs": [],
   "source": [
    "library(broom)"
   ]
  },
  {
   "cell_type": "code",
   "execution_count": 227,
   "metadata": {},
   "outputs": [],
   "source": [
    "mod3_aug<-mod3 %>%augment"
   ]
  },
  {
   "cell_type": "code",
   "execution_count": 230,
   "metadata": {},
   "outputs": [
    {
     "data": {
      "text/html": [
       "<table>\n",
       "<thead><tr><th scope=col>.rownames</th><th scope=col>crmrte</th><th scope=col>geoidx</th><th scope=col>wgidx</th><th scope=col>plidx</th><th scope=col>.fitted</th><th scope=col>.se.fit</th><th scope=col>.resid</th><th scope=col>.hat</th><th scope=col>.sigma</th><th scope=col>.cooksd</th><th scope=col>.std.resid</th></tr></thead>\n",
       "<tbody>\n",
       "\t<tr><td>1            </td><td>0.0356036    </td><td>2.7          </td><td>20.05162     </td><td>-0.8030890   </td><td>0.03560360   </td><td>0.008696168  </td><td>-1.759538e-16</td><td>1.0000000    </td><td>0.008922080  </td><td>         NaN </td><td>       NaN   </td></tr>\n",
       "\t<tr><td>2            </td><td>0.0152532    </td><td>2.2          </td><td>19.52494     </td><td>-0.7086349   </td><td>0.01713797   </td><td>0.006742917  </td><td>-1.884771e-03</td><td>0.6012289    </td><td>0.008895766  </td><td>0.0025372069 </td><td>-0.3432171   </td></tr>\n",
       "\t<tr><td>3            </td><td>0.0129603    </td><td>0.7          </td><td>19.42441     </td><td>-0.9242800   </td><td>0.03158574   </td><td>0.005365587  </td><td>-1.862544e-02</td><td>0.3806963    </td><td>0.007079660  </td><td>0.0650474967 </td><td>-2.7216156   </td></tr>\n",
       "\t<tr><td>4            </td><td>0.0267532    </td><td>2.2          </td><td>19.77094     </td><td>-0.7174829   </td><td>0.02291239   </td><td>0.006465985  </td><td> 3.840805e-03</td><td>0.5528579    </td><td>0.008824235  </td><td>0.0077057202 </td><td> 0.6604982   </td></tr>\n",
       "\t<tr><td>5            </td><td>0.0106232    </td><td>0.8          </td><td>19.71611     </td><td>-0.6073663   </td><td>0.01062320   </td><td>0.008696168  </td><td>-9.062426e-17</td><td>1.0000000    </td><td>0.008922080  </td><td>         NaN </td><td>       NaN   </td></tr>\n",
       "\t<tr><td>6            </td><td>0.0146067    </td><td>0.9          </td><td>19.41783     </td><td>-1.4452144   </td><td>0.01460670   </td><td>0.008696168  </td><td>-2.467766e-17</td><td>1.0000000    </td><td>0.008922080  </td><td>         NaN </td><td>       NaN   </td></tr>\n",
       "\t<tr><td>7            </td><td>0.0296409    </td><td>0.1          </td><td>19.72851     </td><td>-0.7211924   </td><td>0.02529029   </td><td>0.005329366  </td><td> 4.350609e-03</td><td>0.3755738    </td><td>0.008832221  </td><td>0.0034441292 </td><td> 0.6331136   </td></tr>\n",
       "\t<tr><td>8            </td><td>0.0202814    </td><td>0.2          </td><td>19.60221     </td><td>-0.5205342   </td><td>0.02188592   </td><td>0.008597708  </td><td>-1.604523e-03</td><td>0.9774837    </td><td>0.008578208  </td><td>0.9376782058 </td><td>-1.2296162   </td></tr>\n",
       "\t<tr><td>9            </td><td>0.0304289    </td><td>0            </td><td>19.41596     </td><td>-0.9593655   </td><td>0.03042890   </td><td>0.008696168  </td><td> 3.798382e-16</td><td>1.0000000    </td><td>0.008922080  </td><td>         NaN </td><td>       NaN   </td></tr>\n",
       "\t<tr><td>10           </td><td>0.0221567    </td><td>0.1          </td><td>19.83258     </td><td>-0.6998333   </td><td>0.02542342   </td><td>0.007000008  </td><td>-3.266720e-03</td><td>0.6479496    </td><td>0.008832221  </td><td>0.0105390541 </td><td>-0.6331136   </td></tr>\n",
       "\t<tr><td>11           </td><td>0.0437355    </td><td>1.6          </td><td>20.29911     </td><td>-1.1047189   </td><td>0.04373550   </td><td>0.008696168  </td><td> 5.842492e-19</td><td>1.0000000    </td><td>0.008922080  </td><td>         NaN </td><td>       NaN   </td></tr>\n",
       "\t<tr><td>12           </td><td>0.0269836    </td><td>1.3          </td><td>20.02196     </td><td>-0.9327755   </td><td>0.02698360   </td><td>0.008696168  </td><td>-5.725794e-17</td><td>1.0000000    </td><td>0.008922080  </td><td>         NaN </td><td>       NaN   </td></tr>\n",
       "\t<tr><td>13           </td><td>0.0302542    </td><td>2.6          </td><td>20.30506     </td><td>-0.8807017   </td><td>0.03236679   </td><td>0.007200277  </td><td>-2.112592e-03</td><td>0.6855554    </td><td>0.008880118  </td><td>0.0058456356 </td><td>-0.4332271   </td></tr>\n",
       "\t<tr><td>14           </td><td>0.0382489    </td><td>1.3          </td><td>19.85176     </td><td>-1.0241339   </td><td>0.03824890   </td><td>0.008696168  </td><td> 5.585145e-17</td><td>1.0000000    </td><td>0.008922080  </td><td>         NaN </td><td>       NaN   </td></tr>\n",
       "\t<tr><td>15           </td><td>0.0159189    </td><td>2.2          </td><td>19.53659     </td><td>-0.8549125   </td><td>0.01686771   </td><td>0.007021679  </td><td>-9.488069e-04</td><td>0.6519678    </td><td>0.008914447  </td><td>0.0009153537 </td><td>-0.1849440   </td></tr>\n",
       "\t<tr><td>16           </td><td>0.0408569    </td><td>2.6          </td><td>20.34449     </td><td>-1.0627905   </td><td>0.04050734   </td><td>0.008658654  </td><td> 3.495597e-04</td><td>0.9913909    </td><td>0.008880118  </td><td>0.3087610362 </td><td> 0.4332271   </td></tr>\n",
       "\t<tr><td>17           </td><td>0.0226017    </td><td>2.1          </td><td>19.96758     </td><td>-0.9063037   </td><td>0.02260170   </td><td>0.008696168  </td><td>-1.448630e-18</td><td>1.0000000    </td><td>0.008922080  </td><td>         NaN </td><td>       NaN   </td></tr>\n",
       "\t<tr><td>18           </td><td>0.0119154    </td><td>0.8          </td><td>19.46693     </td><td>-0.5228792   </td><td>0.01191540   </td><td>0.008696168  </td><td> 8.260414e-17</td><td>1.0000000    </td><td>0.008922080  </td><td>         NaN </td><td>       NaN   </td></tr>\n",
       "\t<tr><td>19           </td><td>0.0257713    </td><td>0.4          </td><td>19.84877     </td><td>-0.8565786   </td><td>0.02577130   </td><td>0.008696168  </td><td> 2.367506e-16</td><td>1.0000000    </td><td>0.008922080  </td><td>         NaN </td><td>       NaN   </td></tr>\n",
       "\t<tr><td>20           </td><td>0.0362807    </td><td>2.6          </td><td>20.12993     </td><td>-1.0395433   </td><td>0.03740593   </td><td>0.008299234  </td><td>-1.125228e-03</td><td>0.9107940    </td><td>0.008880118  </td><td>0.0273753282 </td><td>-0.4332271   </td></tr>\n",
       "\t<tr><td>21           </td><td>0.0313623    </td><td>0.2          </td><td>19.98566     </td><td>-0.8550081   </td><td>0.02918506   </td><td>0.008513993  </td><td> 2.177240e-03</td><td>0.9585411    </td><td>0.008578208  </td><td>0.4993834474 </td><td> 1.2296162   </td></tr>\n",
       "\t<tr><td>22           </td><td>0.0374979    </td><td>0.5          </td><td>19.95972     </td><td>-1.0073040   </td><td>0.04253631   </td><td>0.008144455  </td><td>-5.038410e-03</td><td>0.8771386    </td><td>0.008290283  </td><td>0.2786574001 </td><td>-1.6529431   </td></tr>\n",
       "\t<tr><td>23           </td><td>0.0883849    </td><td>1.1          </td><td>20.07590     </td><td>-1.3942797   </td><td>0.08838490   </td><td>0.008696168  </td><td> 1.614241e-18</td><td>1.0000000    </td><td>0.008922080  </td><td>         NaN </td><td>       NaN   </td></tr>\n",
       "\t<tr><td>24           </td><td>0.0140655    </td><td>0            </td><td>19.62842     </td><td>-1.3710682   </td><td>0.01406550   </td><td>0.008696168  </td><td> 4.937335e-17</td><td>1.0000000    </td><td>0.008922080  </td><td>         NaN </td><td>       NaN   </td></tr>\n",
       "\t<tr><td>25           </td><td>0.0790163    </td><td>-0.2         </td><td>19.67405     </td><td>-1.3308258   </td><td>0.07901630   </td><td>0.008696168  </td><td>-1.046807e-18</td><td>1.0000000    </td><td>0.008922080  </td><td>         NaN </td><td>       NaN   </td></tr>\n",
       "\t<tr><td>26           </td><td>0.0300216    </td><td>2.5          </td><td>20.02745     </td><td>-0.7862293   </td><td>0.03989842   </td><td>0.006868524  </td><td>-9.876824e-03</td><td>0.6238369    </td><td>0.008121231  </td><td>0.0812455006 </td><td>-1.8518307   </td></tr>\n",
       "\t<tr><td>27           </td><td>0.0233327    </td><td>2.2          </td><td>19.98315     </td><td>-0.8483847   </td><td>0.02743395   </td><td>0.006846100  </td><td>-4.101253e-03</td><td>0.6197701    </td><td>0.008790634  </td><td>0.0136212611 </td><td>-0.7648311   </td></tr>\n",
       "\t<tr><td>28           </td><td>0.0233677    </td><td>0.1          </td><td>19.59808     </td><td>-0.7067545   </td><td>0.02416028   </td><td>0.008605586  </td><td>-7.925858e-04</td><td>0.9792760    </td><td>0.008832221  </td><td>0.2705807240 </td><td>-0.6331136   </td></tr>\n",
       "\t<tr><td>29           </td><td>0.0706599    </td><td>3.2          </td><td>20.89249     </td><td>-1.2133973   </td><td>0.07065990   </td><td>0.008696168  </td><td> 1.343191e-18</td><td>1.0000000    </td><td>0.008922080  </td><td>         NaN </td><td>       NaN   </td></tr>\n",
       "\t<tr><td>30           </td><td>0.0658801    </td><td>0.7          </td><td>20.00606     </td><td>-1.3528255   </td><td>0.06214244   </td><td>0.005213443  </td><td> 3.737661e-03</td><td>0.3594127    </td><td>0.008857523  </td><td>0.0023114397 </td><td> 0.5370105   </td></tr>\n",
       "\t<tr><td>⋮</td><td>⋮</td><td>⋮</td><td>⋮</td><td>⋮</td><td>⋮</td><td>⋮</td><td>⋮</td><td>⋮</td><td>⋮</td><td>⋮</td><td>⋮</td></tr>\n",
       "\t<tr><td>61           </td><td>0.0126662    </td><td>-0.1         </td><td>19.14473     </td><td>-0.6547642   </td><td>0.01266620   </td><td>0.008696168  </td><td> 6.496539e-18</td><td>1.0000000    </td><td>0.008922080  </td><td>         NaN </td><td>        NaN  </td></tr>\n",
       "\t<tr><td>62           </td><td>0.0243470    </td><td>0.6          </td><td>19.71992     </td><td>-0.8201412   </td><td>0.02434700   </td><td>0.008696168  </td><td>-4.733749e-17</td><td>1.0000000    </td><td>0.008922080  </td><td>         NaN </td><td>        NaN  </td></tr>\n",
       "\t<tr><td>63           </td><td>0.0314610    </td><td>0            </td><td>19.41106     </td><td>-1.0066317   </td><td>0.03146100   </td><td>0.008696168  </td><td>-4.281093e-16</td><td>1.0000000    </td><td>0.008922080  </td><td>         NaN </td><td>        NaN  </td></tr>\n",
       "\t<tr><td>64           </td><td>0.0265806    </td><td>0.1          </td><td>18.91638     </td><td>-0.9999999   </td><td>0.02687190   </td><td>0.008683987  </td><td>-2.913033e-04</td><td>0.9972006    </td><td>0.008832221  </td><td>2.039746e+00 </td><td>-0.63311358  </td></tr>\n",
       "\t<tr><td>65           </td><td>0.0299856    </td><td>2.3          </td><td>19.69685     </td><td>-0.9179928   </td><td>0.03246551   </td><td>0.008238468  </td><td>-2.479909e-03</td><td>0.8975054    </td><td>0.008743310  </td><td>9.925501e-02 </td><td>-0.89075292  </td></tr>\n",
       "\t<tr><td>66           </td><td>0.0551686    </td><td>0.7          </td><td>20.31152     </td><td>-1.0243419   </td><td>0.05672619   </td><td>0.005780379  </td><td>-1.557586e-03</td><td>0.4418316    </td><td>0.008909251  </td><td>6.499451e-04 </td><td>-0.23974060  </td></tr>\n",
       "\t<tr><td>67           </td><td>0.0164987    </td><td>0.9          </td><td>19.59687     </td><td>-0.5588552   </td><td>0.01649870   </td><td>0.008696168  </td><td> 2.218698e-17</td><td>1.0000000    </td><td>0.008922080  </td><td>         NaN </td><td>        NaN  </td></tr>\n",
       "\t<tr><td>68           </td><td>0.0264557    </td><td>2.3          </td><td>19.91411     </td><td>-0.9675543   </td><td>0.02767690   </td><td>0.005575335  </td><td>-1.221202e-03</td><td>0.4110419    </td><td>0.008914608  </td><td>3.338403e-04 </td><td>-0.18298586  </td></tr>\n",
       "\t<tr><td>69           </td><td>0.0317563    </td><td>2.3          </td><td>19.68001     </td><td>-0.7451220   </td><td>0.02391167   </td><td>0.004036635  </td><td> 7.844629e-03</td><td>0.2154682    </td><td>0.008687642  </td><td>4.069611e-03 </td><td> 1.01844880  </td></tr>\n",
       "\t<tr><td>70           </td><td>0.0312279    </td><td>0.7          </td><td>19.80939     </td><td>-0.6410763   </td><td>0.02983100   </td><td>0.003401486  </td><td> 1.396898e-03</td><td>0.1529965    </td><td>0.008915282  </td><td>7.861159e-05 </td><td> 0.17453969  </td></tr>\n",
       "\t<tr><td>71           </td><td>0.0305908    </td><td>2.5          </td><td>19.99575     </td><td>-0.9084363   </td><td>0.03458963   </td><td>0.008423797  </td><td>-3.998831e-03</td><td>0.9383394    </td><td>0.008121231  </td><td>7.455155e-01 </td><td>-1.85183066  </td></tr>\n",
       "\t<tr><td>72           </td><td>0.0362330    </td><td>2.6          </td><td>20.23206     </td><td>-0.9205465   </td><td>0.03334474   </td><td>0.005583587  </td><td> 2.888260e-03</td><td>0.4122596    </td><td>0.008880118  </td><td>1.880696e-03 </td><td> 0.43322712  </td></tr>\n",
       "\t<tr><td>73           </td><td>0.0200070    </td><td>1.2          </td><td>19.69397     </td><td>-0.6105381   </td><td>0.02000700   </td><td>0.008696168  </td><td>-2.855368e-17</td><td>1.0000000    </td><td>0.008922080  </td><td>         NaN </td><td>        NaN  </td></tr>\n",
       "\t<tr><td>74           </td><td>0.0215728    </td><td>0.2          </td><td>19.53579     </td><td>-0.9038990   </td><td>0.02916875   </td><td>0.006120609  </td><td>-7.595951e-03</td><td>0.4953743    </td><td>0.008578208  </td><td>2.120339e-02 </td><td>-1.22961619  </td></tr>\n",
       "\t<tr><td>75           </td><td>0.0508341    </td><td>0.5          </td><td>19.94997     </td><td>-0.7969163   </td><td>0.03793562   </td><td>0.003931148  </td><td> 1.289848e-02</td><td>0.2043539    </td><td>0.008282401  </td><td>1.014533e-02 </td><td> 1.66284030  </td></tr>\n",
       "\t<tr><td>76           </td><td>0.0238285    </td><td>2.3          </td><td>19.92969     </td><td>-0.9323289   </td><td>0.02528607   </td><td>0.006575310  </td><td>-1.457570e-03</td><td>0.5717110    </td><td>0.008907437  </td><td>1.250857e-03 </td><td>-0.25611378  </td></tr>\n",
       "\t<tr><td>77           </td><td>0.0121033    </td><td>2.1          </td><td>19.77876     </td><td>-0.6050941   </td><td>0.01210330   </td><td>0.008696168  </td><td> 5.842492e-19</td><td>1.0000000    </td><td>0.008922080  </td><td>         NaN </td><td>        NaN  </td></tr>\n",
       "\t<tr><td>78           </td><td>0.0243954    </td><td>1.2          </td><td>20.03298     </td><td>-0.7967470   </td><td>0.02439540   </td><td>0.008696168  </td><td> 4.045578e-17</td><td>1.0000000    </td><td>0.008922080  </td><td>         NaN </td><td>        NaN  </td></tr>\n",
       "\t<tr><td>79           </td><td>0.0139937    </td><td>-3.4         </td><td>19.25640     </td><td>-0.7596675   </td><td>0.01399370   </td><td>0.008696168  </td><td>-2.595160e-17</td><td>1.0000000    </td><td>0.008922080  </td><td>         NaN </td><td>        NaN  </td></tr>\n",
       "\t<tr><td>80           </td><td>0.0164932    </td><td>1            </td><td>19.91591     </td><td>-0.8420856   </td><td>0.02150095   </td><td>0.004079029  </td><td>-5.007749e-03</td><td>0.2200178    </td><td>0.008826739  </td><td>1.713245e-03 </td><td>-0.65203704  </td></tr>\n",
       "\t<tr><td>81           </td><td>0.0318720    </td><td>2.4          </td><td>20.21590     </td><td>-0.9062814   </td><td>0.03602220   </td><td>0.006405352  </td><td>-4.150201e-03</td><td>0.5425380    </td><td>0.008810326  </td><td>8.435376e-03 </td><td>-0.70560831  </td></tr>\n",
       "\t<tr><td>82           </td><td>0.0729479    </td><td>2.7          </td><td>19.75478     </td><td>-1.2031998   </td><td>0.07294790   </td><td>0.008696168  </td><td> 6.799590e-17</td><td>1.0000000    </td><td>0.008922080  </td><td>         NaN </td><td>        NaN  </td></tr>\n",
       "\t<tr><td>83           </td><td>0.0568423    </td><td>3            </td><td>20.85931     </td><td>-1.1079515   </td><td>0.05684230   </td><td>0.008696168  </td><td>-9.538747e-20</td><td>1.0000000    </td><td>0.008922080  </td><td>         NaN </td><td>        NaN  </td></tr>\n",
       "\t<tr><td>84           </td><td>0.0108703    </td><td>2.3          </td><td>19.42253     </td><td>-0.3827897   </td><td>0.01355625   </td><td>0.008269473  </td><td>-2.685948e-03</td><td>0.9042735    </td><td>0.008696953  </td><td>1.344859e-01 </td><td>-0.99828287  </td></tr>\n",
       "\t<tr><td>85           </td><td>0.0345231    </td><td>0.2          </td><td>19.41150     </td><td>-0.8314722   </td><td>0.02749987   </td><td>0.006557400  </td><td> 7.023234e-03</td><td>0.5686009    </td><td>0.008578208  </td><td>2.846881e-02 </td><td> 1.22961619  </td></tr>\n",
       "\t<tr><td>86           </td><td>0.0313130    </td><td>1.2          </td><td>19.84899     </td><td>-1.3141904   </td><td>0.03131300   </td><td>0.008696168  </td><td>-1.305160e-17</td><td>1.0000000    </td><td>0.008922080  </td><td>         NaN </td><td>        NaN  </td></tr>\n",
       "\t<tr><td>87           </td><td>0.0458895    </td><td>0.7          </td><td>19.83337     </td><td>-1.1106106   </td><td>0.04861172   </td><td>0.003670392  </td><td>-2.722220e-03</td><td>0.1781432    </td><td>0.008895445  </td><td>3.692064e-04 </td><td>-0.34530046  </td></tr>\n",
       "\t<tr><td>88           </td><td>0.0235277    </td><td>1            </td><td>20.13087     </td><td>-0.8050173   </td><td>0.02394433   </td><td>0.006674389  </td><td>-4.166270e-04</td><td>0.5890705    </td><td>0.008920834  </td><td>1.143862e-04 </td><td>-0.07473703  </td></tr>\n",
       "\t<tr><td>90           </td><td>0.0313973    </td><td>0.7          </td><td>20.26157     </td><td>-0.4730953   </td><td>0.03415463   </td><td>0.004990922  </td><td>-2.757331e-03</td><td>0.3293864    </td><td>0.008888578  </td><td>1.051925e-03 </td><td>-0.38719057  </td></tr>\n",
       "\t<tr><td>91           </td><td>0.0141928    </td><td>1.1          </td><td>19.80410     </td><td>-0.6098241   </td><td>0.01419280   </td><td>0.008696168  </td><td> 7.277187e-18</td><td>1.0000000    </td><td>0.008922080  </td><td>         NaN </td><td>        NaN  </td></tr>\n",
       "</tbody>\n",
       "</table>\n"
      ],
      "text/latex": [
       "\\begin{tabular}{r|llllllllllll}\n",
       " .rownames & crmrte & geoidx & wgidx & plidx & .fitted & .se.fit & .resid & .hat & .sigma & .cooksd & .std.resid\\\\\n",
       "\\hline\n",
       "\t 1             & 0.0356036     & 2.7           & 20.05162      & -0.8030890    & 0.03560360    & 0.008696168   & -1.759538e-16 & 1.0000000     & 0.008922080   &          NaN  &        NaN   \\\\\n",
       "\t 2             & 0.0152532     & 2.2           & 19.52494      & -0.7086349    & 0.01713797    & 0.006742917   & -1.884771e-03 & 0.6012289     & 0.008895766   & 0.0025372069  & -0.3432171   \\\\\n",
       "\t 3             & 0.0129603     & 0.7           & 19.42441      & -0.9242800    & 0.03158574    & 0.005365587   & -1.862544e-02 & 0.3806963     & 0.007079660   & 0.0650474967  & -2.7216156   \\\\\n",
       "\t 4             & 0.0267532     & 2.2           & 19.77094      & -0.7174829    & 0.02291239    & 0.006465985   &  3.840805e-03 & 0.5528579     & 0.008824235   & 0.0077057202  &  0.6604982   \\\\\n",
       "\t 5             & 0.0106232     & 0.8           & 19.71611      & -0.6073663    & 0.01062320    & 0.008696168   & -9.062426e-17 & 1.0000000     & 0.008922080   &          NaN  &        NaN   \\\\\n",
       "\t 6             & 0.0146067     & 0.9           & 19.41783      & -1.4452144    & 0.01460670    & 0.008696168   & -2.467766e-17 & 1.0000000     & 0.008922080   &          NaN  &        NaN   \\\\\n",
       "\t 7             & 0.0296409     & 0.1           & 19.72851      & -0.7211924    & 0.02529029    & 0.005329366   &  4.350609e-03 & 0.3755738     & 0.008832221   & 0.0034441292  &  0.6331136   \\\\\n",
       "\t 8             & 0.0202814     & 0.2           & 19.60221      & -0.5205342    & 0.02188592    & 0.008597708   & -1.604523e-03 & 0.9774837     & 0.008578208   & 0.9376782058  & -1.2296162   \\\\\n",
       "\t 9             & 0.0304289     & 0             & 19.41596      & -0.9593655    & 0.03042890    & 0.008696168   &  3.798382e-16 & 1.0000000     & 0.008922080   &          NaN  &        NaN   \\\\\n",
       "\t 10            & 0.0221567     & 0.1           & 19.83258      & -0.6998333    & 0.02542342    & 0.007000008   & -3.266720e-03 & 0.6479496     & 0.008832221   & 0.0105390541  & -0.6331136   \\\\\n",
       "\t 11            & 0.0437355     & 1.6           & 20.29911      & -1.1047189    & 0.04373550    & 0.008696168   &  5.842492e-19 & 1.0000000     & 0.008922080   &          NaN  &        NaN   \\\\\n",
       "\t 12            & 0.0269836     & 1.3           & 20.02196      & -0.9327755    & 0.02698360    & 0.008696168   & -5.725794e-17 & 1.0000000     & 0.008922080   &          NaN  &        NaN   \\\\\n",
       "\t 13            & 0.0302542     & 2.6           & 20.30506      & -0.8807017    & 0.03236679    & 0.007200277   & -2.112592e-03 & 0.6855554     & 0.008880118   & 0.0058456356  & -0.4332271   \\\\\n",
       "\t 14            & 0.0382489     & 1.3           & 19.85176      & -1.0241339    & 0.03824890    & 0.008696168   &  5.585145e-17 & 1.0000000     & 0.008922080   &          NaN  &        NaN   \\\\\n",
       "\t 15            & 0.0159189     & 2.2           & 19.53659      & -0.8549125    & 0.01686771    & 0.007021679   & -9.488069e-04 & 0.6519678     & 0.008914447   & 0.0009153537  & -0.1849440   \\\\\n",
       "\t 16            & 0.0408569     & 2.6           & 20.34449      & -1.0627905    & 0.04050734    & 0.008658654   &  3.495597e-04 & 0.9913909     & 0.008880118   & 0.3087610362  &  0.4332271   \\\\\n",
       "\t 17            & 0.0226017     & 2.1           & 19.96758      & -0.9063037    & 0.02260170    & 0.008696168   & -1.448630e-18 & 1.0000000     & 0.008922080   &          NaN  &        NaN   \\\\\n",
       "\t 18            & 0.0119154     & 0.8           & 19.46693      & -0.5228792    & 0.01191540    & 0.008696168   &  8.260414e-17 & 1.0000000     & 0.008922080   &          NaN  &        NaN   \\\\\n",
       "\t 19            & 0.0257713     & 0.4           & 19.84877      & -0.8565786    & 0.02577130    & 0.008696168   &  2.367506e-16 & 1.0000000     & 0.008922080   &          NaN  &        NaN   \\\\\n",
       "\t 20            & 0.0362807     & 2.6           & 20.12993      & -1.0395433    & 0.03740593    & 0.008299234   & -1.125228e-03 & 0.9107940     & 0.008880118   & 0.0273753282  & -0.4332271   \\\\\n",
       "\t 21            & 0.0313623     & 0.2           & 19.98566      & -0.8550081    & 0.02918506    & 0.008513993   &  2.177240e-03 & 0.9585411     & 0.008578208   & 0.4993834474  &  1.2296162   \\\\\n",
       "\t 22            & 0.0374979     & 0.5           & 19.95972      & -1.0073040    & 0.04253631    & 0.008144455   & -5.038410e-03 & 0.8771386     & 0.008290283   & 0.2786574001  & -1.6529431   \\\\\n",
       "\t 23            & 0.0883849     & 1.1           & 20.07590      & -1.3942797    & 0.08838490    & 0.008696168   &  1.614241e-18 & 1.0000000     & 0.008922080   &          NaN  &        NaN   \\\\\n",
       "\t 24            & 0.0140655     & 0             & 19.62842      & -1.3710682    & 0.01406550    & 0.008696168   &  4.937335e-17 & 1.0000000     & 0.008922080   &          NaN  &        NaN   \\\\\n",
       "\t 25            & 0.0790163     & -0.2          & 19.67405      & -1.3308258    & 0.07901630    & 0.008696168   & -1.046807e-18 & 1.0000000     & 0.008922080   &          NaN  &        NaN   \\\\\n",
       "\t 26            & 0.0300216     & 2.5           & 20.02745      & -0.7862293    & 0.03989842    & 0.006868524   & -9.876824e-03 & 0.6238369     & 0.008121231   & 0.0812455006  & -1.8518307   \\\\\n",
       "\t 27            & 0.0233327     & 2.2           & 19.98315      & -0.8483847    & 0.02743395    & 0.006846100   & -4.101253e-03 & 0.6197701     & 0.008790634   & 0.0136212611  & -0.7648311   \\\\\n",
       "\t 28            & 0.0233677     & 0.1           & 19.59808      & -0.7067545    & 0.02416028    & 0.008605586   & -7.925858e-04 & 0.9792760     & 0.008832221   & 0.2705807240  & -0.6331136   \\\\\n",
       "\t 29            & 0.0706599     & 3.2           & 20.89249      & -1.2133973    & 0.07065990    & 0.008696168   &  1.343191e-18 & 1.0000000     & 0.008922080   &          NaN  &        NaN   \\\\\n",
       "\t 30            & 0.0658801     & 0.7           & 20.00606      & -1.3528255    & 0.06214244    & 0.005213443   &  3.737661e-03 & 0.3594127     & 0.008857523   & 0.0023114397  &  0.5370105   \\\\\n",
       "\t ⋮ & ⋮ & ⋮ & ⋮ & ⋮ & ⋮ & ⋮ & ⋮ & ⋮ & ⋮ & ⋮ & ⋮\\\\\n",
       "\t 61            & 0.0126662     & -0.1          & 19.14473      & -0.6547642    & 0.01266620    & 0.008696168   &  6.496539e-18 & 1.0000000     & 0.008922080   &          NaN  &         NaN  \\\\\n",
       "\t 62            & 0.0243470     & 0.6           & 19.71992      & -0.8201412    & 0.02434700    & 0.008696168   & -4.733749e-17 & 1.0000000     & 0.008922080   &          NaN  &         NaN  \\\\\n",
       "\t 63            & 0.0314610     & 0             & 19.41106      & -1.0066317    & 0.03146100    & 0.008696168   & -4.281093e-16 & 1.0000000     & 0.008922080   &          NaN  &         NaN  \\\\\n",
       "\t 64            & 0.0265806     & 0.1           & 18.91638      & -0.9999999    & 0.02687190    & 0.008683987   & -2.913033e-04 & 0.9972006     & 0.008832221   & 2.039746e+00  & -0.63311358  \\\\\n",
       "\t 65            & 0.0299856     & 2.3           & 19.69685      & -0.9179928    & 0.03246551    & 0.008238468   & -2.479909e-03 & 0.8975054     & 0.008743310   & 9.925501e-02  & -0.89075292  \\\\\n",
       "\t 66            & 0.0551686     & 0.7           & 20.31152      & -1.0243419    & 0.05672619    & 0.005780379   & -1.557586e-03 & 0.4418316     & 0.008909251   & 6.499451e-04  & -0.23974060  \\\\\n",
       "\t 67            & 0.0164987     & 0.9           & 19.59687      & -0.5588552    & 0.01649870    & 0.008696168   &  2.218698e-17 & 1.0000000     & 0.008922080   &          NaN  &         NaN  \\\\\n",
       "\t 68            & 0.0264557     & 2.3           & 19.91411      & -0.9675543    & 0.02767690    & 0.005575335   & -1.221202e-03 & 0.4110419     & 0.008914608   & 3.338403e-04  & -0.18298586  \\\\\n",
       "\t 69            & 0.0317563     & 2.3           & 19.68001      & -0.7451220    & 0.02391167    & 0.004036635   &  7.844629e-03 & 0.2154682     & 0.008687642   & 4.069611e-03  &  1.01844880  \\\\\n",
       "\t 70            & 0.0312279     & 0.7           & 19.80939      & -0.6410763    & 0.02983100    & 0.003401486   &  1.396898e-03 & 0.1529965     & 0.008915282   & 7.861159e-05  &  0.17453969  \\\\\n",
       "\t 71            & 0.0305908     & 2.5           & 19.99575      & -0.9084363    & 0.03458963    & 0.008423797   & -3.998831e-03 & 0.9383394     & 0.008121231   & 7.455155e-01  & -1.85183066  \\\\\n",
       "\t 72            & 0.0362330     & 2.6           & 20.23206      & -0.9205465    & 0.03334474    & 0.005583587   &  2.888260e-03 & 0.4122596     & 0.008880118   & 1.880696e-03  &  0.43322712  \\\\\n",
       "\t 73            & 0.0200070     & 1.2           & 19.69397      & -0.6105381    & 0.02000700    & 0.008696168   & -2.855368e-17 & 1.0000000     & 0.008922080   &          NaN  &         NaN  \\\\\n",
       "\t 74            & 0.0215728     & 0.2           & 19.53579      & -0.9038990    & 0.02916875    & 0.006120609   & -7.595951e-03 & 0.4953743     & 0.008578208   & 2.120339e-02  & -1.22961619  \\\\\n",
       "\t 75            & 0.0508341     & 0.5           & 19.94997      & -0.7969163    & 0.03793562    & 0.003931148   &  1.289848e-02 & 0.2043539     & 0.008282401   & 1.014533e-02  &  1.66284030  \\\\\n",
       "\t 76            & 0.0238285     & 2.3           & 19.92969      & -0.9323289    & 0.02528607    & 0.006575310   & -1.457570e-03 & 0.5717110     & 0.008907437   & 1.250857e-03  & -0.25611378  \\\\\n",
       "\t 77            & 0.0121033     & 2.1           & 19.77876      & -0.6050941    & 0.01210330    & 0.008696168   &  5.842492e-19 & 1.0000000     & 0.008922080   &          NaN  &         NaN  \\\\\n",
       "\t 78            & 0.0243954     & 1.2           & 20.03298      & -0.7967470    & 0.02439540    & 0.008696168   &  4.045578e-17 & 1.0000000     & 0.008922080   &          NaN  &         NaN  \\\\\n",
       "\t 79            & 0.0139937     & -3.4          & 19.25640      & -0.7596675    & 0.01399370    & 0.008696168   & -2.595160e-17 & 1.0000000     & 0.008922080   &          NaN  &         NaN  \\\\\n",
       "\t 80            & 0.0164932     & 1             & 19.91591      & -0.8420856    & 0.02150095    & 0.004079029   & -5.007749e-03 & 0.2200178     & 0.008826739   & 1.713245e-03  & -0.65203704  \\\\\n",
       "\t 81            & 0.0318720     & 2.4           & 20.21590      & -0.9062814    & 0.03602220    & 0.006405352   & -4.150201e-03 & 0.5425380     & 0.008810326   & 8.435376e-03  & -0.70560831  \\\\\n",
       "\t 82            & 0.0729479     & 2.7           & 19.75478      & -1.2031998    & 0.07294790    & 0.008696168   &  6.799590e-17 & 1.0000000     & 0.008922080   &          NaN  &         NaN  \\\\\n",
       "\t 83            & 0.0568423     & 3             & 20.85931      & -1.1079515    & 0.05684230    & 0.008696168   & -9.538747e-20 & 1.0000000     & 0.008922080   &          NaN  &         NaN  \\\\\n",
       "\t 84            & 0.0108703     & 2.3           & 19.42253      & -0.3827897    & 0.01355625    & 0.008269473   & -2.685948e-03 & 0.9042735     & 0.008696953   & 1.344859e-01  & -0.99828287  \\\\\n",
       "\t 85            & 0.0345231     & 0.2           & 19.41150      & -0.8314722    & 0.02749987    & 0.006557400   &  7.023234e-03 & 0.5686009     & 0.008578208   & 2.846881e-02  &  1.22961619  \\\\\n",
       "\t 86            & 0.0313130     & 1.2           & 19.84899      & -1.3141904    & 0.03131300    & 0.008696168   & -1.305160e-17 & 1.0000000     & 0.008922080   &          NaN  &         NaN  \\\\\n",
       "\t 87            & 0.0458895     & 0.7           & 19.83337      & -1.1106106    & 0.04861172    & 0.003670392   & -2.722220e-03 & 0.1781432     & 0.008895445   & 3.692064e-04  & -0.34530046  \\\\\n",
       "\t 88            & 0.0235277     & 1             & 20.13087      & -0.8050173    & 0.02394433    & 0.006674389   & -4.166270e-04 & 0.5890705     & 0.008920834   & 1.143862e-04  & -0.07473703  \\\\\n",
       "\t 90            & 0.0313973     & 0.7           & 20.26157      & -0.4730953    & 0.03415463    & 0.004990922   & -2.757331e-03 & 0.3293864     & 0.008888578   & 1.051925e-03  & -0.38719057  \\\\\n",
       "\t 91            & 0.0141928     & 1.1           & 19.80410      & -0.6098241    & 0.01419280    & 0.008696168   &  7.277187e-18 & 1.0000000     & 0.008922080   &          NaN  &         NaN  \\\\\n",
       "\\end{tabular}\n"
      ],
      "text/markdown": [
       "\n",
       ".rownames | crmrte | geoidx | wgidx | plidx | .fitted | .se.fit | .resid | .hat | .sigma | .cooksd | .std.resid | \n",
       "|---|---|---|---|---|---|---|---|---|---|---|---|---|---|---|---|---|---|---|---|---|---|---|---|---|---|---|---|---|---|---|---|---|---|---|---|---|---|---|---|---|---|---|---|---|---|---|---|---|---|---|---|---|---|---|---|---|---|---|---|---|\n",
       "| 1             | 0.0356036     | 2.7           | 20.05162      | -0.8030890    | 0.03560360    | 0.008696168   | -1.759538e-16 | 1.0000000     | 0.008922080   |          NaN  |        NaN    | \n",
       "| 2             | 0.0152532     | 2.2           | 19.52494      | -0.7086349    | 0.01713797    | 0.006742917   | -1.884771e-03 | 0.6012289     | 0.008895766   | 0.0025372069  | -0.3432171    | \n",
       "| 3             | 0.0129603     | 0.7           | 19.42441      | -0.9242800    | 0.03158574    | 0.005365587   | -1.862544e-02 | 0.3806963     | 0.007079660   | 0.0650474967  | -2.7216156    | \n",
       "| 4             | 0.0267532     | 2.2           | 19.77094      | -0.7174829    | 0.02291239    | 0.006465985   |  3.840805e-03 | 0.5528579     | 0.008824235   | 0.0077057202  |  0.6604982    | \n",
       "| 5             | 0.0106232     | 0.8           | 19.71611      | -0.6073663    | 0.01062320    | 0.008696168   | -9.062426e-17 | 1.0000000     | 0.008922080   |          NaN  |        NaN    | \n",
       "| 6             | 0.0146067     | 0.9           | 19.41783      | -1.4452144    | 0.01460670    | 0.008696168   | -2.467766e-17 | 1.0000000     | 0.008922080   |          NaN  |        NaN    | \n",
       "| 7             | 0.0296409     | 0.1           | 19.72851      | -0.7211924    | 0.02529029    | 0.005329366   |  4.350609e-03 | 0.3755738     | 0.008832221   | 0.0034441292  |  0.6331136    | \n",
       "| 8             | 0.0202814     | 0.2           | 19.60221      | -0.5205342    | 0.02188592    | 0.008597708   | -1.604523e-03 | 0.9774837     | 0.008578208   | 0.9376782058  | -1.2296162    | \n",
       "| 9             | 0.0304289     | 0             | 19.41596      | -0.9593655    | 0.03042890    | 0.008696168   |  3.798382e-16 | 1.0000000     | 0.008922080   |          NaN  |        NaN    | \n",
       "| 10            | 0.0221567     | 0.1           | 19.83258      | -0.6998333    | 0.02542342    | 0.007000008   | -3.266720e-03 | 0.6479496     | 0.008832221   | 0.0105390541  | -0.6331136    | \n",
       "| 11            | 0.0437355     | 1.6           | 20.29911      | -1.1047189    | 0.04373550    | 0.008696168   |  5.842492e-19 | 1.0000000     | 0.008922080   |          NaN  |        NaN    | \n",
       "| 12            | 0.0269836     | 1.3           | 20.02196      | -0.9327755    | 0.02698360    | 0.008696168   | -5.725794e-17 | 1.0000000     | 0.008922080   |          NaN  |        NaN    | \n",
       "| 13            | 0.0302542     | 2.6           | 20.30506      | -0.8807017    | 0.03236679    | 0.007200277   | -2.112592e-03 | 0.6855554     | 0.008880118   | 0.0058456356  | -0.4332271    | \n",
       "| 14            | 0.0382489     | 1.3           | 19.85176      | -1.0241339    | 0.03824890    | 0.008696168   |  5.585145e-17 | 1.0000000     | 0.008922080   |          NaN  |        NaN    | \n",
       "| 15            | 0.0159189     | 2.2           | 19.53659      | -0.8549125    | 0.01686771    | 0.007021679   | -9.488069e-04 | 0.6519678     | 0.008914447   | 0.0009153537  | -0.1849440    | \n",
       "| 16            | 0.0408569     | 2.6           | 20.34449      | -1.0627905    | 0.04050734    | 0.008658654   |  3.495597e-04 | 0.9913909     | 0.008880118   | 0.3087610362  |  0.4332271    | \n",
       "| 17            | 0.0226017     | 2.1           | 19.96758      | -0.9063037    | 0.02260170    | 0.008696168   | -1.448630e-18 | 1.0000000     | 0.008922080   |          NaN  |        NaN    | \n",
       "| 18            | 0.0119154     | 0.8           | 19.46693      | -0.5228792    | 0.01191540    | 0.008696168   |  8.260414e-17 | 1.0000000     | 0.008922080   |          NaN  |        NaN    | \n",
       "| 19            | 0.0257713     | 0.4           | 19.84877      | -0.8565786    | 0.02577130    | 0.008696168   |  2.367506e-16 | 1.0000000     | 0.008922080   |          NaN  |        NaN    | \n",
       "| 20            | 0.0362807     | 2.6           | 20.12993      | -1.0395433    | 0.03740593    | 0.008299234   | -1.125228e-03 | 0.9107940     | 0.008880118   | 0.0273753282  | -0.4332271    | \n",
       "| 21            | 0.0313623     | 0.2           | 19.98566      | -0.8550081    | 0.02918506    | 0.008513993   |  2.177240e-03 | 0.9585411     | 0.008578208   | 0.4993834474  |  1.2296162    | \n",
       "| 22            | 0.0374979     | 0.5           | 19.95972      | -1.0073040    | 0.04253631    | 0.008144455   | -5.038410e-03 | 0.8771386     | 0.008290283   | 0.2786574001  | -1.6529431    | \n",
       "| 23            | 0.0883849     | 1.1           | 20.07590      | -1.3942797    | 0.08838490    | 0.008696168   |  1.614241e-18 | 1.0000000     | 0.008922080   |          NaN  |        NaN    | \n",
       "| 24            | 0.0140655     | 0             | 19.62842      | -1.3710682    | 0.01406550    | 0.008696168   |  4.937335e-17 | 1.0000000     | 0.008922080   |          NaN  |        NaN    | \n",
       "| 25            | 0.0790163     | -0.2          | 19.67405      | -1.3308258    | 0.07901630    | 0.008696168   | -1.046807e-18 | 1.0000000     | 0.008922080   |          NaN  |        NaN    | \n",
       "| 26            | 0.0300216     | 2.5           | 20.02745      | -0.7862293    | 0.03989842    | 0.006868524   | -9.876824e-03 | 0.6238369     | 0.008121231   | 0.0812455006  | -1.8518307    | \n",
       "| 27            | 0.0233327     | 2.2           | 19.98315      | -0.8483847    | 0.02743395    | 0.006846100   | -4.101253e-03 | 0.6197701     | 0.008790634   | 0.0136212611  | -0.7648311    | \n",
       "| 28            | 0.0233677     | 0.1           | 19.59808      | -0.7067545    | 0.02416028    | 0.008605586   | -7.925858e-04 | 0.9792760     | 0.008832221   | 0.2705807240  | -0.6331136    | \n",
       "| 29            | 0.0706599     | 3.2           | 20.89249      | -1.2133973    | 0.07065990    | 0.008696168   |  1.343191e-18 | 1.0000000     | 0.008922080   |          NaN  |        NaN    | \n",
       "| 30            | 0.0658801     | 0.7           | 20.00606      | -1.3528255    | 0.06214244    | 0.005213443   |  3.737661e-03 | 0.3594127     | 0.008857523   | 0.0023114397  |  0.5370105    | \n",
       "| ⋮ | ⋮ | ⋮ | ⋮ | ⋮ | ⋮ | ⋮ | ⋮ | ⋮ | ⋮ | ⋮ | ⋮ | \n",
       "| 61            | 0.0126662     | -0.1          | 19.14473      | -0.6547642    | 0.01266620    | 0.008696168   |  6.496539e-18 | 1.0000000     | 0.008922080   |          NaN  |         NaN   | \n",
       "| 62            | 0.0243470     | 0.6           | 19.71992      | -0.8201412    | 0.02434700    | 0.008696168   | -4.733749e-17 | 1.0000000     | 0.008922080   |          NaN  |         NaN   | \n",
       "| 63            | 0.0314610     | 0             | 19.41106      | -1.0066317    | 0.03146100    | 0.008696168   | -4.281093e-16 | 1.0000000     | 0.008922080   |          NaN  |         NaN   | \n",
       "| 64            | 0.0265806     | 0.1           | 18.91638      | -0.9999999    | 0.02687190    | 0.008683987   | -2.913033e-04 | 0.9972006     | 0.008832221   | 2.039746e+00  | -0.63311358   | \n",
       "| 65            | 0.0299856     | 2.3           | 19.69685      | -0.9179928    | 0.03246551    | 0.008238468   | -2.479909e-03 | 0.8975054     | 0.008743310   | 9.925501e-02  | -0.89075292   | \n",
       "| 66            | 0.0551686     | 0.7           | 20.31152      | -1.0243419    | 0.05672619    | 0.005780379   | -1.557586e-03 | 0.4418316     | 0.008909251   | 6.499451e-04  | -0.23974060   | \n",
       "| 67            | 0.0164987     | 0.9           | 19.59687      | -0.5588552    | 0.01649870    | 0.008696168   |  2.218698e-17 | 1.0000000     | 0.008922080   |          NaN  |         NaN   | \n",
       "| 68            | 0.0264557     | 2.3           | 19.91411      | -0.9675543    | 0.02767690    | 0.005575335   | -1.221202e-03 | 0.4110419     | 0.008914608   | 3.338403e-04  | -0.18298586   | \n",
       "| 69            | 0.0317563     | 2.3           | 19.68001      | -0.7451220    | 0.02391167    | 0.004036635   |  7.844629e-03 | 0.2154682     | 0.008687642   | 4.069611e-03  |  1.01844880   | \n",
       "| 70            | 0.0312279     | 0.7           | 19.80939      | -0.6410763    | 0.02983100    | 0.003401486   |  1.396898e-03 | 0.1529965     | 0.008915282   | 7.861159e-05  |  0.17453969   | \n",
       "| 71            | 0.0305908     | 2.5           | 19.99575      | -0.9084363    | 0.03458963    | 0.008423797   | -3.998831e-03 | 0.9383394     | 0.008121231   | 7.455155e-01  | -1.85183066   | \n",
       "| 72            | 0.0362330     | 2.6           | 20.23206      | -0.9205465    | 0.03334474    | 0.005583587   |  2.888260e-03 | 0.4122596     | 0.008880118   | 1.880696e-03  |  0.43322712   | \n",
       "| 73            | 0.0200070     | 1.2           | 19.69397      | -0.6105381    | 0.02000700    | 0.008696168   | -2.855368e-17 | 1.0000000     | 0.008922080   |          NaN  |         NaN   | \n",
       "| 74            | 0.0215728     | 0.2           | 19.53579      | -0.9038990    | 0.02916875    | 0.006120609   | -7.595951e-03 | 0.4953743     | 0.008578208   | 2.120339e-02  | -1.22961619   | \n",
       "| 75            | 0.0508341     | 0.5           | 19.94997      | -0.7969163    | 0.03793562    | 0.003931148   |  1.289848e-02 | 0.2043539     | 0.008282401   | 1.014533e-02  |  1.66284030   | \n",
       "| 76            | 0.0238285     | 2.3           | 19.92969      | -0.9323289    | 0.02528607    | 0.006575310   | -1.457570e-03 | 0.5717110     | 0.008907437   | 1.250857e-03  | -0.25611378   | \n",
       "| 77            | 0.0121033     | 2.1           | 19.77876      | -0.6050941    | 0.01210330    | 0.008696168   |  5.842492e-19 | 1.0000000     | 0.008922080   |          NaN  |         NaN   | \n",
       "| 78            | 0.0243954     | 1.2           | 20.03298      | -0.7967470    | 0.02439540    | 0.008696168   |  4.045578e-17 | 1.0000000     | 0.008922080   |          NaN  |         NaN   | \n",
       "| 79            | 0.0139937     | -3.4          | 19.25640      | -0.7596675    | 0.01399370    | 0.008696168   | -2.595160e-17 | 1.0000000     | 0.008922080   |          NaN  |         NaN   | \n",
       "| 80            | 0.0164932     | 1             | 19.91591      | -0.8420856    | 0.02150095    | 0.004079029   | -5.007749e-03 | 0.2200178     | 0.008826739   | 1.713245e-03  | -0.65203704   | \n",
       "| 81            | 0.0318720     | 2.4           | 20.21590      | -0.9062814    | 0.03602220    | 0.006405352   | -4.150201e-03 | 0.5425380     | 0.008810326   | 8.435376e-03  | -0.70560831   | \n",
       "| 82            | 0.0729479     | 2.7           | 19.75478      | -1.2031998    | 0.07294790    | 0.008696168   |  6.799590e-17 | 1.0000000     | 0.008922080   |          NaN  |         NaN   | \n",
       "| 83            | 0.0568423     | 3             | 20.85931      | -1.1079515    | 0.05684230    | 0.008696168   | -9.538747e-20 | 1.0000000     | 0.008922080   |          NaN  |         NaN   | \n",
       "| 84            | 0.0108703     | 2.3           | 19.42253      | -0.3827897    | 0.01355625    | 0.008269473   | -2.685948e-03 | 0.9042735     | 0.008696953   | 1.344859e-01  | -0.99828287   | \n",
       "| 85            | 0.0345231     | 0.2           | 19.41150      | -0.8314722    | 0.02749987    | 0.006557400   |  7.023234e-03 | 0.5686009     | 0.008578208   | 2.846881e-02  |  1.22961619   | \n",
       "| 86            | 0.0313130     | 1.2           | 19.84899      | -1.3141904    | 0.03131300    | 0.008696168   | -1.305160e-17 | 1.0000000     | 0.008922080   |          NaN  |         NaN   | \n",
       "| 87            | 0.0458895     | 0.7           | 19.83337      | -1.1106106    | 0.04861172    | 0.003670392   | -2.722220e-03 | 0.1781432     | 0.008895445   | 3.692064e-04  | -0.34530046   | \n",
       "| 88            | 0.0235277     | 1             | 20.13087      | -0.8050173    | 0.02394433    | 0.006674389   | -4.166270e-04 | 0.5890705     | 0.008920834   | 1.143862e-04  | -0.07473703   | \n",
       "| 90            | 0.0313973     | 0.7           | 20.26157      | -0.4730953    | 0.03415463    | 0.004990922   | -2.757331e-03 | 0.3293864     | 0.008888578   | 1.051925e-03  | -0.38719057   | \n",
       "| 91            | 0.0141928     | 1.1           | 19.80410      | -0.6098241    | 0.01419280    | 0.008696168   |  7.277187e-18 | 1.0000000     | 0.008922080   |          NaN  |         NaN   | \n",
       "\n",
       "\n"
      ],
      "text/plain": [
       "   .rownames crmrte    geoidx wgidx    plidx      .fitted    .se.fit    \n",
       "1  1         0.0356036 2.7    20.05162 -0.8030890 0.03560360 0.008696168\n",
       "2  2         0.0152532 2.2    19.52494 -0.7086349 0.01713797 0.006742917\n",
       "3  3         0.0129603 0.7    19.42441 -0.9242800 0.03158574 0.005365587\n",
       "4  4         0.0267532 2.2    19.77094 -0.7174829 0.02291239 0.006465985\n",
       "5  5         0.0106232 0.8    19.71611 -0.6073663 0.01062320 0.008696168\n",
       "6  6         0.0146067 0.9    19.41783 -1.4452144 0.01460670 0.008696168\n",
       "7  7         0.0296409 0.1    19.72851 -0.7211924 0.02529029 0.005329366\n",
       "8  8         0.0202814 0.2    19.60221 -0.5205342 0.02188592 0.008597708\n",
       "9  9         0.0304289 0      19.41596 -0.9593655 0.03042890 0.008696168\n",
       "10 10        0.0221567 0.1    19.83258 -0.6998333 0.02542342 0.007000008\n",
       "11 11        0.0437355 1.6    20.29911 -1.1047189 0.04373550 0.008696168\n",
       "12 12        0.0269836 1.3    20.02196 -0.9327755 0.02698360 0.008696168\n",
       "13 13        0.0302542 2.6    20.30506 -0.8807017 0.03236679 0.007200277\n",
       "14 14        0.0382489 1.3    19.85176 -1.0241339 0.03824890 0.008696168\n",
       "15 15        0.0159189 2.2    19.53659 -0.8549125 0.01686771 0.007021679\n",
       "16 16        0.0408569 2.6    20.34449 -1.0627905 0.04050734 0.008658654\n",
       "17 17        0.0226017 2.1    19.96758 -0.9063037 0.02260170 0.008696168\n",
       "18 18        0.0119154 0.8    19.46693 -0.5228792 0.01191540 0.008696168\n",
       "19 19        0.0257713 0.4    19.84877 -0.8565786 0.02577130 0.008696168\n",
       "20 20        0.0362807 2.6    20.12993 -1.0395433 0.03740593 0.008299234\n",
       "21 21        0.0313623 0.2    19.98566 -0.8550081 0.02918506 0.008513993\n",
       "22 22        0.0374979 0.5    19.95972 -1.0073040 0.04253631 0.008144455\n",
       "23 23        0.0883849 1.1    20.07590 -1.3942797 0.08838490 0.008696168\n",
       "24 24        0.0140655 0      19.62842 -1.3710682 0.01406550 0.008696168\n",
       "25 25        0.0790163 -0.2   19.67405 -1.3308258 0.07901630 0.008696168\n",
       "26 26        0.0300216 2.5    20.02745 -0.7862293 0.03989842 0.006868524\n",
       "27 27        0.0233327 2.2    19.98315 -0.8483847 0.02743395 0.006846100\n",
       "28 28        0.0233677 0.1    19.59808 -0.7067545 0.02416028 0.008605586\n",
       "29 29        0.0706599 3.2    20.89249 -1.2133973 0.07065990 0.008696168\n",
       "30 30        0.0658801 0.7    20.00606 -1.3528255 0.06214244 0.005213443\n",
       "⋮  ⋮         ⋮         ⋮      ⋮        ⋮          ⋮          ⋮          \n",
       "61 61        0.0126662 -0.1   19.14473 -0.6547642 0.01266620 0.008696168\n",
       "62 62        0.0243470 0.6    19.71992 -0.8201412 0.02434700 0.008696168\n",
       "63 63        0.0314610 0      19.41106 -1.0066317 0.03146100 0.008696168\n",
       "64 64        0.0265806 0.1    18.91638 -0.9999999 0.02687190 0.008683987\n",
       "65 65        0.0299856 2.3    19.69685 -0.9179928 0.03246551 0.008238468\n",
       "66 66        0.0551686 0.7    20.31152 -1.0243419 0.05672619 0.005780379\n",
       "67 67        0.0164987 0.9    19.59687 -0.5588552 0.01649870 0.008696168\n",
       "68 68        0.0264557 2.3    19.91411 -0.9675543 0.02767690 0.005575335\n",
       "69 69        0.0317563 2.3    19.68001 -0.7451220 0.02391167 0.004036635\n",
       "70 70        0.0312279 0.7    19.80939 -0.6410763 0.02983100 0.003401486\n",
       "71 71        0.0305908 2.5    19.99575 -0.9084363 0.03458963 0.008423797\n",
       "72 72        0.0362330 2.6    20.23206 -0.9205465 0.03334474 0.005583587\n",
       "73 73        0.0200070 1.2    19.69397 -0.6105381 0.02000700 0.008696168\n",
       "74 74        0.0215728 0.2    19.53579 -0.9038990 0.02916875 0.006120609\n",
       "75 75        0.0508341 0.5    19.94997 -0.7969163 0.03793562 0.003931148\n",
       "76 76        0.0238285 2.3    19.92969 -0.9323289 0.02528607 0.006575310\n",
       "77 77        0.0121033 2.1    19.77876 -0.6050941 0.01210330 0.008696168\n",
       "78 78        0.0243954 1.2    20.03298 -0.7967470 0.02439540 0.008696168\n",
       "79 79        0.0139937 -3.4   19.25640 -0.7596675 0.01399370 0.008696168\n",
       "80 80        0.0164932 1      19.91591 -0.8420856 0.02150095 0.004079029\n",
       "81 81        0.0318720 2.4    20.21590 -0.9062814 0.03602220 0.006405352\n",
       "82 82        0.0729479 2.7    19.75478 -1.2031998 0.07294790 0.008696168\n",
       "83 83        0.0568423 3      20.85931 -1.1079515 0.05684230 0.008696168\n",
       "84 84        0.0108703 2.3    19.42253 -0.3827897 0.01355625 0.008269473\n",
       "85 85        0.0345231 0.2    19.41150 -0.8314722 0.02749987 0.006557400\n",
       "86 86        0.0313130 1.2    19.84899 -1.3141904 0.03131300 0.008696168\n",
       "87 87        0.0458895 0.7    19.83337 -1.1106106 0.04861172 0.003670392\n",
       "88 88        0.0235277 1      20.13087 -0.8050173 0.02394433 0.006674389\n",
       "89 90        0.0313973 0.7    20.26157 -0.4730953 0.03415463 0.004990922\n",
       "90 91        0.0141928 1.1    19.80410 -0.6098241 0.01419280 0.008696168\n",
       "   .resid        .hat      .sigma      .cooksd      .std.resid \n",
       "1  -1.759538e-16 1.0000000 0.008922080          NaN        NaN \n",
       "2  -1.884771e-03 0.6012289 0.008895766 0.0025372069 -0.3432171 \n",
       "3  -1.862544e-02 0.3806963 0.007079660 0.0650474967 -2.7216156 \n",
       "4   3.840805e-03 0.5528579 0.008824235 0.0077057202  0.6604982 \n",
       "5  -9.062426e-17 1.0000000 0.008922080          NaN        NaN \n",
       "6  -2.467766e-17 1.0000000 0.008922080          NaN        NaN \n",
       "7   4.350609e-03 0.3755738 0.008832221 0.0034441292  0.6331136 \n",
       "8  -1.604523e-03 0.9774837 0.008578208 0.9376782058 -1.2296162 \n",
       "9   3.798382e-16 1.0000000 0.008922080          NaN        NaN \n",
       "10 -3.266720e-03 0.6479496 0.008832221 0.0105390541 -0.6331136 \n",
       "11  5.842492e-19 1.0000000 0.008922080          NaN        NaN \n",
       "12 -5.725794e-17 1.0000000 0.008922080          NaN        NaN \n",
       "13 -2.112592e-03 0.6855554 0.008880118 0.0058456356 -0.4332271 \n",
       "14  5.585145e-17 1.0000000 0.008922080          NaN        NaN \n",
       "15 -9.488069e-04 0.6519678 0.008914447 0.0009153537 -0.1849440 \n",
       "16  3.495597e-04 0.9913909 0.008880118 0.3087610362  0.4332271 \n",
       "17 -1.448630e-18 1.0000000 0.008922080          NaN        NaN \n",
       "18  8.260414e-17 1.0000000 0.008922080          NaN        NaN \n",
       "19  2.367506e-16 1.0000000 0.008922080          NaN        NaN \n",
       "20 -1.125228e-03 0.9107940 0.008880118 0.0273753282 -0.4332271 \n",
       "21  2.177240e-03 0.9585411 0.008578208 0.4993834474  1.2296162 \n",
       "22 -5.038410e-03 0.8771386 0.008290283 0.2786574001 -1.6529431 \n",
       "23  1.614241e-18 1.0000000 0.008922080          NaN        NaN \n",
       "24  4.937335e-17 1.0000000 0.008922080          NaN        NaN \n",
       "25 -1.046807e-18 1.0000000 0.008922080          NaN        NaN \n",
       "26 -9.876824e-03 0.6238369 0.008121231 0.0812455006 -1.8518307 \n",
       "27 -4.101253e-03 0.6197701 0.008790634 0.0136212611 -0.7648311 \n",
       "28 -7.925858e-04 0.9792760 0.008832221 0.2705807240 -0.6331136 \n",
       "29  1.343191e-18 1.0000000 0.008922080          NaN        NaN \n",
       "30  3.737661e-03 0.3594127 0.008857523 0.0023114397  0.5370105 \n",
       "⋮  ⋮             ⋮         ⋮           ⋮            ⋮          \n",
       "61  6.496539e-18 1.0000000 0.008922080          NaN         NaN\n",
       "62 -4.733749e-17 1.0000000 0.008922080          NaN         NaN\n",
       "63 -4.281093e-16 1.0000000 0.008922080          NaN         NaN\n",
       "64 -2.913033e-04 0.9972006 0.008832221 2.039746e+00 -0.63311358\n",
       "65 -2.479909e-03 0.8975054 0.008743310 9.925501e-02 -0.89075292\n",
       "66 -1.557586e-03 0.4418316 0.008909251 6.499451e-04 -0.23974060\n",
       "67  2.218698e-17 1.0000000 0.008922080          NaN         NaN\n",
       "68 -1.221202e-03 0.4110419 0.008914608 3.338403e-04 -0.18298586\n",
       "69  7.844629e-03 0.2154682 0.008687642 4.069611e-03  1.01844880\n",
       "70  1.396898e-03 0.1529965 0.008915282 7.861159e-05  0.17453969\n",
       "71 -3.998831e-03 0.9383394 0.008121231 7.455155e-01 -1.85183066\n",
       "72  2.888260e-03 0.4122596 0.008880118 1.880696e-03  0.43322712\n",
       "73 -2.855368e-17 1.0000000 0.008922080          NaN         NaN\n",
       "74 -7.595951e-03 0.4953743 0.008578208 2.120339e-02 -1.22961619\n",
       "75  1.289848e-02 0.2043539 0.008282401 1.014533e-02  1.66284030\n",
       "76 -1.457570e-03 0.5717110 0.008907437 1.250857e-03 -0.25611378\n",
       "77  5.842492e-19 1.0000000 0.008922080          NaN         NaN\n",
       "78  4.045578e-17 1.0000000 0.008922080          NaN         NaN\n",
       "79 -2.595160e-17 1.0000000 0.008922080          NaN         NaN\n",
       "80 -5.007749e-03 0.2200178 0.008826739 1.713245e-03 -0.65203704\n",
       "81 -4.150201e-03 0.5425380 0.008810326 8.435376e-03 -0.70560831\n",
       "82  6.799590e-17 1.0000000 0.008922080          NaN         NaN\n",
       "83 -9.538747e-20 1.0000000 0.008922080          NaN         NaN\n",
       "84 -2.685948e-03 0.9042735 0.008696953 1.344859e-01 -0.99828287\n",
       "85  7.023234e-03 0.5686009 0.008578208 2.846881e-02  1.22961619\n",
       "86 -1.305160e-17 1.0000000 0.008922080          NaN         NaN\n",
       "87 -2.722220e-03 0.1781432 0.008895445 3.692064e-04 -0.34530046\n",
       "88 -4.166270e-04 0.5890705 0.008920834 1.143862e-04 -0.07473703\n",
       "89 -2.757331e-03 0.3293864 0.008888578 1.051925e-03 -0.38719057\n",
       "90  7.277187e-18 1.0000000 0.008922080          NaN         NaN"
      ]
     },
     "metadata": {},
     "output_type": "display_data"
    }
   ],
   "source": [
    "mod3_aug"
   ]
  },
  {
   "cell_type": "code",
   "execution_count": 233,
   "metadata": {},
   "outputs": [
    {
     "data": {},
     "metadata": {},
     "output_type": "display_data"
    },
    {
     "data": {
      "image/png": "[encoded data removed]",
      "text/plain": [
       "plot without title"
      ]
     },
     "metadata": {},
     "output_type": "display_data"
    }
   ],
   "source": [
    "# plot plidx\n",
    "ggplot(data = mod3_aug, aes(x = crmrte, y = plidx)) + \n",
    "  geom_point()"
   ]
  },
  {
   "cell_type": "code",
   "execution_count": 234,
   "metadata": {},
   "outputs": [
    {
     "data": {},
     "metadata": {},
     "output_type": "display_data"
    },
    {
     "data": {
      "image/png": "[encoded data removed]",
      "text/plain": [
       "plot without title"
      ]
     },
     "metadata": {},
     "output_type": "display_data"
    }
   ],
   "source": [
    "ggplot(data = mod3_aug, aes(x = crmrte, y = wgidx)) + \n",
    "  geom_point()"
   ]
  },
  {
   "cell_type": "code",
   "execution_count": null,
   "metadata": {},
   "outputs": [],
   "source": []
  }
 ],
 "metadata": {
  "kernelspec": {
   "display_name": "R",
   "language": "R",
   "name": "ir"
  },
  "language_info": {
   "codemirror_mode": "r",
   "file_extension": ".r",
   "mimetype": "text/x-r-source",
   "name": "R",
   "pygments_lexer": "r",
   "version": "3.5.1"
  }
 },
 "nbformat": 4,
 "nbformat_minor": 2
}
