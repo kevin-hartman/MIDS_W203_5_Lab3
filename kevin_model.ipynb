{
 "cells": [
  {
   "cell_type": "code",
   "execution_count": 197,
   "metadata": {},
   "outputs": [],
   "source": [
    "library(effsize)\n",
    "library(dplyr)\n",
    "library(ggplot2)\n",
    "library(corrplot)\n",
    "library(stargazer)\n",
    "library(MASS)"
   ]
  },
  {
   "cell_type": "code",
   "execution_count": 198,
   "metadata": {},
   "outputs": [],
   "source": [
    "# Imports Data\n",
    "dfCrime = read.csv(\"crime_v2.csv\")"
   ]
  },
  {
   "cell_type": "code",
   "execution_count": 199,
   "metadata": {},
   "outputs": [],
   "source": [
    "# summary(dfCrime)"
   ]
  },
  {
   "cell_type": "code",
   "execution_count": 200,
   "metadata": {},
   "outputs": [],
   "source": [
    "#unique(dfCrime$prbconv)"
   ]
  },
  {
   "cell_type": "code",
   "execution_count": 201,
   "metadata": {},
   "outputs": [
    {
     "data": {
      "text/html": [
       "97"
      ],
      "text/latex": [
       "97"
      ],
      "text/markdown": [
       "97"
      ],
      "text/plain": [
       "[1] 97"
      ]
     },
     "metadata": {},
     "output_type": "display_data"
    }
   ],
   "source": [
    "# dfCrime[is.na(dfCrime),]\n",
    "# dfCrime\n",
    "nrow(dfCrime)"
   ]
  },
  {
   "cell_type": "code",
   "execution_count": 202,
   "metadata": {},
   "outputs": [
    {
     "data": {
      "text/html": [
       "91"
      ],
      "text/latex": [
       "91"
      ],
      "text/markdown": [
       "91"
      ],
      "text/plain": [
       "[1] 91"
      ]
     },
     "metadata": {},
     "output_type": "display_data"
    }
   ],
   "source": [
    "dfCrime <-na.omit(dfCrime) # get rid of the NA rows\n",
    "nrow(dfCrime)"
   ]
  },
  {
   "cell_type": "code",
   "execution_count": 203,
   "metadata": {},
   "outputs": [
    {
     "data": {
      "text/html": [
       "<table>\n",
       "<thead><tr><th></th><th scope=col>county</th><th scope=col>year</th><th scope=col>crmrte</th><th scope=col>prbarr</th><th scope=col>prbconv</th><th scope=col>prbpris</th><th scope=col>avgsen</th><th scope=col>polpc</th><th scope=col>density</th><th scope=col>taxpc</th><th scope=col>⋯</th><th scope=col>wtuc</th><th scope=col>wtrd</th><th scope=col>wfir</th><th scope=col>wser</th><th scope=col>wmfg</th><th scope=col>wfed</th><th scope=col>wsta</th><th scope=col>wloc</th><th scope=col>mix</th><th scope=col>pctymle</th></tr></thead>\n",
       "<tbody>\n",
       "\t<tr><th scope=row>89</th><td>193        </td><td>87         </td><td>0.0235277  </td><td>0.266055   </td><td>0.588859022</td><td>0.423423   </td><td>5.86       </td><td>0.00117887 </td><td>0.8138298  </td><td>28.51783   </td><td>⋯          </td><td>480.1948   </td><td>268.3836   </td><td>365.0196   </td><td>295.9352   </td><td>295.63     </td><td>468.26     </td><td>337.88     </td><td>348.74     </td><td>0.1105016  </td><td>0.07819394 </td></tr>\n",
       "</tbody>\n",
       "</table>\n"
      ],
      "text/latex": [
       "\\begin{tabular}{r|lllllllllllllllllllllllll}\n",
       "  & county & year & crmrte & prbarr & prbconv & prbpris & avgsen & polpc & density & taxpc & ⋯ & wtuc & wtrd & wfir & wser & wmfg & wfed & wsta & wloc & mix & pctymle\\\\\n",
       "\\hline\n",
       "\t89 & 193         & 87          & 0.0235277   & 0.266055    & 0.588859022 & 0.423423    & 5.86        & 0.00117887  & 0.8138298   & 28.51783    & ⋯           & 480.1948    & 268.3836    & 365.0196    & 295.9352    & 295.63      & 468.26      & 337.88      & 348.74      & 0.1105016   & 0.07819394 \\\\\n",
       "\\end{tabular}\n"
      ],
      "text/markdown": [
       "\n",
       "| <!--/--> | county | year | crmrte | prbarr | prbconv | prbpris | avgsen | polpc | density | taxpc | ⋯ | wtuc | wtrd | wfir | wser | wmfg | wfed | wsta | wloc | mix | pctymle | \n",
       "|---|\n",
       "| 89 | 193         | 87          | 0.0235277   | 0.266055    | 0.588859022 | 0.423423    | 5.86        | 0.00117887  | 0.8138298   | 28.51783    | ⋯           | 480.1948    | 268.3836    | 365.0196    | 295.9352    | 295.63      | 468.26      | 337.88      | 348.74      | 0.1105016   | 0.07819394  | \n",
       "\n",
       "\n"
      ],
      "text/plain": [
       "   county year crmrte    prbarr   prbconv     prbpris  avgsen polpc     \n",
       "89 193    87   0.0235277 0.266055 0.588859022 0.423423 5.86   0.00117887\n",
       "   density   taxpc    ⋯ wtuc     wtrd     wfir     wser     wmfg   wfed  \n",
       "89 0.8138298 28.51783 ⋯ 480.1948 268.3836 365.0196 295.9352 295.63 468.26\n",
       "   wsta   wloc   mix       pctymle   \n",
       "89 337.88 348.74 0.1105016 0.07819394"
      ]
     },
     "metadata": {},
     "output_type": "display_data"
    }
   ],
   "source": [
    "dfCrime[duplicated(dfCrime),]\n",
    "# unique(dfCrime$county)"
   ]
  },
  {
   "cell_type": "code",
   "execution_count": 204,
   "metadata": {},
   "outputs": [
    {
     "data": {
      "text/html": [
       "90"
      ],
      "text/latex": [
       "90"
      ],
      "text/markdown": [
       "90"
      ],
      "text/plain": [
       "[1] 90"
      ]
     },
     "metadata": {},
     "output_type": "display_data"
    }
   ],
   "source": [
    "dfCrime <- dfCrime[!duplicated(dfCrime),] # get rid of the duplicated row\n",
    "nrow(dfCrime)"
   ]
  },
  {
   "cell_type": "code",
   "execution_count": 205,
   "metadata": {},
   "outputs": [
    {
     "name": "stderr",
     "output_type": "stream",
     "text": [
      "Warning message in eval(expr, envir, enclos):\n",
      "“NAs introduced by coercion”"
     ]
    }
   ],
   "source": [
    "dfCrime$prbconv<-as.numeric(levels(dfCrime$prbconv))[dfCrime$prbconv]\n",
    "#dfCrime$prbconv<-as.double(dfCrime$prbconv)"
   ]
  },
  {
   "cell_type": "code",
   "execution_count": 206,
   "metadata": {},
   "outputs": [],
   "source": [
    "#dfCrime$county<-as.factor(dfCrime$county) #note that we're missing 10 counties from NC; 6 were blank rows in this set, one row was a duplicate"
   ]
  },
  {
   "cell_type": "code",
   "execution_count": 207,
   "metadata": {},
   "outputs": [],
   "source": [
    "dfCrime$pctmin80<-dfCrime$pctmin80/100 # units are off in comparison to pctymle; we either divide by 100 here or multiply the other one"
   ]
  },
  {
   "cell_type": "code",
   "execution_count": 208,
   "metadata": {},
   "outputs": [],
   "source": [
    "#Map central and west to a region code.\n",
    "# Note that county 71 has both western and central codes\n",
    "dfCrime$region <- case_when (\n",
    "            (dfCrime$central ==0 & dfCrime$west ==0) ~ 0, #Eastern, Coastal, Other\n",
    "            (dfCrime$central ==0 & dfCrime$west ==1) ~ 1, #Western\n",
    "            (dfCrime$central ==1 & dfCrime$west ==0) ~ 2, #Central\n",
    "            (dfCrime$central ==1 & dfCrime$west ==1) ~ 3, #Central-Western border county - this could be Charlotte or it could be a coding error.\n",
    "        )"
   ]
  },
  {
   "cell_type": "code",
   "execution_count": 209,
   "metadata": {},
   "outputs": [],
   "source": [
    "# create a factor for 'central', 'western', 'central/western' and 'eastern, coastal, other' region\n",
    "#dfCrime$region =\n",
    "#             factor( dfCrime$region , levels = 0:3 , labels =\n",
    "#                     c( 'Region 1',\n",
    "#                        'Region 2',\n",
    "#                        'Region 3',\n",
    "#                        'Region 4'\n",
    "#                       )\n",
    "#                    )"
   ]
  },
  {
   "cell_type": "code",
   "execution_count": 210,
   "metadata": {},
   "outputs": [],
   "source": [
    "# create factor for SMSA (standard metropolitan statistical areas) with two levels - inside or outside\n",
    "#    https://www2.census.gov/prod2/decennial/documents/1980/1980censusofpopu8011uns_bw.pdf\n",
    "dfCrime$metro =\n",
    "            factor( dfCrime$urban , levels = 0:1 , labels =\n",
    "                    c( 'Outside',\n",
    "                       'Inside'\n",
    "                      )\n",
    "                   )"
   ]
  },
  {
   "cell_type": "code",
   "execution_count": 211,
   "metadata": {},
   "outputs": [
    {
     "data": {
      "text/html": [
       "253.1188202"
      ],
      "text/latex": [
       "253.1188202"
      ],
      "text/markdown": [
       "253.1188202"
      ],
      "text/plain": [
       "[1] 253.1188"
      ]
     },
     "metadata": {},
     "output_type": "display_data"
    }
   ],
   "source": [
    "dfCrime$wser[which(dfCrime$county==185)]<- median(dfCrime$wser)\n",
    "dfCrime$wser[which(dfCrime$county==185)]"
   ]
  },
  {
   "cell_type": "code",
   "execution_count": 213,
   "metadata": {},
   "outputs": [],
   "source": [
    "#transform our variables\n",
    "\n",
    "dfCrime$lpolpc <-log10(dfCrime$polpc)\n",
    "dfCrime$lprbpris <- log10(dfCrime$prbpris)\n",
    "dfCrime$lpctymle <- log10(dfCrime$pctymle)\n",
    "dfCrime$lavgsen <- log10(dfCrime$avgsen)\n",
    "dfCrime$ldensity <- log10(dfCrime$density)\n",
    "dfCrime$ltaxpc <- log10(dfCrime$taxpc)\n",
    "dfCrime$lmix <- log10(dfCrime$mix)\n",
    "dfCrime$lpctmin80 <- log10(dfCrime$pctmin80)\n",
    "\n",
    "dfCrime$lcrmrte = log10(dfCrime$crmrte)\n",
    "dfCrime$lprbconv = log10(dfCrime$prbconv)\n",
    "dfCrime$lprbarr = log10(dfCrime$prbarr)\n",
    "dfCrime$lwcon<-log10(dfCrime$wcon)\n",
    "dfCrime$lwtrd<-log10(dfCrime$wtrd)\n",
    "dfCrime$lwfir<-log10(dfCrime$wfir)\n",
    "dfCrime$lwser<-log10(dfCrime$wser)\n",
    "dfCrime$lwmfg<-log10(dfCrime$wmfg)\n",
    "dfCrime$lwfed<-log10(dfCrime$wfed)\n",
    "dfCrime$lwsta<-log10(dfCrime$wsta)\n",
    "dfCrime$lwloc<-log10(dfCrime$wloc)"
   ]
  },
  {
   "cell_type": "code",
   "execution_count": 214,
   "metadata": {},
   "outputs": [],
   "source": [
    "#create a geography index factor based on density and percent minority,  young male and region\n",
    "\n",
    "dfCrime$geoidx<-as.factor(round(log10(dfCrime$density) + dfCrime$pctymle + dfCrime$pctmin80 + dfCrime$region, digits=1))"
   ]
  },
  {
   "cell_type": "code",
   "execution_count": 218,
   "metadata": {},
   "outputs": [],
   "source": [
    "# dfCrime %>% arrange(desc(geoidx))"
   ]
  },
  {
   "cell_type": "code",
   "execution_count": 216,
   "metadata": {},
   "outputs": [],
   "source": [
    "#create a wage index and a probability of police encounter index\n",
    "\n",
    "dfCrime$wgidx <- dfCrime$lwcon + dfCrime$lwtrd + dfCrime$lwfir + dfCrime$lwser + dfCrime$lwmfg + dfCrime$lwfed + dfCrime$lwsta + dfCrime$lwloc \n",
    "\n",
    "dfCrime$plidx <- log10(dfCrime$prbarr * dfCrime$prbconv)"
   ]
  },
  {
   "cell_type": "code",
   "execution_count": 223,
   "metadata": {},
   "outputs": [
    {
     "data": {
      "text/plain": [
       "\n",
       "Call:\n",
       "lm(formula = crmrte ~ geoidx + wgidx + plidx, data = dfCrime)\n",
       "\n",
       "Coefficients:\n",
       "(Intercept)   geoidx-0.2   geoidx-0.1      geoidx0    geoidx0.1    geoidx0.2  \n",
       " -0.1567212    0.0447850    0.0026583   -0.0009477    0.0087603    0.0095009  \n",
       "  geoidx0.3    geoidx0.4    geoidx0.5    geoidx0.6    geoidx0.7    geoidx0.8  \n",
       "  0.0097414    0.0127857    0.0188229    0.0123168    0.0177272   -0.0062599  \n",
       "  geoidx0.9      geoidx1    geoidx1.1    geoidx1.2    geoidx1.3    geoidx1.4  \n",
       " -0.0075956   -0.0005851    0.0340720    0.0022172    0.0068682    0.0028945  \n",
       "  geoidx1.6      geoidx2    geoidx2.1    geoidx2.2    geoidx2.3    geoidx2.4  \n",
       "  0.0114381    0.0070829   -0.0012655    0.0024048    0.0060753    0.0045903  \n",
       "  geoidx2.5    geoidx2.6    geoidx2.7      geoidx3    geoidx3.1    geoidx3.2  \n",
       "  0.0145975    0.0078045    0.0263554    0.0201410    0.0256400    0.0305602  \n",
       "  geoidx3.3    geoidx3.9        wgidx        plidx  \n",
       "  0.0559585    0.0184015    0.0076894   -0.0298097  \n"
      ]
     },
     "metadata": {},
     "output_type": "display_data"
    },
    {
     "data": {
      "text/plain": [
       "\n",
       "Call:\n",
       "lm(formula = crmrte ~ geoidx + wgidx + plidx, data = dfCrime)\n",
       "\n",
       "Residuals:\n",
       "      Min        1Q    Median        3Q       Max \n",
       "-0.033618 -0.004255  0.000000  0.004375  0.018517 \n",
       "\n",
       "Coefficients:\n",
       "              Estimate Std. Error t value Pr(>|t|)    \n",
       "(Intercept) -0.1567212  0.0981298  -1.597  0.11588    \n",
       "geoidx-0.2   0.0447850  0.0155623   2.878  0.00566 ** \n",
       "geoidx-0.1   0.0026583  0.0151383   0.176  0.86124    \n",
       "geoidx0     -0.0009477  0.0125364  -0.076  0.94001    \n",
       "geoidx0.1    0.0087603  0.0120258   0.728  0.46937    \n",
       "geoidx0.2    0.0095009  0.0121034   0.785  0.43577    \n",
       "geoidx0.3    0.0097414  0.0120587   0.808  0.42261    \n",
       "geoidx0.4    0.0127857  0.0134379   0.951  0.34546    \n",
       "geoidx0.5    0.0188229  0.0119578   1.574  0.12110    \n",
       "geoidx0.6    0.0123168  0.0134939   0.913  0.36528    \n",
       "geoidx0.7    0.0177272  0.0117714   1.506  0.13770    \n",
       "geoidx0.8   -0.0062599  0.0124231  -0.504  0.61631    \n",
       "geoidx0.9   -0.0075956  0.0132183  -0.575  0.56784    \n",
       "geoidx1     -0.0005851  0.0121104  -0.048  0.96164    \n",
       "geoidx1.1    0.0340720  0.0131388   2.593  0.01211 *  \n",
       "geoidx1.2    0.0022172  0.0127462   0.174  0.86253    \n",
       "geoidx1.3    0.0068682  0.0135995   0.505  0.61552    \n",
       "geoidx1.4    0.0028945  0.0156840   0.185  0.85425    \n",
       "geoidx1.6    0.0114381  0.0161417   0.709  0.48151    \n",
       "geoidx2      0.0070829  0.0152911   0.463  0.64501    \n",
       "geoidx2.1   -0.0012655  0.0134566  -0.094  0.92541    \n",
       "geoidx2.2    0.0024048  0.0119569   0.201  0.84133    \n",
       "geoidx2.3    0.0060753  0.0119529   0.508  0.61326    \n",
       "geoidx2.4    0.0045903  0.0128956   0.356  0.72321    \n",
       "geoidx2.5    0.0145975  0.0125989   1.159  0.25152    \n",
       "geoidx2.6    0.0078045  0.0130419   0.598  0.55198    \n",
       "geoidx2.7    0.0263554  0.0131347   2.007  0.04964 *  \n",
       "geoidx3      0.0201410  0.0172938   1.165  0.24910    \n",
       "geoidx3.1    0.0256400  0.0141324   1.814  0.07499 .  \n",
       "geoidx3.2    0.0305602  0.0174537   1.751  0.08543 .  \n",
       "geoidx3.3    0.0559585  0.0177652   3.150  0.00262 ** \n",
       "geoidx3.9    0.0184015  0.0161053   1.143  0.25808    \n",
       "wgidx        0.0076894  0.0050480   1.523  0.13332    \n",
       "plidx       -0.0298097  0.0050670  -5.883 2.35e-07 ***\n",
       "---\n",
       "Signif. codes:  0 ‘***’ 0.001 ‘**’ 0.01 ‘*’ 0.05 ‘.’ 0.1 ‘ ’ 1\n",
       "\n",
       "Residual standard error: 0.01069 on 56 degrees of freedom\n",
       "Multiple R-squared:  0.7985,\tAdjusted R-squared:  0.6797 \n",
       "F-statistic: 6.723 on 33 and 56 DF,  p-value: 2.964e-10\n"
      ]
     },
     "metadata": {},
     "output_type": "display_data"
    }
   ],
   "source": [
    "mod2 <- lm(crmrte ~ geoidx + wgidx + plidx, data = dfCrime)\n",
    "mod2\n",
    "\n",
    "summary(mod2)\n"
   ]
  },
  {
   "cell_type": "code",
   "execution_count": null,
   "metadata": {},
   "outputs": [],
   "source": []
  },
  {
   "cell_type": "code",
   "execution_count": 222,
   "metadata": {},
   "outputs": [
    {
     "data": {
      "text/plain": [
       "\n",
       "Call:\n",
       "lm(formula = crmrte ~ geoidx * (wgidx + plidx), data = dfCrime)\n",
       "\n",
       "Coefficients:\n",
       "     (Intercept)        geoidx-0.2        geoidx-0.1           geoidx0  \n",
       "      -0.0804947         0.0256716         0.0059788         2.0291939  \n",
       "       geoidx0.1         geoidx0.2         geoidx0.3         geoidx0.4  \n",
       "      -0.0309486         0.0503274        -1.7817866         1.5560038  \n",
       "       geoidx0.5         geoidx0.6         geoidx0.7         geoidx0.8  \n",
       "       0.1988769        -0.3764389        -0.3892855         0.2051321  \n",
       "       geoidx0.9           geoidx1         geoidx1.1         geoidx1.2  \n",
       "      -6.6720860        -0.2025711        -1.2350986        -0.0009710  \n",
       "       geoidx1.3         geoidx1.4         geoidx1.6           geoidx2  \n",
       "       0.6472370         0.0004612         0.0041874         0.0018409  \n",
       "       geoidx2.1         geoidx2.2         geoidx2.3         geoidx2.4  \n",
       "       1.0739868        -0.3606538         0.7358592        -0.6715809  \n",
       "       geoidx2.5         geoidx2.6         geoidx2.7           geoidx3  \n",
       "       2.2044173        -0.1244761         0.7671279         0.0158142  \n",
       "       geoidx3.1         geoidx3.2         geoidx3.3         geoidx3.9  \n",
       "       0.0125422         0.0224659         0.0457178         0.0050819  \n",
       "           wgidx             plidx  geoidx-0.2:wgidx  geoidx-0.1:wgidx  \n",
       "       0.0022539        -0.0672487                NA                NA  \n",
       "   geoidx0:wgidx   geoidx0.1:wgidx   geoidx0.2:wgidx   geoidx0.3:wgidx  \n",
       "      -0.1016223         0.0038225        -0.0001127         0.0945824  \n",
       " geoidx0.4:wgidx   geoidx0.5:wgidx   geoidx0.6:wgidx   geoidx0.7:wgidx  \n",
       "      -0.0781952        -0.0071689         0.0193551         0.0217122  \n",
       " geoidx0.8:wgidx   geoidx0.9:wgidx     geoidx1:wgidx   geoidx1.1:wgidx  \n",
       "      -0.0080964         0.3412447         0.0122656         0.0626735  \n",
       " geoidx1.2:wgidx   geoidx1.3:wgidx   geoidx1.4:wgidx   geoidx1.6:wgidx  \n",
       "       0.0024325        -0.0323452                NA                NA  \n",
       "   geoidx2:wgidx   geoidx2.1:wgidx   geoidx2.2:wgidx   geoidx2.3:wgidx  \n",
       "              NA        -0.0539296         0.0213533        -0.0363390  \n",
       " geoidx2.4:wgidx   geoidx2.5:wgidx   geoidx2.6:wgidx   geoidx2.7:wgidx  \n",
       "       0.0289102        -0.1035752         0.0075881        -0.0374149  \n",
       "   geoidx3:wgidx   geoidx3.1:wgidx   geoidx3.2:wgidx   geoidx3.3:wgidx  \n",
       "              NA                NA                NA                NA  \n",
       " geoidx3.9:wgidx  geoidx-0.2:plidx  geoidx-0.1:plidx     geoidx0:plidx  \n",
       "              NA                NA                NA         0.0557165  \n",
       " geoidx0.1:plidx   geoidx0.2:plidx   geoidx0.3:plidx   geoidx0.4:plidx  \n",
       "       0.0438763         0.0478806         0.0776767                NA  \n",
       " geoidx0.5:plidx   geoidx0.6:plidx   geoidx0.7:plidx   geoidx0.8:plidx  \n",
       "       0.0451532                NA         0.0284738         0.0653117  \n",
       " geoidx0.9:plidx     geoidx1:plidx   geoidx1.1:plidx   geoidx1.2:plidx  \n",
       "              NA         0.0489627        -0.0048331         0.0522135  \n",
       " geoidx1.3:plidx   geoidx1.4:plidx   geoidx1.6:plidx     geoidx2:plidx  \n",
       "              NA                NA                NA                NA  \n",
       " geoidx2.1:plidx   geoidx2.2:plidx   geoidx2.3:plidx   geoidx2.4:plidx  \n",
       "              NA         0.0709770         0.0144476        -0.1071875  \n",
       " geoidx2.5:plidx   geoidx2.6:plidx   geoidx2.7:plidx     geoidx3:plidx  \n",
       "       0.1369693         0.0246732                NA                NA  \n",
       " geoidx3.1:plidx   geoidx3.2:plidx   geoidx3.3:plidx   geoidx3.9:plidx  \n",
       "              NA                NA                NA                NA  \n"
      ]
     },
     "metadata": {},
     "output_type": "display_data"
    },
    {
     "data": {
      "text/plain": [
       "\n",
       "Call:\n",
       "lm(formula = crmrte ~ geoidx * (wgidx + plidx), data = dfCrime)\n",
       "\n",
       "Residuals:\n",
       "      Min        1Q    Median        3Q       Max \n",
       "-0.018625 -0.001197  0.000000  0.000000  0.015948 \n",
       "\n",
       "Coefficients: (26 not defined because of singularities)\n",
       "                   Estimate Std. Error t value Pr(>|t|)   \n",
       "(Intercept)      -0.0804947  0.2006834  -0.401  0.69260   \n",
       "geoidx-0.2        0.0256716  0.0185091   1.387  0.18072   \n",
       "geoidx-0.1        0.0059788  0.0125922   0.475  0.64007   \n",
       "geoidx0           2.0291939  7.5147527   0.270  0.78991   \n",
       "geoidx0.1        -0.0309486  1.1908699  -0.026  0.97952   \n",
       "geoidx0.2         0.0503274  0.4461084   0.113  0.91130   \n",
       "geoidx0.3        -1.7817866  1.0006967  -1.781  0.09018 . \n",
       "geoidx0.4         1.5560038  2.7921254   0.557  0.58352   \n",
       "geoidx0.5         0.1988769  0.3334243   0.596  0.55755   \n",
       "geoidx0.6        -0.3764389  1.0374688  -0.363  0.72053   \n",
       "geoidx0.7        -0.3892855  0.2830063  -1.376  0.18418   \n",
       "geoidx0.8         0.2051321  0.9176484   0.224  0.82538   \n",
       "geoidx0.9        -6.6720860  2.5314434  -2.636  0.01585 * \n",
       "geoidx1          -0.2025711  0.4200911  -0.482  0.63489   \n",
       "geoidx1.1        -1.2350986  0.5050950  -2.445  0.02385 * \n",
       "geoidx1.2        -0.0009710  0.7594590  -0.001  0.99899   \n",
       "geoidx1.3         0.6472370  1.4711825   0.440  0.66470   \n",
       "geoidx1.4         0.0004612  0.0155202   0.030  0.97659   \n",
       "geoidx1.6         0.0041874  0.0184867   0.227  0.82311   \n",
       "geoidx2           0.0018409  0.0138152   0.133  0.89533   \n",
       "geoidx2.1         1.0739868  1.4972695   0.717  0.48149   \n",
       "geoidx2.2        -0.3606538  0.5019143  -0.719  0.48073   \n",
       "geoidx2.3         0.7358592  1.0142301   0.726  0.47653   \n",
       "geoidx2.4        -0.6715809  0.8097969  -0.829  0.41671   \n",
       "geoidx2.5         2.2044173  2.6364138   0.836  0.41295   \n",
       "geoidx2.6        -0.1244761  1.1179962  -0.111  0.91246   \n",
       "geoidx2.7         0.7671279  0.4880776   1.572  0.13170   \n",
       "geoidx3           0.0158142  0.0225549   0.701  0.49129   \n",
       "geoidx3.1         0.0125422  0.0182971   0.685  0.50091   \n",
       "geoidx3.2         0.0224659  0.0238839   0.941  0.35812   \n",
       "geoidx3.3         0.0457178  0.0254688   1.795  0.08777 . \n",
       "geoidx3.9         0.0050819  0.0197184   0.258  0.79925   \n",
       "wgidx             0.0022539  0.0102883   0.219  0.82881   \n",
       "plidx            -0.0672487  0.0222906  -3.017  0.00681 **\n",
       "geoidx-0.2:wgidx         NA         NA      NA       NA   \n",
       "geoidx-0.1:wgidx         NA         NA      NA       NA   \n",
       "geoidx0:wgidx    -0.1016223  0.3980740  -0.255  0.80111   \n",
       "geoidx0.1:wgidx   0.0038225  0.0550996   0.069  0.94538   \n",
       "geoidx0.2:wgidx  -0.0001127  0.0228090  -0.005  0.99611   \n",
       "geoidx0.3:wgidx   0.0945824  0.0517140   1.829  0.08236 . \n",
       "geoidx0.4:wgidx  -0.0781952  0.1409206  -0.555  0.58512   \n",
       "geoidx0.5:wgidx  -0.0071689  0.0168223  -0.426  0.67455   \n",
       "geoidx0.6:wgidx   0.0193551  0.0524285   0.369  0.71588   \n",
       "geoidx0.7:wgidx   0.0217122  0.0143237   1.516  0.14521   \n",
       "geoidx0.8:wgidx  -0.0080964  0.0465476  -0.174  0.86366   \n",
       "geoidx0.9:wgidx   0.3412447  0.1295330   2.634  0.01590 * \n",
       "geoidx1:wgidx     0.0122656  0.0210846   0.582  0.56725   \n",
       "geoidx1.1:wgidx   0.0626735  0.0256493   2.443  0.02395 * \n",
       "geoidx1.2:wgidx   0.0024325  0.0384407   0.063  0.95017   \n",
       "geoidx1.3:wgidx  -0.0323452  0.0737958  -0.438  0.66586   \n",
       "geoidx1.4:wgidx          NA         NA      NA       NA   \n",
       "geoidx1.6:wgidx          NA         NA      NA       NA   \n",
       "geoidx2:wgidx            NA         NA      NA       NA   \n",
       "geoidx2.1:wgidx  -0.0539296  0.0753950  -0.715  0.48269   \n",
       "geoidx2.2:wgidx   0.0213533  0.0261658   0.816  0.42407   \n",
       "geoidx2.3:wgidx  -0.0363390  0.0530198  -0.685  0.50097   \n",
       "geoidx2.4:wgidx   0.0289102  0.0356479   0.811  0.42692   \n",
       "geoidx2.5:wgidx  -0.1035752  0.1275245  -0.812  0.42624   \n",
       "geoidx2.6:wgidx   0.0075881  0.0548086   0.138  0.89127   \n",
       "geoidx2.7:wgidx  -0.0374149  0.0246207  -1.520  0.14425   \n",
       "geoidx3:wgidx            NA         NA      NA       NA   \n",
       "geoidx3.1:wgidx          NA         NA      NA       NA   \n",
       "geoidx3.2:wgidx          NA         NA      NA       NA   \n",
       "geoidx3.3:wgidx          NA         NA      NA       NA   \n",
       "geoidx3.9:wgidx          NA         NA      NA       NA   \n",
       "geoidx-0.2:plidx         NA         NA      NA       NA   \n",
       "geoidx-0.1:plidx         NA         NA      NA       NA   \n",
       "geoidx0:plidx     0.0557165  0.2203286   0.253  0.80294   \n",
       "geoidx0.1:plidx   0.0438763  0.1550975   0.283  0.78016   \n",
       "geoidx0.2:plidx   0.0478806  0.0365324   1.311  0.20483   \n",
       "geoidx0.3:plidx   0.0776767  0.0324766   2.392  0.02671 * \n",
       "geoidx0.4:plidx          NA         NA      NA       NA   \n",
       "geoidx0.5:plidx   0.0451532  0.0357770   1.262  0.22144   \n",
       "geoidx0.6:plidx          NA         NA      NA       NA   \n",
       "geoidx0.7:plidx   0.0284738  0.0233036   1.222  0.23597   \n",
       "geoidx0.8:plidx   0.0653117  0.0279515   2.337  0.02998 * \n",
       "geoidx0.9:plidx          NA         NA      NA       NA   \n",
       "geoidx1:plidx     0.0489627  0.0486237   1.007  0.32598   \n",
       "geoidx1.1:plidx  -0.0048331  0.0286329  -0.169  0.86765   \n",
       "geoidx1.2:plidx   0.0522135  0.0281801   1.853  0.07872 . \n",
       "geoidx1.3:plidx          NA         NA      NA       NA   \n",
       "geoidx1.4:plidx          NA         NA      NA       NA   \n",
       "geoidx1.6:plidx          NA         NA      NA       NA   \n",
       "geoidx2:plidx            NA         NA      NA       NA   \n",
       "geoidx2.1:plidx          NA         NA      NA       NA   \n",
       "geoidx2.2:plidx   0.0709770  0.0546036   1.300  0.20843   \n",
       "geoidx2.3:plidx   0.0144476  0.0496725   0.291  0.77416   \n",
       "geoidx2.4:plidx  -0.1071875  0.1168878  -0.917  0.37006   \n",
       "geoidx2.5:plidx   0.1369693  0.1239954   1.105  0.28243   \n",
       "geoidx2.6:plidx   0.0246732  0.0612682   0.403  0.69144   \n",
       "geoidx2.7:plidx          NA         NA      NA       NA   \n",
       "geoidx3:plidx            NA         NA      NA       NA   \n",
       "geoidx3.1:plidx          NA         NA      NA       NA   \n",
       "geoidx3.2:plidx          NA         NA      NA       NA   \n",
       "geoidx3.3:plidx          NA         NA      NA       NA   \n",
       "geoidx3.9:plidx          NA         NA      NA       NA   \n",
       "---\n",
       "Signif. codes:  0 ‘***’ 0.001 ‘**’ 0.01 ‘*’ 0.05 ‘.’ 0.1 ‘ ’ 1\n",
       "\n",
       "Residual standard error: 0.008696 on 20 degrees of freedom\n",
       "Multiple R-squared:  0.9524,\tAdjusted R-squared:  0.788 \n",
       "F-statistic: 5.794 on 69 and 20 DF,  p-value: 3.012e-05\n"
      ]
     },
     "metadata": {},
     "output_type": "display_data"
    }
   ],
   "source": [
    "mod3 <- lm(crmrte ~ geoidx * ( wgidx + plidx), data = dfCrime)\n",
    "mod3\n",
    "\n",
    "summary(mod3)"
   ]
  },
  {
   "cell_type": "code",
   "execution_count": null,
   "metadata": {},
   "outputs": [],
   "source": []
  },
  {
   "cell_type": "code",
   "execution_count": null,
   "metadata": {},
   "outputs": [],
   "source": []
  }
 ],
 "metadata": {
  "kernelspec": {
   "display_name": "R",
   "language": "R",
   "name": "ir"
  },
  "language_info": {
   "codemirror_mode": "r",
   "file_extension": ".r",
   "mimetype": "text/x-r-source",
   "name": "R",
   "pygments_lexer": "r",
   "version": "3.5.1"
  }
 },
 "nbformat": 4,
 "nbformat_minor": 2
}
