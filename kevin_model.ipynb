{
 "cells": [
  {
   "cell_type": "code",
   "execution_count": 197,
   "metadata": {},
   "outputs": [],
   "source": [
    "library(effsize)\n",
    "library(dplyr)\n",
    "library(ggplot2)\n",
    "library(corrplot)\n",
    "library(stargazer)\n",
    "library(MASS)"
   ]
  },
  {
   "cell_type": "code",
   "execution_count": 198,
   "metadata": {},
   "outputs": [],
   "source": [
    "# Imports Data\n",
    "dfCrime = read.csv(\"crime_v2.csv\")"
   ]
  },
  {
   "cell_type": "code",
   "execution_count": 199,
   "metadata": {},
   "outputs": [],
   "source": [
    "# summary(dfCrime)"
   ]
  },
  {
   "cell_type": "code",
   "execution_count": 200,
   "metadata": {},
   "outputs": [],
   "source": [
    "#unique(dfCrime$prbconv)"
   ]
  },
  {
   "cell_type": "code",
   "execution_count": 201,
   "metadata": {},
   "outputs": [
    {
     "data": {
      "text/html": [
       "97"
      ],
      "text/latex": [
       "97"
      ],
      "text/markdown": [
       "97"
      ],
      "text/plain": [
       "[1] 97"
      ]
     },
     "metadata": {},
     "output_type": "display_data"
    }
   ],
   "source": [
    "# dfCrime[is.na(dfCrime),]\n",
    "# dfCrime\n",
    "nrow(dfCrime)"
   ]
  },
  {
   "cell_type": "code",
   "execution_count": 202,
   "metadata": {},
   "outputs": [
    {
     "data": {
      "text/html": [
       "91"
      ],
      "text/latex": [
       "91"
      ],
      "text/markdown": [
       "91"
      ],
      "text/plain": [
       "[1] 91"
      ]
     },
     "metadata": {},
     "output_type": "display_data"
    }
   ],
   "source": [
    "dfCrime <-na.omit(dfCrime) # get rid of the NA rows\n",
    "nrow(dfCrime)"
   ]
  },
  {
   "cell_type": "code",
   "execution_count": 203,
   "metadata": {},
   "outputs": [
    {
     "data": {
      "text/html": [
       "<table>\n",
       "<thead><tr><th></th><th scope=col>county</th><th scope=col>year</th><th scope=col>crmrte</th><th scope=col>prbarr</th><th scope=col>prbconv</th><th scope=col>prbpris</th><th scope=col>avgsen</th><th scope=col>polpc</th><th scope=col>density</th><th scope=col>taxpc</th><th scope=col>⋯</th><th scope=col>wtuc</th><th scope=col>wtrd</th><th scope=col>wfir</th><th scope=col>wser</th><th scope=col>wmfg</th><th scope=col>wfed</th><th scope=col>wsta</th><th scope=col>wloc</th><th scope=col>mix</th><th scope=col>pctymle</th></tr></thead>\n",
       "<tbody>\n",
       "\t<tr><th scope=row>89</th><td>193        </td><td>87         </td><td>0.0235277  </td><td>0.266055   </td><td>0.588859022</td><td>0.423423   </td><td>5.86       </td><td>0.00117887 </td><td>0.8138298  </td><td>28.51783   </td><td>⋯          </td><td>480.1948   </td><td>268.3836   </td><td>365.0196   </td><td>295.9352   </td><td>295.63     </td><td>468.26     </td><td>337.88     </td><td>348.74     </td><td>0.1105016  </td><td>0.07819394 </td></tr>\n",
       "</tbody>\n",
       "</table>\n"
      ],
      "text/latex": [
       "\\begin{tabular}{r|lllllllllllllllllllllllll}\n",
       "  & county & year & crmrte & prbarr & prbconv & prbpris & avgsen & polpc & density & taxpc & ⋯ & wtuc & wtrd & wfir & wser & wmfg & wfed & wsta & wloc & mix & pctymle\\\\\n",
       "\\hline\n",
       "\t89 & 193         & 87          & 0.0235277   & 0.266055    & 0.588859022 & 0.423423    & 5.86        & 0.00117887  & 0.8138298   & 28.51783    & ⋯           & 480.1948    & 268.3836    & 365.0196    & 295.9352    & 295.63      & 468.26      & 337.88      & 348.74      & 0.1105016   & 0.07819394 \\\\\n",
       "\\end{tabular}\n"
      ],
      "text/markdown": [
       "\n",
       "| <!--/--> | county | year | crmrte | prbarr | prbconv | prbpris | avgsen | polpc | density | taxpc | ⋯ | wtuc | wtrd | wfir | wser | wmfg | wfed | wsta | wloc | mix | pctymle | \n",
       "|---|\n",
       "| 89 | 193         | 87          | 0.0235277   | 0.266055    | 0.588859022 | 0.423423    | 5.86        | 0.00117887  | 0.8138298   | 28.51783    | ⋯           | 480.1948    | 268.3836    | 365.0196    | 295.9352    | 295.63      | 468.26      | 337.88      | 348.74      | 0.1105016   | 0.07819394  | \n",
       "\n",
       "\n"
      ],
      "text/plain": [
       "   county year crmrte    prbarr   prbconv     prbpris  avgsen polpc     \n",
       "89 193    87   0.0235277 0.266055 0.588859022 0.423423 5.86   0.00117887\n",
       "   density   taxpc    ⋯ wtuc     wtrd     wfir     wser     wmfg   wfed  \n",
       "89 0.8138298 28.51783 ⋯ 480.1948 268.3836 365.0196 295.9352 295.63 468.26\n",
       "   wsta   wloc   mix       pctymle   \n",
       "89 337.88 348.74 0.1105016 0.07819394"
      ]
     },
     "metadata": {},
     "output_type": "display_data"
    }
   ],
   "source": [
    "dfCrime[duplicated(dfCrime),]\n",
    "# unique(dfCrime$county)"
   ]
  },
  {
   "cell_type": "code",
   "execution_count": 204,
   "metadata": {},
   "outputs": [
    {
     "data": {
      "text/html": [
       "90"
      ],
      "text/latex": [
       "90"
      ],
      "text/markdown": [
       "90"
      ],
      "text/plain": [
       "[1] 90"
      ]
     },
     "metadata": {},
     "output_type": "display_data"
    }
   ],
   "source": [
    "dfCrime <- dfCrime[!duplicated(dfCrime),] # get rid of the duplicated row\n",
    "nrow(dfCrime)"
   ]
  },
  {
   "cell_type": "code",
   "execution_count": 205,
   "metadata": {},
   "outputs": [
    {
     "name": "stderr",
     "output_type": "stream",
     "text": [
      "Warning message in eval(expr, envir, enclos):\n",
      "“NAs introduced by coercion”"
     ]
    }
   ],
   "source": [
    "dfCrime$prbconv<-as.numeric(levels(dfCrime$prbconv))[dfCrime$prbconv]\n",
    "#dfCrime$prbconv<-as.double(dfCrime$prbconv)"
   ]
  },
  {
   "cell_type": "code",
   "execution_count": 206,
   "metadata": {},
   "outputs": [],
   "source": [
    "#dfCrime$county<-as.factor(dfCrime$county) #note that we're missing 10 counties from NC; 6 were blank rows in this set, one row was a duplicate"
   ]
  },
  {
   "cell_type": "code",
   "execution_count": 207,
   "metadata": {},
   "outputs": [],
   "source": [
    "dfCrime$pctmin80<-dfCrime$pctmin80/100 # units are off in comparison to pctymle; we either divide by 100 here or multiply the other one"
   ]
  },
  {
   "cell_type": "code",
   "execution_count": 208,
   "metadata": {},
   "outputs": [],
   "source": [
    "#Map central and west to a region code.\n",
    "# Note that county 71 has both western and central codes\n",
    "dfCrime$region <- case_when (\n",
    "            (dfCrime$central ==0 & dfCrime$west ==0) ~ 0, #Eastern, Coastal, Other\n",
    "            (dfCrime$central ==0 & dfCrime$west ==1) ~ 1, #Western\n",
    "            (dfCrime$central ==1 & dfCrime$west ==0) ~ 2, #Central\n",
    "            (dfCrime$central ==1 & dfCrime$west ==1) ~ 3, #Central-Western border county - this could be Charlotte or it could be a coding error.\n",
    "        )"
   ]
  },
  {
   "cell_type": "code",
   "execution_count": 209,
   "metadata": {},
   "outputs": [],
   "source": [
    "# create a factor for 'central', 'western', 'central/western' and 'eastern, coastal, other' region\n",
    "#dfCrime$region =\n",
    "#             factor( dfCrime$region , levels = 0:3 , labels =\n",
    "#                     c( 'Region 1',\n",
    "#                        'Region 2',\n",
    "#                        'Region 3',\n",
    "#                        'Region 4'\n",
    "#                       )\n",
    "#                    )"
   ]
  },
  {
   "cell_type": "code",
   "execution_count": 210,
   "metadata": {},
   "outputs": [],
   "source": [
    "# create factor for SMSA (standard metropolitan statistical areas) with two levels - inside or outside\n",
    "#    https://www2.census.gov/prod2/decennial/documents/1980/1980censusofpopu8011uns_bw.pdf\n",
    "dfCrime$metro =\n",
    "            factor( dfCrime$urban , levels = 0:1 , labels =\n",
    "                    c( 'Outside',\n",
    "                       'Inside'\n",
    "                      )\n",
    "                   )"
   ]
  },
  {
   "cell_type": "code",
   "execution_count": 211,
   "metadata": {},
   "outputs": [
    {
     "data": {
      "text/html": [
       "253.1188202"
      ],
      "text/latex": [
       "253.1188202"
      ],
      "text/markdown": [
       "253.1188202"
      ],
      "text/plain": [
       "[1] 253.1188"
      ]
     },
     "metadata": {},
     "output_type": "display_data"
    }
   ],
   "source": [
    "dfCrime$wser[which(dfCrime$county==185)]<- median(dfCrime$wser)\n",
    "dfCrime$wser[which(dfCrime$county==185)]"
   ]
  },
  {
   "cell_type": "code",
   "execution_count": 213,
   "metadata": {},
   "outputs": [],
   "source": [
    "#transform our variables\n",
    "\n",
    "dfCrime$lpolpc <-log10(dfCrime$polpc)\n",
    "dfCrime$lprbpris <- log10(dfCrime$prbpris)\n",
    "dfCrime$lpctymle <- log10(dfCrime$pctymle)\n",
    "dfCrime$lavgsen <- log10(dfCrime$avgsen)\n",
    "dfCrime$ldensity <- log10(dfCrime$density)\n",
    "dfCrime$ltaxpc <- log10(dfCrime$taxpc)\n",
    "dfCrime$lmix <- log10(dfCrime$mix)\n",
    "dfCrime$lpctmin80 <- log10(dfCrime$pctmin80)\n",
    "\n",
    "dfCrime$lcrmrte = log10(dfCrime$crmrte)\n",
    "dfCrime$lprbconv = log10(dfCrime$prbconv)\n",
    "dfCrime$lprbarr = log10(dfCrime$prbarr)\n",
    "dfCrime$lwcon<-log10(dfCrime$wcon)\n",
    "dfCrime$lwtrd<-log10(dfCrime$wtrd)\n",
    "dfCrime$lwfir<-log10(dfCrime$wfir)\n",
    "dfCrime$lwser<-log10(dfCrime$wser)\n",
    "dfCrime$lwmfg<-log10(dfCrime$wmfg)\n",
    "dfCrime$lwfed<-log10(dfCrime$wfed)\n",
    "dfCrime$lwsta<-log10(dfCrime$wsta)\n",
    "dfCrime$lwloc<-log10(dfCrime$wloc)"
   ]
  },
  {
   "cell_type": "code",
   "execution_count": 214,
   "metadata": {},
   "outputs": [],
   "source": [
    "#create a geography index factor based on density and percent minority,  young male and region\n",
    "\n",
    "dfCrime$geoidx<-as.factor(round(log10(dfCrime$density) + dfCrime$pctymle + dfCrime$pctmin80 + dfCrime$region, digits=1))"
   ]
  },
  {
   "cell_type": "code",
   "execution_count": 218,
   "metadata": {},
   "outputs": [],
   "source": [
    "# dfCrime %>% arrange(desc(geoidx))"
   ]
  },
  {
   "cell_type": "code",
   "execution_count": 216,
   "metadata": {},
   "outputs": [],
   "source": [
    "#create a wage index and a probability of police encounter index\n",
    "\n",
    "dfCrime$wgidx <- dfCrime$lwcon + dfCrime$lwtrd + dfCrime$lwfir + dfCrime$lwser + dfCrime$lwmfg + dfCrime$lwfed + dfCrime$lwsta + dfCrime$lwloc \n",
    "\n",
    "dfCrime$plidx <- log10(dfCrime$prbarr * dfCrime$prbconv)"
   ]
  },
  {
   "cell_type": "code",
   "execution_count": 220,
   "metadata": {},
   "outputs": [
    {
     "data": {
      "text/plain": [
       "\n",
       "Call:\n",
       "lm(formula = crmrte ~ geoidx + wgidx + plidx, data = dfCrime)\n",
       "\n",
       "Coefficients:\n",
       "(Intercept)   geoidx-0.2   geoidx-0.1      geoidx0    geoidx0.1    geoidx0.2  \n",
       " -0.1567212    0.0447850    0.0026583   -0.0009477    0.0087603    0.0095009  \n",
       "  geoidx0.3    geoidx0.4    geoidx0.5    geoidx0.6    geoidx0.7    geoidx0.8  \n",
       "  0.0097414    0.0127857    0.0188229    0.0123168    0.0177272   -0.0062599  \n",
       "  geoidx0.9      geoidx1    geoidx1.1    geoidx1.2    geoidx1.3    geoidx1.4  \n",
       " -0.0075956   -0.0005851    0.0340720    0.0022172    0.0068682    0.0028945  \n",
       "  geoidx1.6      geoidx2    geoidx2.1    geoidx2.2    geoidx2.3    geoidx2.4  \n",
       "  0.0114381    0.0070829   -0.0012655    0.0024048    0.0060753    0.0045903  \n",
       "  geoidx2.5    geoidx2.6    geoidx2.7      geoidx3    geoidx3.1    geoidx3.2  \n",
       "  0.0145975    0.0078045    0.0263554    0.0201410    0.0256400    0.0305602  \n",
       "  geoidx3.3    geoidx3.9        wgidx        plidx  \n",
       "  0.0559585    0.0184015    0.0076894   -0.0298097  \n"
      ]
     },
     "metadata": {},
     "output_type": "display_data"
    },
    {
     "data": {
      "text/plain": [
       "\n",
       "Call:\n",
       "lm(formula = crmrte ~ geoidx + wgidx + plidx, data = dfCrime)\n",
       "\n",
       "Residuals:\n",
       "      Min        1Q    Median        3Q       Max \n",
       "-0.033618 -0.004255  0.000000  0.004375  0.018517 \n",
       "\n",
       "Coefficients:\n",
       "              Estimate Std. Error t value Pr(>|t|)    \n",
       "(Intercept) -0.1567212  0.0981298  -1.597  0.11588    \n",
       "geoidx-0.2   0.0447850  0.0155623   2.878  0.00566 ** \n",
       "geoidx-0.1   0.0026583  0.0151383   0.176  0.86124    \n",
       "geoidx0     -0.0009477  0.0125364  -0.076  0.94001    \n",
       "geoidx0.1    0.0087603  0.0120258   0.728  0.46937    \n",
       "geoidx0.2    0.0095009  0.0121034   0.785  0.43577    \n",
       "geoidx0.3    0.0097414  0.0120587   0.808  0.42261    \n",
       "geoidx0.4    0.0127857  0.0134379   0.951  0.34546    \n",
       "geoidx0.5    0.0188229  0.0119578   1.574  0.12110    \n",
       "geoidx0.6    0.0123168  0.0134939   0.913  0.36528    \n",
       "geoidx0.7    0.0177272  0.0117714   1.506  0.13770    \n",
       "geoidx0.8   -0.0062599  0.0124231  -0.504  0.61631    \n",
       "geoidx0.9   -0.0075956  0.0132183  -0.575  0.56784    \n",
       "geoidx1     -0.0005851  0.0121104  -0.048  0.96164    \n",
       "geoidx1.1    0.0340720  0.0131388   2.593  0.01211 *  \n",
       "geoidx1.2    0.0022172  0.0127462   0.174  0.86253    \n",
       "geoidx1.3    0.0068682  0.0135995   0.505  0.61552    \n",
       "geoidx1.4    0.0028945  0.0156840   0.185  0.85425    \n",
       "geoidx1.6    0.0114381  0.0161417   0.709  0.48151    \n",
       "geoidx2      0.0070829  0.0152911   0.463  0.64501    \n",
       "geoidx2.1   -0.0012655  0.0134566  -0.094  0.92541    \n",
       "geoidx2.2    0.0024048  0.0119569   0.201  0.84133    \n",
       "geoidx2.3    0.0060753  0.0119529   0.508  0.61326    \n",
       "geoidx2.4    0.0045903  0.0128956   0.356  0.72321    \n",
       "geoidx2.5    0.0145975  0.0125989   1.159  0.25152    \n",
       "geoidx2.6    0.0078045  0.0130419   0.598  0.55198    \n",
       "geoidx2.7    0.0263554  0.0131347   2.007  0.04964 *  \n",
       "geoidx3      0.0201410  0.0172938   1.165  0.24910    \n",
       "geoidx3.1    0.0256400  0.0141324   1.814  0.07499 .  \n",
       "geoidx3.2    0.0305602  0.0174537   1.751  0.08543 .  \n",
       "geoidx3.3    0.0559585  0.0177652   3.150  0.00262 ** \n",
       "geoidx3.9    0.0184015  0.0161053   1.143  0.25808    \n",
       "wgidx        0.0076894  0.0050480   1.523  0.13332    \n",
       "plidx       -0.0298097  0.0050670  -5.883 2.35e-07 ***\n",
       "---\n",
       "Signif. codes:  0 ‘***’ 0.001 ‘**’ 0.01 ‘*’ 0.05 ‘.’ 0.1 ‘ ’ 1\n",
       "\n",
       "Residual standard error: 0.01069 on 56 degrees of freedom\n",
       "Multiple R-squared:  0.7985,\tAdjusted R-squared:  0.6797 \n",
       "F-statistic: 6.723 on 33 and 56 DF,  p-value: 2.964e-10\n"
      ]
     },
     "metadata": {},
     "output_type": "display_data"
    }
   ],
   "source": [
    "mod2 <- lm(crmrte ~ geoidx + wgidx + plidx, data = dfCrime)\n",
    "mod2\n",
    "\n",
    "summary(mod2)\n"
   ]
  },
  {
   "cell_type": "code",
   "execution_count": null,
   "metadata": {},
   "outputs": [],
   "source": []
  },
  {
   "cell_type": "code",
   "execution_count": null,
   "metadata": {},
   "outputs": [],
   "source": []
  },
  {
   "cell_type": "code",
   "execution_count": null,
   "metadata": {},
   "outputs": [],
   "source": []
  },
  {
   "cell_type": "code",
   "execution_count": null,
   "metadata": {},
   "outputs": [],
   "source": []
  }
 ],
 "metadata": {
  "kernelspec": {
   "display_name": "R",
   "language": "R",
   "name": "ir"
  },
  "language_info": {
   "codemirror_mode": "r",
   "file_extension": ".r",
   "mimetype": "text/x-r-source",
   "name": "R",
   "pygments_lexer": "r",
   "version": "3.5.1"
  }
 },
 "nbformat": 4,
 "nbformat_minor": 2
}
