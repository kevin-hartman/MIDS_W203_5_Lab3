{
 "cells": [
  {
   "cell_type": "markdown",
   "metadata": {},
   "source": [
    "# Local Policy Recommendations for Crime Reduction\n",
    "\n",
    "\n",
    "Alexa Bagnard, Joseph Gaustad, Kevin Hartman, Francis Leung\n",
    "\n",
    "## Introduction\n",
    "\n",
    "In this report, we seek to examine and discuss determinants of crime and offer recommend actionable policy recommendations for local politicians running for election at the county level. For our analysis, we draw on sample data collected from a study by Cornwell and Trumball, researchers from the University of Georgia and West Virginia University. Our sample data includes data on crime rates, arrests, sentences,  demographics, local weekly wages, tax revenues and more drawn from local and federal government data sources. Although the age of the data may be a potential limitation of our study, we believe the insights we gather and policy recommendations remain appropriate for local campaigns today.\n",
    "\n",
    "\n",
    "Our primary question that will drive our data exploration are to ask which variables affect crime rate the most.\n",
    "\n",
    "\n",
    "## Variables\n",
    "\n",
    "The crime_v2 dataset provided includes 25 variables of interest. \n",
    "\n",
    "We include them below for reference along by category of interest.\n",
    "\n",
    "<center>Data Dictionary</center>\n",
    "\n",
    "Category | Variable\n",
    "---------- | -------------------------------\n",
    "Crime Rate | crmrte\n",
    "Geographic | county, west, central\n",
    "Demographic | urban, density, pctmin80, pctymle\n",
    "Economic - Wage | wcon, wtuc, wtrd, wfir, wser, wmfg, wfed, wsta, wloc\n",
    "Economic - Revenue  | taxpc\n",
    "Law Enforcment | polpc, prbarr, prbconv, mix\n",
    "Judicial/Sentencing | prbpris, avgsen\n",
    "Time Period | year\n",
    "\n",
    "<center>Table 1: Data Dictionary</center>\n",
    "\n",
    "The variables above operationalize the conditions we wish to explore and their affects on crime rate\n",
    "\n",
    "Chiefly, these break down as follows.\n",
    "\n",
    "* The Economic variables measures the county's economic activity and health (e.g. opportunity to pursue legal forms of income). These variables come in the form of available wages and tax revenue returned to the county.\n",
    "\n",
    "* The Law enforcment variables measures the county's ability to utilize law enforcment policy to deter crime.  Similarly, the Judicial variables also signify impact of deterence to crime.\n",
    "\n",
    "* The Demographic variables measure the cultural variability that represent the social differences between each county, such as urban vs rural and minority populations.\n",
    "\n",
    "* The Geographic elements are categorical. They  represent they ways in which the population is segmented by geography.\n"
   ]
  },
  {
   "cell_type": "markdown",
   "metadata": {},
   "source": [
    "## Exploratory Data Analysis\n",
    "\n",
    "We begin our analysis by loading helper packages, retreiving the data set and performing basic checks and inspections."
   ]
  },
  {
   "cell_type": "code",
   "execution_count": 1,
   "metadata": {},
   "outputs": [
    {
     "name": "stderr",
     "output_type": "stream",
     "text": [
      "\n",
      "Attaching package: ‘dplyr’\n",
      "\n",
      "The following objects are masked from ‘package:stats’:\n",
      "\n",
      "    filter, lag\n",
      "\n",
      "The following objects are masked from ‘package:base’:\n",
      "\n",
      "    intersect, setdiff, setequal, union\n",
      "\n",
      "Updating HTML index of packages in '.Library'\n",
      "Making 'packages.html' ... done\n",
      "\n",
      "Attaching package: ‘gridExtra’\n",
      "\n",
      "The following object is masked from ‘package:dplyr’:\n",
      "\n",
      "    combine\n",
      "\n"
     ]
    }
   ],
   "source": [
    "library(dplyr)\n",
    "library(ggplot2)\n",
    "library(reshape2)\n",
    "\n",
    "install.packages(\"gridExtra\")\n",
    "library(gridExtra)"
   ]
  },
  {
   "cell_type": "code",
   "execution_count": 2,
   "metadata": {},
   "outputs": [],
   "source": [
    "dfCrime = read.csv(\"crime_v2.csv\")"
   ]
  },
  {
   "cell_type": "code",
   "execution_count": 3,
   "metadata": {},
   "outputs": [
    {
     "name": "stdout",
     "output_type": "stream",
     "text": [
      "'data.frame':\t97 obs. of  25 variables:\n",
      " $ county  : int  1 3 5 7 9 11 13 15 17 19 ...\n",
      " $ year    : int  87 87 87 87 87 87 87 87 87 87 ...\n",
      " $ crmrte  : num  0.0356 0.0153 0.013 0.0268 0.0106 ...\n",
      " $ prbarr  : num  0.298 0.132 0.444 0.365 0.518 ...\n",
      " $ prbconv : Factor w/ 92 levels \"\",\"`\",\"0.068376102\",..: 63 89 13 62 52 3 59 78 42 86 ...\n",
      " $ prbpris : num  0.436 0.45 0.6 0.435 0.443 ...\n",
      " $ avgsen  : num  6.71 6.35 6.76 7.14 8.22 ...\n",
      " $ polpc   : num  0.001828 0.000746 0.001234 0.00153 0.00086 ...\n",
      " $ density : num  2.423 1.046 0.413 0.492 0.547 ...\n",
      " $ taxpc   : num  31 26.9 34.8 42.9 28.1 ...\n",
      " $ west    : int  0 0 1 0 1 1 0 0 0 0 ...\n",
      " $ central : int  1 1 0 1 0 0 0 0 0 0 ...\n",
      " $ urban   : int  0 0 0 0 0 0 0 0 0 0 ...\n",
      " $ pctmin80: num  20.22 7.92 3.16 47.92 1.8 ...\n",
      " $ wcon    : num  281 255 227 375 292 ...\n",
      " $ wtuc    : num  409 376 372 398 377 ...\n",
      " $ wtrd    : num  221 196 229 191 207 ...\n",
      " $ wfir    : num  453 259 306 281 289 ...\n",
      " $ wser    : num  274 192 210 257 215 ...\n",
      " $ wmfg    : num  335 300 238 282 291 ...\n",
      " $ wfed    : num  478 410 359 412 377 ...\n",
      " $ wsta    : num  292 363 332 328 367 ...\n",
      " $ wloc    : num  312 301 281 299 343 ...\n",
      " $ mix     : num  0.0802 0.0302 0.4651 0.2736 0.0601 ...\n",
      " $ pctymle : num  0.0779 0.0826 0.0721 0.0735 0.0707 ...\n"
     ]
    }
   ],
   "source": [
    "str(dfCrime)"
   ]
  },
  {
   "cell_type": "code",
   "execution_count": 4,
   "metadata": {},
   "outputs": [
    {
     "data": {
      "text/html": [
       "<table>\n",
       "<thead><tr><th scope=col>county</th><th scope=col>year</th><th scope=col>crmrte</th><th scope=col>prbarr</th><th scope=col>prbconv</th><th scope=col>prbpris</th><th scope=col>avgsen</th><th scope=col>polpc</th><th scope=col>density</th><th scope=col>taxpc</th><th scope=col>⋯</th><th scope=col>wtuc</th><th scope=col>wtrd</th><th scope=col>wfir</th><th scope=col>wser</th><th scope=col>wmfg</th><th scope=col>wfed</th><th scope=col>wsta</th><th scope=col>wloc</th><th scope=col>mix</th><th scope=col>pctymle</th></tr></thead>\n",
       "<tbody>\n",
       "\t<tr><td> 1         </td><td>87         </td><td>0.0356036  </td><td>0.298270   </td><td>0.527595997</td><td>0.436170   </td><td> 6.71      </td><td>0.00182786 </td><td>2.4226327  </td><td>30.99368   </td><td>⋯          </td><td>408.7245   </td><td>221.2701   </td><td>453.1722   </td><td>274.1775   </td><td>334.54     </td><td>477.58     </td><td>292.09     </td><td>311.91     </td><td>0.08016878 </td><td>0.07787097 </td></tr>\n",
       "\t<tr><td> 3         </td><td>87         </td><td>0.0152532  </td><td>0.132029   </td><td>1.481480002</td><td>0.450000   </td><td> 6.35      </td><td>0.00074588 </td><td>1.0463320  </td><td>26.89208   </td><td>⋯          </td><td>376.2542   </td><td>196.0101   </td><td>258.5650   </td><td>192.3077   </td><td>300.38     </td><td>409.83     </td><td>362.96     </td><td>301.47     </td><td>0.03022670 </td><td>0.08260694 </td></tr>\n",
       "\t<tr><td> 5         </td><td>87         </td><td>0.0129603  </td><td>0.444444   </td><td>0.267856985</td><td>0.600000   </td><td> 6.76      </td><td>0.00123431 </td><td>0.4127659  </td><td>34.81605   </td><td>⋯          </td><td>372.2084   </td><td>229.3209   </td><td>305.9441   </td><td>209.6972   </td><td>237.65     </td><td>358.98     </td><td>331.53     </td><td>281.37     </td><td>0.46511629 </td><td>0.07211538 </td></tr>\n",
       "\t<tr><td> 7         </td><td>87         </td><td>0.0267532  </td><td>0.364760   </td><td>0.525424004</td><td>0.435484   </td><td> 7.14      </td><td>0.00152994 </td><td>0.4915572  </td><td>42.94759   </td><td>⋯          </td><td>397.6901   </td><td>191.1720   </td><td>281.0651   </td><td>256.7214   </td><td>281.80     </td><td>412.15     </td><td>328.27     </td><td>299.03     </td><td>0.27362204 </td><td>0.07353726 </td></tr>\n",
       "\t<tr><td> 9         </td><td>87         </td><td>0.0106232  </td><td>0.518219   </td><td>0.476563007</td><td>0.442623   </td><td> 8.22      </td><td>0.00086018 </td><td>0.5469484  </td><td>28.05474   </td><td>⋯          </td><td>377.3126   </td><td>206.8215   </td><td>289.3125   </td><td>215.1933   </td><td>290.89     </td><td>377.35     </td><td>367.23     </td><td>342.82     </td><td>0.06008584 </td><td>0.07069755 </td></tr>\n",
       "\t<tr><td>11         </td><td>87         </td><td>0.0146067  </td><td>0.524664   </td><td>0.068376102</td><td>0.500000   </td><td>13.00      </td><td>0.00288203 </td><td>0.6113361  </td><td>35.22974   </td><td>⋯          </td><td>401.3378   </td><td>187.8255   </td><td>258.5650   </td><td>237.1507   </td><td>258.60     </td><td>391.48     </td><td>325.71     </td><td>275.22     </td><td>0.31952664 </td><td>0.09891920 </td></tr>\n",
       "</tbody>\n",
       "</table>\n"
      ],
      "text/latex": [
       "\\begin{tabular}{r|lllllllllllllllllllllllll}\n",
       " county & year & crmrte & prbarr & prbconv & prbpris & avgsen & polpc & density & taxpc & ⋯ & wtuc & wtrd & wfir & wser & wmfg & wfed & wsta & wloc & mix & pctymle\\\\\n",
       "\\hline\n",
       "\t  1          & 87          & 0.0356036   & 0.298270    & 0.527595997 & 0.436170    &  6.71       & 0.00182786  & 2.4226327   & 30.99368    & ⋯           & 408.7245    & 221.2701    & 453.1722    & 274.1775    & 334.54      & 477.58      & 292.09      & 311.91      & 0.08016878  & 0.07787097 \\\\\n",
       "\t  3          & 87          & 0.0152532   & 0.132029    & 1.481480002 & 0.450000    &  6.35       & 0.00074588  & 1.0463320   & 26.89208    & ⋯           & 376.2542    & 196.0101    & 258.5650    & 192.3077    & 300.38      & 409.83      & 362.96      & 301.47      & 0.03022670  & 0.08260694 \\\\\n",
       "\t  5          & 87          & 0.0129603   & 0.444444    & 0.267856985 & 0.600000    &  6.76       & 0.00123431  & 0.4127659   & 34.81605    & ⋯           & 372.2084    & 229.3209    & 305.9441    & 209.6972    & 237.65      & 358.98      & 331.53      & 281.37      & 0.46511629  & 0.07211538 \\\\\n",
       "\t  7          & 87          & 0.0267532   & 0.364760    & 0.525424004 & 0.435484    &  7.14       & 0.00152994  & 0.4915572   & 42.94759    & ⋯           & 397.6901    & 191.1720    & 281.0651    & 256.7214    & 281.80      & 412.15      & 328.27      & 299.03      & 0.27362204  & 0.07353726 \\\\\n",
       "\t  9          & 87          & 0.0106232   & 0.518219    & 0.476563007 & 0.442623    &  8.22       & 0.00086018  & 0.5469484   & 28.05474    & ⋯           & 377.3126    & 206.8215    & 289.3125    & 215.1933    & 290.89      & 377.35      & 367.23      & 342.82      & 0.06008584  & 0.07069755 \\\\\n",
       "\t 11          & 87          & 0.0146067   & 0.524664    & 0.068376102 & 0.500000    & 13.00       & 0.00288203  & 0.6113361   & 35.22974    & ⋯           & 401.3378    & 187.8255    & 258.5650    & 237.1507    & 258.60      & 391.48      & 325.71      & 275.22      & 0.31952664  & 0.09891920 \\\\\n",
       "\\end{tabular}\n"
      ],
      "text/markdown": [
       "\n",
       "county | year | crmrte | prbarr | prbconv | prbpris | avgsen | polpc | density | taxpc | ⋯ | wtuc | wtrd | wfir | wser | wmfg | wfed | wsta | wloc | mix | pctymle | \n",
       "|---|---|---|---|---|---|\n",
       "|  1          | 87          | 0.0356036   | 0.298270    | 0.527595997 | 0.436170    |  6.71       | 0.00182786  | 2.4226327   | 30.99368    | ⋯           | 408.7245    | 221.2701    | 453.1722    | 274.1775    | 334.54      | 477.58      | 292.09      | 311.91      | 0.08016878  | 0.07787097  | \n",
       "|  3          | 87          | 0.0152532   | 0.132029    | 1.481480002 | 0.450000    |  6.35       | 0.00074588  | 1.0463320   | 26.89208    | ⋯           | 376.2542    | 196.0101    | 258.5650    | 192.3077    | 300.38      | 409.83      | 362.96      | 301.47      | 0.03022670  | 0.08260694  | \n",
       "|  5          | 87          | 0.0129603   | 0.444444    | 0.267856985 | 0.600000    |  6.76       | 0.00123431  | 0.4127659   | 34.81605    | ⋯           | 372.2084    | 229.3209    | 305.9441    | 209.6972    | 237.65      | 358.98      | 331.53      | 281.37      | 0.46511629  | 0.07211538  | \n",
       "|  7          | 87          | 0.0267532   | 0.364760    | 0.525424004 | 0.435484    |  7.14       | 0.00152994  | 0.4915572   | 42.94759    | ⋯           | 397.6901    | 191.1720    | 281.0651    | 256.7214    | 281.80      | 412.15      | 328.27      | 299.03      | 0.27362204  | 0.07353726  | \n",
       "|  9          | 87          | 0.0106232   | 0.518219    | 0.476563007 | 0.442623    |  8.22       | 0.00086018  | 0.5469484   | 28.05474    | ⋯           | 377.3126    | 206.8215    | 289.3125    | 215.1933    | 290.89      | 377.35      | 367.23      | 342.82      | 0.06008584  | 0.07069755  | \n",
       "| 11          | 87          | 0.0146067   | 0.524664    | 0.068376102 | 0.500000    | 13.00       | 0.00288203  | 0.6113361   | 35.22974    | ⋯           | 401.3378    | 187.8255    | 258.5650    | 237.1507    | 258.60      | 391.48      | 325.71      | 275.22      | 0.31952664  | 0.09891920  | \n",
       "\n",
       "\n"
      ],
      "text/plain": [
       "  county year crmrte    prbarr   prbconv     prbpris  avgsen polpc     \n",
       "1  1     87   0.0356036 0.298270 0.527595997 0.436170  6.71  0.00182786\n",
       "2  3     87   0.0152532 0.132029 1.481480002 0.450000  6.35  0.00074588\n",
       "3  5     87   0.0129603 0.444444 0.267856985 0.600000  6.76  0.00123431\n",
       "4  7     87   0.0267532 0.364760 0.525424004 0.435484  7.14  0.00152994\n",
       "5  9     87   0.0106232 0.518219 0.476563007 0.442623  8.22  0.00086018\n",
       "6 11     87   0.0146067 0.524664 0.068376102 0.500000 13.00  0.00288203\n",
       "  density   taxpc    ⋯ wtuc     wtrd     wfir     wser     wmfg   wfed   wsta  \n",
       "1 2.4226327 30.99368 ⋯ 408.7245 221.2701 453.1722 274.1775 334.54 477.58 292.09\n",
       "2 1.0463320 26.89208 ⋯ 376.2542 196.0101 258.5650 192.3077 300.38 409.83 362.96\n",
       "3 0.4127659 34.81605 ⋯ 372.2084 229.3209 305.9441 209.6972 237.65 358.98 331.53\n",
       "4 0.4915572 42.94759 ⋯ 397.6901 191.1720 281.0651 256.7214 281.80 412.15 328.27\n",
       "5 0.5469484 28.05474 ⋯ 377.3126 206.8215 289.3125 215.1933 290.89 377.35 367.23\n",
       "6 0.6113361 35.22974 ⋯ 401.3378 187.8255 258.5650 237.1507 258.60 391.48 325.71\n",
       "  wloc   mix        pctymle   \n",
       "1 311.91 0.08016878 0.07787097\n",
       "2 301.47 0.03022670 0.08260694\n",
       "3 281.37 0.46511629 0.07211538\n",
       "4 299.03 0.27362204 0.07353726\n",
       "5 342.82 0.06008584 0.07069755\n",
       "6 275.22 0.31952664 0.09891920"
      ]
     },
     "metadata": {},
     "output_type": "display_data"
    }
   ],
   "source": [
    "head(dfCrime)"
   ]
  },
  {
   "cell_type": "code",
   "execution_count": 5,
   "metadata": {},
   "outputs": [
    {
     "data": {
      "text/html": [
       "<table>\n",
       "<thead><tr><th></th><th scope=col>county</th><th scope=col>year</th><th scope=col>crmrte</th><th scope=col>prbarr</th><th scope=col>prbconv</th><th scope=col>prbpris</th><th scope=col>avgsen</th><th scope=col>polpc</th><th scope=col>density</th><th scope=col>taxpc</th><th scope=col>⋯</th><th scope=col>wtuc</th><th scope=col>wtrd</th><th scope=col>wfir</th><th scope=col>wser</th><th scope=col>wmfg</th><th scope=col>wfed</th><th scope=col>wsta</th><th scope=col>wloc</th><th scope=col>mix</th><th scope=col>pctymle</th></tr></thead>\n",
       "<tbody>\n",
       "\t<tr><th scope=row>92</th><td>NA</td><td>NA</td><td>NA</td><td>NA</td><td>  </td><td>NA</td><td>NA</td><td>NA</td><td>NA</td><td>NA</td><td>⋯ </td><td>NA</td><td>NA</td><td>NA</td><td>NA</td><td>NA</td><td>NA</td><td>NA</td><td>NA</td><td>NA</td><td>NA</td></tr>\n",
       "\t<tr><th scope=row>93</th><td>NA</td><td>NA</td><td>NA</td><td>NA</td><td>  </td><td>NA</td><td>NA</td><td>NA</td><td>NA</td><td>NA</td><td>⋯ </td><td>NA</td><td>NA</td><td>NA</td><td>NA</td><td>NA</td><td>NA</td><td>NA</td><td>NA</td><td>NA</td><td>NA</td></tr>\n",
       "\t<tr><th scope=row>94</th><td>NA</td><td>NA</td><td>NA</td><td>NA</td><td>  </td><td>NA</td><td>NA</td><td>NA</td><td>NA</td><td>NA</td><td>⋯ </td><td>NA</td><td>NA</td><td>NA</td><td>NA</td><td>NA</td><td>NA</td><td>NA</td><td>NA</td><td>NA</td><td>NA</td></tr>\n",
       "\t<tr><th scope=row>95</th><td>NA</td><td>NA</td><td>NA</td><td>NA</td><td>  </td><td>NA</td><td>NA</td><td>NA</td><td>NA</td><td>NA</td><td>⋯ </td><td>NA</td><td>NA</td><td>NA</td><td>NA</td><td>NA</td><td>NA</td><td>NA</td><td>NA</td><td>NA</td><td>NA</td></tr>\n",
       "\t<tr><th scope=row>96</th><td>NA</td><td>NA</td><td>NA</td><td>NA</td><td>  </td><td>NA</td><td>NA</td><td>NA</td><td>NA</td><td>NA</td><td>⋯ </td><td>NA</td><td>NA</td><td>NA</td><td>NA</td><td>NA</td><td>NA</td><td>NA</td><td>NA</td><td>NA</td><td>NA</td></tr>\n",
       "\t<tr><th scope=row>97</th><td>NA</td><td>NA</td><td>NA</td><td>NA</td><td>` </td><td>NA</td><td>NA</td><td>NA</td><td>NA</td><td>NA</td><td>⋯ </td><td>NA</td><td>NA</td><td>NA</td><td>NA</td><td>NA</td><td>NA</td><td>NA</td><td>NA</td><td>NA</td><td>NA</td></tr>\n",
       "</tbody>\n",
       "</table>\n"
      ],
      "text/latex": [
       "\\begin{tabular}{r|lllllllllllllllllllllllll}\n",
       "  & county & year & crmrte & prbarr & prbconv & prbpris & avgsen & polpc & density & taxpc & ⋯ & wtuc & wtrd & wfir & wser & wmfg & wfed & wsta & wloc & mix & pctymle\\\\\n",
       "\\hline\n",
       "\t92 & NA & NA & NA & NA &    & NA & NA & NA & NA & NA & ⋯  & NA & NA & NA & NA & NA & NA & NA & NA & NA & NA\\\\\n",
       "\t93 & NA & NA & NA & NA &    & NA & NA & NA & NA & NA & ⋯  & NA & NA & NA & NA & NA & NA & NA & NA & NA & NA\\\\\n",
       "\t94 & NA & NA & NA & NA &    & NA & NA & NA & NA & NA & ⋯  & NA & NA & NA & NA & NA & NA & NA & NA & NA & NA\\\\\n",
       "\t95 & NA & NA & NA & NA &    & NA & NA & NA & NA & NA & ⋯  & NA & NA & NA & NA & NA & NA & NA & NA & NA & NA\\\\\n",
       "\t96 & NA & NA & NA & NA &    & NA & NA & NA & NA & NA & ⋯  & NA & NA & NA & NA & NA & NA & NA & NA & NA & NA\\\\\n",
       "\t97 & NA & NA & NA & NA & `  & NA & NA & NA & NA & NA & ⋯  & NA & NA & NA & NA & NA & NA & NA & NA & NA & NA\\\\\n",
       "\\end{tabular}\n"
      ],
      "text/markdown": [
       "\n",
       "| <!--/--> | county | year | crmrte | prbarr | prbconv | prbpris | avgsen | polpc | density | taxpc | ⋯ | wtuc | wtrd | wfir | wser | wmfg | wfed | wsta | wloc | mix | pctymle | \n",
       "|---|---|---|---|---|---|\n",
       "| 92 | NA | NA | NA | NA |    | NA | NA | NA | NA | NA | ⋯  | NA | NA | NA | NA | NA | NA | NA | NA | NA | NA | \n",
       "| 93 | NA | NA | NA | NA |    | NA | NA | NA | NA | NA | ⋯  | NA | NA | NA | NA | NA | NA | NA | NA | NA | NA | \n",
       "| 94 | NA | NA | NA | NA |    | NA | NA | NA | NA | NA | ⋯  | NA | NA | NA | NA | NA | NA | NA | NA | NA | NA | \n",
       "| 95 | NA | NA | NA | NA |    | NA | NA | NA | NA | NA | ⋯  | NA | NA | NA | NA | NA | NA | NA | NA | NA | NA | \n",
       "| 96 | NA | NA | NA | NA |    | NA | NA | NA | NA | NA | ⋯  | NA | NA | NA | NA | NA | NA | NA | NA | NA | NA | \n",
       "| 97 | NA | NA | NA | NA | `  | NA | NA | NA | NA | NA | ⋯  | NA | NA | NA | NA | NA | NA | NA | NA | NA | NA | \n",
       "\n",
       "\n"
      ],
      "text/plain": [
       "   county year crmrte prbarr prbconv prbpris avgsen polpc density taxpc ⋯ wtuc\n",
       "92 NA     NA   NA     NA             NA      NA     NA    NA      NA    ⋯ NA  \n",
       "93 NA     NA   NA     NA             NA      NA     NA    NA      NA    ⋯ NA  \n",
       "94 NA     NA   NA     NA             NA      NA     NA    NA      NA    ⋯ NA  \n",
       "95 NA     NA   NA     NA             NA      NA     NA    NA      NA    ⋯ NA  \n",
       "96 NA     NA   NA     NA             NA      NA     NA    NA      NA    ⋯ NA  \n",
       "97 NA     NA   NA     NA     `       NA      NA     NA    NA      NA    ⋯ NA  \n",
       "   wtrd wfir wser wmfg wfed wsta wloc mix pctymle\n",
       "92 NA   NA   NA   NA   NA   NA   NA   NA  NA     \n",
       "93 NA   NA   NA   NA   NA   NA   NA   NA  NA     \n",
       "94 NA   NA   NA   NA   NA   NA   NA   NA  NA     \n",
       "95 NA   NA   NA   NA   NA   NA   NA   NA  NA     \n",
       "96 NA   NA   NA   NA   NA   NA   NA   NA  NA     \n",
       "97 NA   NA   NA   NA   NA   NA   NA   NA  NA     "
      ]
     },
     "metadata": {},
     "output_type": "display_data"
    }
   ],
   "source": [
    "tail(dfCrime)"
   ]
  },
  {
   "cell_type": "code",
   "execution_count": 6,
   "metadata": {},
   "outputs": [
    {
     "data": {
      "text/plain": [
       "     county           year        crmrte             prbarr       \n",
       " Min.   :  1.0   Min.   :87   Min.   :0.005533   Min.   :0.09277  \n",
       " 1st Qu.: 52.0   1st Qu.:87   1st Qu.:0.020927   1st Qu.:0.20568  \n",
       " Median :105.0   Median :87   Median :0.029986   Median :0.27095  \n",
       " Mean   :101.6   Mean   :87   Mean   :0.033400   Mean   :0.29492  \n",
       " 3rd Qu.:152.0   3rd Qu.:87   3rd Qu.:0.039642   3rd Qu.:0.34438  \n",
       " Max.   :197.0   Max.   :87   Max.   :0.098966   Max.   :1.09091  \n",
       " NA's   :6       NA's   :6    NA's   :6          NA's   :6        \n",
       "        prbconv      prbpris           avgsen           polpc         \n",
       "            : 5   Min.   :0.1500   Min.   : 5.380   Min.   :0.000746  \n",
       " 0.588859022: 2   1st Qu.:0.3648   1st Qu.: 7.340   1st Qu.:0.001231  \n",
       " `          : 1   Median :0.4234   Median : 9.100   Median :0.001485  \n",
       " 0.068376102: 1   Mean   :0.4108   Mean   : 9.647   Mean   :0.001702  \n",
       " 0.140350997: 1   3rd Qu.:0.4568   3rd Qu.:11.420   3rd Qu.:0.001877  \n",
       " 0.154451996: 1   Max.   :0.6000   Max.   :20.700   Max.   :0.009054  \n",
       " (Other)    :86   NA's   :6        NA's   :6        NA's   :6         \n",
       "    density            taxpc             west           central      \n",
       " Min.   :0.00002   Min.   : 25.69   Min.   :0.0000   Min.   :0.0000  \n",
       " 1st Qu.:0.54741   1st Qu.: 30.66   1st Qu.:0.0000   1st Qu.:0.0000  \n",
       " Median :0.96226   Median : 34.87   Median :0.0000   Median :0.0000  \n",
       " Mean   :1.42884   Mean   : 38.06   Mean   :0.2527   Mean   :0.3736  \n",
       " 3rd Qu.:1.56824   3rd Qu.: 40.95   3rd Qu.:0.5000   3rd Qu.:1.0000  \n",
       " Max.   :8.82765   Max.   :119.76   Max.   :1.0000   Max.   :1.0000  \n",
       " NA's   :6         NA's   :6        NA's   :6        NA's   :6       \n",
       "     urban            pctmin80           wcon            wtuc      \n",
       " Min.   :0.00000   Min.   : 1.284   Min.   :193.6   Min.   :187.6  \n",
       " 1st Qu.:0.00000   1st Qu.: 9.845   1st Qu.:250.8   1st Qu.:374.6  \n",
       " Median :0.00000   Median :24.312   Median :281.4   Median :406.5  \n",
       " Mean   :0.08791   Mean   :25.495   Mean   :285.4   Mean   :411.7  \n",
       " 3rd Qu.:0.00000   3rd Qu.:38.142   3rd Qu.:314.8   3rd Qu.:443.4  \n",
       " Max.   :1.00000   Max.   :64.348   Max.   :436.8   Max.   :613.2  \n",
       " NA's   :6         NA's   :6        NA's   :6       NA's   :6      \n",
       "      wtrd            wfir            wser             wmfg      \n",
       " Min.   :154.2   Min.   :170.9   Min.   : 133.0   Min.   :157.4  \n",
       " 1st Qu.:190.9   1st Qu.:286.5   1st Qu.: 229.7   1st Qu.:288.9  \n",
       " Median :203.0   Median :317.3   Median : 253.2   Median :320.2  \n",
       " Mean   :211.6   Mean   :322.1   Mean   : 275.6   Mean   :335.6  \n",
       " 3rd Qu.:225.1   3rd Qu.:345.4   3rd Qu.: 280.5   3rd Qu.:359.6  \n",
       " Max.   :354.7   Max.   :509.5   Max.   :2177.1   Max.   :646.9  \n",
       " NA's   :6       NA's   :6       NA's   :6        NA's   :6      \n",
       "      wfed            wsta            wloc            mix         \n",
       " Min.   :326.1   Min.   :258.3   Min.   :239.2   Min.   :0.01961  \n",
       " 1st Qu.:400.2   1st Qu.:329.3   1st Qu.:297.3   1st Qu.:0.08074  \n",
       " Median :449.8   Median :357.7   Median :308.1   Median :0.10186  \n",
       " Mean   :442.9   Mean   :357.5   Mean   :312.7   Mean   :0.12884  \n",
       " 3rd Qu.:478.0   3rd Qu.:382.6   3rd Qu.:329.2   3rd Qu.:0.15175  \n",
       " Max.   :598.0   Max.   :499.6   Max.   :388.1   Max.   :0.46512  \n",
       " NA's   :6       NA's   :6       NA's   :6       NA's   :6        \n",
       "    pctymle       \n",
       " Min.   :0.06216  \n",
       " 1st Qu.:0.07443  \n",
       " Median :0.07771  \n",
       " Mean   :0.08396  \n",
       " 3rd Qu.:0.08350  \n",
       " Max.   :0.24871  \n",
       " NA's   :6        "
      ]
     },
     "metadata": {},
     "output_type": "display_data"
    }
   ],
   "source": [
    "summary(dfCrime)"
   ]
  },
  {
   "cell_type": "markdown",
   "metadata": {},
   "source": [
    "First, we note there are missing rows in the dataset that were imported. We'll remove those rows now."
   ]
  },
  {
   "cell_type": "code",
   "execution_count": 7,
   "metadata": {},
   "outputs": [
    {
     "data": {
      "text/html": [
       "97"
      ],
      "text/latex": [
       "97"
      ],
      "text/markdown": [
       "97"
      ],
      "text/plain": [
       "[1] 97"
      ]
     },
     "metadata": {},
     "output_type": "display_data"
    },
    {
     "data": {
      "text/html": [
       "91"
      ],
      "text/latex": [
       "91"
      ],
      "text/markdown": [
       "91"
      ],
      "text/plain": [
       "[1] 91"
      ]
     },
     "metadata": {},
     "output_type": "display_data"
    }
   ],
   "source": [
    "nrow(dfCrime)\n",
    "dfCrime <-na.omit(dfCrime) # omit the NA rows\n",
    "nrow(dfCrime)"
   ]
  },
  {
   "cell_type": "markdown",
   "metadata": {},
   "source": [
    "Next, we will inspect the data to see if there are duplicate records"
   ]
  },
  {
   "cell_type": "code",
   "execution_count": 8,
   "metadata": {},
   "outputs": [
    {
     "data": {
      "text/html": [
       "<table>\n",
       "<thead><tr><th></th><th scope=col>county</th><th scope=col>year</th><th scope=col>crmrte</th><th scope=col>prbarr</th><th scope=col>prbconv</th><th scope=col>prbpris</th><th scope=col>avgsen</th><th scope=col>polpc</th><th scope=col>density</th><th scope=col>taxpc</th><th scope=col>⋯</th><th scope=col>wtuc</th><th scope=col>wtrd</th><th scope=col>wfir</th><th scope=col>wser</th><th scope=col>wmfg</th><th scope=col>wfed</th><th scope=col>wsta</th><th scope=col>wloc</th><th scope=col>mix</th><th scope=col>pctymle</th></tr></thead>\n",
       "<tbody>\n",
       "\t<tr><th scope=row>89</th><td>193        </td><td>87         </td><td>0.0235277  </td><td>0.266055   </td><td>0.588859022</td><td>0.423423   </td><td>5.86       </td><td>0.00117887 </td><td>0.8138298  </td><td>28.51783   </td><td>⋯          </td><td>480.1948   </td><td>268.3836   </td><td>365.0196   </td><td>295.9352   </td><td>295.63     </td><td>468.26     </td><td>337.88     </td><td>348.74     </td><td>0.1105016  </td><td>0.07819394 </td></tr>\n",
       "</tbody>\n",
       "</table>\n"
      ],
      "text/latex": [
       "\\begin{tabular}{r|lllllllllllllllllllllllll}\n",
       "  & county & year & crmrte & prbarr & prbconv & prbpris & avgsen & polpc & density & taxpc & ⋯ & wtuc & wtrd & wfir & wser & wmfg & wfed & wsta & wloc & mix & pctymle\\\\\n",
       "\\hline\n",
       "\t89 & 193         & 87          & 0.0235277   & 0.266055    & 0.588859022 & 0.423423    & 5.86        & 0.00117887  & 0.8138298   & 28.51783    & ⋯           & 480.1948    & 268.3836    & 365.0196    & 295.9352    & 295.63      & 468.26      & 337.88      & 348.74      & 0.1105016   & 0.07819394 \\\\\n",
       "\\end{tabular}\n"
      ],
      "text/markdown": [
       "\n",
       "| <!--/--> | county | year | crmrte | prbarr | prbconv | prbpris | avgsen | polpc | density | taxpc | ⋯ | wtuc | wtrd | wfir | wser | wmfg | wfed | wsta | wloc | mix | pctymle | \n",
       "|---|\n",
       "| 89 | 193         | 87          | 0.0235277   | 0.266055    | 0.588859022 | 0.423423    | 5.86        | 0.00117887  | 0.8138298   | 28.51783    | ⋯           | 480.1948    | 268.3836    | 365.0196    | 295.9352    | 295.63      | 468.26      | 337.88      | 348.74      | 0.1105016   | 0.07819394  | \n",
       "\n",
       "\n"
      ],
      "text/plain": [
       "   county year crmrte    prbarr   prbconv     prbpris  avgsen polpc     \n",
       "89 193    87   0.0235277 0.266055 0.588859022 0.423423 5.86   0.00117887\n",
       "   density   taxpc    ⋯ wtuc     wtrd     wfir     wser     wmfg   wfed  \n",
       "89 0.8138298 28.51783 ⋯ 480.1948 268.3836 365.0196 295.9352 295.63 468.26\n",
       "   wsta   wloc   mix       pctymle   \n",
       "89 337.88 348.74 0.1105016 0.07819394"
      ]
     },
     "metadata": {},
     "output_type": "display_data"
    }
   ],
   "source": [
    "dfCrime[duplicated(dfCrime),]"
   ]
  },
  {
   "cell_type": "markdown",
   "metadata": {},
   "source": [
    "A duplicate row exists. We'll remove it."
   ]
  },
  {
   "cell_type": "code",
   "execution_count": 9,
   "metadata": {},
   "outputs": [
    {
     "data": {
      "text/html": [
       "90"
      ],
      "text/latex": [
       "90"
      ],
      "text/markdown": [
       "90"
      ],
      "text/plain": [
       "[1] 90"
      ]
     },
     "metadata": {},
     "output_type": "display_data"
    }
   ],
   "source": [
    "dfCrime <- dfCrime[!duplicated(dfCrime),] # remove the duplicated row\n",
    "nrow(dfCrime)"
   ]
  },
  {
   "cell_type": "markdown",
   "metadata": {},
   "source": [
    "We also saw that pbconv was coded as a level. It is not a level but a ratio. We'll change that now."
   ]
  },
  {
   "cell_type": "code",
   "execution_count": 10,
   "metadata": {},
   "outputs": [
    {
     "name": "stderr",
     "output_type": "stream",
     "text": [
      "Warning message in eval(expr, envir, enclos):\n",
      "“NAs introduced by coercion”"
     ]
    }
   ],
   "source": [
    "dfCrime$prbconv<-as.numeric(levels(dfCrime$prbconv))[dfCrime$prbconv]"
   ]
  },
  {
   "cell_type": "markdown",
   "metadata": {},
   "source": [
    "We also notice by comparision of pctymle and pctmin80 one of the variables is off by a factor of 100. We will divide pctmin80 by 100 so the two variables are in the same unit terms."
   ]
  },
  {
   "cell_type": "code",
   "execution_count": 11,
   "metadata": {},
   "outputs": [],
   "source": [
    "dfCrime$pctmin80<-dfCrime$pctmin80/100"
   ]
  },
  {
   "cell_type": "markdown",
   "metadata": {},
   "source": [
    "County was expressed as a number. However, it is a categorical variable and we will convert it to a factor instead."
   ]
  },
  {
   "cell_type": "code",
   "execution_count": 12,
   "metadata": {},
   "outputs": [],
   "source": [
    "dfCrime$county<-as.factor(dfCrime$county)"
   ]
  },
  {
   "cell_type": "markdown",
   "metadata": {},
   "source": [
    "Next we inspect the indicator variables to see if they were coded correctly."
   ]
  },
  {
   "cell_type": "code",
   "execution_count": 13,
   "metadata": {},
   "outputs": [
    {
     "name": "stderr",
     "output_type": "stream",
     "text": [
      "Warning message:\n",
      "“The `printer` argument is deprecated as of rlang 0.3.0.\n",
      "This warning is displayed once per session.”"
     ]
    },
    {
     "data": {
      "text/html": [
       "<table>\n",
       "<thead><tr><th scope=col>west</th><th scope=col>central</th><th scope=col>n</th></tr></thead>\n",
       "<tbody>\n",
       "\t<tr><td>0 </td><td>0 </td><td>35</td></tr>\n",
       "\t<tr><td>0 </td><td>1 </td><td>33</td></tr>\n",
       "\t<tr><td>1 </td><td>0 </td><td>21</td></tr>\n",
       "\t<tr><td>1 </td><td>1 </td><td> 1</td></tr>\n",
       "</tbody>\n",
       "</table>\n"
      ],
      "text/latex": [
       "\\begin{tabular}{r|lll}\n",
       " west & central & n\\\\\n",
       "\\hline\n",
       "\t 0  & 0  & 35\\\\\n",
       "\t 0  & 1  & 33\\\\\n",
       "\t 1  & 0  & 21\\\\\n",
       "\t 1  & 1  &  1\\\\\n",
       "\\end{tabular}\n"
      ],
      "text/markdown": [
       "\n",
       "west | central | n | \n",
       "|---|---|---|---|\n",
       "| 0  | 0  | 35 | \n",
       "| 0  | 1  | 33 | \n",
       "| 1  | 0  | 21 | \n",
       "| 1  | 1  |  1 | \n",
       "\n",
       "\n"
      ],
      "text/plain": [
       "  west central n \n",
       "1 0    0       35\n",
       "2 0    1       33\n",
       "3 1    0       21\n",
       "4 1    1        1"
      ]
     },
     "metadata": {},
     "output_type": "display_data"
    }
   ],
   "source": [
    "dfCrime %>% group_by(west, central) %>% tally()"
   ]
  },
  {
   "cell_type": "markdown",
   "metadata": {},
   "source": [
    "One county was either mis-coded, or it truly belongs to both regions. However, this is very unlikely as the intended technique is to widen the data and introduce indicator variables for each category. It is not likley the data was captured for both categories.\n",
    "\n",
    "We will need further analysis on this datapoint as it relates to the rest of the data.\n",
    "\n",
    "For now, we will encode a new region variable and place the datapoint in its own category. "
   ]
  },
  {
   "cell_type": "code",
   "execution_count": 14,
   "metadata": {},
   "outputs": [],
   "source": [
    "#Map central and west to a region code, and create a new category for other\n",
    "# Note that county 71 has both western and central codes\n",
    "dfCrime$region <- case_when (\n",
    "            (dfCrime$central ==0 & dfCrime$west ==0) ~ 0, #Eastern, Coastal, Other\n",
    "            (dfCrime$central ==0 & dfCrime$west ==1) ~ 1, #Western\n",
    "            (dfCrime$central ==1 & dfCrime$west ==0) ~ 2, #Central\n",
    "            (dfCrime$central ==1 & dfCrime$west ==1) ~ 3, #Central-Western border county - this could be Charlotte or it could be a coding error.\n",
    "        )"
   ]
  },
  {
   "cell_type": "markdown",
   "metadata": {},
   "source": [
    "By way of the 1980 Census fact sheet, we discover the urban field is an encoding for SMSA (Standard Metropolitan Statistical Areas). https://www2.census.gov/prod2/decennial/documents/1980/1980censusofpopu8011uns_bw.pdf\n",
    "The value is one if the county is inside a metropolitan area. Otherwise, if the county is outisde a metropolitan area, the value is zero.\n",
    "We create a metro factor variable to better describe this feature."
   ]
  },
  {
   "cell_type": "code",
   "execution_count": 15,
   "metadata": {},
   "outputs": [],
   "source": [
    "# create factor for SMSA (standard metropolitan statistical areas) with two levels - inside or outside\n",
    "#    https://www2.census.gov/prod2/decennial/documents/1980/1980censusofpopu8011uns_bw.pdf\n",
    "dfCrime$metro =\n",
    "            factor( dfCrime$urban , levels = 0:1 , labels =\n",
    "                    c( 'Outside',\n",
    "                       'Inside'\n",
    "                      )\n",
    "                   )"
   ]
  },
  {
   "cell_type": "markdown",
   "metadata": {},
   "source": [
    "Next we will visualize each variable and its relationship to the variable crmrte through scatter plots"
   ]
  },
  {
   "cell_type": "code",
   "execution_count": null,
   "metadata": {},
   "outputs": [],
   "source": [
    "#Plot of the economic and tax related variables vs crmrte\n",
    "q1<-ggplot(data = dfCrime, aes(x = wcon, y = crmrte, color = region)) + \n",
    "      geom_point()\n",
    "q2<-ggplot(data = dfCrime, aes(x = wtuc, y = crmrte, color = region)) + \n",
    "      geom_point()\n",
    "q3<-ggplot(data = dfCrime, aes(x = wtrd, y = crmrte, color = region)) + \n",
    "      geom_point()\n",
    "q4<-ggplot(data = dfCrime, aes(x = wfir, y = crmrte, color = region)) + \n",
    "      geom_point()\n",
    "q5<-ggplot(data = dfCrime, aes(x = wser, y = crmrte, color = region)) + \n",
    "      geom_point()\n",
    "q6<-ggplot(data = dfCrime, aes(x = wmfg, y = crmrte, color = region)) + \n",
    "      geom_point()\n",
    "q7<-ggplot(data = dfCrime, aes(x = wfed, y = crmrte, color = region)) + \n",
    "      geom_point()\n",
    "q8<-ggplot(data = dfCrime, aes(x = wsta, y = crmrte, color = region)) + \n",
    "      geom_point()\n",
    "q9<-ggplot(data = dfCrime, aes(x = wloc, y = crmrte, color = region)) + \n",
    "      geom_point()\n",
    "q10<-ggplot(data = dfCrime, aes(x = taxpc, y = crmrte, color = region)) + \n",
    "      geom_point()\n",
    "grid.arrange(q1, q2, q3, q4, q5, q6, q7, q8, q9, q10, ncol=2)"
   ]
  },
  {
   "cell_type": "markdown",
   "metadata": {},
   "source": [
    "We observe a few data points of interest in the comparison above, notably, wser and taxpc appear to have extreme data points\n",
    "\n",
    "Other variables show outliers as well, but not as extreme. We will see if any of these points have leverage or influence."
   ]
  },
  {
   "cell_type": "code",
   "execution_count": null,
   "metadata": {},
   "outputs": [],
   "source": [
    "dfCrime %>%\n",
    "filter(wser > 2000)"
   ]
  },
  {
   "cell_type": "markdown",
   "metadata": {},
   "source": [
    "This average service wage for 1987 is much too high compared to what we know about the 1980s and every other wage recorded in comparison. We will adjust this wage by replacing it with the average from the sample population."
   ]
  },
  {
   "cell_type": "code",
   "execution_count": null,
   "metadata": {},
   "outputs": [],
   "source": [
    "dfCrime$wser[which(dfCrime$county==185)]<- mean(dfCrime$wser)\n",
    "dfCrime$wser[which(dfCrime$county==185)]"
   ]
  },
  {
   "cell_type": "code",
   "execution_count": null,
   "metadata": {},
   "outputs": [],
   "source": [
    "#Plot of the criminal justice and law enforcment related variables vs crmrte\n",
    "q1<-ggplot(data = dfCrime, aes(x = prbarr, y = crmrte, color = region)) + \n",
    "      geom_point()\n",
    "q2<-ggplot(data = dfCrime, aes(x = prbconv, y = crmrte, color = region)) + \n",
    "      geom_point()\n",
    "q3<-ggplot(data = dfCrime, aes(x = prbpris, y = crmrte, color = region)) + \n",
    "      geom_point()\n",
    "q4<-ggplot(data = dfCrime, aes(x = avgsen, y = crmrte, color = region)) + \n",
    "      geom_point()\n",
    "q5<-ggplot(data = dfCrime, aes(x = polpc, y = crmrte, color = region)) + \n",
    "      geom_point()\n",
    "q6<-ggplot(data = dfCrime, aes(x = mix, y = crmrte, color = region)) + \n",
    "      geom_point()\n",
    "\n",
    "grid.arrange(q1, q2, q3, q4, q5, q6, ncol=2)"
   ]
  },
  {
   "cell_type": "markdown",
   "metadata": {},
   "source": [
    "The criminal justice and law enforcement variables also show evidence of possible outliers, notably, pbarr and polpc appear to have extreme data points\n",
    "\n",
    "We also see that prbarr and prbconv have values greater than 1. However, these are not true probabity numbers and are instead ratios used as a stand in for the true probability numbers.\n",
    "\n",
    "There is a possibility of higher arrests per incident for an area. Meaning, the area has low incidents in general but when there were incidents there were also multiple arrests. The same case can be made for the convictions per arrest variable which we see is for a different region. In that county there may have been multiple charges brought per one arrest.\n"
   ]
  },
  {
   "cell_type": "code",
   "execution_count": null,
   "metadata": {},
   "outputs": [],
   "source": [
    "#plot of demographic information for counties Outside and Inside the metro areas\n",
    "# population density, percent minority, percent young male\n",
    "\n",
    "q1<-ggplot(data = dfCrime, aes(x = density, y = crmrte, color = region)) + \n",
    "      geom_point() + facet_wrap(~ metro)\n",
    "q2<-ggplot(data = dfCrime, aes(x = pctmin80, y = crmrte, color = region)) + \n",
    "      geom_point() + facet_wrap(~ metro)\n",
    "q3<-ggplot(data = dfCrime, aes(x = pctymle, y = crmrte, color = region)) + \n",
    "      geom_point()+ facet_wrap(~ metro)\n",
    "\n",
    "grid.arrange(q1, q2, q3, ncol=1)"
   ]
  },
  {
   "cell_type": "markdown",
   "metadata": {},
   "source": [
    "Notably more outliers are observed in demographic information. Here, pctymle in one county outside of a metro area is nearly 25%. That seems quite high in normal statistical measures of the population. It is likely an outlier. \n",
    "\n",
    "Finally, we can see our bright blue region 3 county and notice its population density. Its behavior is more similar to an inside metro area. Than outside. In addition to be coded for both western and central regions, it appears to be miscoded here as well.\n",
    "\n",
    "There is likely a data transcription error where a column was not enterered correctly and it continued on to the next column where the region variables are encoded. We will put this information in our back pocket."
   ]
  },
  {
   "cell_type": "markdown",
   "metadata": {},
   "source": [
    "Next, we will create histograms for each variable"
   ]
  },
  {
   "cell_type": "code",
   "execution_count": null,
   "metadata": {
    "scrolled": true
   },
   "outputs": [],
   "source": [
    "dfEconVars <- as.data.frame(cbind(dfCrime$wcon, dfCrime$wtuc, dfCrime$wtrd, dfCrime$wfir, dfCrime$wser, dfCrime$wmfg, dfCrime$wfed, dfCrime$wsta, dfCrime$wloc))\n",
    "names(dfEconVars) <- c('wcon', 'wtuc', 'wtrd', 'wfir', 'wser', \n",
    "                              'wmfg', 'wfed', 'wsta', 'wloc')\n",
    "\n",
    "ggplot(melt(dfEconVars),aes(x=value)) + geom_histogram(bins=30) + facet_wrap(~variable)"
   ]
  },
  {
   "cell_type": "markdown",
   "metadata": {},
   "source": [
    "Each histogram for the wage information looks  evenly distributed. We have no further remark at this time. We move to the justice an law enforcement variables. With these variables being mostly < 1 we'll also take the log for comparison."
   ]
  },
  {
   "cell_type": "code",
   "execution_count": null,
   "metadata": {},
   "outputs": [],
   "source": [
    "q1<-ggplot(data = dfCrime, aes(x = prbarr)) + \n",
    "      geom_histogram(bins=30)\n",
    "q11<-ggplot(data = dfCrime, aes(x = log10(prbarr))) + \n",
    "      geom_histogram(bins=30) \n",
    "            \n",
    "q2<-ggplot(data = dfCrime, aes(x = prbconv)) + \n",
    "      geom_histogram(bins=30)\n",
    "q21<-ggplot(data = dfCrime, aes(x = log10(prbconv))) + \n",
    "      geom_histogram(bins=30)\n",
    "\n",
    "q3<-ggplot(data = dfCrime, aes(x = prbpris)) + \n",
    "      geom_histogram(bins=30)\n",
    "q31<-ggplot(data = dfCrime, aes(x = log10(prbpris))) + \n",
    "      geom_histogram(bins=30)\n",
    "\n",
    "q4<-ggplot(data = dfCrime, aes(x = avgsen)) + \n",
    "      geom_histogram(bins=30)\n",
    "q41<-ggplot(data = dfCrime, aes(x = log10(avgsen))) + \n",
    "      geom_histogram(bins=30)\n",
    "\n",
    "q5<-ggplot(data = dfCrime, aes(x = polpc)) + \n",
    "      geom_histogram(bins=30)\n",
    "q51<-ggplot(data = dfCrime, aes(x = log10(polpc))) + \n",
    "      geom_histogram(bins=30)\n",
    "\n",
    "q6<-ggplot(data = dfCrime, aes(x = mix)) + \n",
    "      geom_histogram(bins=30)\n",
    "q61<-ggplot(data = dfCrime, aes(x = log10(mix))) + \n",
    "      geom_histogram(bins=30)\n",
    "\n",
    "\n",
    "grid.arrange(q1, q11, q2, q21, q3, q31, q4, q41, q5, q51, q6, q61, ncol=2)"
   ]
  },
  {
   "cell_type": "markdown",
   "metadata": {},
   "source": [
    "The log transformation for these variables makes them more evenly distributed. We will convert these of variables to their log10 equivalents for our models."
   ]
  },
  {
   "cell_type": "code",
   "execution_count": null,
   "metadata": {},
   "outputs": [],
   "source": [
    "dfCrime$logprbarr = log10(dfCrime$prbarr)\n",
    "dfCrime$logprbconv = log10(dfCrime$prbconv)\n",
    "dfCrime$logprbpris <- log10(dfCrime$prbpris)\n",
    "dfCrime$logavgsen <- log10(dfCrime$avgsen)\n",
    "dfCrime$logpolpc <-log10(dfCrime$polpc)\n",
    "dfCrime$logmix <- log10(dfCrime$mix)"
   ]
  },
  {
   "cell_type": "markdown",
   "metadata": {},
   "source": [
    "Next we take a look at the demographic histograms and their log alternatives"
   ]
  },
  {
   "cell_type": "code",
   "execution_count": null,
   "metadata": {},
   "outputs": [],
   "source": [
    "q1<-ggplot(data = dfCrime, aes(x = pctymle)) + \n",
    "      geom_histogram(bins=30)\n",
    "q11<-ggplot(data = dfCrime, aes(x = log10(pctymle))) + \n",
    "      geom_histogram(bins=30) \n",
    "            \n",
    "q2<-ggplot(data = dfCrime, aes(x = pctmin80)) + \n",
    "      geom_histogram(bins=30)\n",
    "q21<-ggplot(data = dfCrime, aes(x = log10(pctmin80))) + \n",
    "      geom_histogram(bins=30)\n",
    "\n",
    "q3<-ggplot(data = dfCrime, aes(x = density)) + \n",
    "      geom_histogram(bins=30)\n",
    "q31<-ggplot(data = dfCrime, aes(x = log10(density))) + \n",
    "      geom_histogram(bins=30)\n",
    "\n",
    "\n",
    "grid.arrange(q1, q11, q2, q21, q3, q31, ncol=2)"
   ]
  },
  {
   "cell_type": "markdown",
   "metadata": {},
   "source": [
    "The shape after transformation do not appear to make the data more distributed. We'll leave these variables as they are for now.\n",
    "\n",
    "Finally, we'll take a look at taxpc and the crmrte variable itself."
   ]
  },
  {
   "cell_type": "code",
   "execution_count": null,
   "metadata": {},
   "outputs": [],
   "source": [
    "q1<-ggplot(data = dfCrime, aes(x = taxpc)) + \n",
    "      geom_histogram(bins=30)\n",
    "q11<-ggplot(data = dfCrime, aes(x = log10(taxpc))) + \n",
    "      geom_histogram(bins=30) \n",
    "            \n",
    "q2<-ggplot(data = dfCrime, aes(x = crmrte)) + \n",
    "      geom_histogram(bins=30)\n",
    "q21<-ggplot(data = dfCrime, aes(x = log10(crmrte))) + \n",
    "      geom_histogram(bins=30)\n",
    "\n",
    "grid.arrange(q1, q11, q2, q21, ncol=2)"
   ]
  },
  {
   "cell_type": "markdown",
   "metadata": {},
   "source": [
    "The crmrte variable is more evenly distributed after transformation. We'll add that to our dataframe."
   ]
  },
  {
   "cell_type": "code",
   "execution_count": null,
   "metadata": {},
   "outputs": [],
   "source": [
    "dfCrime$logcrmrte = log10(dfCrime$crmrte)"
   ]
  },
  {
   "cell_type": "markdown",
   "metadata": {},
   "source": [
    "As a final point of discussion we will identify additional variables  we wish to operationalize for use in our models. The include a variable that expresses the economic condition of the county and a variable that expresses criminal justice effectiveness.\n",
    "\n",
    "The first variable on the economic condition will include the sum of all average weekly wages  from the 1980 census information. Since we do not know how many were employed at that wage we use this summary the best available proxy."
   ]
  },
  {
   "cell_type": "code",
   "execution_count": null,
   "metadata": {},
   "outputs": [],
   "source": [
    "dfCrime$allWages<-dfCrime$wcon + dfCrime$wtuc + dfCrime$wtrd + dfCrime$wfir +\n",
    "    dfCrime$wser + dfCrime$wmfg + dfCrime$wfed + dfCrime$wsta + dfCrime$wloc"
   ]
  },
  {
   "cell_type": "markdown",
   "metadata": {},
   "source": [
    "As a second variable, we are interested in understanding the effectiveness of the criminal justice system as a crime deterrent. Our proxy will be the number of convictions per incident.\n",
    "\n",
    "This is operationalized by taking the probability of arrests, pbrarr (which is defined as arrests per incident) and multiplying by the probability of convictions, pbrconv (which is defined as convictions per arrest). The new variable is defined below."
   ]
  },
  {
   "cell_type": "code",
   "execution_count": null,
   "metadata": {},
   "outputs": [],
   "source": [
    "dfCrime$crimJustEff<-dfCrime$prbarr * dfCrime$prbconv"
   ]
  },
  {
   "cell_type": "markdown",
   "metadata": {},
   "source": [
    "We will also create a logarithmic transformation of this variable based on our histogram analysis from before."
   ]
  },
  {
   "cell_type": "code",
   "execution_count": null,
   "metadata": {},
   "outputs": [],
   "source": [
    "dfCrime$logcrimJustEff<-log10(dfCrime$crimJustEff)"
   ]
  },
  {
   "cell_type": "code",
   "execution_count": null,
   "metadata": {},
   "outputs": [],
   "source": [
    "#In case we want these later...\n",
    "#dfCrime$logpctymle <- log10(dfCrime$pctymle)\n",
    "#dfCrime$logdensity <- log10(dfCrime$density)\n",
    "#dfCrime$logtaxpc <- log10(dfCrime$taxpc)\n",
    "#dfCrime$logpctmin80 <- log10(dfCrime$pctmin80)"
   ]
  },
  {
   "cell_type": "markdown",
   "metadata": {},
   "source": [
    "## Summary and Results"
   ]
  },
  {
   "cell_type": "markdown",
   "metadata": {},
   "source": [
    "Our outcome variable is the *crime rate* (“crmrte”), which is defined as the crimes committed per person in a specific county during 1987. The crime rate of the 90 counties in our sample dataset range between 0.0055 - 0.0990, with a mean of 0.0335.\n",
    "\n",
    "From the boxplot below, most of the counties have a crime rate between 0.0055 and 0.0700, with 5 outliers having a crime rate > 0.0700."
   ]
  },
  {
   "cell_type": "code",
   "execution_count": null,
   "metadata": {},
   "outputs": [],
   "source": [
    "options(repr.plot.width=4, repr.plot.height=4)\n",
    "ggplot(data = dfCrime, aes(y = crmrte)) + \n",
    "      geom_boxplot()"
   ]
  },
  {
   "cell_type": "markdown",
   "metadata": {},
   "source": [
    "We propose 3 multiple linear regression models\n",
    "\n",
    "* First Model: Has only the explanatory variables of key interest and no other covariates.\n",
    "\n",
    "* Second Model: Includes the explanatory variables and covariates that increase the accuracy of our results without substantial bias.\n",
    "\n",
    "* Third Model: An expansion of the second model with most covariates, designed to demonstrate the robustness of our results to model specification.\n",
    "\n",
    "As we proceed with each model, we verify the CLM assumptions of OLS are addressed below:\n",
    "* **MLR1** Linear in parameters: The model has had its data transformed as described above to allow a linear fit of the model.\n",
    "* **MLR2** Random Sampling: The data is collected from a data set with rolled up data for each county.  It is not randomly sampled by area or population.\n",
    "* **MLR3** No perfect multicollinearity: None of the variables chosen for the model are constant or perfectly collinear as the economy and criminal justice effectiveness are independent.\n",
    "* **MLR4'** The expectation of u and and covariance of each regressor with u are ~0.  This shows that our model’s regressors are exogenous with the error.\n",
    "\n",
    "By satisfying these assumptions, we can expect  our coefficients will be approaching the true parameter values in probability."
   ]
  },
  {
   "cell_type": "markdown",
   "metadata": {},
   "source": [
    "## Model 1 \n",
    "Our base hypothesis is that crime can be fundamentally explained by two factors: the effectiveness of the criminal justice system and the economic conditions.\n",
    "\n",
    "Criminal Justice Effectiveness is self defined : To be able to track crimes, they must be reported to police, who can then make arrests and the legal system provides judgement (convictions/sentencing)\n",
    "Relationship as a deterrent: Probability of getting caught, convicted, sentenced could potentially deter crime.\n",
    "\n",
    "We operationalize criminal justice effectiveness as follows: probability of Convictions * \n",
    "Crimes committed. We define as: prbconv * prbarr = conv/arrest * arrest/crime = convictions/crime. Ideally we could use\n",
    "\n",
    "Policy recommendations here would be to increase efficiency of CJ system.\n",
    "\n"
   ]
  },
  {
   "cell_type": "code",
   "execution_count": null,
   "metadata": {},
   "outputs": [],
   "source": [
    "hist((dfCrime$prbconv))\n",
    "hist((dfCrime$prbarr))"
   ]
  },
  {
   "cell_type": "markdown",
   "metadata": {},
   "source": [
    "The distribution of both probability of conviction and probability of arrest are peculiar and non-normal.  It could be argued that both of these variables should be bound between 0 and 1.  However, \"probability\" of conviction is proxied by a ratio of convictions to arrests.  It is in fact common that defendents are charged with multiple crimes and convicted, but were only arrested once. \n",
    "\n",
    "For \"probability\" of arrest, it could be possible there are multiple arrests for a single offense. However, the single data point that is greater than one, is >3 standard deviations away from the distribution.  This outlier will have high leverage on our model and will be preemptively removed as the data supplied is likely in error and is not representative of the bulk of North Carolina counties. \n",
    "\n",
    "For parsimony, we can simply the probability of arrest and probability of conviction by multiplying to effectively get the ratio of convictions to offenses.  The normality of this factor can be improved by taking a log transform. QQ plots help to visualize how normality improves for the inner quartiles.  "
   ]
  },
  {
   "cell_type": "code",
   "execution_count": null,
   "metadata": {},
   "outputs": [],
   "source": [
    "dfCrime$crimjusteff <- dfCrime$prbconv * dfCrime$prbarr\n",
    "(dfCrime[51,]$prbarr - mean(dfCrime$prbarr))/sd(dfCrime$prbarr) # how many standard deviations away the outlier lies\n",
    "#hist(log(dfCrime$crimjusteff))\n",
    "ggplot(data=dfCrime, aes(sample= crimjusteff)) + stat_qq() + stat_qq_line() + ggtitle(\"QQ Plot of Crim Just Eff\")"
   ]
  },
  {
   "cell_type": "code",
   "execution_count": null,
   "metadata": {},
   "outputs": [],
   "source": [
    "dfCrime <- dfCrime[dfCrime$crimjusteff < 1,] # removing high flying outlier\n",
    "ggplot(data=dfCrime, aes(sample= crimjusteff)) + stat_qq() + stat_qq_line() + ggtitle(\"QQ Plot of Crim Just Eff\")"
   ]
  },
  {
   "cell_type": "code",
   "execution_count": null,
   "metadata": {},
   "outputs": [],
   "source": [
    "ggplot(data=dfCrime, aes(sample= log(crimjusteff))) + stat_qq() + stat_qq_line() + \n",
    "ggtitle(\"QQ Plot of log transformed Crim Just Eff\")\n",
    "## Can show histogram/qqplot side by side in RMD. "
   ]
  },
  {
   "cell_type": "markdown",
   "metadata": {},
   "source": [
    "We theorize that the second major cause of crime are bad economic conditions.  When there are worse economic conditions, crime can be more attractive due to:\n",
    "\n",
    "* Lack of means: People forced into crimes because they need to make ends meet\n",
    "* Lack of occupation: People commit crimes because they are not busy at work\n",
    "* Lack of opportunity: High discount rate for future due to no long-term opportunity, incentive to take the risk and commit crimes hoping for big payoff. \n",
    "* Note: I think socio demographics here are not causes but outcomes of some combination of the above. We discuss demographics in model 2\n",
    "\n",
    "We operationalize economic conditions by looking at wages. For this model, we define this as [sum of all average wages in each county]. We think this is best proxy from our data because it answers all of the above (higher wages leads to better means and better opportunities). From our EDA we also confirm that in general these sums are not skewed by having 1 really high paying sector in each county as we see a strong relationship between avg quartile across all job types and total sum (insert francis’ chart).  \n",
    "\n"
   ]
  },
  {
   "cell_type": "code",
   "execution_count": null,
   "metadata": {},
   "outputs": [],
   "source": [
    "dfCrime$allWages <- dfCrime$wcon + dfCrime$wtuc + dfCrime$wtrd + dfCrime$wfir + dfCrime$wser + \n",
    "dfCrime$wmfg + dfCrime$wfed + dfCrime$wsta + dfCrime$wloc\n",
    "hist(dfCrime$allWages)\n",
    "ggplot(data=dfCrime, aes(sample= allWages)) + stat_qq() + stat_qq_line() + ggtitle(\"QQ Plot of sum of wages\")"
   ]
  },
  {
   "cell_type": "code",
   "execution_count": null,
   "metadata": {},
   "outputs": [],
   "source": [
    "mod1 <- lm(log(dfCrime$crmrte) ~ dfCrime$allWages + log(dfCrime$crimjusteff))\n",
    "(mod1)\n",
    "summary(mod1)$adj.r.square\n",
    "## will be details on effect size and standard error as we cover this in class."
   ]
  },
  {
   "cell_type": "code",
   "execution_count": null,
   "metadata": {},
   "outputs": [],
   "source": [
    "plot(mod1, which=5)"
   ]
  },
  {
   "cell_type": "code",
   "execution_count": null,
   "metadata": {},
   "outputs": [],
   "source": [
    "plot(mod1, which=2)"
   ]
  },
  {
   "cell_type": "code",
   "execution_count": null,
   "metadata": {},
   "outputs": [],
   "source": [
    "plot(mod1, which=3)"
   ]
  },
  {
   "cell_type": "code",
   "execution_count": null,
   "metadata": {},
   "outputs": [],
   "source": [
    "plot(mod1, which=1)"
   ]
  },
  {
   "cell_type": "markdown",
   "metadata": {},
   "source": [
    "The model shows a moderate good fit, with an adjusted R square of 0.46.  This can be interpreted as, the model explains 46% of the variation in crime.  Next the model is plotted in a Residuals vs Leverage plot.  This plot shows that all the points have a cook's distance of less than 0.5.  There are no points that have enough leverage and residual than when deleted greatly alter the model coefficients. \n",
    "\n",
    "The root of standardized residuals all fall within about 1.6.  This is very good, as we can expect 95% of the points to fall within 3 standardized residuals of each other. ($\\sqrt(3) \\approx 1.73$)\n",
    "\n",
    "Finally, the residuals vs fitted plot shows a well centered and mostly nromal distribution about 0.  There are no major trends or variation changes across the fitted values.  This suggests that major uncorrelated variables have not been left out of the model.  We will discuss the possible ommited variable biases further, in the next sections."
   ]
  },
  {
   "cell_type": "markdown",
   "metadata": {},
   "source": [
    "The CLM assumptions of OLS are addressed below:\n",
    "* **MLR1** Linear in paramters: The model has had its data transformed as described above to allow a linear fit of the model.\n",
    "* **MLR2** Random Sampling: The data is collected from a data set with rolled up data for each county.  It is not randomly sampled by area or population. \n",
    "* **MLR3** No perfect multicollinearity: None of the variables chosen for the model are constant or perfectly collinear as the economy and criminal justice effectiveness are independent.\n",
    "* **MLR4'** The expectation of u and and covariance of each regressor with u are ~0.  This shows that our model's regressors are exogenous with the error.  \n",
    "\n",
    "By satisfying these assumptions, we can expect that our coefficients are approaching the true parameter values in probability. \n",
    "\n",
    "##MLR 5,6 to be discussed in week 13...?"
   ]
  },
  {
   "cell_type": "code",
   "execution_count": null,
   "metadata": {},
   "outputs": [],
   "source": [
    "cov(resid(mod1), dfCrime$allWages)\n",
    "cov(resid(mod1), log(dfCrime$crimjusteff))\n",
    "mean(resid(mod1))"
   ]
  },
  {
   "cell_type": "code",
   "execution_count": null,
   "metadata": {},
   "outputs": [],
   "source": []
  }
 ],
 "metadata": {
  "kernelspec": {
   "display_name": "R",
   "language": "R",
   "name": "ir"
  },
  "language_info": {
   "codemirror_mode": "r",
   "file_extension": ".r",
   "mimetype": "text/x-r-source",
   "name": "R",
   "pygments_lexer": "r",
   "version": "3.5.1"
  }
 },
 "nbformat": 4,
 "nbformat_minor": 2
}
