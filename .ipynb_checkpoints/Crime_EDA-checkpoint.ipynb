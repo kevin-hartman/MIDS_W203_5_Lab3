{
 "cells": [
  {
   "cell_type": "markdown",
   "metadata": {},
   "source": [
    "# Crime EDA\n",
    "\n",
    "## Primary question\n",
    "\n",
    "Our primary question that will drive our data exploration, posed from the Mayor of Charlotte, North Carolina who is up for re-election in two years. She wants measureable (and visible) results so she can begin to campaign on her accomplishments next year.\n",
    "\n",
    "What policy measures can be undertaken that will reduce crime rate crime the most?\n",
    "\n",
    "Secondary questions: Are crime rates higher or lower in Charlotte that in other counties? What counties have the highest levels of crime? Which have the lowest?\n",
    "\n",
    "## Variables\n",
    "\n",
    "The crime_v2 dataset provided by (political organization) for this study includes 25 variables of interest..\n",
    "\n",
    "These variables include..\n",
    "\n",
    "<center>Data Dictionary</center>\n",
    "\n",
    "Category | Variable\n",
    "---------- | -------------------------------\n",
    "Crime Rate | crmrte\n",
    "Local Revenue  | taxpc\n",
    "Geographic | county, west, central\n",
    "Demographic | urban, density, pctmin80, pctymle\n",
    "Economic | wcon, wtuc, wtrd, wfir, wser, wmfg, wfed, wsta, wloc\n",
    "Encounters with Police | polpc, prbarr, prbconv, mix\n",
    "Judicial/Conviction | prbpris, avgsen\n",
    "Time Period | year\n",
    "\n",
    "<center>Table 1: Data Dictionary</center>\n",
    "\n",
    "## Data Prep"
   ]
  },
  {
   "cell_type": "code",
   "execution_count": 2,
   "metadata": {},
   "outputs": [],
   "source": [
    "library(dplyr)\n",
    "library(ggplot2)"
   ]
  },
  {
   "cell_type": "code",
   "execution_count": 3,
   "metadata": {},
   "outputs": [],
   "source": [
    "dfCrime = read.csv(\"crime_v2.csv\")"
   ]
  },
  {
   "cell_type": "code",
   "execution_count": 5,
   "metadata": {},
   "outputs": [
    {
     "name": "stdout",
     "output_type": "stream",
     "text": [
      "'data.frame':\t97 obs. of  25 variables:\n",
      " $ county  : int  1 3 5 7 9 11 13 15 17 19 ...\n",
      " $ year    : int  87 87 87 87 87 87 87 87 87 87 ...\n",
      " $ crmrte  : num  0.0356 0.0153 0.013 0.0268 0.0106 ...\n",
      " $ prbarr  : num  0.298 0.132 0.444 0.365 0.518 ...\n",
      " $ prbconv : Factor w/ 92 levels \"\",\"`\",\"0.068376102\",..: 63 89 13 62 52 3 59 78 42 86 ...\n",
      " $ prbpris : num  0.436 0.45 0.6 0.435 0.443 ...\n",
      " $ avgsen  : num  6.71 6.35 6.76 7.14 8.22 ...\n",
      " $ polpc   : num  0.001828 0.000746 0.001234 0.00153 0.00086 ...\n",
      " $ density : num  2.423 1.046 0.413 0.492 0.547 ...\n",
      " $ taxpc   : num  31 26.9 34.8 42.9 28.1 ...\n",
      " $ west    : int  0 0 1 0 1 1 0 0 0 0 ...\n",
      " $ central : int  1 1 0 1 0 0 0 0 0 0 ...\n",
      " $ urban   : int  0 0 0 0 0 0 0 0 0 0 ...\n",
      " $ pctmin80: num  20.22 7.92 3.16 47.92 1.8 ...\n",
      " $ wcon    : num  281 255 227 375 292 ...\n",
      " $ wtuc    : num  409 376 372 398 377 ...\n",
      " $ wtrd    : num  221 196 229 191 207 ...\n",
      " $ wfir    : num  453 259 306 281 289 ...\n",
      " $ wser    : num  274 192 210 257 215 ...\n",
      " $ wmfg    : num  335 300 238 282 291 ...\n",
      " $ wfed    : num  478 410 359 412 377 ...\n",
      " $ wsta    : num  292 363 332 328 367 ...\n",
      " $ wloc    : num  312 301 281 299 343 ...\n",
      " $ mix     : num  0.0802 0.0302 0.4651 0.2736 0.0601 ...\n",
      " $ pctymle : num  0.0779 0.0826 0.0721 0.0735 0.0707 ...\n"
     ]
    }
   ],
   "source": [
    "str(dfCrime)"
   ]
  },
  {
   "cell_type": "code",
   "execution_count": 6,
   "metadata": {},
   "outputs": [
    {
     "data": {
      "text/html": [
       "<table>\n",
       "<thead><tr><th scope=col>county</th><th scope=col>year</th><th scope=col>crmrte</th><th scope=col>prbarr</th><th scope=col>prbconv</th><th scope=col>prbpris</th><th scope=col>avgsen</th><th scope=col>polpc</th><th scope=col>density</th><th scope=col>taxpc</th><th scope=col>⋯</th><th scope=col>wtuc</th><th scope=col>wtrd</th><th scope=col>wfir</th><th scope=col>wser</th><th scope=col>wmfg</th><th scope=col>wfed</th><th scope=col>wsta</th><th scope=col>wloc</th><th scope=col>mix</th><th scope=col>pctymle</th></tr></thead>\n",
       "<tbody>\n",
       "\t<tr><td> 1         </td><td>87         </td><td>0.0356036  </td><td>0.298270   </td><td>0.527595997</td><td>0.436170   </td><td> 6.71      </td><td>0.00182786 </td><td>2.4226327  </td><td>30.99368   </td><td>⋯          </td><td>408.7245   </td><td>221.2701   </td><td>453.1722   </td><td>274.1775   </td><td>334.54     </td><td>477.58     </td><td>292.09     </td><td>311.91     </td><td>0.08016878 </td><td>0.07787097 </td></tr>\n",
       "\t<tr><td> 3         </td><td>87         </td><td>0.0152532  </td><td>0.132029   </td><td>1.481480002</td><td>0.450000   </td><td> 6.35      </td><td>0.00074588 </td><td>1.0463320  </td><td>26.89208   </td><td>⋯          </td><td>376.2542   </td><td>196.0101   </td><td>258.5650   </td><td>192.3077   </td><td>300.38     </td><td>409.83     </td><td>362.96     </td><td>301.47     </td><td>0.03022670 </td><td>0.08260694 </td></tr>\n",
       "\t<tr><td> 5         </td><td>87         </td><td>0.0129603  </td><td>0.444444   </td><td>0.267856985</td><td>0.600000   </td><td> 6.76      </td><td>0.00123431 </td><td>0.4127659  </td><td>34.81605   </td><td>⋯          </td><td>372.2084   </td><td>229.3209   </td><td>305.9441   </td><td>209.6972   </td><td>237.65     </td><td>358.98     </td><td>331.53     </td><td>281.37     </td><td>0.46511629 </td><td>0.07211538 </td></tr>\n",
       "\t<tr><td> 7         </td><td>87         </td><td>0.0267532  </td><td>0.364760   </td><td>0.525424004</td><td>0.435484   </td><td> 7.14      </td><td>0.00152994 </td><td>0.4915572  </td><td>42.94759   </td><td>⋯          </td><td>397.6901   </td><td>191.1720   </td><td>281.0651   </td><td>256.7214   </td><td>281.80     </td><td>412.15     </td><td>328.27     </td><td>299.03     </td><td>0.27362204 </td><td>0.07353726 </td></tr>\n",
       "\t<tr><td> 9         </td><td>87         </td><td>0.0106232  </td><td>0.518219   </td><td>0.476563007</td><td>0.442623   </td><td> 8.22      </td><td>0.00086018 </td><td>0.5469484  </td><td>28.05474   </td><td>⋯          </td><td>377.3126   </td><td>206.8215   </td><td>289.3125   </td><td>215.1933   </td><td>290.89     </td><td>377.35     </td><td>367.23     </td><td>342.82     </td><td>0.06008584 </td><td>0.07069755 </td></tr>\n",
       "\t<tr><td>11         </td><td>87         </td><td>0.0146067  </td><td>0.524664   </td><td>0.068376102</td><td>0.500000   </td><td>13.00      </td><td>0.00288203 </td><td>0.6113361  </td><td>35.22974   </td><td>⋯          </td><td>401.3378   </td><td>187.8255   </td><td>258.5650   </td><td>237.1507   </td><td>258.60     </td><td>391.48     </td><td>325.71     </td><td>275.22     </td><td>0.31952664 </td><td>0.09891920 </td></tr>\n",
       "</tbody>\n",
       "</table>\n"
      ],
      "text/latex": [
       "\\begin{tabular}{r|lllllllllllllllllllllllll}\n",
       " county & year & crmrte & prbarr & prbconv & prbpris & avgsen & polpc & density & taxpc & ⋯ & wtuc & wtrd & wfir & wser & wmfg & wfed & wsta & wloc & mix & pctymle\\\\\n",
       "\\hline\n",
       "\t  1          & 87          & 0.0356036   & 0.298270    & 0.527595997 & 0.436170    &  6.71       & 0.00182786  & 2.4226327   & 30.99368    & ⋯           & 408.7245    & 221.2701    & 453.1722    & 274.1775    & 334.54      & 477.58      & 292.09      & 311.91      & 0.08016878  & 0.07787097 \\\\\n",
       "\t  3          & 87          & 0.0152532   & 0.132029    & 1.481480002 & 0.450000    &  6.35       & 0.00074588  & 1.0463320   & 26.89208    & ⋯           & 376.2542    & 196.0101    & 258.5650    & 192.3077    & 300.38      & 409.83      & 362.96      & 301.47      & 0.03022670  & 0.08260694 \\\\\n",
       "\t  5          & 87          & 0.0129603   & 0.444444    & 0.267856985 & 0.600000    &  6.76       & 0.00123431  & 0.4127659   & 34.81605    & ⋯           & 372.2084    & 229.3209    & 305.9441    & 209.6972    & 237.65      & 358.98      & 331.53      & 281.37      & 0.46511629  & 0.07211538 \\\\\n",
       "\t  7          & 87          & 0.0267532   & 0.364760    & 0.525424004 & 0.435484    &  7.14       & 0.00152994  & 0.4915572   & 42.94759    & ⋯           & 397.6901    & 191.1720    & 281.0651    & 256.7214    & 281.80      & 412.15      & 328.27      & 299.03      & 0.27362204  & 0.07353726 \\\\\n",
       "\t  9          & 87          & 0.0106232   & 0.518219    & 0.476563007 & 0.442623    &  8.22       & 0.00086018  & 0.5469484   & 28.05474    & ⋯           & 377.3126    & 206.8215    & 289.3125    & 215.1933    & 290.89      & 377.35      & 367.23      & 342.82      & 0.06008584  & 0.07069755 \\\\\n",
       "\t 11          & 87          & 0.0146067   & 0.524664    & 0.068376102 & 0.500000    & 13.00       & 0.00288203  & 0.6113361   & 35.22974    & ⋯           & 401.3378    & 187.8255    & 258.5650    & 237.1507    & 258.60      & 391.48      & 325.71      & 275.22      & 0.31952664  & 0.09891920 \\\\\n",
       "\\end{tabular}\n"
      ],
      "text/markdown": [
       "\n",
       "county | year | crmrte | prbarr | prbconv | prbpris | avgsen | polpc | density | taxpc | ⋯ | wtuc | wtrd | wfir | wser | wmfg | wfed | wsta | wloc | mix | pctymle | \n",
       "|---|---|---|---|---|---|\n",
       "|  1          | 87          | 0.0356036   | 0.298270    | 0.527595997 | 0.436170    |  6.71       | 0.00182786  | 2.4226327   | 30.99368    | ⋯           | 408.7245    | 221.2701    | 453.1722    | 274.1775    | 334.54      | 477.58      | 292.09      | 311.91      | 0.08016878  | 0.07787097  | \n",
       "|  3          | 87          | 0.0152532   | 0.132029    | 1.481480002 | 0.450000    |  6.35       | 0.00074588  | 1.0463320   | 26.89208    | ⋯           | 376.2542    | 196.0101    | 258.5650    | 192.3077    | 300.38      | 409.83      | 362.96      | 301.47      | 0.03022670  | 0.08260694  | \n",
       "|  5          | 87          | 0.0129603   | 0.444444    | 0.267856985 | 0.600000    |  6.76       | 0.00123431  | 0.4127659   | 34.81605    | ⋯           | 372.2084    | 229.3209    | 305.9441    | 209.6972    | 237.65      | 358.98      | 331.53      | 281.37      | 0.46511629  | 0.07211538  | \n",
       "|  7          | 87          | 0.0267532   | 0.364760    | 0.525424004 | 0.435484    |  7.14       | 0.00152994  | 0.4915572   | 42.94759    | ⋯           | 397.6901    | 191.1720    | 281.0651    | 256.7214    | 281.80      | 412.15      | 328.27      | 299.03      | 0.27362204  | 0.07353726  | \n",
       "|  9          | 87          | 0.0106232   | 0.518219    | 0.476563007 | 0.442623    |  8.22       | 0.00086018  | 0.5469484   | 28.05474    | ⋯           | 377.3126    | 206.8215    | 289.3125    | 215.1933    | 290.89      | 377.35      | 367.23      | 342.82      | 0.06008584  | 0.07069755  | \n",
       "| 11          | 87          | 0.0146067   | 0.524664    | 0.068376102 | 0.500000    | 13.00       | 0.00288203  | 0.6113361   | 35.22974    | ⋯           | 401.3378    | 187.8255    | 258.5650    | 237.1507    | 258.60      | 391.48      | 325.71      | 275.22      | 0.31952664  | 0.09891920  | \n",
       "\n",
       "\n"
      ],
      "text/plain": [
       "  county year crmrte    prbarr   prbconv     prbpris  avgsen polpc     \n",
       "1  1     87   0.0356036 0.298270 0.527595997 0.436170  6.71  0.00182786\n",
       "2  3     87   0.0152532 0.132029 1.481480002 0.450000  6.35  0.00074588\n",
       "3  5     87   0.0129603 0.444444 0.267856985 0.600000  6.76  0.00123431\n",
       "4  7     87   0.0267532 0.364760 0.525424004 0.435484  7.14  0.00152994\n",
       "5  9     87   0.0106232 0.518219 0.476563007 0.442623  8.22  0.00086018\n",
       "6 11     87   0.0146067 0.524664 0.068376102 0.500000 13.00  0.00288203\n",
       "  density   taxpc    ⋯ wtuc     wtrd     wfir     wser     wmfg   wfed   wsta  \n",
       "1 2.4226327 30.99368 ⋯ 408.7245 221.2701 453.1722 274.1775 334.54 477.58 292.09\n",
       "2 1.0463320 26.89208 ⋯ 376.2542 196.0101 258.5650 192.3077 300.38 409.83 362.96\n",
       "3 0.4127659 34.81605 ⋯ 372.2084 229.3209 305.9441 209.6972 237.65 358.98 331.53\n",
       "4 0.4915572 42.94759 ⋯ 397.6901 191.1720 281.0651 256.7214 281.80 412.15 328.27\n",
       "5 0.5469484 28.05474 ⋯ 377.3126 206.8215 289.3125 215.1933 290.89 377.35 367.23\n",
       "6 0.6113361 35.22974 ⋯ 401.3378 187.8255 258.5650 237.1507 258.60 391.48 325.71\n",
       "  wloc   mix        pctymle   \n",
       "1 311.91 0.08016878 0.07787097\n",
       "2 301.47 0.03022670 0.08260694\n",
       "3 281.37 0.46511629 0.07211538\n",
       "4 299.03 0.27362204 0.07353726\n",
       "5 342.82 0.06008584 0.07069755\n",
       "6 275.22 0.31952664 0.09891920"
      ]
     },
     "metadata": {},
     "output_type": "display_data"
    }
   ],
   "source": [
    "head(dfCrime)"
   ]
  },
  {
   "cell_type": "code",
   "execution_count": 7,
   "metadata": {},
   "outputs": [
    {
     "data": {
      "text/html": [
       "<table>\n",
       "<thead><tr><th></th><th scope=col>county</th><th scope=col>year</th><th scope=col>crmrte</th><th scope=col>prbarr</th><th scope=col>prbconv</th><th scope=col>prbpris</th><th scope=col>avgsen</th><th scope=col>polpc</th><th scope=col>density</th><th scope=col>taxpc</th><th scope=col>⋯</th><th scope=col>wtuc</th><th scope=col>wtrd</th><th scope=col>wfir</th><th scope=col>wser</th><th scope=col>wmfg</th><th scope=col>wfed</th><th scope=col>wsta</th><th scope=col>wloc</th><th scope=col>mix</th><th scope=col>pctymle</th></tr></thead>\n",
       "<tbody>\n",
       "\t<tr><th scope=row>92</th><td>NA</td><td>NA</td><td>NA</td><td>NA</td><td>  </td><td>NA</td><td>NA</td><td>NA</td><td>NA</td><td>NA</td><td>⋯ </td><td>NA</td><td>NA</td><td>NA</td><td>NA</td><td>NA</td><td>NA</td><td>NA</td><td>NA</td><td>NA</td><td>NA</td></tr>\n",
       "\t<tr><th scope=row>93</th><td>NA</td><td>NA</td><td>NA</td><td>NA</td><td>  </td><td>NA</td><td>NA</td><td>NA</td><td>NA</td><td>NA</td><td>⋯ </td><td>NA</td><td>NA</td><td>NA</td><td>NA</td><td>NA</td><td>NA</td><td>NA</td><td>NA</td><td>NA</td><td>NA</td></tr>\n",
       "\t<tr><th scope=row>94</th><td>NA</td><td>NA</td><td>NA</td><td>NA</td><td>  </td><td>NA</td><td>NA</td><td>NA</td><td>NA</td><td>NA</td><td>⋯ </td><td>NA</td><td>NA</td><td>NA</td><td>NA</td><td>NA</td><td>NA</td><td>NA</td><td>NA</td><td>NA</td><td>NA</td></tr>\n",
       "\t<tr><th scope=row>95</th><td>NA</td><td>NA</td><td>NA</td><td>NA</td><td>  </td><td>NA</td><td>NA</td><td>NA</td><td>NA</td><td>NA</td><td>⋯ </td><td>NA</td><td>NA</td><td>NA</td><td>NA</td><td>NA</td><td>NA</td><td>NA</td><td>NA</td><td>NA</td><td>NA</td></tr>\n",
       "\t<tr><th scope=row>96</th><td>NA</td><td>NA</td><td>NA</td><td>NA</td><td>  </td><td>NA</td><td>NA</td><td>NA</td><td>NA</td><td>NA</td><td>⋯ </td><td>NA</td><td>NA</td><td>NA</td><td>NA</td><td>NA</td><td>NA</td><td>NA</td><td>NA</td><td>NA</td><td>NA</td></tr>\n",
       "\t<tr><th scope=row>97</th><td>NA</td><td>NA</td><td>NA</td><td>NA</td><td>` </td><td>NA</td><td>NA</td><td>NA</td><td>NA</td><td>NA</td><td>⋯ </td><td>NA</td><td>NA</td><td>NA</td><td>NA</td><td>NA</td><td>NA</td><td>NA</td><td>NA</td><td>NA</td><td>NA</td></tr>\n",
       "</tbody>\n",
       "</table>\n"
      ],
      "text/latex": [
       "\\begin{tabular}{r|lllllllllllllllllllllllll}\n",
       "  & county & year & crmrte & prbarr & prbconv & prbpris & avgsen & polpc & density & taxpc & ⋯ & wtuc & wtrd & wfir & wser & wmfg & wfed & wsta & wloc & mix & pctymle\\\\\n",
       "\\hline\n",
       "\t92 & NA & NA & NA & NA &    & NA & NA & NA & NA & NA & ⋯  & NA & NA & NA & NA & NA & NA & NA & NA & NA & NA\\\\\n",
       "\t93 & NA & NA & NA & NA &    & NA & NA & NA & NA & NA & ⋯  & NA & NA & NA & NA & NA & NA & NA & NA & NA & NA\\\\\n",
       "\t94 & NA & NA & NA & NA &    & NA & NA & NA & NA & NA & ⋯  & NA & NA & NA & NA & NA & NA & NA & NA & NA & NA\\\\\n",
       "\t95 & NA & NA & NA & NA &    & NA & NA & NA & NA & NA & ⋯  & NA & NA & NA & NA & NA & NA & NA & NA & NA & NA\\\\\n",
       "\t96 & NA & NA & NA & NA &    & NA & NA & NA & NA & NA & ⋯  & NA & NA & NA & NA & NA & NA & NA & NA & NA & NA\\\\\n",
       "\t97 & NA & NA & NA & NA & `  & NA & NA & NA & NA & NA & ⋯  & NA & NA & NA & NA & NA & NA & NA & NA & NA & NA\\\\\n",
       "\\end{tabular}\n"
      ],
      "text/markdown": [
       "\n",
       "| <!--/--> | county | year | crmrte | prbarr | prbconv | prbpris | avgsen | polpc | density | taxpc | ⋯ | wtuc | wtrd | wfir | wser | wmfg | wfed | wsta | wloc | mix | pctymle | \n",
       "|---|---|---|---|---|---|\n",
       "| 92 | NA | NA | NA | NA |    | NA | NA | NA | NA | NA | ⋯  | NA | NA | NA | NA | NA | NA | NA | NA | NA | NA | \n",
       "| 93 | NA | NA | NA | NA |    | NA | NA | NA | NA | NA | ⋯  | NA | NA | NA | NA | NA | NA | NA | NA | NA | NA | \n",
       "| 94 | NA | NA | NA | NA |    | NA | NA | NA | NA | NA | ⋯  | NA | NA | NA | NA | NA | NA | NA | NA | NA | NA | \n",
       "| 95 | NA | NA | NA | NA |    | NA | NA | NA | NA | NA | ⋯  | NA | NA | NA | NA | NA | NA | NA | NA | NA | NA | \n",
       "| 96 | NA | NA | NA | NA |    | NA | NA | NA | NA | NA | ⋯  | NA | NA | NA | NA | NA | NA | NA | NA | NA | NA | \n",
       "| 97 | NA | NA | NA | NA | `  | NA | NA | NA | NA | NA | ⋯  | NA | NA | NA | NA | NA | NA | NA | NA | NA | NA | \n",
       "\n",
       "\n"
      ],
      "text/plain": [
       "   county year crmrte prbarr prbconv prbpris avgsen polpc density taxpc ⋯ wtuc\n",
       "92 NA     NA   NA     NA             NA      NA     NA    NA      NA    ⋯ NA  \n",
       "93 NA     NA   NA     NA             NA      NA     NA    NA      NA    ⋯ NA  \n",
       "94 NA     NA   NA     NA             NA      NA     NA    NA      NA    ⋯ NA  \n",
       "95 NA     NA   NA     NA             NA      NA     NA    NA      NA    ⋯ NA  \n",
       "96 NA     NA   NA     NA             NA      NA     NA    NA      NA    ⋯ NA  \n",
       "97 NA     NA   NA     NA     `       NA      NA     NA    NA      NA    ⋯ NA  \n",
       "   wtrd wfir wser wmfg wfed wsta wloc mix pctymle\n",
       "92 NA   NA   NA   NA   NA   NA   NA   NA  NA     \n",
       "93 NA   NA   NA   NA   NA   NA   NA   NA  NA     \n",
       "94 NA   NA   NA   NA   NA   NA   NA   NA  NA     \n",
       "95 NA   NA   NA   NA   NA   NA   NA   NA  NA     \n",
       "96 NA   NA   NA   NA   NA   NA   NA   NA  NA     \n",
       "97 NA   NA   NA   NA   NA   NA   NA   NA  NA     "
      ]
     },
     "metadata": {},
     "output_type": "display_data"
    }
   ],
   "source": [
    "tail(dfCrime)"
   ]
  },
  {
   "cell_type": "code",
   "execution_count": 10,
   "metadata": {},
   "outputs": [
    {
     "data": {
      "text/plain": [
       "     county           year        crmrte             prbarr       \n",
       " Min.   :  1.0   Min.   :87   Min.   :0.005533   Min.   :0.09277  \n",
       " 1st Qu.: 52.0   1st Qu.:87   1st Qu.:0.020927   1st Qu.:0.20568  \n",
       " Median :105.0   Median :87   Median :0.029986   Median :0.27095  \n",
       " Mean   :101.6   Mean   :87   Mean   :0.033400   Mean   :0.29492  \n",
       " 3rd Qu.:152.0   3rd Qu.:87   3rd Qu.:0.039642   3rd Qu.:0.34438  \n",
       " Max.   :197.0   Max.   :87   Max.   :0.098966   Max.   :1.09091  \n",
       " NA's   :6       NA's   :6    NA's   :6          NA's   :6        \n",
       "        prbconv      prbpris           avgsen           polpc         \n",
       "            : 5   Min.   :0.1500   Min.   : 5.380   Min.   :0.000746  \n",
       " 0.588859022: 2   1st Qu.:0.3648   1st Qu.: 7.340   1st Qu.:0.001231  \n",
       " `          : 1   Median :0.4234   Median : 9.100   Median :0.001485  \n",
       " 0.068376102: 1   Mean   :0.4108   Mean   : 9.647   Mean   :0.001702  \n",
       " 0.140350997: 1   3rd Qu.:0.4568   3rd Qu.:11.420   3rd Qu.:0.001877  \n",
       " 0.154451996: 1   Max.   :0.6000   Max.   :20.700   Max.   :0.009054  \n",
       " (Other)    :86   NA's   :6        NA's   :6        NA's   :6         \n",
       "    density            taxpc             west           central      \n",
       " Min.   :0.00002   Min.   : 25.69   Min.   :0.0000   Min.   :0.0000  \n",
       " 1st Qu.:0.54741   1st Qu.: 30.66   1st Qu.:0.0000   1st Qu.:0.0000  \n",
       " Median :0.96226   Median : 34.87   Median :0.0000   Median :0.0000  \n",
       " Mean   :1.42884   Mean   : 38.06   Mean   :0.2527   Mean   :0.3736  \n",
       " 3rd Qu.:1.56824   3rd Qu.: 40.95   3rd Qu.:0.5000   3rd Qu.:1.0000  \n",
       " Max.   :8.82765   Max.   :119.76   Max.   :1.0000   Max.   :1.0000  \n",
       " NA's   :6         NA's   :6        NA's   :6        NA's   :6       \n",
       "     urban            pctmin80           wcon            wtuc      \n",
       " Min.   :0.00000   Min.   : 1.284   Min.   :193.6   Min.   :187.6  \n",
       " 1st Qu.:0.00000   1st Qu.: 9.845   1st Qu.:250.8   1st Qu.:374.6  \n",
       " Median :0.00000   Median :24.312   Median :281.4   Median :406.5  \n",
       " Mean   :0.08791   Mean   :25.495   Mean   :285.4   Mean   :411.7  \n",
       " 3rd Qu.:0.00000   3rd Qu.:38.142   3rd Qu.:314.8   3rd Qu.:443.4  \n",
       " Max.   :1.00000   Max.   :64.348   Max.   :436.8   Max.   :613.2  \n",
       " NA's   :6         NA's   :6        NA's   :6       NA's   :6      \n",
       "      wtrd            wfir            wser             wmfg      \n",
       " Min.   :154.2   Min.   :170.9   Min.   : 133.0   Min.   :157.4  \n",
       " 1st Qu.:190.9   1st Qu.:286.5   1st Qu.: 229.7   1st Qu.:288.9  \n",
       " Median :203.0   Median :317.3   Median : 253.2   Median :320.2  \n",
       " Mean   :211.6   Mean   :322.1   Mean   : 275.6   Mean   :335.6  \n",
       " 3rd Qu.:225.1   3rd Qu.:345.4   3rd Qu.: 280.5   3rd Qu.:359.6  \n",
       " Max.   :354.7   Max.   :509.5   Max.   :2177.1   Max.   :646.9  \n",
       " NA's   :6       NA's   :6       NA's   :6        NA's   :6      \n",
       "      wfed            wsta            wloc            mix         \n",
       " Min.   :326.1   Min.   :258.3   Min.   :239.2   Min.   :0.01961  \n",
       " 1st Qu.:400.2   1st Qu.:329.3   1st Qu.:297.3   1st Qu.:0.08074  \n",
       " Median :449.8   Median :357.7   Median :308.1   Median :0.10186  \n",
       " Mean   :442.9   Mean   :357.5   Mean   :312.7   Mean   :0.12884  \n",
       " 3rd Qu.:478.0   3rd Qu.:382.6   3rd Qu.:329.2   3rd Qu.:0.15175  \n",
       " Max.   :598.0   Max.   :499.6   Max.   :388.1   Max.   :0.46512  \n",
       " NA's   :6       NA's   :6       NA's   :6       NA's   :6        \n",
       "    pctymle       \n",
       " Min.   :0.06216  \n",
       " 1st Qu.:0.07443  \n",
       " Median :0.07771  \n",
       " Mean   :0.08396  \n",
       " 3rd Qu.:0.08350  \n",
       " Max.   :0.24871  \n",
       " NA's   :6        "
      ]
     },
     "metadata": {},
     "output_type": "display_data"
    }
   ],
   "source": [
    "summary(dfCrime)"
   ]
  },
  {
   "cell_type": "markdown",
   "metadata": {},
   "source": [
    "First, we note there are missing rows in the dataset that were imported. We'll remove those rows now."
   ]
  },
  {
   "cell_type": "code",
   "execution_count": 12,
   "metadata": {},
   "outputs": [
    {
     "data": {
      "text/html": [
       "97"
      ],
      "text/latex": [
       "97"
      ],
      "text/markdown": [
       "97"
      ],
      "text/plain": [
       "[1] 97"
      ]
     },
     "metadata": {},
     "output_type": "display_data"
    },
    {
     "data": {
      "text/html": [
       "91"
      ],
      "text/latex": [
       "91"
      ],
      "text/markdown": [
       "91"
      ],
      "text/plain": [
       "[1] 91"
      ]
     },
     "metadata": {},
     "output_type": "display_data"
    }
   ],
   "source": [
    "nrow(dfCrime)\n",
    "dfCrime <-na.omit(dfCrime) # omit the NA rows\n",
    "nrow(dfCrime)"
   ]
  },
  {
   "cell_type": "markdown",
   "metadata": {},
   "source": [
    "Next, we will inspect the data to see if there are duplicate records"
   ]
  },
  {
   "cell_type": "code",
   "execution_count": 13,
   "metadata": {},
   "outputs": [
    {
     "data": {
      "text/html": [
       "<table>\n",
       "<thead><tr><th></th><th scope=col>county</th><th scope=col>year</th><th scope=col>crmrte</th><th scope=col>prbarr</th><th scope=col>prbconv</th><th scope=col>prbpris</th><th scope=col>avgsen</th><th scope=col>polpc</th><th scope=col>density</th><th scope=col>taxpc</th><th scope=col>⋯</th><th scope=col>wtuc</th><th scope=col>wtrd</th><th scope=col>wfir</th><th scope=col>wser</th><th scope=col>wmfg</th><th scope=col>wfed</th><th scope=col>wsta</th><th scope=col>wloc</th><th scope=col>mix</th><th scope=col>pctymle</th></tr></thead>\n",
       "<tbody>\n",
       "\t<tr><th scope=row>89</th><td>193        </td><td>87         </td><td>0.0235277  </td><td>0.266055   </td><td>0.588859022</td><td>0.423423   </td><td>5.86       </td><td>0.00117887 </td><td>0.8138298  </td><td>28.51783   </td><td>⋯          </td><td>480.1948   </td><td>268.3836   </td><td>365.0196   </td><td>295.9352   </td><td>295.63     </td><td>468.26     </td><td>337.88     </td><td>348.74     </td><td>0.1105016  </td><td>0.07819394 </td></tr>\n",
       "</tbody>\n",
       "</table>\n"
      ],
      "text/latex": [
       "\\begin{tabular}{r|lllllllllllllllllllllllll}\n",
       "  & county & year & crmrte & prbarr & prbconv & prbpris & avgsen & polpc & density & taxpc & ⋯ & wtuc & wtrd & wfir & wser & wmfg & wfed & wsta & wloc & mix & pctymle\\\\\n",
       "\\hline\n",
       "\t89 & 193         & 87          & 0.0235277   & 0.266055    & 0.588859022 & 0.423423    & 5.86        & 0.00117887  & 0.8138298   & 28.51783    & ⋯           & 480.1948    & 268.3836    & 365.0196    & 295.9352    & 295.63      & 468.26      & 337.88      & 348.74      & 0.1105016   & 0.07819394 \\\\\n",
       "\\end{tabular}\n"
      ],
      "text/markdown": [
       "\n",
       "| <!--/--> | county | year | crmrte | prbarr | prbconv | prbpris | avgsen | polpc | density | taxpc | ⋯ | wtuc | wtrd | wfir | wser | wmfg | wfed | wsta | wloc | mix | pctymle | \n",
       "|---|\n",
       "| 89 | 193         | 87          | 0.0235277   | 0.266055    | 0.588859022 | 0.423423    | 5.86        | 0.00117887  | 0.8138298   | 28.51783    | ⋯           | 480.1948    | 268.3836    | 365.0196    | 295.9352    | 295.63      | 468.26      | 337.88      | 348.74      | 0.1105016   | 0.07819394  | \n",
       "\n",
       "\n"
      ],
      "text/plain": [
       "   county year crmrte    prbarr   prbconv     prbpris  avgsen polpc     \n",
       "89 193    87   0.0235277 0.266055 0.588859022 0.423423 5.86   0.00117887\n",
       "   density   taxpc    ⋯ wtuc     wtrd     wfir     wser     wmfg   wfed  \n",
       "89 0.8138298 28.51783 ⋯ 480.1948 268.3836 365.0196 295.9352 295.63 468.26\n",
       "   wsta   wloc   mix       pctymle   \n",
       "89 337.88 348.74 0.1105016 0.07819394"
      ]
     },
     "metadata": {},
     "output_type": "display_data"
    }
   ],
   "source": [
    "dfCrime[duplicated(dfCrime),]"
   ]
  },
  {
   "cell_type": "markdown",
   "metadata": {},
   "source": [
    "A duplicate row exists. We'll remove it."
   ]
  },
  {
   "cell_type": "code",
   "execution_count": 14,
   "metadata": {},
   "outputs": [
    {
     "data": {
      "text/html": [
       "90"
      ],
      "text/latex": [
       "90"
      ],
      "text/markdown": [
       "90"
      ],
      "text/plain": [
       "[1] 90"
      ]
     },
     "metadata": {},
     "output_type": "display_data"
    }
   ],
   "source": [
    "dfCrime <- dfCrime[!duplicated(dfCrime),] # remove the duplicated row\n",
    "nrow(dfCrime)"
   ]
  },
  {
   "cell_type": "markdown",
   "metadata": {},
   "source": [
    "We also saw that pbconv was coded as a level. It is not a level but a ratio. We'll change that now."
   ]
  },
  {
   "cell_type": "code",
   "execution_count": 15,
   "metadata": {},
   "outputs": [
    {
     "name": "stderr",
     "output_type": "stream",
     "text": [
      "Warning message in eval(expr, envir, enclos):\n",
      "“NAs introduced by coercion”"
     ]
    }
   ],
   "source": [
    "dfCrime$prbconv<-as.numeric(levels(dfCrime$prbconv))[dfCrime$prbconv]"
   ]
  },
  {
   "cell_type": "markdown",
   "metadata": {},
   "source": [
    "We also notice by comparision of pctymle and pctmin80 one of the variables is off by a factor of 100. We will divide pctmin80 by 100 so the two variables are in the same unit terms."
   ]
  },
  {
   "cell_type": "code",
   "execution_count": 16,
   "metadata": {},
   "outputs": [],
   "source": [
    "dfCrime$pctmin80<-dfCrime$pctmin80/100"
   ]
  },
  {
   "cell_type": "markdown",
   "metadata": {},
   "source": [
    "County was expressed as a number. However, it is a categorical variable and we will convert it to a factor instead."
   ]
  },
  {
   "cell_type": "code",
   "execution_count": 17,
   "metadata": {},
   "outputs": [],
   "source": [
    "dfCrime$county<-as.factor(dfCrime$county)"
   ]
  },
  {
   "cell_type": "markdown",
   "metadata": {},
   "source": [
    "Next we inspect the indicator variables to see if they were coded correctly."
   ]
  },
  {
   "cell_type": "code",
   "execution_count": 18,
   "metadata": {},
   "outputs": [
    {
     "data": {
      "text/html": [
       "<table>\n",
       "<thead><tr><th scope=col>west</th><th scope=col>central</th><th scope=col>n</th></tr></thead>\n",
       "<tbody>\n",
       "\t<tr><td>0 </td><td>0 </td><td>35</td></tr>\n",
       "\t<tr><td>0 </td><td>1 </td><td>33</td></tr>\n",
       "\t<tr><td>1 </td><td>0 </td><td>21</td></tr>\n",
       "\t<tr><td>1 </td><td>1 </td><td> 1</td></tr>\n",
       "</tbody>\n",
       "</table>\n"
      ],
      "text/latex": [
       "\\begin{tabular}{r|lll}\n",
       " west & central & n\\\\\n",
       "\\hline\n",
       "\t 0  & 0  & 35\\\\\n",
       "\t 0  & 1  & 33\\\\\n",
       "\t 1  & 0  & 21\\\\\n",
       "\t 1  & 1  &  1\\\\\n",
       "\\end{tabular}\n"
      ],
      "text/markdown": [
       "\n",
       "west | central | n | \n",
       "|---|---|---|---|\n",
       "| 0  | 0  | 35 | \n",
       "| 0  | 1  | 33 | \n",
       "| 1  | 0  | 21 | \n",
       "| 1  | 1  |  1 | \n",
       "\n",
       "\n"
      ],
      "text/plain": [
       "  west central n \n",
       "1 0    0       35\n",
       "2 0    1       33\n",
       "3 1    0       21\n",
       "4 1    1        1"
      ]
     },
     "metadata": {},
     "output_type": "display_data"
    }
   ],
   "source": [
    "dfCrime %>% group_by(west, central) %>% tally()"
   ]
  },
  {
   "cell_type": "markdown",
   "metadata": {},
   "source": [
    "One county was either mis-coded, or it truly belongs to both regions. However, this is very unlikely as the intended technique is to widen the data and introduce indicator variables for each category. It is not likley the data was captured for both categories.\n",
    "\n",
    "We will need further analysis to decide what to do with this datapoint.\n",
    "\n",
    "For now, we will encode a new region variable and place this datapoint in its own category. "
   ]
  },
  {
   "cell_type": "code",
   "execution_count": 19,
   "metadata": {},
   "outputs": [],
   "source": [
    "#Map central and west to a region code, and create a new category for other\n",
    "# Note that county 71 has both western and central codes\n",
    "dfCrime$region <- case_when (\n",
    "            (dfCrime$central ==0 & dfCrime$west ==0) ~ 0, #Eastern, Coastal, Other\n",
    "            (dfCrime$central ==0 & dfCrime$west ==1) ~ 1, #Western\n",
    "            (dfCrime$central ==1 & dfCrime$west ==0) ~ 2, #Central\n",
    "            (dfCrime$central ==1 & dfCrime$west ==1) ~ 3, #Central-Western border county - this could be Charlotte or it could be a coding error.\n",
    "        )"
   ]
  },
  {
   "cell_type": "markdown",
   "metadata": {},
   "source": [
    "By way of the 1980 Census fact sheet, we discover the urban field is an encoding for SMSA (Standard Metropolitan Statistical Areas). https://www2.census.gov/prod2/decennial/documents/1980/1980censusofpopu8011uns_bw.pdf\n",
    "The value is one if the county is inside a metropolitan area. Otherwise, if the county is outisde a metropolitan area, the value is zero.\n",
    "We create a metro factor variable to better describe this feature."
   ]
  },
  {
   "cell_type": "code",
   "execution_count": 20,
   "metadata": {},
   "outputs": [],
   "source": [
    "# create factor for SMSA (standard metropolitan statistical areas) with two levels - inside or outside\n",
    "#    https://www2.census.gov/prod2/decennial/documents/1980/1980censusofpopu8011uns_bw.pdf\n",
    "dfCrime$metro =\n",
    "            factor( dfCrime$urban , levels = 0:1 , labels =\n",
    "                    c( 'Outside',\n",
    "                       'Inside'\n",
    "                      )\n",
    "                   )"
   ]
  },
  {
   "cell_type": "code",
   "execution_count": 22,
   "metadata": {},
   "outputs": [
    {
     "data": {},
     "metadata": {},
     "output_type": "display_data"
    },
    {
     "data": {
      "image/png": "[encoded data removed]",
      "text/plain": [
       "plot without title"
      ]
     },
     "metadata": {},
     "output_type": "display_data"
    }
   ],
   "source": [
    "#TODO: visual dipiction of plots for all variables against crmrte\n",
    "\n",
    "ggplot(data = dfCrime, aes(x = wser, y = crmrte, color = region)) + \n",
    "  geom_point() \n"
   ]
  },
  {
   "cell_type": "markdown",
   "metadata": {},
   "source": [
    "TODO: Justify changing the wser value in county 185 to the median"
   ]
  },
  {
   "cell_type": "code",
   "execution_count": null,
   "metadata": {},
   "outputs": [],
   "source": [
    "dfCrime$wser[which(dfCrime$county==185)]<- median(dfCrime$wser)\n",
    "dfCrime$wser[which(dfCrime$county==185)]"
   ]
  },
  {
   "cell_type": "markdown",
   "metadata": {},
   "source": [
    "## Summary and Results"
   ]
  },
  {
   "cell_type": "markdown",
   "metadata": {},
   "source": [
    "Commentary on the data. What we believe is operationalized. What we understand as ommitted."
   ]
  },
  {
   "cell_type": "code",
   "execution_count": null,
   "metadata": {},
   "outputs": [],
   "source": []
  }
 ],
 "metadata": {
  "kernelspec": {
   "display_name": "R",
   "language": "R",
   "name": "ir"
  },
  "language_info": {
   "codemirror_mode": "r",
   "file_extension": ".r",
   "mimetype": "text/x-r-source",
   "name": "R",
   "pygments_lexer": "r",
   "version": "3.5.1"
  }
 },
 "nbformat": 4,
 "nbformat_minor": 2
}
