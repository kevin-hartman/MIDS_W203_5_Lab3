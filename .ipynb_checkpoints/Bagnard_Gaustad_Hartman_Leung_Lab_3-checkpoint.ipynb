{
 "cells": [
  {
   "cell_type": "markdown",
   "metadata": {},
   "source": [
    "---\n",
    "title: 'Local Policy Recommendations for Crime Reduction'\n",
    "subtitle: 'Final Report'\n",
    "author: \n",
    "- \"Alexa Bagnard, Joseph Gaustad, Kevin Hartman, Francis Leung\"\n",
    "- \"(W203 Wednesday 6:30pm Summer 2019)\"\n",
    "date: \"8/7/2019\"\n",
    "tags: [crime, lab, w203, berkeley]\n",
    "abstract: This is our study on crime. Crime does not pay. Lorem ipsum dolor sit amet, consectetur adipiscing elit, sed do eiusmod tempor incididunt ut labore et dolore magna aliqua. Ut enim ad minim veniam, quis nostrud exercitation ullamco laboris nisi ut aliquip ex ea commodo consequat. Duis aute irure dolor in reprehenderit in voluptate velit esse cillum dolore eu fugiat nulla pariatur. Excepteur sint occaecat cupidatat non proident, sunt in culpa qui officia deserunt mollit anim id est laborum.\n",
    "output:\n",
    "  pdf_document: \n",
    "    latex_engine: xelatex\n",
    "    fig_caption: yes\n",
    "    fig_crop: no\n",
    "    highlight: haddock\n",
    "    keep_tex: yes\n",
    "    number_sections: yes\n",
    "    toc: yes\n",
    "    toc_depth: 2\n",
    "  html_document:\n",
    "    fig_caption: yes\n",
    "    theme: journal\n",
    "    toc: yes\n",
    "    toc_depth: 2\n",
    "    df_print: paged\n",
    "  word_document: default\n",
    "---"
   ]
  },
  {
   "cell_type": "code",
   "execution_count": 5,
   "metadata": {
    "attributes": {
     "classes": [],
     "id": "",
     "include": "FALSE"
    }
   },
   "outputs": [
    {
     "name": "stderr",
     "output_type": "stream",
     "text": [
      "\n",
      "********************************************************\n",
      "Note: As of version 1.0.0, cowplot does not change the\n",
      "  default ggplot2 theme anymore. To recover the previous\n",
      "  behavior, execute:\n",
      "  theme_set(theme_cowplot())\n",
      "********************************************************\n",
      "\n",
      "\n",
      "Attaching package: ‘dplyr’\n",
      "\n",
      "The following objects are masked from ‘package:stats’:\n",
      "\n",
      "    filter, lag\n",
      "\n",
      "The following objects are masked from ‘package:base’:\n",
      "\n",
      "    intersect, setdiff, setequal, union\n",
      "\n",
      "\n",
      "Attaching package: ‘reshape2’\n",
      "\n",
      "The following object is masked from ‘package:tidyr’:\n",
      "\n",
      "    smiths\n",
      "\n",
      "\n",
      "Attaching package: ‘kableExtra’\n",
      "\n",
      "The following object is masked from ‘package:dplyr’:\n",
      "\n",
      "    group_rows\n",
      "\n",
      "------------------------------------------------------------------------------\n",
      "You have loaded plyr after dplyr - this is likely to cause problems.\n",
      "If you need functions from both plyr and dplyr, please load plyr first, then dplyr:\n",
      "library(plyr); library(dplyr)\n",
      "------------------------------------------------------------------------------\n",
      "\n",
      "Attaching package: ‘plyr’\n",
      "\n",
      "The following objects are masked from ‘package:dplyr’:\n",
      "\n",
      "    arrange, count, desc, failwith, id, mutate, rename, summarise,\n",
      "    summarize\n",
      "\n",
      "\n",
      "Use 'expss_output_viewer()' to display tables in the RStudio Viewer.\n",
      " To return to the console output, use 'expss_output_default()'.\n",
      "\n",
      "\n",
      "Attaching package: ‘expss’\n",
      "\n",
      "The following object is masked from ‘package:plyr’:\n",
      "\n",
      "    split_labels\n",
      "\n",
      "The following objects are masked from ‘package:dplyr’:\n",
      "\n",
      "    between, compute, contains, first, last, na_if, recode, vars\n",
      "\n",
      "The following object is masked from ‘package:tidyr’:\n",
      "\n",
      "    nest\n",
      "\n",
      "The following object is masked from ‘package:ggplot2’:\n",
      "\n",
      "    vars\n",
      "\n",
      "Loading required package: carData\n",
      "\n",
      "Attaching package: ‘car’\n",
      "\n",
      "The following object is masked from ‘package:expss’:\n",
      "\n",
      "    recode\n",
      "\n",
      "The following object is masked from ‘package:dplyr’:\n",
      "\n",
      "    recode\n",
      "\n",
      "corrplot 0.84 loaded\n",
      "\n",
      "Attaching package: ‘gridExtra’\n",
      "\n",
      "The following object is masked from ‘package:dplyr’:\n",
      "\n",
      "    combine\n",
      "\n",
      "Loading required package: lattice\n",
      "Loading required package: survival\n",
      "Loading required package: Formula\n",
      "\n",
      "Attaching package: ‘Hmisc’\n",
      "\n",
      "The following objects are masked from ‘package:plyr’:\n",
      "\n",
      "    is.discrete, summarize\n",
      "\n",
      "The following objects are masked from ‘package:dplyr’:\n",
      "\n",
      "    src, summarize\n",
      "\n",
      "The following objects are masked from ‘package:base’:\n",
      "\n",
      "    format.pval, units\n",
      "\n",
      "Loading required package: zoo\n",
      "\n",
      "Attaching package: ‘zoo’\n",
      "\n",
      "The following objects are masked from ‘package:base’:\n",
      "\n",
      "    as.Date, as.Date.numeric\n",
      "\n",
      "Loading required package: xts\n",
      "\n",
      "Attaching package: ‘xts’\n",
      "\n",
      "The following objects are masked from ‘package:expss’:\n",
      "\n",
      "    first, last\n",
      "\n",
      "The following objects are masked from ‘package:dplyr’:\n",
      "\n",
      "    first, last\n",
      "\n",
      "\n",
      "Attaching package: ‘PerformanceAnalytics’\n",
      "\n",
      "The following object is masked from ‘package:graphics’:\n",
      "\n",
      "    legend\n",
      "\n",
      "\n",
      "Attaching package: ‘psych’\n",
      "\n",
      "The following object is masked from ‘package:Hmisc’:\n",
      "\n",
      "    describe\n",
      "\n",
      "The following object is masked from ‘package:car’:\n",
      "\n",
      "    logit\n",
      "\n",
      "The following objects are masked from ‘package:ggplot2’:\n",
      "\n",
      "    %+%, alpha\n",
      "\n",
      "\n",
      "Attaching package: ‘GGally’\n",
      "\n",
      "The following object is masked from ‘package:dplyr’:\n",
      "\n",
      "    nasa\n",
      "\n"
     ]
    }
   ],
   "source": [
    "library(stargazer)\n",
    "library(cowplot)\n",
    "library(ggplot2)\n",
    "library(tidyr)\n",
    "library(dplyr)\n",
    "library(reshape2)\n",
    "options(kableExtra.latex.load_packages = TRUE)\n",
    "library(kableExtra)\n",
    "library(plyr)\n",
    "library(expss)\n",
    "library(car)\n",
    "library(corrplot)\n",
    "library(gridExtra)\n",
    "library(corrr)\n",
    "library(Hmisc)\n",
    "library(broom)\n",
    "library(lmtest)\n",
    "library(sandwich)\n",
    "library(PerformanceAnalytics)\n",
    "library(psych)\n",
    "library(GGally)\n",
    "library(ggcorrplot)\n",
    "\n",
    "suppressMessages(library(stargazer))\n",
    "suppressMessages(library(cowplot))\n",
    "suppressMessages(library(ggplot2))\n",
    "suppressMessages(library(tidyr))\n",
    "suppressMessages(library(dplyr))\n",
    "suppressMessages(library(reshape2))\n",
    "suppressMessages(library(kableExtra))\n",
    "suppressMessages(library(plyr))\n",
    "suppressMessages(library(expss))\n",
    "suppressMessages(library(car))\n",
    "suppressMessages(library(corrplot))\n",
    "suppressMessages(library(gridExtra))\n",
    "suppressMessages(library(corrr))\n",
    "suppressMessages(library(Hmisc))\n",
    "suppressMessages(library(broom))\n",
    "suppressMessages(library(lmtest))\n",
    "suppressMessages(library(sandwich))\n",
    "suppressMessages(library(PerformanceAnalytics))\n",
    "suppressMessages(library(psych))\n",
    "suppressMessages(library(GGally))\n",
    "suppressMessages(library(ggcorrplot))\n",
    "suppressMessages(library(knitr))\n",
    "#knitr::opts_chunk$set(echo = TRUE)"
   ]
  },
  {
   "cell_type": "markdown",
   "metadata": {},
   "source": [
    "# Introduction\n",
    "\n",
    "\n",
    "## Background\n",
    "\n",
    "In this report, we seek to examine and discuss determinants of crime and offer recommend actionable policy recommendations for local politicians running for election at the county level. For our analysis, we draw on sample data collected from a study by Cornwell and Trumball, researchers from the University of Georgia and West Virginia University. Our sample data includes data on crime rates, arrests, sentences,  demographics, local weekly wages, tax revenues and more drawn from local and federal government data sources. Although the age of the data may be a potential limitation of our study, we believe the insights we gather and policy recommendations remain appropriate for local campaigns today.\n",
    "\n",
    "Our primary question that will drive our data exploration are to ask which variables affect crime rate the most.\n",
    "\n",
    "## The Variables\n",
    "\n",
    "The crime_v2 dataset provided includes 25 variables of interest. \n",
    "\n",
    "We include them below for reference by category of interest.\n",
    "\n",
    "\\begin{center}\n",
    "\\textbf{Data Dictionary}\n",
    "\\end{center}\n",
    "Category | Variable\n",
    "---------- | -------------------------------\n",
    "Crime Rate | crmrte\n",
    "Geographic | county, west, central\n",
    "Demographic | urban, density, pctmin80, pctymle\n",
    "Economic - Wage | wcon, wtuc, wtrd, wfir, wser, wmfg, wfed, wsta, wloc\n",
    "Economic - Revenue  | taxpc\n",
    "Law Enforcment | polpc, prbarr, prbconv, mix\n",
    "Judicial/Sentencing | prbpris, avgsen\n",
    "Time Period | year\n",
    "\\begin{center}\n",
    "Table 1: Data Dictionary\n",
    "\\end{center}\n",
    "\n",
    "The variables above operationalize the conditions we wish to explore and their affects on crime rate\n",
    "\n",
    "Chiefly, these break down as follows.\n",
    "\n",
    "* The Economic variables measures the county's economic activity and health (e.g. opportunity to pursue legal forms of income). These variables come in the form of available wages and tax revenue returned to the county.\n",
    "\n",
    "* The Law enforcment variables measures the county's ability to utilize law enforcment policy to deter crime.  Similarly, the Judicial variables also signify impact of deterence to crime.\n",
    "\n",
    "* The Demographic variables measure the cultural variability that represent the social differences between each county, such as urban vs rural and minority populations.\n",
    "\n",
    "* The Geographic elements are categorical. They  represent they ways in which the population is segmented by geography.\n",
    "\n",
    "\n",
    "# Exploratory Data Analysis (EDA)\n",
    "\n",
    "## Data Prep and Exploration\n",
    "\n",
    "We begin our analysis by loading the data set and performing basic checks and inspections."
   ]
  },
  {
   "cell_type": "code",
   "execution_count": 3,
   "metadata": {
    "attributes": {
     "classes": [],
     "comment": "NA,",
     "echo": "TRUE",
     "id": "",
     "include": "TRUE,",
     "warning": "FALSE,"
    }
   },
   "outputs": [
    {
     "ename": "NameError",
     "evalue": "name 'read' is not defined",
     "output_type": "error",
     "traceback": [
      "\u001b[0;31m---------------------------------------------------------------------------\u001b[0m",
      "\u001b[0;31mNameError\u001b[0m                                 Traceback (most recent call last)",
      "\u001b[0;32m<ipython-input-3-e8553d76dbca>\u001b[0m in \u001b[0;36m<module>\u001b[0;34m\u001b[0m\n\u001b[0;32m----> 1\u001b[0;31m \u001b[0mdfCrime\u001b[0m \u001b[0;34m=\u001b[0m \u001b[0mread\u001b[0m\u001b[0;34m.\u001b[0m\u001b[0mcsv\u001b[0m\u001b[0;34m(\u001b[0m\u001b[0;34m\"crime_v2.csv\"\u001b[0m\u001b[0;34m)\u001b[0m\u001b[0;34m\u001b[0m\u001b[0;34m\u001b[0m\u001b[0m\n\u001b[0m",
      "\u001b[0;31mNameError\u001b[0m: name 'read' is not defined"
     ]
    }
   ],
   "source": [
    "dfCrime = read.csv(\"crime_v2.csv\")"
   ]
  },
  {
   "cell_type": "code",
   "execution_count": null,
   "metadata": {
    "attributes": {
     "classes": [],
     "comment": "NA,",
     "echo": "TRUE",
     "id": "",
     "include": "TRUE,",
     "warning": "FALSE,"
    }
   },
   "outputs": [],
   "source": [
    "str(dfCrime)"
   ]
  },
  {
   "cell_type": "code",
   "execution_count": null,
   "metadata": {
    "attributes": {
     "classes": [],
     "comment": "NA,",
     "echo": "TRUE",
     "id": "",
     "include": "TRUE,",
     "warning": "FALSE,"
    }
   },
   "outputs": [],
   "source": [
    "head(dfCrime)"
   ]
  },
  {
   "cell_type": "code",
   "execution_count": null,
   "metadata": {
    "attributes": {
     "classes": [],
     "comment": "NA,",
     "echo": "TRUE",
     "id": "",
     "include": "TRUE,",
     "warning": "FALSE,"
    }
   },
   "outputs": [],
   "source": [
    "tail(dfCrime)"
   ]
  },
  {
   "cell_type": "code",
   "execution_count": null,
   "metadata": {
    "attributes": {
     "classes": [],
     "comment": "NA,",
     "echo": "TRUE",
     "id": "",
     "include": "TRUE,",
     "warning": "FALSE,"
    }
   },
   "outputs": [],
   "source": [
    "summary(dfCrime)"
   ]
  },
  {
   "cell_type": "markdown",
   "metadata": {},
   "source": [
    "First, we note there are missing rows in the dataset that were imported. We'll remove those rows now."
   ]
  },
  {
   "cell_type": "code",
   "execution_count": null,
   "metadata": {
    "attributes": {
     "classes": [],
     "comment": "NA,",
     "echo": "TRUE",
     "id": "",
     "include": "TRUE,",
     "warning": "FALSE,"
    }
   },
   "outputs": [],
   "source": [
    "nrow(dfCrime)\n",
    "dfCrime <-na.omit(dfCrime) # omit the NA rows\n",
    "nrow(dfCrime)"
   ]
  },
  {
   "cell_type": "markdown",
   "metadata": {},
   "source": [
    "Next, we will inspect the data to see if there are duplicate records"
   ]
  },
  {
   "cell_type": "code",
   "execution_count": null,
   "metadata": {
    "attributes": {
     "classes": [],
     "comment": "NA,",
     "echo": "TRUE",
     "id": "",
     "include": "TRUE,",
     "warning": "FALSE,"
    }
   },
   "outputs": [],
   "source": [
    "dfCrime[duplicated(dfCrime),]"
   ]
  },
  {
   "cell_type": "markdown",
   "metadata": {},
   "source": [
    "A duplicate row exists. We'll remove it."
   ]
  },
  {
   "cell_type": "code",
   "execution_count": null,
   "metadata": {
    "attributes": {
     "classes": [],
     "comment": "NA,",
     "echo": "TRUE",
     "id": "",
     "include": "TRUE,",
     "warning": "FALSE,"
    }
   },
   "outputs": [],
   "source": [
    "dfCrime <- dfCrime[!duplicated(dfCrime),] # remove the duplicated row\n",
    "nrow(dfCrime)"
   ]
  },
  {
   "cell_type": "markdown",
   "metadata": {},
   "source": [
    "We also saw that pbconv was coded as a level. It is not a level but a ratio. We'll change that now."
   ]
  },
  {
   "cell_type": "code",
   "execution_count": null,
   "metadata": {
    "attributes": {
     "classes": [],
     "comment": "NA,",
     "echo": "TRUE",
     "id": "",
     "include": "TRUE,",
     "warning": "FALSE,"
    }
   },
   "outputs": [],
   "source": [
    "dfCrime$prbconv<-as.numeric(levels(dfCrime$prbconv))[dfCrime$prbconv]"
   ]
  },
  {
   "cell_type": "markdown",
   "metadata": {},
   "source": [
    "We also notice by comparision of pctymle and pctmin80 one of the variables is off by a factor of 100. We will divide pctmin80 by 100 so the two variables are in the same unit terms."
   ]
  },
  {
   "cell_type": "code",
   "execution_count": null,
   "metadata": {
    "attributes": {
     "classes": [],
     "comment": "NA,",
     "echo": "TRUE",
     "id": "",
     "include": "TRUE,",
     "warning": "FALSE,"
    }
   },
   "outputs": [],
   "source": [
    "dfCrime$pctmin80<-dfCrime$pctmin80/100"
   ]
  },
  {
   "cell_type": "markdown",
   "metadata": {},
   "source": [
    "County was expressed as a number. However, it is a categorical variable and we will convert it to a factor instead."
   ]
  },
  {
   "cell_type": "code",
   "execution_count": null,
   "metadata": {
    "attributes": {
     "classes": [],
     "comment": "NA,",
     "echo": "TRUE",
     "id": "",
     "include": "TRUE,",
     "warning": "FALSE,"
    }
   },
   "outputs": [],
   "source": [
    "dfCrime$county<-as.factor(dfCrime$county)"
   ]
  },
  {
   "cell_type": "markdown",
   "metadata": {},
   "source": [
    "Next we inspect the indicator variables to see if they were coded correctly."
   ]
  },
  {
   "cell_type": "code",
   "execution_count": null,
   "metadata": {
    "attributes": {
     "classes": [],
     "comment": "NA,",
     "echo": "TRUE",
     "id": "",
     "include": "TRUE,",
     "warning": "FALSE,"
    }
   },
   "outputs": [],
   "source": [
    "dfCrime %>% group_by(west, central) %>% tally()"
   ]
  },
  {
   "cell_type": "code",
   "execution_count": null,
   "metadata": {
    "attributes": {
     "classes": [],
     "comment": "NA,",
     "echo": "TRUE",
     "id": "",
     "include": "TRUE,",
     "warning": "FALSE,"
    }
   },
   "outputs": [],
   "source": [
    "dfCrime %>%\n",
    "filter(west ==1 & central ==1)"
   ]
  },
  {
   "cell_type": "markdown",
   "metadata": {},
   "source": [
    "One county was either mis-coded, or it truly belongs to both regions. However, this is very unlikely as the intended technique is to widen the data and introduce indicator variables for each category. It is not likley the data was captured for both categories.\n",
    "\n",
    "We will need further analysis on this datapoint as it relates to the rest of the data.\n",
    "\n",
    "For now, we will encode a new region variable and place the datapoint in its own category."
   ]
  },
  {
   "cell_type": "code",
   "execution_count": null,
   "metadata": {
    "attributes": {
     "classes": [],
     "comment": "NA,",
     "echo": "TRUE",
     "id": "",
     "include": "TRUE,",
     "warning": "FALSE,"
    }
   },
   "outputs": [],
   "source": [
    "#Map central and west to a region code, and create a new category for other\n",
    "# Note that county 71 has both western and central codes\n",
    "dfCrime$region <- case_when (\n",
    "            (dfCrime$central ==0 & dfCrime$west ==0) ~ 0, #Eastern, Coastal, Other\n",
    "            (dfCrime$central ==0 & dfCrime$west ==1) ~ 1, #Western\n",
    "            (dfCrime$central ==1 & dfCrime$west ==0) ~ 2, #Central\n",
    "            (dfCrime$central ==1 & dfCrime$west ==1) ~ 3 #Central-Western county?\n",
    "        )\n",
    "dfCrime$regcode =\n",
    "            factor( dfCrime$region , levels = 0:3 , labels =\n",
    "                    c( 'O',\n",
    "                       'W',\n",
    "                       'C',\n",
    "                       'CW')\n",
    "                   )"
   ]
  },
  {
   "cell_type": "markdown",
   "metadata": {},
   "source": [
    "We will also introduce an indicator variable for counties located in the \"other\" region that are not west or central"
   ]
  },
  {
   "cell_type": "code",
   "execution_count": null,
   "metadata": {
    "attributes": {
     "classes": [],
     "comment": "NA,",
     "echo": "TRUE",
     "id": "",
     "include": "TRUE,",
     "warning": "FALSE,"
    }
   },
   "outputs": [],
   "source": [
    "dfCrime$other <- ifelse((dfCrime$central ==0 & dfCrime$west ==0), 1, 0)"
   ]
  },
  {
   "cell_type": "markdown",
   "metadata": {},
   "source": [
    "And we'll add an indicator variable to serve as complement to the urban indicator variable and call this 'nonurban'"
   ]
  },
  {
   "cell_type": "code",
   "execution_count": null,
   "metadata": {
    "attributes": {
     "classes": [],
     "comment": "NA,",
     "echo": "TRUE",
     "id": "",
     "include": "TRUE,",
     "warning": "FALSE,"
    }
   },
   "outputs": [],
   "source": [
    "dfCrime$nonurban <- ifelse((dfCrime$urban==0), 1, 0)"
   ]
  },
  {
   "cell_type": "markdown",
   "metadata": {},
   "source": [
    "By way of the 1980 Census fact sheet, we discover the urban field is an encoding for SMSA (Standard Metropolitan Statistical Areas). https://www2.census.gov/prod2/decennial/documents/1980/1980censusofpopu8011uns_bw.pdf\n",
    "The value is one if the county is inside a metropolitan area. Otherwise, if the county is outisde a metropolitan area, the value is zero.\n",
    "\n",
    "We create a metro factor variable to better describe this feature."
   ]
  },
  {
   "cell_type": "code",
   "execution_count": null,
   "metadata": {
    "attributes": {
     "classes": [],
     "comment": "NA,",
     "echo": "TRUE",
     "id": "",
     "include": "TRUE,",
     "warning": "FALSE,"
    }
   },
   "outputs": [],
   "source": [
    "# create factor for SMSA (standard metropolitan statistical areas) with two levels \n",
    "# (inside or outside)\n",
    "#    https://www2.census.gov/prod2/decennial/documents/1980/1980censusofpopu8011uns_bw.pdf\n",
    "dfCrime$metro =\n",
    "            factor( dfCrime$urban , levels = 0:1 , labels =\n",
    "                    c( 'Outside',\n",
    "                       'Inside'\n",
    "                      )\n",
    "                   )"
   ]
  },
  {
   "cell_type": "markdown",
   "metadata": {},
   "source": [
    "Next we will visualize each variable and its relationship to the variable crmrte through scatter plots"
   ]
  },
  {
   "cell_type": "code",
   "execution_count": null,
   "metadata": {
    "attributes": {
     "classes": [],
     "comment": "NA,",
     "echo": "TRUE",
     "id": "",
     "include": "TRUE,",
     "warning": "FALSE,"
    }
   },
   "outputs": [],
   "source": [
    "#Plot of the economic and tax related variables vs crmrte\n",
    "q1<-ggplot(data = dfCrime, aes(x = wcon, y = crmrte, color = region)) + \n",
    "      geom_point()+\n",
    "  geom_smooth(method = \"lm\")\n",
    "q2<-ggplot(data = dfCrime, aes(x = wtuc, y = crmrte, color = region)) + \n",
    "      geom_point()+\n",
    "  geom_smooth(method = \"lm\")\n",
    "q3<-ggplot(data = dfCrime, aes(x = wtrd, y = crmrte, color = region)) + \n",
    "      geom_point()+\n",
    "  geom_smooth(method = \"lm\")\n",
    "q4<-ggplot(data = dfCrime, aes(x = wfir, y = crmrte, color = region)) + \n",
    "      geom_point()+\n",
    "  geom_smooth(method = \"lm\")\n",
    "q5<-ggplot(data = dfCrime, aes(x = wser, y = crmrte, color = region)) + \n",
    "      geom_point()+\n",
    "  geom_smooth(method = \"lm\")\n",
    "q6<-ggplot(data = dfCrime, aes(x = wmfg, y = crmrte, color = region)) + \n",
    "      geom_point()+\n",
    "  geom_smooth(method = \"lm\")\n",
    "q7<-ggplot(data = dfCrime, aes(x = wfed, y = crmrte, color = region)) + \n",
    "      geom_point()+\n",
    "  geom_smooth(method = \"lm\")\n",
    "q8<-ggplot(data = dfCrime, aes(x = wsta, y = crmrte, color = region)) + \n",
    "      geom_point()+\n",
    "  geom_smooth(method = \"lm\")\n",
    "q9<-ggplot(data = dfCrime, aes(x = wloc, y = crmrte, color = region)) + \n",
    "      geom_point()+\n",
    "  geom_smooth(method = \"lm\")\n",
    "q10<-ggplot(data = dfCrime, aes(x = taxpc, y = crmrte, color = region)) + \n",
    "      geom_point()+\n",
    "  geom_smooth(method = \"lm\")\n",
    "grid.arrange(q1, q2, q3, q4, q5, q6, q7, q8, q9, q10, ncol=2)"
   ]
  },
  {
   "cell_type": "markdown",
   "metadata": {},
   "source": [
    "We observe a few data points of interest in the comparison above, notably, wser and taxpc appear to have extreme data points\n",
    "\n",
    "Other variables show outliers as well, but not as extreme. We will see if any of these points have leverage or influence if chosen for models.\n",
    "\n",
    "For now, lets dig further into the extreme outliers from our immediate visual inspection."
   ]
  },
  {
   "cell_type": "code",
   "execution_count": null,
   "metadata": {
    "attributes": {
     "classes": [],
     "comment": "NA,",
     "echo": "TRUE",
     "id": "",
     "include": "TRUE,",
     "warning": "FALSE,"
    }
   },
   "outputs": [],
   "source": [
    "dfCrime %>%\n",
    "filter(wser > 2000) %>%\n",
    "select(county, wser)"
   ]
  },
  {
   "cell_type": "markdown",
   "metadata": {},
   "source": [
    "This average service wage is much too high based on what we know about the 1980s and every other wage recorded in comparison. A review of the detailed population statistics describing mean wage per industry (table 231) confirms this. https://www2.census.gov/prod2/decennial/documents/1980/1980censusofpopu801352uns_bw.pdf\n",
    "\n",
    "We will adjust this wage by replacing it with an imputed value from the sample population. To impute this value we will rely on the package Hmisc to derive it for us."
   ]
  },
  {
   "cell_type": "code",
   "execution_count": null,
   "metadata": {
    "attributes": {
     "classes": [],
     "comment": "NA,",
     "echo": "TRUE",
     "id": "",
     "include": "TRUE,",
     "warning": "FALSE,"
    }
   },
   "outputs": [],
   "source": [
    "dfCrime$wser[which(dfCrime$county==185)]<-NA # set the value to NA so it will be imputed"
   ]
  },
  {
   "cell_type": "code",
   "execution_count": null,
   "metadata": {
    "attributes": {
     "classes": [],
     "comment": "NA,",
     "echo": "TRUE,",
     "id": "",
     "include": "TRUE,",
     "results": "'hide'",
     "warning": "FALSE,"
    }
   },
   "outputs": [],
   "source": [
    "impute_arg <- aregImpute(~ crmrte +  urban + central + west + other +\n",
    "                         prbarr + prbconv + prbpris + avgsen + polpc + \n",
    "                         density + taxpc + pctmin80 + wcon + wtuc +\n",
    "                         wtrd + wfir + wser + wmfg + wfed + wsta + wloc +\n",
    "                         mix + pctymle, data = dfCrime, match=\"weighted\",\n",
    "                         nk=3, B=10, n.impute = 100)"
   ]
  },
  {
   "cell_type": "code",
   "execution_count": null,
   "metadata": {
    "attributes": {
     "classes": [],
     "comment": "NA,",
     "echo": "TRUE",
     "id": "",
     "include": "TRUE,",
     "warning": "FALSE,"
    }
   },
   "outputs": [],
   "source": [
    "impute_arg"
   ]
  },
  {
   "cell_type": "code",
   "execution_count": null,
   "metadata": {
    "attributes": {
     "classes": [],
     "comment": "NA,",
     "echo": "TRUE",
     "id": "",
     "include": "TRUE,",
     "warning": "FALSE,"
    }
   },
   "outputs": [],
   "source": [
    "impute_arg$imputed$wser"
   ]
  },
  {
   "cell_type": "markdown",
   "metadata": {},
   "source": [
    "We will reassign the value in our dataset to the mean from these trials."
   ]
  },
  {
   "cell_type": "code",
   "execution_count": null,
   "metadata": {
    "attributes": {
     "classes": [],
     "comment": "NA,",
     "echo": "TRUE",
     "id": "",
     "include": "TRUE,",
     "warning": "FALSE,"
    }
   },
   "outputs": [],
   "source": [
    "dfCrime$wser[which(dfCrime$county==185)]<-mean(impute_arg$imputed$wser)\n",
    "dfCrime$wser[which(dfCrime$county==185)]"
   ]
  },
  {
   "cell_type": "markdown",
   "metadata": {},
   "source": [
    "Next, let's examine the tax per capita outlier"
   ]
  },
  {
   "cell_type": "code",
   "execution_count": null,
   "metadata": {
    "attributes": {
     "classes": [],
     "comment": "NA,",
     "echo": "TRUE",
     "id": "",
     "include": "TRUE,",
     "warning": "FALSE,"
    }
   },
   "outputs": [],
   "source": [
    "dfCrime %>%\n",
    "filter(taxpc > 100)"
   ]
  },
  {
   "cell_type": "markdown",
   "metadata": {},
   "source": [
    "The tax revenue per capita in this county is excessive. There is nothing in the wage variables that would indicate more tax revenues should be captured than what is normal. We will adjust this taxpc data point by replacing it by imputing its value from the sample."
   ]
  },
  {
   "cell_type": "code",
   "execution_count": null,
   "metadata": {
    "attributes": {
     "classes": [],
     "comment": "NA,",
     "echo": "TRUE",
     "id": "",
     "include": "TRUE,",
     "warning": "FALSE,"
    }
   },
   "outputs": [],
   "source": [
    "dfCrime$taxpc[which(dfCrime$county==55)]<- NA"
   ]
  },
  {
   "cell_type": "code",
   "execution_count": null,
   "metadata": {
    "attributes": {
     "classes": [],
     "comment": "NA,",
     "echo": "TRUE,",
     "id": "",
     "include": "TRUE,",
     "results": "'hide'",
     "warning": "FALSE,"
    }
   },
   "outputs": [],
   "source": [
    "impute_arg <- aregImpute(~ crmrte +  urban + central + west + other +\n",
    "                         prbarr + prbconv + prbpris + avgsen + polpc + \n",
    "                         density + taxpc + pctmin80 + wcon + wtuc +\n",
    "                         wtrd + wfir + wser + wmfg + wfed + wsta + wloc +\n",
    "                         mix + pctymle, data = dfCrime, match=\"weighted\",\n",
    "                         nk=3, B=10, n.impute = 100)"
   ]
  },
  {
   "cell_type": "code",
   "execution_count": null,
   "metadata": {
    "attributes": {
     "classes": [],
     "comment": "NA,",
     "echo": "TRUE",
     "id": "",
     "include": "TRUE,",
     "warning": "FALSE,"
    }
   },
   "outputs": [],
   "source": [
    "impute_arg"
   ]
  },
  {
   "cell_type": "code",
   "execution_count": null,
   "metadata": {
    "attributes": {
     "classes": [],
     "comment": "NA,",
     "echo": "TRUE",
     "id": "",
     "include": "TRUE,",
     "warning": "FALSE,"
    }
   },
   "outputs": [],
   "source": [
    "impute_arg$imputed$taxpc"
   ]
  },
  {
   "cell_type": "code",
   "execution_count": null,
   "metadata": {
    "attributes": {
     "classes": [],
     "comment": "NA,",
     "echo": "TRUE",
     "id": "",
     "include": "TRUE,",
     "warning": "FALSE,"
    }
   },
   "outputs": [],
   "source": [
    "dfCrime$taxpc[which(dfCrime$county==55)]<-mean(impute_arg$imputed$taxpc)\n",
    "dfCrime$taxpc[which(dfCrime$county==55)]"
   ]
  },
  {
   "cell_type": "code",
   "execution_count": null,
   "metadata": {
    "attributes": {
     "classes": [],
     "comment": "NA,",
     "echo": "TRUE",
     "id": "",
     "include": "TRUE,",
     "warning": "FALSE,"
    }
   },
   "outputs": [],
   "source": [
    "#Plot of the criminal justice and law enforcment related variables vs crmrte\n",
    "q1<-ggplot(data = dfCrime, aes(x = prbarr, y = crmrte, color = region)) + \n",
    "      geom_point()+\n",
    "  geom_smooth(method = \"lm\")\n",
    "q2<-ggplot(data = dfCrime, aes(x = prbconv, y = crmrte, color = region)) + \n",
    "      geom_point()+\n",
    "  geom_smooth(method = \"lm\")\n",
    "q3<-ggplot(data = dfCrime, aes(x = prbpris, y = crmrte, color = region)) + \n",
    "      geom_point()+\n",
    "  geom_smooth(method = \"lm\")\n",
    "q4<-ggplot(data = dfCrime, aes(x = avgsen, y = crmrte, color = region)) + \n",
    "      geom_point()+\n",
    "  geom_smooth(method = \"lm\")\n",
    "q5<-ggplot(data = dfCrime, aes(x = polpc, y = crmrte, color = region)) + \n",
    "      geom_point()+\n",
    "  geom_smooth(method = \"lm\")\n",
    "q6<-ggplot(data = dfCrime, aes(x = mix, y = crmrte, color = region)) + \n",
    "      geom_point()+\n",
    "  geom_smooth(method = \"lm\")\n",
    "\n",
    "grid.arrange(q1, q2, q3, q4, q5, q6, ncol=2)"
   ]
  },
  {
   "cell_type": "markdown",
   "metadata": {},
   "source": [
    "The criminal justice and law enforcement variables also show evidence of possible outliers, notably, pbarr and polpc appear to have extreme data points\n",
    "\n",
    "We also see that prbarr and prbconv have values greater than 1. However, these are not true probabity numbers and are instead ratios used as a stand in for the true probability numbers.\n",
    "\n",
    "There is a possibility of higher arrests per incident for an area. Meaning, the area has low incidents in general but when there were incidents there were also multiple arrests. The same case can be made for the convictions per arrest variable which we see is for a different region. In that county there may have been multiple charges brought per one arrest."
   ]
  },
  {
   "cell_type": "code",
   "execution_count": null,
   "metadata": {
    "attributes": {
     "classes": [],
     "comment": "NA,",
     "echo": "TRUE",
     "id": "",
     "include": "TRUE,",
     "warning": "FALSE,"
    }
   },
   "outputs": [],
   "source": [
    "#plot of demographic information for counties Outside and Inside the metro areas\n",
    "# population density, percent minority, percent young male\n",
    "\n",
    "q1<-ggplot(data = dfCrime, aes(x = density, y = crmrte, color = region)) + \n",
    "      geom_point() + facet_wrap(~ metro) +\n",
    "  geom_smooth(method = \"lm\")\n",
    "q2<-ggplot(data = dfCrime, aes(x = pctmin80, y = crmrte, color = region)) + \n",
    "      geom_point() + facet_wrap(~ metro) +\n",
    "  geom_smooth(method = \"lm\")\n",
    "q3<-ggplot(data = dfCrime, aes(x = pctymle, y = crmrte, color = region)) + \n",
    "      geom_point()+ facet_wrap(~ metro) +\n",
    "  geom_smooth(method = \"lm\")\n",
    "\n",
    "grid.arrange(q1, q2, q3, ncol=1)"
   ]
  },
  {
   "cell_type": "markdown",
   "metadata": {},
   "source": [
    "Notably more outliers are observed in demographic information. Here, pctymle in one county outside of a metro area is nearly 25%. That seems quite high in normal statistical measures of the population, however, this can be explained as a county having a large college town population.\n",
    "\n",
    "Finally, we can see our bright blue region 3 county and notice its population density. Its behavior is more similar to an inside metro area. Than outside. In addition to be coded for both western and central regions, it appears to be miscoded here as well.\n",
    "\n",
    "We will address the metro variable, and examine whether the region variable should be west, central or other instead of both central and west"
   ]
  },
  {
   "cell_type": "code",
   "execution_count": null,
   "metadata": {
    "attributes": {
     "classes": [],
     "comment": "NA,",
     "echo": "TRUE",
     "id": "",
     "include": "TRUE,",
     "warning": "FALSE,"
    }
   },
   "outputs": [],
   "source": [
    "dfCrime %>%\n",
    "filter(west ==1 & central ==1) %>%\n",
    "select(county, west, central, other, urban, region, regcode, metro)"
   ]
  },
  {
   "cell_type": "code",
   "execution_count": null,
   "metadata": {
    "attributes": {
     "classes": [],
     "comment": "NA,",
     "echo": "TRUE",
     "id": "",
     "include": "TRUE,",
     "warning": "FALSE,"
    }
   },
   "outputs": [],
   "source": [
    "dfCrime$west[which(dfCrime$county==71)]<-NA\n",
    "dfCrime$central[which(dfCrime$county==71)]<-NA\n",
    "dfCrime$other[which(dfCrime$county==71)]<-NA\n",
    "dfCrime$urban[which(dfCrime$county==71)]<-NA\n"
   ]
  },
  {
   "cell_type": "code",
   "execution_count": null,
   "metadata": {
    "attributes": {
     "classes": [],
     "comment": "NA,",
     "echo": "TRUE,",
     "id": "",
     "include": "TRUE,",
     "results": "'hide'",
     "warning": "FALSE,"
    }
   },
   "outputs": [],
   "source": [
    "impute_arg <- aregImpute(~ crmrte +  urban + central + west +\n",
    "                         prbarr + prbconv + prbpris + avgsen + polpc + \n",
    "                         density + taxpc + pctmin80 + wcon + wtuc +\n",
    "                         wtrd + wfir + wser + wmfg + wfed + wsta + wloc +\n",
    "                         mix + pctymle, data = dfCrime, match=\"weighted\",\n",
    "                         nk=3, B=10, n.impute = 100)"
   ]
  },
  {
   "cell_type": "code",
   "execution_count": null,
   "metadata": {
    "attributes": {
     "classes": [],
     "comment": "NA,",
     "echo": "TRUE",
     "id": "",
     "include": "TRUE,",
     "warning": "FALSE,"
    }
   },
   "outputs": [],
   "source": [
    "impute_arg"
   ]
  },
  {
   "cell_type": "code",
   "execution_count": null,
   "metadata": {
    "attributes": {
     "classes": [],
     "comment": "NA,",
     "echo": "TRUE",
     "id": "",
     "include": "TRUE,",
     "warning": "FALSE,"
    }
   },
   "outputs": [],
   "source": [
    "impute_arg$imputed$central\n",
    "median(impute_arg$imputed$central)"
   ]
  },
  {
   "cell_type": "code",
   "execution_count": null,
   "metadata": {
    "attributes": {
     "classes": [],
     "comment": "NA,",
     "echo": "TRUE",
     "id": "",
     "include": "TRUE,",
     "warning": "FALSE,"
    }
   },
   "outputs": [],
   "source": [
    "impute_arg$imputed$west\n",
    "median(impute_arg$imputed$west)"
   ]
  },
  {
   "cell_type": "code",
   "execution_count": null,
   "metadata": {
    "attributes": {
     "classes": [],
     "comment": "NA,",
     "echo": "TRUE",
     "id": "",
     "include": "TRUE,",
     "warning": "FALSE,"
    }
   },
   "outputs": [],
   "source": [
    "impute_arg$imputed$urban\n",
    "median(impute_arg$imputed$urban)"
   ]
  },
  {
   "cell_type": "markdown",
   "metadata": {},
   "source": [
    "The results confirm the county is urban. It is also highly probable that county 71 is not west and is most associated with central. After correcting our data for urban and west, let's compare 'central' with 'other' to be certain we have the right region."
   ]
  },
  {
   "cell_type": "code",
   "execution_count": null,
   "metadata": {
    "attributes": {
     "classes": [],
     "comment": "NA,",
     "echo": "TRUE",
     "id": "",
     "include": "TRUE,",
     "warning": "FALSE,"
    }
   },
   "outputs": [],
   "source": [
    "dfCrime$urban[which(dfCrime$county==71)]<-median(impute_arg$imputed$urban)\n",
    "dfCrime$urban[which(dfCrime$county==71)]\n",
    "dfCrime$nonurban[which(dfCrime$county==71)]<-(1-median(impute_arg$imputed$urban))\n",
    "dfCrime$nonurban[which(dfCrime$county==71)]\n",
    "dfCrime$west[which(dfCrime$county==71)]<-median(impute_arg$imputed$west)\n",
    "dfCrime$west[which(dfCrime$county==71)]"
   ]
  },
  {
   "cell_type": "code",
   "execution_count": null,
   "metadata": {
    "attributes": {
     "classes": [],
     "comment": "NA,",
     "echo": "TRUE,",
     "id": "",
     "include": "TRUE,",
     "results": "'hide'",
     "warning": "FALSE,"
    }
   },
   "outputs": [],
   "source": [
    "impute_arg <- aregImpute(~ crmrte + central + other +\n",
    "                         prbarr + prbconv + prbpris + avgsen + polpc + \n",
    "                         density + taxpc + pctmin80 + wcon + wtuc +\n",
    "                         wtrd + wfir + wser + wmfg + wfed + wsta + wloc +\n",
    "                         mix + pctymle, data = dfCrime, match=\"weighted\",\n",
    "                         nk=3, B=10, n.impute = 100)"
   ]
  },
  {
   "cell_type": "code",
   "execution_count": null,
   "metadata": {
    "attributes": {
     "classes": [],
     "comment": "NA,",
     "echo": "TRUE",
     "id": "",
     "include": "TRUE,",
     "warning": "FALSE,"
    }
   },
   "outputs": [],
   "source": [
    "impute_arg"
   ]
  },
  {
   "cell_type": "code",
   "execution_count": null,
   "metadata": {
    "attributes": {
     "classes": [],
     "comment": "NA,",
     "echo": "TRUE",
     "id": "",
     "include": "TRUE,",
     "warning": "FALSE,"
    }
   },
   "outputs": [],
   "source": [
    "impute_arg$imputed$other\n",
    "median(impute_arg$imputed$other)"
   ]
  },
  {
   "cell_type": "markdown",
   "metadata": {},
   "source": [
    "We also show a strong likelihood of the county not being other. The case for central is high. Since the county is not western and not other it must be in central by default, and the Hmisc algorithm bolsters that suggestion. We'll assign our new values."
   ]
  },
  {
   "cell_type": "code",
   "execution_count": null,
   "metadata": {
    "attributes": {
     "classes": [],
     "comment": "NA,",
     "echo": "TRUE",
     "id": "",
     "include": "TRUE,",
     "warning": "FALSE,"
    }
   },
   "outputs": [],
   "source": [
    "dfCrime$other[which(dfCrime$county==71)]<-median(impute_arg$imputed$other)\n",
    "dfCrime$other[which(dfCrime$county==71)]\n",
    "dfCrime$central[which(dfCrime$county==71)]<-1-dfCrime$other[which(dfCrime$county==71)]\n",
    "dfCrime$central[which(dfCrime$county==71)]"
   ]
  },
  {
   "cell_type": "markdown",
   "metadata": {},
   "source": [
    "Recode the categories for region and metro"
   ]
  },
  {
   "cell_type": "code",
   "execution_count": null,
   "metadata": {
    "attributes": {
     "classes": [],
     "comment": "NA,",
     "echo": "TRUE",
     "id": "",
     "include": "TRUE,",
     "warning": "FALSE,"
    }
   },
   "outputs": [],
   "source": [
    "dfCrime$region <- case_when (\n",
    "            (dfCrime$central ==0 & dfCrime$west ==0) ~ 0, #Eastern, Coastal, Other\n",
    "            (dfCrime$central ==0 & dfCrime$west ==1) ~ 1, #Western\n",
    "            (dfCrime$central ==1 & dfCrime$west ==0) ~ 2  #Central\n",
    "        )\n",
    "dfCrime$regcode =\n",
    "            factor( dfCrime$region , levels = 0:2 , labels =\n",
    "                    c( 'O',\n",
    "                       'W',\n",
    "                       'C' )\n",
    "                   )"
   ]
  },
  {
   "cell_type": "code",
   "execution_count": null,
   "metadata": {
    "attributes": {
     "classes": [],
     "comment": "NA,",
     "echo": "TRUE",
     "id": "",
     "include": "TRUE,",
     "warning": "FALSE,"
    }
   },
   "outputs": [],
   "source": [
    "dfCrime$metro =\n",
    "            factor( dfCrime$urban , levels = 0:1 , labels =\n",
    "                    c( 'Outside',\n",
    "                       'Inside'\n",
    "                      )\n",
    "                   )"
   ]
  },
  {
   "cell_type": "code",
   "execution_count": null,
   "metadata": {
    "attributes": {
     "classes": [],
     "comment": "NA,",
     "echo": "TRUE",
     "id": "",
     "include": "TRUE,",
     "warning": "FALSE,"
    }
   },
   "outputs": [],
   "source": [
    "dfCrime %>%\n",
    "filter(county == 71) %>%\n",
    "select(county, west, central, urban, region, regcode, metro)"
   ]
  },
  {
   "cell_type": "markdown",
   "metadata": {},
   "source": [
    "Let's review our density numbers again by looking in more detail at its distribution."
   ]
  },
  {
   "cell_type": "code",
   "execution_count": null,
   "metadata": {
    "attributes": {
     "classes": [],
     "comment": "NA,",
     "echo": "TRUE",
     "id": "",
     "include": "TRUE,",
     "warning": "FALSE,"
    }
   },
   "outputs": [],
   "source": [
    "#options(repr.plot.width=8, repr.plot.height=4)\n",
    "ggplot(data = dfCrime, aes(x = density)) + \n",
    "      geom_histogram(bins=90)"
   ]
  },
  {
   "cell_type": "markdown",
   "metadata": {},
   "source": [
    "We note that one of the counties has an extremely low density. Near zero."
   ]
  },
  {
   "cell_type": "code",
   "execution_count": null,
   "metadata": {
    "attributes": {
     "classes": [],
     "comment": "NA,",
     "echo": "TRUE",
     "id": "",
     "include": "TRUE,",
     "warning": "FALSE,"
    }
   },
   "outputs": [],
   "source": [
    "dfCrime %>%\n",
    "filter(density < 0.01)"
   ]
  },
  {
   "cell_type": "markdown",
   "metadata": {},
   "source": [
    "In review of the North Carolina county density data from 1985, the smallest population density in any county in North Carolina is 0.0952. This makes the density of 0.0000203422 for county 173 statistically impossible. It is miscoded.\n",
    "\n",
    "http://ncosbm.s3.amazonaws.com/s3fs-public/demog/dens7095.xls\n",
    "\n",
    "(Note to team: We could use this table if we want to assign names to our counties by comparing the population densities. What is interesting is that the 6 rows of missing values we removed earlier can be found in the tail of this table. There was an arbitrary cut off after a certain density - lkely because the counties were not statistically significant. County 173 is not one of those counties, however, as our imputation process will demonstrate.)"
   ]
  },
  {
   "cell_type": "code",
   "execution_count": null,
   "metadata": {
    "attributes": {
     "classes": [],
     "comment": "NA,",
     "echo": "TRUE",
     "id": "",
     "include": "TRUE,",
     "warning": "FALSE,"
    }
   },
   "outputs": [],
   "source": [
    "dfCrime$density[which(dfCrime$county==173)]<- NA"
   ]
  },
  {
   "cell_type": "code",
   "execution_count": null,
   "metadata": {
    "attributes": {
     "classes": [],
     "comment": "NA,",
     "echo": "TRUE,",
     "id": "",
     "include": "TRUE,",
     "results": "'hide'",
     "warning": "FALSE,"
    }
   },
   "outputs": [],
   "source": [
    "#dfSubset <-  #we will use the non-urban western counties\n",
    "impute_arg <- aregImpute(~ crmrte + \n",
    "                         prbarr + prbconv + prbpris + avgsen + polpc + \n",
    "                         density + taxpc + pctmin80 + wcon + wtuc +\n",
    "                         wtrd + wfir + wser + wmfg + wfed + wsta + wloc +\n",
    "                         mix + pctymle, data = dfCrime %>% filter(urban==0 & west ==1),\n",
    "                         match=\"weighted\",  nk=3, B=10, n.impute = 30)"
   ]
  },
  {
   "cell_type": "code",
   "execution_count": null,
   "metadata": {
    "attributes": {
     "classes": [],
     "comment": "NA,",
     "echo": "TRUE",
     "id": "",
     "include": "TRUE,",
     "warning": "FALSE,"
    }
   },
   "outputs": [],
   "source": [
    "impute_arg"
   ]
  },
  {
   "cell_type": "code",
   "execution_count": null,
   "metadata": {
    "attributes": {
     "classes": [],
     "comment": "NA,",
     "echo": "TRUE",
     "id": "",
     "include": "TRUE,",
     "warning": "FALSE,"
    }
   },
   "outputs": [],
   "source": [
    "impute_arg$imputed$density"
   ]
  },
  {
   "cell_type": "code",
   "execution_count": null,
   "metadata": {
    "attributes": {
     "classes": [],
     "comment": "NA,",
     "echo": "TRUE",
     "id": "",
     "include": "TRUE,",
     "warning": "FALSE,"
    }
   },
   "outputs": [],
   "source": [
    "dfCrime$density[which(dfCrime$county==173)]<-mean(impute_arg$imputed$density)\n",
    "dfCrime$density[which(dfCrime$county==173)]"
   ]
  },
  {
   "cell_type": "markdown",
   "metadata": {},
   "source": [
    "Now, we will examine histograms for the remaining variables"
   ]
  },
  {
   "cell_type": "code",
   "execution_count": null,
   "metadata": {
    "attributes": {
     "classes": [],
     "comment": "NA,",
     "echo": "TRUE",
     "id": "",
     "include": "TRUE,",
     "warning": "FALSE,"
    }
   },
   "outputs": [],
   "source": [
    "dfEconVars <- as.data.frame(cbind(dfCrime$wcon, dfCrime$wtuc, dfCrime$wtrd, dfCrime$wfir, \n",
    "                                  dfCrime$wser, dfCrime$wmfg, dfCrime$wfed, dfCrime$wsta, \n",
    "                                  dfCrime$wloc))\n",
    "names(dfEconVars) <- c('wcon', 'wtuc', 'wtrd', 'wfir', 'wser', \n",
    "                              'wmfg', 'wfed', 'wsta', 'wloc')\n",
    "\n",
    "ggplot(melt(dfEconVars),aes(x=value)) + geom_histogram(bins=30) + facet_wrap(~variable)"
   ]
  },
  {
   "cell_type": "markdown",
   "metadata": {},
   "source": [
    "Each histogram for the wage information looks  evenly distributed. We have no further remark at this time. We move to the justice an law enforcement variables. With these variables being mostly < 1 we'll also take the log for comparison."
   ]
  },
  {
   "cell_type": "code",
   "execution_count": null,
   "metadata": {
    "attributes": {
     "classes": [],
     "comment": "NA,",
     "echo": "TRUE",
     "id": "",
     "include": "TRUE,",
     "warning": "FALSE,"
    }
   },
   "outputs": [],
   "source": [
    "q1<-ggplot(data = dfCrime, aes(x = prbarr)) + \n",
    "      geom_histogram(bins=30)\n",
    "q11<-ggplot(data = dfCrime, aes(x = log(prbarr))) + \n",
    "      geom_histogram(bins=30) \n",
    "            \n",
    "q2<-ggplot(data = dfCrime, aes(x = prbconv)) + \n",
    "      geom_histogram(bins=30)\n",
    "q21<-ggplot(data = dfCrime, aes(x = log(prbconv))) + \n",
    "      geom_histogram(bins=30)\n",
    "\n",
    "q3<-ggplot(data = dfCrime, aes(x = prbpris)) + \n",
    "      geom_histogram(bins=30)\n",
    "q31<-ggplot(data = dfCrime, aes(x = log(prbpris))) + \n",
    "      geom_histogram(bins=30)\n",
    "\n",
    "q4<-ggplot(data = dfCrime, aes(x = avgsen)) + \n",
    "      geom_histogram(bins=30)\n",
    "q41<-ggplot(data = dfCrime, aes(x = log(avgsen))) + \n",
    "      geom_histogram(bins=30)\n",
    "\n",
    "q5<-ggplot(data = dfCrime, aes(x = polpc)) + \n",
    "      geom_histogram(bins=30)\n",
    "q51<-ggplot(data = dfCrime, aes(x = log(polpc))) + \n",
    "      geom_histogram(bins=30)\n",
    "\n",
    "q6<-ggplot(data = dfCrime, aes(x = mix)) + \n",
    "      geom_histogram(bins=30)\n",
    "q61<-ggplot(data = dfCrime, aes(x = log(mix))) + \n",
    "      geom_histogram(bins=30)\n",
    "\n",
    "\n",
    "grid.arrange(q1, q11, q2, q21, q3, q31, q4, q41, q5, q51, q6, q61, ncol=2)"
   ]
  },
  {
   "cell_type": "markdown",
   "metadata": {},
   "source": [
    "The log transformation for these variables makes them more evenly distributed. We will transform these variables to their log equivalents and confirm with plots to see whether the result shows more linearity."
   ]
  },
  {
   "cell_type": "code",
   "execution_count": null,
   "metadata": {
    "attributes": {
     "classes": [],
     "comment": "NA,",
     "echo": "TRUE",
     "id": "",
     "include": "TRUE,",
     "warning": "FALSE,"
    }
   },
   "outputs": [],
   "source": [
    "#Plot of the criminal justice and law enforcment related variables vs crmrte\n",
    "q1<-ggplot(data = dfCrime, aes(x = log(prbarr), y = crmrte, color = region)) + \n",
    "      geom_point()+\n",
    "  geom_smooth(method = \"lm\")\n",
    "q2<-ggplot(data = dfCrime, aes(x = log(prbconv), y = crmrte, color = region)) + \n",
    "      geom_point()+\n",
    "  geom_smooth(method = \"lm\")\n",
    "q3<-ggplot(data = dfCrime, aes(x = log(prbpris), y = crmrte, color = region)) + \n",
    "      geom_point()+\n",
    "  geom_smooth(method = \"lm\")\n",
    "q4<-ggplot(data = dfCrime, aes(x = log(avgsen), y = crmrte, color = region)) + \n",
    "      geom_point()+\n",
    "  geom_smooth(method = \"lm\")\n",
    "q5<-ggplot(data = dfCrime, aes(x = log(polpc), y = crmrte, color = region)) + \n",
    "      geom_point()+\n",
    "  geom_smooth(method = \"lm\")\n",
    "q6<-ggplot(data = dfCrime, aes(x = log(mix), y = crmrte, color = region)) + \n",
    "      geom_point()+\n",
    "  geom_smooth(method = \"lm\")\n",
    "\n",
    "grid.arrange(q1, q2, q3, q4, q5, q6, ncol=2)"
   ]
  },
  {
   "cell_type": "markdown",
   "metadata": {},
   "source": [
    "Of the six variables, only prbarr, prbconv and polpc show univariate correlation with crime. We believe these will be better candidates for our model selection. Further, we see mix has no correlation with crmrate and may be its own outcome variable."
   ]
  },
  {
   "cell_type": "code",
   "execution_count": null,
   "metadata": {
    "attributes": {
     "classes": [],
     "comment": "NA,",
     "echo": "TRUE",
     "id": "",
     "include": "TRUE,",
     "warning": "FALSE,"
    }
   },
   "outputs": [],
   "source": [
    "dfCrime$logprbarr <- log(dfCrime$prbarr)\n",
    "dfCrime$logprbconv <- log(dfCrime$prbconv)\n",
    "dfCrime$logprbpris <- log(dfCrime$prbpris)\n",
    "dfCrime$logavgsen <- log(dfCrime$avgsen)\n",
    "dfCrime$logpolpc <- log(dfCrime$polpc)\n",
    "dfCrime$logmix <- log(dfCrime$mix)"
   ]
  },
  {
   "cell_type": "markdown",
   "metadata": {},
   "source": [
    "Next we take a look at the demographic histograms and their log alternatives"
   ]
  },
  {
   "cell_type": "code",
   "execution_count": null,
   "metadata": {
    "attributes": {
     "classes": [],
     "comment": "NA,",
     "echo": "TRUE",
     "id": "",
     "include": "TRUE,",
     "warning": "FALSE,"
    }
   },
   "outputs": [],
   "source": [
    "q1<-ggplot(data = dfCrime, aes(x = pctymle)) + \n",
    "      geom_histogram(bins=30)\n",
    "q11<-ggplot(data = dfCrime, aes(x = log(pctymle))) + \n",
    "      geom_histogram(bins=30) \n",
    "            \n",
    "q2<-ggplot(data = dfCrime, aes(x = pctmin80)) + \n",
    "      geom_histogram(bins=30)\n",
    "q21<-ggplot(data = dfCrime, aes(x = log(pctmin80))) + \n",
    "      geom_histogram(bins=30)\n",
    "\n",
    "q3<-ggplot(data = dfCrime, aes(x = density)) + \n",
    "      geom_histogram(bins=30)\n",
    "q31<-ggplot(data = dfCrime, aes(x = log(density))) + \n",
    "      geom_histogram(bins=30)\n",
    "\n",
    "\n",
    "grid.arrange(q1, q11, q2, q21, q3, q31, ncol=2)"
   ]
  },
  {
   "cell_type": "markdown",
   "metadata": {},
   "source": [
    "The shape after transformation make the data more distributed. We will include transfomations of these variables as well."
   ]
  },
  {
   "cell_type": "code",
   "execution_count": null,
   "metadata": {
    "attributes": {
     "classes": [],
     "comment": "NA,",
     "echo": "TRUE",
     "id": "",
     "include": "TRUE,",
     "warning": "FALSE,"
    }
   },
   "outputs": [],
   "source": [
    "dfCrime$logdensity <- log(dfCrime$density)\n",
    "dfCrime$logtaxpc <- log(dfCrime$taxpc)\n",
    "dfCrime$logpctmin80 <- log(dfCrime$pctmin80)\n",
    "dfCrime$logpctymle <- log(dfCrime$pctymle)"
   ]
  },
  {
   "cell_type": "markdown",
   "metadata": {},
   "source": [
    "Finally, we'll take a look at taxpc and the crmrte variable itself."
   ]
  },
  {
   "cell_type": "code",
   "execution_count": null,
   "metadata": {
    "attributes": {
     "classes": [],
     "comment": "NA,",
     "echo": "TRUE",
     "id": "",
     "include": "TRUE,",
     "warning": "FALSE,"
    }
   },
   "outputs": [],
   "source": [
    "q1<-ggplot(data = dfCrime, aes(x = taxpc)) + \n",
    "      geom_histogram(bins=30)\n",
    "q11<-ggplot(data = dfCrime, aes(x = log(taxpc))) + \n",
    "      geom_histogram(bins=30) \n",
    "            \n",
    "q2<-ggplot(data = dfCrime, aes(x = crmrte)) + \n",
    "      geom_histogram(bins=30)\n",
    "q21<-ggplot(data = dfCrime, aes(x = log(crmrte))) + \n",
    "      geom_histogram(bins=30)\n",
    "\n",
    "grid.arrange(q1, q11, q2, q21, ncol=2)"
   ]
  },
  {
   "cell_type": "markdown",
   "metadata": {},
   "source": [
    "The crmrte and taxpc variables are more evenly distributed after transformation. We'll add those to our dataframe."
   ]
  },
  {
   "cell_type": "code",
   "execution_count": null,
   "metadata": {
    "attributes": {
     "classes": [],
     "comment": "NA,",
     "echo": "TRUE",
     "id": "",
     "include": "TRUE,",
     "warning": "FALSE,"
    }
   },
   "outputs": [],
   "source": [
    "dfCrime$logcrmrte = log(dfCrime$crmrte)\n",
    "dfCrime4logtaxpc = log(dfCrime$taxpc)"
   ]
  },
  {
   "cell_type": "markdown",
   "metadata": {},
   "source": [
    "As a final point of discussion we will identify additional variables  we wish to operationalize for use in our models. The include a variable that expresses the economic condition of the county and a variable that expresses criminal justice effectiveness.\n",
    "\n",
    "The first variable on the economic condition will include the sum of all average weekly wages  from the 1980 census information. Since we do not know how many were employed at that wage we use this summary the best available proxy."
   ]
  },
  {
   "cell_type": "code",
   "execution_count": null,
   "metadata": {
    "attributes": {
     "classes": [],
     "comment": "NA,",
     "echo": "TRUE",
     "id": "",
     "include": "TRUE,",
     "warning": "FALSE,"
    }
   },
   "outputs": [],
   "source": [
    "dfCrime$allWages<-dfCrime$wcon + dfCrime$wtuc + dfCrime$wtrd + dfCrime$wfir +\n",
    "    dfCrime$wser + dfCrime$wmfg + dfCrime$wfed + dfCrime$wsta + dfCrime$wloc"
   ]
  },
  {
   "cell_type": "markdown",
   "metadata": {},
   "source": [
    "As a second variable, we are interested in understanding the effectiveness of the criminal justice system as a crime deterrent. Our proxy will be the number of convictions per incident.\n",
    "\n",
    "This is operationalized by taking the probability of arrests, pbrarr (which is defined as arrests per incident) and multiplying by the probability of convictions, pbrconv (which is defined as convictions per arrest). The new variable is defined below."
   ]
  },
  {
   "cell_type": "code",
   "execution_count": null,
   "metadata": {
    "attributes": {
     "classes": [],
     "comment": "NA,",
     "echo": "TRUE",
     "id": "",
     "include": "TRUE,",
     "warning": "FALSE,"
    }
   },
   "outputs": [],
   "source": [
    "dfCrime$crimJustEff<-dfCrime$prbarr * dfCrime$prbconv"
   ]
  },
  {
   "cell_type": "markdown",
   "metadata": {},
   "source": [
    "We will also create a logarithmic transformation of this variable based on our histogram analysis from before."
   ]
  },
  {
   "cell_type": "code",
   "execution_count": null,
   "metadata": {
    "attributes": {
     "classes": [],
     "comment": "NA,",
     "echo": "TRUE",
     "id": "",
     "include": "TRUE,",
     "warning": "FALSE,"
    }
   },
   "outputs": [],
   "source": [
    "dfCrime$logcrimJustEff<-log10(dfCrime$crimJustEff)"
   ]
  },
  {
   "cell_type": "markdown",
   "metadata": {},
   "source": [
    "## Summary and Results\n",
    "\n",
    "Our outcome variable is the *crime rate* (“crmrte”), which is defined as the crimes committed per person in a specific county during 1987. The crime rate of the 90 counties in our sample dataset range between 0.0055 - 0.0990, with a mean of 0.0335.\n",
    "\n",
    "From the boxplot below, most of the counties have a crime rate between 0.0055 and 0.0700, with 5 outliers having a crime rate > 0.0700."
   ]
  },
  {
   "cell_type": "code",
   "execution_count": null,
   "metadata": {
    "attributes": {
     "classes": [],
     "comment": "NA,",
     "echo": "TRUE",
     "id": "",
     "include": "TRUE,",
     "warning": "FALSE,"
    }
   },
   "outputs": [],
   "source": [
    "options(repr.plot.width=4, repr.plot.height=4)\n",
    "ggplot(data = dfCrime, aes(y = crmrte)) + \n",
    "      geom_boxplot()"
   ]
  },
  {
   "cell_type": "markdown",
   "metadata": {},
   "source": [
    "While mix (the type of crime committed) is also potentially an outcome variable, our research focuses on providing policy recommendations to reduce crime in general and not a specific type of crime. Mix is also not a linear outcome and hence difficult to measure. \n",
    "\n",
    "We propose 3 multiple linear regression models\n",
    "\n",
    "* First Model: Has only the explanatory variables of key interest and no other covariates.\n",
    "\n",
    "* Second Model: Includes the explanatory variables and covariates that increase the accuracy of our results without substantial bias.\n",
    "\n",
    "* Third Model: An expansion of the second model with most covariates, designed to demonstrate the robustness of our results to model specification.\n",
    "\n",
    "As we proceed with each model, we verify the CLM assumptions of OLS are addressed below:\n",
    "\n",
    "* **MLR1** Linear in parameters: The models have had its data transformed as described above to allow a linear fit of the model.\n",
    "* **MLR2** Random Sampling: The data is collected from a data set with rolled up data for each county.  It is not randomly sampled by area or population.\n",
    "* **MLR3** No perfect multicollinearity: None of the variables chosen for the model are constant or perfectly collinear as demonstrated by the scatterplot below.\n",
    "* **MLR4'** The expectation of u and and covariance of each regressor with u are ~0.  This shows that our model’s regressors are exogenous with the error.\n",
    "* **MLR5'** Spherical errors: There is homoscedasticity and no autocorrelation [TBD].\n",
    "* **MLR6'** Our error terms should be normally distributed [TBD]. \n",
    "\n",
    "By satisfying these assumptions, we can expect  our coefficients will be approaching the true parameter values in probability.\n",
    "\n",
    "#### Evidence of multi-collinearity (or perfect collinearity)?"
   ]
  },
  {
   "cell_type": "code",
   "execution_count": null,
   "metadata": {
    "attributes": {
     "classes": [],
     "comment": "NA,",
     "echo": "TRUE",
     "id": "",
     "include": "TRUE,",
     "warning": "FALSE,"
    }
   },
   "outputs": [],
   "source": [
    "options(repr.plot.width=8, repr.plot.height=8)\n",
    "pairs(~ logcrimJustEff + logpolpc + allWages + logtaxpc + logdensity + logpctmin80 +\n",
    "        logpctymle, data=dfCrime, main=\"Scatterplot Matrix of Model Variables\")"
   ]
  },
  {
   "cell_type": "markdown",
   "metadata": {},
   "source": [
    "# Model Analysis\n",
    "\n",
    "## Model 1 \n",
    "### Introduction\n",
    "Our base hypothesis is that crime can be fundamentally explained by two factors: the effectiveness of the criminal justice system and the economic conditions.\n",
    "\n",
    "Criminal Justice Effectiveness is self defined : To be able to track crimes, they must be reported to police, who can then make arrests and the legal system provides judgement (convictions/sentencing)\n",
    "Criminal justice also has a relationship to crime as a deterrent, as the probability of getting caught, convicted, sentenced could potentially deter crime.\n",
    "\n",
    "We operationalize criminal justice effectiveness as (probability of Convictions * Crimes committed). We define this as: prbconv * prbarr = conv/arrest * arrest/crime = convictions/crime. Without more granular data, this provides a single parsimonious metric that helps understand how the law enforcement and criminal justice system works.\n",
    "\n",
    "### Model 1 EDA\n",
    "\n",
    "**Data Transformations**"
   ]
  },
  {
   "cell_type": "code",
   "execution_count": null,
   "metadata": {
    "attributes": {
     "classes": [],
     "comment": "NA,",
     "echo": "TRUE",
     "id": "",
     "include": "TRUE,",
     "warning": "FALSE,"
    }
   },
   "outputs": [],
   "source": [
    "options(repr.plot.width=4, repr.plot.height=4)\n",
    "hist((dfCrime$prbconv))\n",
    "hist((dfCrime$prbarr))"
   ]
  },
  {
   "cell_type": "markdown",
   "metadata": {},
   "source": [
    "The distribution of both probability of conviction and probability of arrest are peculiar and non-normal.  It could be argued that both of these variables should be bound between 0 and 1.  However, \"probability\" of conviction is proxied by a ratio of convictions to arrests.  It is in fact common that defendents are charged with multiple crimes and convicted, but were only arrested once. \n",
    "\n",
    "For \"probability\" of arrest, it could be possible there are multiple arrests for a single offense. However, the single data point that is greater than one, is >3 standard deviations away from the distribution.  This outlier will have high leverage on our model and will be preemptively removed as the data supplied is likely in error and is not representative of the bulk of North Carolina counties. \n",
    "\n",
    "For parsimony, we can simply the probability of arrest and probability of conviction by multiplying to effectively get the ratio of convictions to offenses.  The normality of this factor can be improved by taking a log transform. QQ plots help to visualize how normality improves for the inner quartiles."
   ]
  },
  {
   "cell_type": "code",
   "execution_count": null,
   "metadata": {
    "attributes": {
     "classes": [],
     "comment": "NA,",
     "echo": "TRUE",
     "id": "",
     "include": "TRUE,",
     "warning": "FALSE,"
    }
   },
   "outputs": [],
   "source": [
    "# how many standard deviations away the outlier lies\n",
    "(dfCrime[51,]$prbarr - mean(dfCrime$prbarr))/sd(dfCrime$prbarr) \n",
    "#hist(log(dfCrime$crimJustEff))\n",
    "ggplot(data=dfCrime, aes(sample= crimJustEff)) + stat_qq() + stat_qq_line() + \n",
    "  ggtitle(\"QQ Plot of Crim Just Eff\")"
   ]
  },
  {
   "cell_type": "code",
   "execution_count": null,
   "metadata": {
    "attributes": {
     "classes": [],
     "comment": "NA,",
     "echo": "TRUE",
     "id": "",
     "include": "TRUE,",
     "warning": "FALSE,"
    }
   },
   "outputs": [],
   "source": [
    "dfCrime <- dfCrime[dfCrime$crimJustEff < 1,] # removing high flying outlier\n",
    "ggplot(data=dfCrime, aes(sample= crimJustEff)) + stat_qq() + stat_qq_line() + \n",
    "  ggtitle(\"QQ Plot of Crim Just Eff\")"
   ]
  },
  {
   "cell_type": "code",
   "execution_count": null,
   "metadata": {
    "attributes": {
     "classes": [],
     "comment": "NA,",
     "echo": "TRUE",
     "id": "",
     "include": "TRUE,",
     "warning": "FALSE,"
    }
   },
   "outputs": [],
   "source": [
    "ggplot(data=dfCrime, aes(sample= logcrimJustEff)) + stat_qq() + stat_qq_line() + \n",
    "ggtitle(\"QQ Plot of log transformed Crim Just Eff\")\n",
    "## Can show histogram/qqplot side by side in RMD. "
   ]
  },
  {
   "cell_type": "markdown",
   "metadata": {},
   "source": [
    "We theorize that the second major cause of crime are bad economic conditions.  When there are worse economic conditions, crime can be more attractive due to:\n",
    "\n",
    "* Lack of means: People forced into crimes because they need to make ends meet\n",
    "* Lack of occupation: People commit crimes because they are not busy at work\n",
    "* Lack of opportunity: High discount rate for future due to no long-term opportunity, incentive to take the risk and commit crimes hoping for big payoff. \n",
    "\n",
    "We operationalize economic conditions by looking at wages. For this model, we define this as the sum of all average wages in each county. We think this is best proxy from our data because it answers all of the above (higher wages leads to better means and better opportunities). From our EDA we also confirm that in general these sums are not skewed by having 1 really high paying sector in each county as we see a strong relationship between avg quartile across all job types and total sum.  This can be seen in the chart below."
   ]
  },
  {
   "cell_type": "code",
   "execution_count": null,
   "metadata": {
    "attributes": {
     "classes": [],
     "comment": "NA,",
     "echo": "TRUE",
     "id": "",
     "include": "TRUE,",
     "warning": "FALSE,"
    }
   },
   "outputs": [],
   "source": [
    "# # Quantiles for all jobs\n",
    "dfWage<-mutate(dfCrime,qCon=ntile(dfCrime$wcon,4))\n",
    "dfWage<-mutate(dfWage,qTuc=ntile(dfCrime$wtuc,4))\n",
    "dfWage<-mutate(dfWage,qTrd=ntile(dfCrime$wtrd,4))\n",
    "dfWage<-mutate(dfWage,qFir=ntile(dfCrime$wfir,4))\n",
    "dfWage<-mutate(dfWage,qSer=ntile(dfCrime$wser,4))\n",
    "dfWage<-mutate(dfWage,qMfg=ntile(dfCrime$wmfg,4))\n",
    "dfWage<-mutate(dfWage,qFed=ntile(dfCrime$wfed,4))\n",
    "dfWage<-mutate(dfWage,qSta=ntile(dfCrime$wsta,4))\n",
    "dfWage<-mutate(dfWage,qLoc=ntile(dfCrime$wloc,4))\n",
    "## Average quantile\n",
    "dfWage$qAvg= (dfWage$qCon+dfWage$qTuc+dfWage$qTrd+dfWage$qFir+dfWage$qSer+dfWage$qMfg+\n",
    "                dfWage$qFed+dfWage$qSta+dfWage$qLoc)/9\n",
    "plot(dfCrime$allWages,dfWage$qAvg)"
   ]
  },
  {
   "cell_type": "code",
   "execution_count": null,
   "metadata": {
    "attributes": {
     "classes": [],
     "comment": "NA,",
     "echo": "TRUE",
     "id": "",
     "include": "TRUE,",
     "warning": "FALSE,"
    }
   },
   "outputs": [],
   "source": [
    "hist(dfCrime$allWages)\n",
    "ggplot(data=dfCrime, aes(sample= allWages)) + stat_qq() + stat_qq_line() +\n",
    "  ggtitle(\"QQ Plot of sum of wages\")"
   ]
  },
  {
   "cell_type": "markdown",
   "metadata": {},
   "source": [
    "### Model 1 Linear Model"
   ]
  },
  {
   "cell_type": "code",
   "execution_count": null,
   "metadata": {
    "attributes": {
     "classes": [],
     "comment": "NA,",
     "echo": "TRUE",
     "id": "",
     "include": "TRUE,",
     "warning": "FALSE,"
    }
   },
   "outputs": [],
   "source": [
    "mod1 <- lm(dfCrime$logcrmrte ~ dfCrime$allWages + dfCrime$logcrimJustEff)\n",
    "(mod1)\n",
    "summary(mod1)$adj.r.square\n",
    "## will be details on effect size and standard error as we cover this in class."
   ]
  },
  {
   "cell_type": "code",
   "execution_count": null,
   "metadata": {
    "attributes": {
     "classes": [],
     "comment": "NA,",
     "echo": "TRUE",
     "id": "",
     "include": "TRUE,",
     "warning": "FALSE,"
    }
   },
   "outputs": [],
   "source": [
    "plot(mod1, which=5)"
   ]
  },
  {
   "cell_type": "code",
   "execution_count": null,
   "metadata": {
    "attributes": {
     "classes": [],
     "comment": "NA,",
     "echo": "TRUE",
     "id": "",
     "include": "TRUE,",
     "warning": "FALSE,"
    }
   },
   "outputs": [],
   "source": [
    "plot(mod1, which=2)"
   ]
  },
  {
   "cell_type": "code",
   "execution_count": null,
   "metadata": {
    "attributes": {
     "classes": [],
     "comment": "NA,",
     "echo": "TRUE",
     "id": "",
     "include": "TRUE,",
     "warning": "FALSE,"
    }
   },
   "outputs": [],
   "source": [
    "plot(mod1, which=3)"
   ]
  },
  {
   "cell_type": "code",
   "execution_count": null,
   "metadata": {
    "attributes": {
     "classes": [],
     "comment": "NA,",
     "echo": "TRUE",
     "id": "",
     "include": "TRUE,",
     "warning": "FALSE,"
    }
   },
   "outputs": [],
   "source": [
    "plot(mod1, which=1)"
   ]
  },
  {
   "cell_type": "markdown",
   "metadata": {},
   "source": [
    "The model shows a moderate good fit, with an adjusted R square of 0.46.  This can be interpreted as, the model explains 46% of the variation in crime.  Next the model is plotted in a Residuals vs Leverage plot.  This plot shows that all the points have a cook's distance of less than 0.5.  There are no points that have enough leverage and residual than when deleted greatly alter the model coefficients. \n",
    "\n",
    "The root of standardized residuals all fall within about 1.6.  This is very good, as we can expect 95% of the points to fall within 3 standardized residuals of each other. ($\\sqrt(3) \\approx 1.73$)\n",
    "\n",
    "Finally, the residuals vs fitted plot shows a well centered and mostly nromal distribution about 0.  There are no major trends or variation changes across the fitted values.  This suggests that major uncorrelated variables have not been left out of the model.  We will discuss the possible ommited variable biases further, in the next sections.\n",
    "\n",
    "**Model 1 CLM Assumptions: [To be finalized]**\n",
    "* **MLR1** Linear in paramters: The model has had its data transformed as described above to allow a linear fit of the model.\n",
    "* **MLR2** Random Sampling: The data is collected from a data set with rolled up data for each county.  It is not randomly sampled by area or population. \n",
    "* **MLR3** No perfect multicollinearity: None of the variables chosen for the model are constant or perfectly collinear as the economy and criminal justice effectiveness are independent.\n",
    "* **MLR4'** The expectation of u and and covariance of each regressor with u are ~0.  This shows that our model's regressors are exogenous with the error.  \n",
    "\n",
    "By satisfying these assumptions, we can expect that our coefficients are approaching the true parameter values in probability. \n",
    "\n",
    "##MLR 5,6 to be discussed in week 13...?"
   ]
  },
  {
   "cell_type": "code",
   "execution_count": null,
   "metadata": {
    "attributes": {
     "classes": [],
     "comment": "NA,",
     "echo": "TRUE",
     "id": "",
     "include": "TRUE,",
     "warning": "FALSE,"
    }
   },
   "outputs": [],
   "source": [
    "cov(resid(mod1), dfCrime$allWages)\n",
    "cov(resid(mod1), log(dfCrime$crimJustEff))\n",
    "mean(resid(mod1))"
   ]
  },
  {
   "cell_type": "markdown",
   "metadata": {},
   "source": [
    "## Model 2\n",
    "\n",
    "### Introduction\n",
    "In this model, we introduce the additional covariates of population per square mile (density), tax per capita (taxpc) and police per capita (polpc) to increase the accuracy of our regression. We are including these additional variables to our second model, as they add accuracy to the explanatory variables used in our first model:  \n",
    "\n",
    "1. The **DENSITY** of an area can have significant impacts on:\n",
    "    - **Criminal Justice Effectiveness**: with more people in a given area, crime frequency increases (+ bias direction). However, more people means there are more potential witnesses, making it easier to catch criminals (- bias direction). \n",
    "    - **Economic Opportunity (ie. AllWages)**: in high density areas, there is an increase in demand for support services such as food, retail, utilities, etc. As a result, there is a high demand for service jobs, which increases the economic opportunities within the area (+ bias direction).  However, more people in a given area, there is a closer proximity to drugs, alcohol and gang violence - all of which are inhimitors to better economic outcomes. \n",
    "2. The **Police Per Capita** in a county can be influential on the Criminal Justice Effectiveness. With more police in a given area, one would think that crime rates would decrease, however our correlation plot below tells a different story. Including this variable in our analysis will give us more insight into the variables used in model 1. \n",
    "3. The **Tax Per Capita** can have a direct impact on the Police Per Capita. A higher tax per capita, means that the county has more tax dollars to spend on protection services (ie. increasing the number of police in the county). \n",
    "\n",
    "\n",
    "$$log(crmrate) = \\beta_0 + \\beta_1crimjusteff + \\beta_2log(polpc) + \\beta_3density + \\beta_4allWages + \\beta_5taxpc + u$$\n",
    "\n",
    "### Model 2 EDA and Data Transformations"
   ]
  },
  {
   "cell_type": "code",
   "execution_count": null,
   "metadata": {
    "attributes": {
     "classes": [],
     "comment": "NA,",
     "echo": "TRUE",
     "id": "",
     "include": "TRUE,",
     "warning": "FALSE,"
    }
   },
   "outputs": [],
   "source": [
    "corrplot(cor(dfCrime[,c(\"logcrmrte\", \"logcrimJustEff\", \"logprbarr\", \"logprbconv\", \n",
    "                        \"prbpris\", \"polpc\", \"taxpc\", \"allWages\", \"urban\", \"density\",\n",
    "                        \"pctymle\", \"pctmin80\")]),method='circle', type = 'lower')\n",
    "\n",
    "par(mfrow = c(2,2))\n",
    "hist(dfCrime$polpc, breaks=25)\n",
    "hist(dfCrime$taxpc, breaks=25)\n",
    "hist(dfCrime$density, breaks=25)"
   ]
  },
  {
   "cell_type": "code",
   "execution_count": null,
   "metadata": {
    "attributes": {
     "classes": [],
     "comment": "NA,",
     "echo": "TRUE",
     "id": "",
     "include": "TRUE,",
     "warning": "FALSE,"
    }
   },
   "outputs": [],
   "source": [
    "par(mfrow = c(3,2))\n",
    "hist(dfCrime$polpc, main=\"Hist of polpc\")\n",
    "hist(dfCrime$logpolpc, main=\"Hist of Log10 logpolpc\")\n",
    "hist(dfCrime$taxpc, main=\"Hist of taxpc\")\n",
    "hist(dfCrime$logtaxpc, main=\"Hist of Log10 logtaxpc\")\n",
    "hist(dfCrime$density, main=\"Hist of density\")\n",
    "hist(dfCrime$logdensity, main=\"Hist of Log10 logdensity\")"
   ]
  },
  {
   "cell_type": "code",
   "execution_count": null,
   "metadata": {
    "attributes": {
     "classes": [],
     "comment": "NA,",
     "echo": "TRUE",
     "id": "",
     "include": "TRUE,",
     "warning": "FALSE,"
    }
   },
   "outputs": [],
   "source": [
    "# par(mfrow = c(2,2))\n",
    "# plot(dfCrime$logcrimJustEff, dfCrime$polpc, main = 'polpc vs logcrimJustEff', xlab='logcrimJustEff', ylab='polpc')\n",
    "# plot(dfCrime$logcrimJustEff, dfCrime$logpolpc, main = 'logpolpc vs logcrimJustEff', xlab='logcrimJustEff', ylab='logpolpc')\n",
    "# plot(dfCrime$logcrimJustEff, dfCrime$taxpc, main = 'taxpc vs logcrimJustEff', xlab='logcrimJustEff', ylab='taxpc')\n",
    "# plot(dfCrime$logcrimJustEff, dfCrime$logtaxpc, main = 'logtaxpc vs logcrimJustEff', xlab='logcrimJustEff', ylab='logtaxpc')"
   ]
  },
  {
   "cell_type": "markdown",
   "metadata": {},
   "source": [
    "In the histograms above, we see that the both polpc and taxpc exhibit right skew. Taking the $log_{10}$ of polpc brings the distribution closer to normal. However, the $log$ of taxpc and density makes the distributions even more skewed. \n",
    "\n",
    "As a result, we will use the $log$ of polpc (logpolpc) in our second model and will not transform the taxpc and density variables. \n",
    "\n",
    "### Model 2 Linear Model"
   ]
  },
  {
   "cell_type": "code",
   "execution_count": null,
   "metadata": {
    "attributes": {
     "classes": [],
     "comment": "NA,",
     "echo": "TRUE",
     "id": "",
     "include": "TRUE,",
     "warning": "FALSE,"
    }
   },
   "outputs": [],
   "source": [
    "model2 <- lm(logcrmrte ~ logcrimJustEff + logpolpc + allWages + taxpc + density, data = dfCrime)\n",
    "model2\n",
    "\n",
    "summary(model2)"
   ]
  },
  {
   "cell_type": "markdown",
   "metadata": {},
   "source": [
    "The Adjusted R-squared variable penalizes for additional variables, which means there is a chance that this value will decrease if the added variables do not contribute to the model. By comparing the Adjusted R-squared value between our first and second models, we see that log(polpc), taxpc and density help describe log(crmrate). Our second model has an Adjusted R-squared value of 0.5004, which means 50.04% of the variation in the $log_{10}$ of crime rate is explained by the explanatory variables used in this model. This is a significant increase compared to our first model, that has an Adjusted R-squared value of  0.4520. \n",
    "\n",
    "In addition, the F-statistic is 16.62 with a statistically significant p-value of < 6.263e-11. As a result, we reject the null hypothesis that none of the independent variables help to describe log(crmrate). \n",
    "\n",
    "Coefficient Analysis (assuming ceterus paribus):\n",
    "- logcrimJustEff: -0.1607. This suggests that for a 1% increase in criminal justice efficiency, there is a 0.1607% decrease in crime rate. \n",
    "- logpolpc: 0.3701. This suggests that for a 1% increase in police per capita, there is a 0.3701% increase in crime rate. \n",
    "- allWages: 0.00006692. This suggests that for a 1% increase in total average weekly wage, there is a 0.0067% increase in crime rate.\n",
    "- taxpc: -0.001632. This suggests that for a 1% increase in tax per capita, there is a 0.1632% decrease in crime rate.\n",
    "- density: 0.06259. This suggests that for a 1% increase in density, there is a 6.259% increase in crime rate.\n",
    "\n",
    "### Results - **WIP**\n",
    "- Standard Errors explanation will go here. Placeholder cell for now.\n",
    "\n",
    "\n",
    "**Model 2 CLM Assumptions: [To be Finalized]**\n",
    "* **MLR1** Linear in paramters: The model has had its data transformed as described above to allow a linear fit of the model.\n",
    "* **MLR2** Random Sampling: The data is collected from a data set with rolled up data for each county.  It is not randomly sampled by area or population. \n",
    "* **MLR3** No perfect multicollinearity: None of the variables chosen for the model are constant or perfectly collinear as the economy and criminal justice effectiveness are independent.\n",
    "* **MLR4'** The expectation of u and and covariance of each regressor with u are ~0.  This shows that our model's regressors are exogenous with the error.  \n",
    "\n",
    "By satisfying these assumptions, we can expect that our coefficients are approaching the true parameter values in probability. \n",
    "\n",
    "##MLR 5,6 to be discussed in week 13...?\n",
    "\n",
    "### Conclusion : Are the conclusions they draw based on this evaluation appropriate? Did the team interpret the results in terms of their research question?\n",
    "Compared to model 1, the adjusted $R^2$ of model 2 is only marginally higher. This suggests that we should continue our analysis by focusing on the join significance of the variables added in model 2.  \n",
    "\n",
    "## Model 3\n",
    "\n",
    "### Introduction\n",
    "Despite the improvements in the accuracy of model 2 over model 1, we are still only explaining about 55% of the variation in our data. As a result, we propose to also analyse the topic of demographics which could have an effec on both of our key explanatory variables.  \n",
    "\n",
    "One key component of demographics is the race of the county inhabitants and how they are perceived and treated by others, especially for minorities in the population.  For example, systemic racism could have an important effect on: \n",
    "* Criminal Justice Effectiveness: If police, lawyers and judges are racially biased, this could lead to more arrests and more convictions regardless of the strength of the legal case and the evidence. As a result, we hypothesize the crime rate would increase.\n",
    "* Economic Opportunity: Racism could prohibit members of the minority from having access to education, jobs and higher wages. Racism could also limit access to healthcare and social programmes which has a negative effect on economic opportunity. \n",
    "    \n",
    "However, since we cannot directly measure racism, we have to operationalize this covariate by examining its effect in the real world. We propose to use the variable pctmin80, which represents the percentage of minorities in the population of the county. This is a good indicator that is also a linear parameter: given a higher the percentage of minorities, we should expect to see a greater effect. \n",
    "\n",
    "We propose to operationalize gender and age with the variable \n",
    "\n",
    "We have also chosen not to include other variables from our dataset in our model:\n",
    "* Region: While geographical indicators are also important, particularly as they may represent clusters of jobs and skilled workers, it is not a linear parameter (i.e. we can not simply increase a region by \"1\" and expect to see an effect on the crime rate.\")\n",
    "* Urban: We believe the variable \"density\" better explains the same effects as \"urban\", while also being a linear parameter. In addition, there may be data points that failed to meet the cutoff for being defined as urban, but may still see the same effects as being urban and hence may distort our analysis.\n",
    "* Age and Gender: While age and gender are important demographic variables, the only variable in our dataset is pctymle which provides the percentage of young males in the population. However, given that this variable encompasses both male and young, we may not be able to discern if age or gender has the larger effect (if any at all). \n",
    "\n",
    "### Model 3 EDA and Data Transformations\n",
    "\n",
    "**Percentage Minority:**\n",
    "From the summary and boxplot below, we can see that the percentage of minorities ranges from 0.0154 - 0.6435, with a mean of 0.2621. We note that there are no major outliers.\n",
    "\n",
    "In addition from the scatterplots below, we see that using applying log10 on pctmin80 exposes a more linear relationship with the points more balanced on either side of the trendline. As a result, we will use the log-transformed version of pctmin80."
   ]
  },
  {
   "cell_type": "code",
   "execution_count": null,
   "metadata": {
    "attributes": {
     "classes": [],
     "comment": "NA,",
     "echo": "TRUE",
     "id": "",
     "include": "TRUE,",
     "warning": "FALSE,"
    }
   },
   "outputs": [],
   "source": [
    "summary(dfCrime$pctmin80)\n",
    "boxplot(dfCrime$pctmin80)"
   ]
  },
  {
   "cell_type": "code",
   "execution_count": null,
   "metadata": {
    "attributes": {
     "classes": [],
     "comment": "NA,",
     "echo": "TRUE",
     "id": "",
     "include": "TRUE,",
     "warning": "FALSE,"
    }
   },
   "outputs": [],
   "source": [
    "plot(dfCrime$pctmin80, dfCrime$logcrmrte)\n",
    "abline(lm(dfCrime$logcrmrte~dfCrime$pctmin80))\n",
    "plot(dfCrime$logpctmin80, dfCrime$logcrmrte)\n",
    "abline(lm(dfCrime$logcrmrte~dfCrime$logpctmin80))"
   ]
  },
  {
   "cell_type": "markdown",
   "metadata": {},
   "source": [
    "### Model 3 Linear Model"
   ]
  },
  {
   "cell_type": "code",
   "execution_count": null,
   "metadata": {
    "attributes": {
     "classes": [],
     "comment": "NA,",
     "echo": "TRUE",
     "id": "",
     "include": "TRUE,",
     "warning": "FALSE,"
    }
   },
   "outputs": [],
   "source": [
    "model3<-lm(logcrmrte ~ logcrimJustEff + logpolpc + allWages + taxpc + density +\n",
    "             logpctmin80 , data = dfCrime)\n",
    "summary(model3)"
   ]
  },
  {
   "cell_type": "markdown",
   "metadata": {},
   "source": [
    "The model shows a good fit, with an adjusted R-squared of 0.7322, meaning that the model explains 73% of the variation in crime. \n",
    "\n",
    "For all of our 6 different independent variables, we note each of them have statistical significance at the 95% level or better. Of these 6,  criminal justice efficiency, minority percentages and density are the most significant.\n",
    "\n",
    "**Interpretation of coefficients (Assuming ceterus paribus):**\n",
    "\n",
    "Positive coefficients:\n",
    "* Police presence: If we increase police per capita by 1 unit, we expect the crime rate to increase by 33%.\n",
    "* AllWages: If we increase wages by 1 dollar, we expect the crime rate to increase by 0.01%\n",
    "* Density: If we increase density by 1 unit, we expect the crime rate to increase by 5%\n",
    "* Percentage of minorities: If the percentage of minorities increase by 1%, we expect the crime rate to increase by 0.24%\n",
    "\n",
    "Negative coefficients:\n",
    "* Criminal justice efficiency: If we increase the criminal justice efficiency by 1%, we expect the crime rate to decrease by 0.34%.\n",
    "* Tax per capita: If we increase tax per capita by 1 unit, we expect the crime rate to decrease by 0.35%\n",
    "\n",
    "In addition, the F-statistic is 40.04 with a statistically significant p-value of < 2.2e-11. As a result, we reject the null hypothesis that none of the independent variables help to describe log(crmrate). \n",
    "\n",
    "\n",
    "**[Comment on standard error]**\n",
    "\n",
    "In the Residuals vs Leverage plot below, all the points have a cook's distance of less than 0.5. While there is a point with 0.6 leverage, there are no points that have residual that greatly alter the model coefficients.\n",
    "\n",
    "The root of standardized residuals all fall within about 1.6. This is very good, as we can expect 95% of the points to fall within 3 standardized residuals of each other. ( (⎯⎯√3)≈1.73 )\n",
    "\n",
    "Finally, the residuals vs fitted plot shows a well centered and mostly normal distribution about 0. There are no major trends or variation changes across the fitted values. This suggests that major uncorrelated variables have not been left out of the model."
   ]
  },
  {
   "cell_type": "code",
   "execution_count": null,
   "metadata": {
    "attributes": {
     "classes": [],
     "comment": "NA,",
     "echo": "TRUE",
     "id": "",
     "include": "TRUE,",
     "warning": "FALSE,"
    }
   },
   "outputs": [],
   "source": [
    "plot(model3, which = 5)"
   ]
  },
  {
   "cell_type": "code",
   "execution_count": null,
   "metadata": {
    "attributes": {
     "classes": [],
     "comment": "NA,",
     "echo": "TRUE",
     "id": "",
     "include": "TRUE,",
     "warning": "FALSE,"
    }
   },
   "outputs": [],
   "source": [
    "plot(mod1, which=3)"
   ]
  },
  {
   "cell_type": "code",
   "execution_count": null,
   "metadata": {
    "attributes": {
     "classes": [],
     "comment": "NA,",
     "echo": "TRUE",
     "id": "",
     "include": "TRUE,",
     "warning": "FALSE,"
    }
   },
   "outputs": [],
   "source": [
    "plot(model3, which=1)"
   ]
  },
  {
   "cell_type": "markdown",
   "metadata": {},
   "source": [
    "**Model 3 CLM Assumptions: [To be finalized]**\n",
    "\n",
    "* **MLR1** Linear in paramters: The model has had its data transformed as described above to allow a linear fit of the model.\n",
    "* **MLR2** Random Sampling: The data is collected from a data set with rolled up data for each county.  It is not randomly sampled by area or population. \n",
    "* **MLR3** No perfect multicollinearity: None of the variables chosen for the model are constant or perfectly collinear with each other. Our new variables for percentage minority and percentage young males may have some relationships with the other variables but they are not perfectly colinear as noted from the scatterplot matrix in our EDA.\n",
    "* **MLR4'** The expectation of u and and covariance of each regressor with u are ~0.  This shows that our model's regressors are exogenous with the error.\n",
    "\n",
    "By satisfying these assumptions, we can expect that our coefficients are approaching the true parameter values in probability. \n",
    "\n",
    "##MLR 5,6 to be discussed in week 13...?\n",
    "\n",
    "### Results:\n",
    "\n",
    "## Comparison of Regression Models\n",
    "\n",
    "***Can anyone figure out why logcrimJustEff is on 2 lines?**"
   ]
  },
  {
   "cell_type": "code",
   "execution_count": null,
   "metadata": {
    "attributes": {
     "classes": [],
     "comment": "NA,",
     "echo": "TRUE",
     "id": "",
     "include": "TRUE,",
     "warning": "FALSE,"
    }
   },
   "outputs": [],
   "source": [
    "stargazer(mod1,model2,model3,type=\"text\")"
   ]
  },
  {
   "cell_type": "markdown",
   "metadata": {},
   "source": [
    "Comparing the 3 models, we see that our adjusted R2 value has steadily increased from 0.456-0.732 as we introduce more covariates which indicates that we were able to explain more variation in our model not purely by increasing the number of indepedent variables. \n",
    "\n",
    "At the same time, our standard errors have decreased **insert more commentary on standard errors**.\n",
    "\n",
    "We see that by expanding our definitions of criminal justice efficiency  and economic opportunity between model 1 and model 3 lowered the coefficients for logcrimJustEff and allWages. This is most likely because that we were able to better explain the effects with our newer variables.\n",
    "\n",
    "Comment on practical significance after week 12\n",
    "\n",
    "# Conclusion\n",
    "\n",
    "## Policy Recommendations\n",
    "\n",
    "Given that across all 3 models, we show that both criminal justice efficiency and tax revenues per capita have negative correlations to crime rate, we propose the policy recommendations below to address these issues. In addition, since minority percentages and density were found to be highly significant in the model 3, we believe our recommendations will be of particularly help to those  running for political office in counties with a high percentage of minorities or dense urban populations.\n",
    "\n",
    "1. Since increasing both criminal justice and tax revenues are negatively correlated, we propose providing more funding for the local justice system. \n",
    "\n",
    "2. While increasing taxes on constituents may be difficult politically and may cost candidates the ballot, candidates can instead try to attract investment to bring more jobs with higher wages so you can increase revenues.\n",
    "\n",
    "3.  Candidates can also propose to levy taxes on things that could lead to crimes or violence such as alcohol and weapons.\n",
    "\n",
    "4. Given the significance and relatively large coefficient size of percentage minority, candidates should enroll local law enforcement into bias training.\n",
    "\n",
    "## Ommitted Variables\n",
    "\n",
    "| Expected correlation between omitted and included variables |\n",
    "| ---- |\n",
    "\n",
    "| Omitted Variable | Crime Rate ($B_k$) | Criminal Justice Effectiveness | Economic Conditions |\n",
    "|------------------|--------------------|--------------------------------|---------------------|\n",
    "| Education        | -                  |              unknown           | +                   |\n",
    "| Social Services  | -                  |              unknown           | unknown             |\n",
    "| Unemployment     | +                  |              unknown           | -                   |\n",
    "| Gang Activity    | +                  | -                              | -                   |\n",
    "\n",
    "The 4 major identified ommited variables are shown above. \n",
    "\n",
    "* Education is an important variable because of demographic insights it provides.  First, adults with higher education are less likely to participate in Crime and are more likely to have better economic opportunity. Second, a strong school system is also likely correlated with less youth crime.  Because of these expected correlations we are likely overestimating the economic conditions coefficient estimate. \n",
    "* Available Social Services could also lower crime.  Citizens with strong social services support have more options to get help when they lack means for purchasing basic life needs.  However this is more difficult to predict, as some social service projects, like homeless shelters, could lead to more criminal activity.\n",
    "* Unemployment is used as an important indicator of economic health and opportunity.  This is would be highly correlated to economic conditions variables like sum of wages.  This indicator variable if added to the model would decrease the magnitude of the sum of wage means coefficient estimate.  \n",
    "* Gang or Organized Crime is special case of crime that contains unique causes.  It is expected that it would be negatively correlated with criminal justice effectiveness as large social pressures prevent witnesses from supporting prosecution.  Gang crime is also negatively correlated with economic conditions.  From these assumed correlations, we can say that criminal justice effectiveness and economic conditions are both underestimated compared to including gang activity operationalized variable in the model.\n",
    "\n",
    "## Research Recommendations\n",
    "\n",
    "We have shown in this report 3 different models that seek to explain and model changes in the crime rate in North Carolina in 1980. We start with the fundamental premise that crime is caused by both criminal justice efficiency and economic conditions, and further develop our definition of these two key explanatory variables which each new model. \n",
    "\n",
    "In Model 3, we were able to explain up to 73% of the variation in our data, and found statistical significance at the 95% level or better for each of our covariates. Of these, we believe that increasing the efficiency of the criminal justice system and tax revenues were the most important, particularly for counties with high density and minority populations. However, our findings should be noted with caution as we were unable to study the effect of several ommitted variables including education, availability of social services, unemployment rates and the presence of organized crime. Had we been able to collect data on these variables and apply them in our model, we believe we could increase accuracy without bias."
   ]
  }
 ],
 "metadata": {
  "kernelspec": {
   "display_name": "R",
   "language": "R",
   "name": "ir"
  },
  "language_info": {
   "codemirror_mode": "r",
   "file_extension": ".r",
   "mimetype": "text/x-r-source",
   "name": "R",
   "pygments_lexer": "r",
   "version": "3.5.1"
  }
 },
 "nbformat": 4,
 "nbformat_minor": 2
}
