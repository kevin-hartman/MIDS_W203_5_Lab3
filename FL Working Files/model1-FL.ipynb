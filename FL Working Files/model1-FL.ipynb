{
 "cells": [
  {
   "cell_type": "code",
   "execution_count": 1,
   "metadata": {},
   "outputs": [
    {
     "name": "stderr",
     "output_type": "stream",
     "text": [
      "Loading required package: grid\n",
      "Loading required package: Matrix\n",
      "Loading required package: survival\n",
      "\n",
      "Attaching package: ‘survey’\n",
      "\n",
      "The following object is masked from ‘package:graphics’:\n",
      "\n",
      "    dotchart\n",
      "\n",
      "\n",
      "Attaching package: ‘dplyr’\n",
      "\n",
      "The following objects are masked from ‘package:stats’:\n",
      "\n",
      "    filter, lag\n",
      "\n",
      "The following objects are masked from ‘package:base’:\n",
      "\n",
      "    intersect, setdiff, setequal, union\n",
      "\n",
      "Loading required package: carData\n",
      "\n",
      "Attaching package: ‘car’\n",
      "\n",
      "The following object is masked from ‘package:dplyr’:\n",
      "\n",
      "    recode\n",
      "\n"
     ]
    }
   ],
   "source": [
    "dfCrime = read.csv(\"crime_v2.csv\")\n",
    "library(survey)\n",
    "library(effsize)\n",
    "library(dplyr)\n",
    "library(ggplot2)\n",
    "library(car)\n",
    "#library(tableone)\n",
    "#conda install -c conda-forge tableone"
   ]
  },
  {
   "cell_type": "code",
   "execution_count": null,
   "metadata": {},
   "outputs": [],
   "source": [
    "#summary(dfCrime)"
   ]
  },
  {
   "cell_type": "code",
   "execution_count": null,
   "metadata": {},
   "outputs": [],
   "source": [
    "#unique(dfCrime$prbconv)"
   ]
  },
  {
   "cell_type": "code",
   "execution_count": 2,
   "metadata": {},
   "outputs": [
    {
     "data": {
      "text/html": [
       "<table>\n",
       "<thead><tr><th></th><th scope=col>county</th><th scope=col>year</th><th scope=col>crmrte</th><th scope=col>prbarr</th><th scope=col>prbconv</th><th scope=col>prbpris</th><th scope=col>avgsen</th><th scope=col>polpc</th><th scope=col>density</th><th scope=col>taxpc</th><th scope=col>⋯</th><th scope=col>wtuc</th><th scope=col>wtrd</th><th scope=col>wfir</th><th scope=col>wser</th><th scope=col>wmfg</th><th scope=col>wfed</th><th scope=col>wsta</th><th scope=col>wloc</th><th scope=col>mix</th><th scope=col>pctymle</th></tr></thead>\n",
       "<tbody>\n",
       "\t<tr><th scope=row>92</th><td>NA</td><td>NA</td><td>NA</td><td>NA</td><td>  </td><td>NA</td><td>NA</td><td>NA</td><td>NA</td><td>NA</td><td>⋯ </td><td>NA</td><td>NA</td><td>NA</td><td>NA</td><td>NA</td><td>NA</td><td>NA</td><td>NA</td><td>NA</td><td>NA</td></tr>\n",
       "\t<tr><th scope=row>93</th><td>NA</td><td>NA</td><td>NA</td><td>NA</td><td>  </td><td>NA</td><td>NA</td><td>NA</td><td>NA</td><td>NA</td><td>⋯ </td><td>NA</td><td>NA</td><td>NA</td><td>NA</td><td>NA</td><td>NA</td><td>NA</td><td>NA</td><td>NA</td><td>NA</td></tr>\n",
       "\t<tr><th scope=row>94</th><td>NA</td><td>NA</td><td>NA</td><td>NA</td><td>  </td><td>NA</td><td>NA</td><td>NA</td><td>NA</td><td>NA</td><td>⋯ </td><td>NA</td><td>NA</td><td>NA</td><td>NA</td><td>NA</td><td>NA</td><td>NA</td><td>NA</td><td>NA</td><td>NA</td></tr>\n",
       "\t<tr><th scope=row>95</th><td>NA</td><td>NA</td><td>NA</td><td>NA</td><td>  </td><td>NA</td><td>NA</td><td>NA</td><td>NA</td><td>NA</td><td>⋯ </td><td>NA</td><td>NA</td><td>NA</td><td>NA</td><td>NA</td><td>NA</td><td>NA</td><td>NA</td><td>NA</td><td>NA</td></tr>\n",
       "\t<tr><th scope=row>96</th><td>NA</td><td>NA</td><td>NA</td><td>NA</td><td>  </td><td>NA</td><td>NA</td><td>NA</td><td>NA</td><td>NA</td><td>⋯ </td><td>NA</td><td>NA</td><td>NA</td><td>NA</td><td>NA</td><td>NA</td><td>NA</td><td>NA</td><td>NA</td><td>NA</td></tr>\n",
       "\t<tr><th scope=row>97</th><td>NA</td><td>NA</td><td>NA</td><td>NA</td><td>` </td><td>NA</td><td>NA</td><td>NA</td><td>NA</td><td>NA</td><td>⋯ </td><td>NA</td><td>NA</td><td>NA</td><td>NA</td><td>NA</td><td>NA</td><td>NA</td><td>NA</td><td>NA</td><td>NA</td></tr>\n",
       "\t<tr><th scope=row>NA</th><td>NA</td><td>NA</td><td>NA</td><td>NA</td><td>NA</td><td>NA</td><td>NA</td><td>NA</td><td>NA</td><td>NA</td><td>⋯ </td><td>NA</td><td>NA</td><td>NA</td><td>NA</td><td>NA</td><td>NA</td><td>NA</td><td>NA</td><td>NA</td><td>NA</td></tr>\n",
       "\t<tr><th scope=row>NA.1</th><td>NA</td><td>NA</td><td>NA</td><td>NA</td><td>NA</td><td>NA</td><td>NA</td><td>NA</td><td>NA</td><td>NA</td><td>⋯ </td><td>NA</td><td>NA</td><td>NA</td><td>NA</td><td>NA</td><td>NA</td><td>NA</td><td>NA</td><td>NA</td><td>NA</td></tr>\n",
       "\t<tr><th scope=row>NA.2</th><td>NA</td><td>NA</td><td>NA</td><td>NA</td><td>NA</td><td>NA</td><td>NA</td><td>NA</td><td>NA</td><td>NA</td><td>⋯ </td><td>NA</td><td>NA</td><td>NA</td><td>NA</td><td>NA</td><td>NA</td><td>NA</td><td>NA</td><td>NA</td><td>NA</td></tr>\n",
       "\t<tr><th scope=row>NA.3</th><td>NA</td><td>NA</td><td>NA</td><td>NA</td><td>NA</td><td>NA</td><td>NA</td><td>NA</td><td>NA</td><td>NA</td><td>⋯ </td><td>NA</td><td>NA</td><td>NA</td><td>NA</td><td>NA</td><td>NA</td><td>NA</td><td>NA</td><td>NA</td><td>NA</td></tr>\n",
       "\t<tr><th scope=row>NA.4</th><td>NA</td><td>NA</td><td>NA</td><td>NA</td><td>NA</td><td>NA</td><td>NA</td><td>NA</td><td>NA</td><td>NA</td><td>⋯ </td><td>NA</td><td>NA</td><td>NA</td><td>NA</td><td>NA</td><td>NA</td><td>NA</td><td>NA</td><td>NA</td><td>NA</td></tr>\n",
       "\t<tr><th scope=row>NA.5</th><td>NA</td><td>NA</td><td>NA</td><td>NA</td><td>NA</td><td>NA</td><td>NA</td><td>NA</td><td>NA</td><td>NA</td><td>⋯ </td><td>NA</td><td>NA</td><td>NA</td><td>NA</td><td>NA</td><td>NA</td><td>NA</td><td>NA</td><td>NA</td><td>NA</td></tr>\n",
       "\t<tr><th scope=row>NA.6</th><td>NA</td><td>NA</td><td>NA</td><td>NA</td><td>NA</td><td>NA</td><td>NA</td><td>NA</td><td>NA</td><td>NA</td><td>⋯ </td><td>NA</td><td>NA</td><td>NA</td><td>NA</td><td>NA</td><td>NA</td><td>NA</td><td>NA</td><td>NA</td><td>NA</td></tr>\n",
       "\t<tr><th scope=row>NA.7</th><td>NA</td><td>NA</td><td>NA</td><td>NA</td><td>NA</td><td>NA</td><td>NA</td><td>NA</td><td>NA</td><td>NA</td><td>⋯ </td><td>NA</td><td>NA</td><td>NA</td><td>NA</td><td>NA</td><td>NA</td><td>NA</td><td>NA</td><td>NA</td><td>NA</td></tr>\n",
       "\t<tr><th scope=row>NA.8</th><td>NA</td><td>NA</td><td>NA</td><td>NA</td><td>NA</td><td>NA</td><td>NA</td><td>NA</td><td>NA</td><td>NA</td><td>⋯ </td><td>NA</td><td>NA</td><td>NA</td><td>NA</td><td>NA</td><td>NA</td><td>NA</td><td>NA</td><td>NA</td><td>NA</td></tr>\n",
       "\t<tr><th scope=row>NA.9</th><td>NA</td><td>NA</td><td>NA</td><td>NA</td><td>NA</td><td>NA</td><td>NA</td><td>NA</td><td>NA</td><td>NA</td><td>⋯ </td><td>NA</td><td>NA</td><td>NA</td><td>NA</td><td>NA</td><td>NA</td><td>NA</td><td>NA</td><td>NA</td><td>NA</td></tr>\n",
       "\t<tr><th scope=row>NA.10</th><td>NA</td><td>NA</td><td>NA</td><td>NA</td><td>NA</td><td>NA</td><td>NA</td><td>NA</td><td>NA</td><td>NA</td><td>⋯ </td><td>NA</td><td>NA</td><td>NA</td><td>NA</td><td>NA</td><td>NA</td><td>NA</td><td>NA</td><td>NA</td><td>NA</td></tr>\n",
       "\t<tr><th scope=row>NA.11</th><td>NA</td><td>NA</td><td>NA</td><td>NA</td><td>NA</td><td>NA</td><td>NA</td><td>NA</td><td>NA</td><td>NA</td><td>⋯ </td><td>NA</td><td>NA</td><td>NA</td><td>NA</td><td>NA</td><td>NA</td><td>NA</td><td>NA</td><td>NA</td><td>NA</td></tr>\n",
       "\t<tr><th scope=row>NA.12</th><td>NA</td><td>NA</td><td>NA</td><td>NA</td><td>NA</td><td>NA</td><td>NA</td><td>NA</td><td>NA</td><td>NA</td><td>⋯ </td><td>NA</td><td>NA</td><td>NA</td><td>NA</td><td>NA</td><td>NA</td><td>NA</td><td>NA</td><td>NA</td><td>NA</td></tr>\n",
       "\t<tr><th scope=row>NA.13</th><td>NA</td><td>NA</td><td>NA</td><td>NA</td><td>NA</td><td>NA</td><td>NA</td><td>NA</td><td>NA</td><td>NA</td><td>⋯ </td><td>NA</td><td>NA</td><td>NA</td><td>NA</td><td>NA</td><td>NA</td><td>NA</td><td>NA</td><td>NA</td><td>NA</td></tr>\n",
       "\t<tr><th scope=row>NA.14</th><td>NA</td><td>NA</td><td>NA</td><td>NA</td><td>NA</td><td>NA</td><td>NA</td><td>NA</td><td>NA</td><td>NA</td><td>⋯ </td><td>NA</td><td>NA</td><td>NA</td><td>NA</td><td>NA</td><td>NA</td><td>NA</td><td>NA</td><td>NA</td><td>NA</td></tr>\n",
       "\t<tr><th scope=row>NA.15</th><td>NA</td><td>NA</td><td>NA</td><td>NA</td><td>NA</td><td>NA</td><td>NA</td><td>NA</td><td>NA</td><td>NA</td><td>⋯ </td><td>NA</td><td>NA</td><td>NA</td><td>NA</td><td>NA</td><td>NA</td><td>NA</td><td>NA</td><td>NA</td><td>NA</td></tr>\n",
       "\t<tr><th scope=row>NA.16</th><td>NA</td><td>NA</td><td>NA</td><td>NA</td><td>NA</td><td>NA</td><td>NA</td><td>NA</td><td>NA</td><td>NA</td><td>⋯ </td><td>NA</td><td>NA</td><td>NA</td><td>NA</td><td>NA</td><td>NA</td><td>NA</td><td>NA</td><td>NA</td><td>NA</td></tr>\n",
       "\t<tr><th scope=row>NA.17</th><td>NA</td><td>NA</td><td>NA</td><td>NA</td><td>NA</td><td>NA</td><td>NA</td><td>NA</td><td>NA</td><td>NA</td><td>⋯ </td><td>NA</td><td>NA</td><td>NA</td><td>NA</td><td>NA</td><td>NA</td><td>NA</td><td>NA</td><td>NA</td><td>NA</td></tr>\n",
       "\t<tr><th scope=row>NA.18</th><td>NA</td><td>NA</td><td>NA</td><td>NA</td><td>NA</td><td>NA</td><td>NA</td><td>NA</td><td>NA</td><td>NA</td><td>⋯ </td><td>NA</td><td>NA</td><td>NA</td><td>NA</td><td>NA</td><td>NA</td><td>NA</td><td>NA</td><td>NA</td><td>NA</td></tr>\n",
       "\t<tr><th scope=row>NA.19</th><td>NA</td><td>NA</td><td>NA</td><td>NA</td><td>NA</td><td>NA</td><td>NA</td><td>NA</td><td>NA</td><td>NA</td><td>⋯ </td><td>NA</td><td>NA</td><td>NA</td><td>NA</td><td>NA</td><td>NA</td><td>NA</td><td>NA</td><td>NA</td><td>NA</td></tr>\n",
       "\t<tr><th scope=row>NA.20</th><td>NA</td><td>NA</td><td>NA</td><td>NA</td><td>NA</td><td>NA</td><td>NA</td><td>NA</td><td>NA</td><td>NA</td><td>⋯ </td><td>NA</td><td>NA</td><td>NA</td><td>NA</td><td>NA</td><td>NA</td><td>NA</td><td>NA</td><td>NA</td><td>NA</td></tr>\n",
       "\t<tr><th scope=row>NA.21</th><td>NA</td><td>NA</td><td>NA</td><td>NA</td><td>NA</td><td>NA</td><td>NA</td><td>NA</td><td>NA</td><td>NA</td><td>⋯ </td><td>NA</td><td>NA</td><td>NA</td><td>NA</td><td>NA</td><td>NA</td><td>NA</td><td>NA</td><td>NA</td><td>NA</td></tr>\n",
       "\t<tr><th scope=row>NA.22</th><td>NA</td><td>NA</td><td>NA</td><td>NA</td><td>NA</td><td>NA</td><td>NA</td><td>NA</td><td>NA</td><td>NA</td><td>⋯ </td><td>NA</td><td>NA</td><td>NA</td><td>NA</td><td>NA</td><td>NA</td><td>NA</td><td>NA</td><td>NA</td><td>NA</td></tr>\n",
       "\t<tr><th scope=row>NA.23</th><td>NA</td><td>NA</td><td>NA</td><td>NA</td><td>NA</td><td>NA</td><td>NA</td><td>NA</td><td>NA</td><td>NA</td><td>⋯ </td><td>NA</td><td>NA</td><td>NA</td><td>NA</td><td>NA</td><td>NA</td><td>NA</td><td>NA</td><td>NA</td><td>NA</td></tr>\n",
       "\t<tr><th scope=row>⋮</th><td>⋮</td><td>⋮</td><td>⋮</td><td>⋮</td><td>⋮</td><td>⋮</td><td>⋮</td><td>⋮</td><td>⋮</td><td>⋮</td><td>⋱</td><td>⋮</td><td>⋮</td><td>⋮</td><td>⋮</td><td>⋮</td><td>⋮</td><td>⋮</td><td>⋮</td><td>⋮</td><td>⋮</td></tr>\n",
       "\t<tr><th scope=row>NA.108</th><td>NA</td><td>NA</td><td>NA</td><td>NA</td><td>NA</td><td>NA</td><td>NA</td><td>NA</td><td>NA</td><td>NA</td><td>⋯ </td><td>NA</td><td>NA</td><td>NA</td><td>NA</td><td>NA</td><td>NA</td><td>NA</td><td>NA</td><td>NA</td><td>NA</td></tr>\n",
       "\t<tr><th scope=row>NA.109</th><td>NA</td><td>NA</td><td>NA</td><td>NA</td><td>NA</td><td>NA</td><td>NA</td><td>NA</td><td>NA</td><td>NA</td><td>⋯ </td><td>NA</td><td>NA</td><td>NA</td><td>NA</td><td>NA</td><td>NA</td><td>NA</td><td>NA</td><td>NA</td><td>NA</td></tr>\n",
       "\t<tr><th scope=row>NA.110</th><td>NA</td><td>NA</td><td>NA</td><td>NA</td><td>NA</td><td>NA</td><td>NA</td><td>NA</td><td>NA</td><td>NA</td><td>⋯ </td><td>NA</td><td>NA</td><td>NA</td><td>NA</td><td>NA</td><td>NA</td><td>NA</td><td>NA</td><td>NA</td><td>NA</td></tr>\n",
       "\t<tr><th scope=row>NA.111</th><td>NA</td><td>NA</td><td>NA</td><td>NA</td><td>NA</td><td>NA</td><td>NA</td><td>NA</td><td>NA</td><td>NA</td><td>⋯ </td><td>NA</td><td>NA</td><td>NA</td><td>NA</td><td>NA</td><td>NA</td><td>NA</td><td>NA</td><td>NA</td><td>NA</td></tr>\n",
       "\t<tr><th scope=row>NA.112</th><td>NA</td><td>NA</td><td>NA</td><td>NA</td><td>NA</td><td>NA</td><td>NA</td><td>NA</td><td>NA</td><td>NA</td><td>⋯ </td><td>NA</td><td>NA</td><td>NA</td><td>NA</td><td>NA</td><td>NA</td><td>NA</td><td>NA</td><td>NA</td><td>NA</td></tr>\n",
       "\t<tr><th scope=row>NA.113</th><td>NA</td><td>NA</td><td>NA</td><td>NA</td><td>NA</td><td>NA</td><td>NA</td><td>NA</td><td>NA</td><td>NA</td><td>⋯ </td><td>NA</td><td>NA</td><td>NA</td><td>NA</td><td>NA</td><td>NA</td><td>NA</td><td>NA</td><td>NA</td><td>NA</td></tr>\n",
       "\t<tr><th scope=row>NA.114</th><td>NA</td><td>NA</td><td>NA</td><td>NA</td><td>NA</td><td>NA</td><td>NA</td><td>NA</td><td>NA</td><td>NA</td><td>⋯ </td><td>NA</td><td>NA</td><td>NA</td><td>NA</td><td>NA</td><td>NA</td><td>NA</td><td>NA</td><td>NA</td><td>NA</td></tr>\n",
       "\t<tr><th scope=row>NA.115</th><td>NA</td><td>NA</td><td>NA</td><td>NA</td><td>NA</td><td>NA</td><td>NA</td><td>NA</td><td>NA</td><td>NA</td><td>⋯ </td><td>NA</td><td>NA</td><td>NA</td><td>NA</td><td>NA</td><td>NA</td><td>NA</td><td>NA</td><td>NA</td><td>NA</td></tr>\n",
       "\t<tr><th scope=row>NA.116</th><td>NA</td><td>NA</td><td>NA</td><td>NA</td><td>NA</td><td>NA</td><td>NA</td><td>NA</td><td>NA</td><td>NA</td><td>⋯ </td><td>NA</td><td>NA</td><td>NA</td><td>NA</td><td>NA</td><td>NA</td><td>NA</td><td>NA</td><td>NA</td><td>NA</td></tr>\n",
       "\t<tr><th scope=row>NA.117</th><td>NA</td><td>NA</td><td>NA</td><td>NA</td><td>NA</td><td>NA</td><td>NA</td><td>NA</td><td>NA</td><td>NA</td><td>⋯ </td><td>NA</td><td>NA</td><td>NA</td><td>NA</td><td>NA</td><td>NA</td><td>NA</td><td>NA</td><td>NA</td><td>NA</td></tr>\n",
       "\t<tr><th scope=row>NA.118</th><td>NA</td><td>NA</td><td>NA</td><td>NA</td><td>NA</td><td>NA</td><td>NA</td><td>NA</td><td>NA</td><td>NA</td><td>⋯ </td><td>NA</td><td>NA</td><td>NA</td><td>NA</td><td>NA</td><td>NA</td><td>NA</td><td>NA</td><td>NA</td><td>NA</td></tr>\n",
       "\t<tr><th scope=row>NA.119</th><td>NA</td><td>NA</td><td>NA</td><td>NA</td><td>NA</td><td>NA</td><td>NA</td><td>NA</td><td>NA</td><td>NA</td><td>⋯ </td><td>NA</td><td>NA</td><td>NA</td><td>NA</td><td>NA</td><td>NA</td><td>NA</td><td>NA</td><td>NA</td><td>NA</td></tr>\n",
       "\t<tr><th scope=row>NA.120</th><td>NA</td><td>NA</td><td>NA</td><td>NA</td><td>NA</td><td>NA</td><td>NA</td><td>NA</td><td>NA</td><td>NA</td><td>⋯ </td><td>NA</td><td>NA</td><td>NA</td><td>NA</td><td>NA</td><td>NA</td><td>NA</td><td>NA</td><td>NA</td><td>NA</td></tr>\n",
       "\t<tr><th scope=row>NA.121</th><td>NA</td><td>NA</td><td>NA</td><td>NA</td><td>NA</td><td>NA</td><td>NA</td><td>NA</td><td>NA</td><td>NA</td><td>⋯ </td><td>NA</td><td>NA</td><td>NA</td><td>NA</td><td>NA</td><td>NA</td><td>NA</td><td>NA</td><td>NA</td><td>NA</td></tr>\n",
       "\t<tr><th scope=row>NA.122</th><td>NA</td><td>NA</td><td>NA</td><td>NA</td><td>NA</td><td>NA</td><td>NA</td><td>NA</td><td>NA</td><td>NA</td><td>⋯ </td><td>NA</td><td>NA</td><td>NA</td><td>NA</td><td>NA</td><td>NA</td><td>NA</td><td>NA</td><td>NA</td><td>NA</td></tr>\n",
       "\t<tr><th scope=row>NA.123</th><td>NA</td><td>NA</td><td>NA</td><td>NA</td><td>NA</td><td>NA</td><td>NA</td><td>NA</td><td>NA</td><td>NA</td><td>⋯ </td><td>NA</td><td>NA</td><td>NA</td><td>NA</td><td>NA</td><td>NA</td><td>NA</td><td>NA</td><td>NA</td><td>NA</td></tr>\n",
       "\t<tr><th scope=row>NA.124</th><td>NA</td><td>NA</td><td>NA</td><td>NA</td><td>NA</td><td>NA</td><td>NA</td><td>NA</td><td>NA</td><td>NA</td><td>⋯ </td><td>NA</td><td>NA</td><td>NA</td><td>NA</td><td>NA</td><td>NA</td><td>NA</td><td>NA</td><td>NA</td><td>NA</td></tr>\n",
       "\t<tr><th scope=row>NA.125</th><td>NA</td><td>NA</td><td>NA</td><td>NA</td><td>NA</td><td>NA</td><td>NA</td><td>NA</td><td>NA</td><td>NA</td><td>⋯ </td><td>NA</td><td>NA</td><td>NA</td><td>NA</td><td>NA</td><td>NA</td><td>NA</td><td>NA</td><td>NA</td><td>NA</td></tr>\n",
       "\t<tr><th scope=row>NA.126</th><td>NA</td><td>NA</td><td>NA</td><td>NA</td><td>NA</td><td>NA</td><td>NA</td><td>NA</td><td>NA</td><td>NA</td><td>⋯ </td><td>NA</td><td>NA</td><td>NA</td><td>NA</td><td>NA</td><td>NA</td><td>NA</td><td>NA</td><td>NA</td><td>NA</td></tr>\n",
       "\t<tr><th scope=row>NA.127</th><td>NA</td><td>NA</td><td>NA</td><td>NA</td><td>NA</td><td>NA</td><td>NA</td><td>NA</td><td>NA</td><td>NA</td><td>⋯ </td><td>NA</td><td>NA</td><td>NA</td><td>NA</td><td>NA</td><td>NA</td><td>NA</td><td>NA</td><td>NA</td><td>NA</td></tr>\n",
       "\t<tr><th scope=row>NA.128</th><td>NA</td><td>NA</td><td>NA</td><td>NA</td><td>NA</td><td>NA</td><td>NA</td><td>NA</td><td>NA</td><td>NA</td><td>⋯ </td><td>NA</td><td>NA</td><td>NA</td><td>NA</td><td>NA</td><td>NA</td><td>NA</td><td>NA</td><td>NA</td><td>NA</td></tr>\n",
       "\t<tr><th scope=row>NA.129</th><td>NA</td><td>NA</td><td>NA</td><td>NA</td><td>NA</td><td>NA</td><td>NA</td><td>NA</td><td>NA</td><td>NA</td><td>⋯ </td><td>NA</td><td>NA</td><td>NA</td><td>NA</td><td>NA</td><td>NA</td><td>NA</td><td>NA</td><td>NA</td><td>NA</td></tr>\n",
       "\t<tr><th scope=row>NA.130</th><td>NA</td><td>NA</td><td>NA</td><td>NA</td><td>NA</td><td>NA</td><td>NA</td><td>NA</td><td>NA</td><td>NA</td><td>⋯ </td><td>NA</td><td>NA</td><td>NA</td><td>NA</td><td>NA</td><td>NA</td><td>NA</td><td>NA</td><td>NA</td><td>NA</td></tr>\n",
       "\t<tr><th scope=row>NA.131</th><td>NA</td><td>NA</td><td>NA</td><td>NA</td><td>NA</td><td>NA</td><td>NA</td><td>NA</td><td>NA</td><td>NA</td><td>⋯ </td><td>NA</td><td>NA</td><td>NA</td><td>NA</td><td>NA</td><td>NA</td><td>NA</td><td>NA</td><td>NA</td><td>NA</td></tr>\n",
       "\t<tr><th scope=row>NA.132</th><td>NA</td><td>NA</td><td>NA</td><td>NA</td><td>NA</td><td>NA</td><td>NA</td><td>NA</td><td>NA</td><td>NA</td><td>⋯ </td><td>NA</td><td>NA</td><td>NA</td><td>NA</td><td>NA</td><td>NA</td><td>NA</td><td>NA</td><td>NA</td><td>NA</td></tr>\n",
       "\t<tr><th scope=row>NA.133</th><td>NA</td><td>NA</td><td>NA</td><td>NA</td><td>NA</td><td>NA</td><td>NA</td><td>NA</td><td>NA</td><td>NA</td><td>⋯ </td><td>NA</td><td>NA</td><td>NA</td><td>NA</td><td>NA</td><td>NA</td><td>NA</td><td>NA</td><td>NA</td><td>NA</td></tr>\n",
       "\t<tr><th scope=row>NA.134</th><td>NA</td><td>NA</td><td>NA</td><td>NA</td><td>NA</td><td>NA</td><td>NA</td><td>NA</td><td>NA</td><td>NA</td><td>⋯ </td><td>NA</td><td>NA</td><td>NA</td><td>NA</td><td>NA</td><td>NA</td><td>NA</td><td>NA</td><td>NA</td><td>NA</td></tr>\n",
       "\t<tr><th scope=row>NA.135</th><td>NA</td><td>NA</td><td>NA</td><td>NA</td><td>NA</td><td>NA</td><td>NA</td><td>NA</td><td>NA</td><td>NA</td><td>⋯ </td><td>NA</td><td>NA</td><td>NA</td><td>NA</td><td>NA</td><td>NA</td><td>NA</td><td>NA</td><td>NA</td><td>NA</td></tr>\n",
       "\t<tr><th scope=row>NA.136</th><td>NA</td><td>NA</td><td>NA</td><td>NA</td><td>NA</td><td>NA</td><td>NA</td><td>NA</td><td>NA</td><td>NA</td><td>⋯ </td><td>NA</td><td>NA</td><td>NA</td><td>NA</td><td>NA</td><td>NA</td><td>NA</td><td>NA</td><td>NA</td><td>NA</td></tr>\n",
       "\t<tr><th scope=row>NA.137</th><td>NA</td><td>NA</td><td>NA</td><td>NA</td><td>NA</td><td>NA</td><td>NA</td><td>NA</td><td>NA</td><td>NA</td><td>⋯ </td><td>NA</td><td>NA</td><td>NA</td><td>NA</td><td>NA</td><td>NA</td><td>NA</td><td>NA</td><td>NA</td><td>NA</td></tr>\n",
       "</tbody>\n",
       "</table>\n"
      ],
      "text/latex": [
       "\\begin{tabular}{r|lllllllllllllllllllllllll}\n",
       "  & county & year & crmrte & prbarr & prbconv & prbpris & avgsen & polpc & density & taxpc & ⋯ & wtuc & wtrd & wfir & wser & wmfg & wfed & wsta & wloc & mix & pctymle\\\\\n",
       "\\hline\n",
       "\t92 & NA & NA & NA & NA &    & NA & NA & NA & NA & NA & ⋯  & NA & NA & NA & NA & NA & NA & NA & NA & NA & NA\\\\\n",
       "\t93 & NA & NA & NA & NA &    & NA & NA & NA & NA & NA & ⋯  & NA & NA & NA & NA & NA & NA & NA & NA & NA & NA\\\\\n",
       "\t94 & NA & NA & NA & NA &    & NA & NA & NA & NA & NA & ⋯  & NA & NA & NA & NA & NA & NA & NA & NA & NA & NA\\\\\n",
       "\t95 & NA & NA & NA & NA &    & NA & NA & NA & NA & NA & ⋯  & NA & NA & NA & NA & NA & NA & NA & NA & NA & NA\\\\\n",
       "\t96 & NA & NA & NA & NA &    & NA & NA & NA & NA & NA & ⋯  & NA & NA & NA & NA & NA & NA & NA & NA & NA & NA\\\\\n",
       "\t97 & NA & NA & NA & NA & `  & NA & NA & NA & NA & NA & ⋯  & NA & NA & NA & NA & NA & NA & NA & NA & NA & NA\\\\\n",
       "\tNA & NA & NA & NA & NA & NA & NA & NA & NA & NA & NA & ⋯  & NA & NA & NA & NA & NA & NA & NA & NA & NA & NA\\\\\n",
       "\tNA.1 & NA & NA & NA & NA & NA & NA & NA & NA & NA & NA & ⋯  & NA & NA & NA & NA & NA & NA & NA & NA & NA & NA\\\\\n",
       "\tNA.2 & NA & NA & NA & NA & NA & NA & NA & NA & NA & NA & ⋯  & NA & NA & NA & NA & NA & NA & NA & NA & NA & NA\\\\\n",
       "\tNA.3 & NA & NA & NA & NA & NA & NA & NA & NA & NA & NA & ⋯  & NA & NA & NA & NA & NA & NA & NA & NA & NA & NA\\\\\n",
       "\tNA.4 & NA & NA & NA & NA & NA & NA & NA & NA & NA & NA & ⋯  & NA & NA & NA & NA & NA & NA & NA & NA & NA & NA\\\\\n",
       "\tNA.5 & NA & NA & NA & NA & NA & NA & NA & NA & NA & NA & ⋯  & NA & NA & NA & NA & NA & NA & NA & NA & NA & NA\\\\\n",
       "\tNA.6 & NA & NA & NA & NA & NA & NA & NA & NA & NA & NA & ⋯  & NA & NA & NA & NA & NA & NA & NA & NA & NA & NA\\\\\n",
       "\tNA.7 & NA & NA & NA & NA & NA & NA & NA & NA & NA & NA & ⋯  & NA & NA & NA & NA & NA & NA & NA & NA & NA & NA\\\\\n",
       "\tNA.8 & NA & NA & NA & NA & NA & NA & NA & NA & NA & NA & ⋯  & NA & NA & NA & NA & NA & NA & NA & NA & NA & NA\\\\\n",
       "\tNA.9 & NA & NA & NA & NA & NA & NA & NA & NA & NA & NA & ⋯  & NA & NA & NA & NA & NA & NA & NA & NA & NA & NA\\\\\n",
       "\tNA.10 & NA & NA & NA & NA & NA & NA & NA & NA & NA & NA & ⋯  & NA & NA & NA & NA & NA & NA & NA & NA & NA & NA\\\\\n",
       "\tNA.11 & NA & NA & NA & NA & NA & NA & NA & NA & NA & NA & ⋯  & NA & NA & NA & NA & NA & NA & NA & NA & NA & NA\\\\\n",
       "\tNA.12 & NA & NA & NA & NA & NA & NA & NA & NA & NA & NA & ⋯  & NA & NA & NA & NA & NA & NA & NA & NA & NA & NA\\\\\n",
       "\tNA.13 & NA & NA & NA & NA & NA & NA & NA & NA & NA & NA & ⋯  & NA & NA & NA & NA & NA & NA & NA & NA & NA & NA\\\\\n",
       "\tNA.14 & NA & NA & NA & NA & NA & NA & NA & NA & NA & NA & ⋯  & NA & NA & NA & NA & NA & NA & NA & NA & NA & NA\\\\\n",
       "\tNA.15 & NA & NA & NA & NA & NA & NA & NA & NA & NA & NA & ⋯  & NA & NA & NA & NA & NA & NA & NA & NA & NA & NA\\\\\n",
       "\tNA.16 & NA & NA & NA & NA & NA & NA & NA & NA & NA & NA & ⋯  & NA & NA & NA & NA & NA & NA & NA & NA & NA & NA\\\\\n",
       "\tNA.17 & NA & NA & NA & NA & NA & NA & NA & NA & NA & NA & ⋯  & NA & NA & NA & NA & NA & NA & NA & NA & NA & NA\\\\\n",
       "\tNA.18 & NA & NA & NA & NA & NA & NA & NA & NA & NA & NA & ⋯  & NA & NA & NA & NA & NA & NA & NA & NA & NA & NA\\\\\n",
       "\tNA.19 & NA & NA & NA & NA & NA & NA & NA & NA & NA & NA & ⋯  & NA & NA & NA & NA & NA & NA & NA & NA & NA & NA\\\\\n",
       "\tNA.20 & NA & NA & NA & NA & NA & NA & NA & NA & NA & NA & ⋯  & NA & NA & NA & NA & NA & NA & NA & NA & NA & NA\\\\\n",
       "\tNA.21 & NA & NA & NA & NA & NA & NA & NA & NA & NA & NA & ⋯  & NA & NA & NA & NA & NA & NA & NA & NA & NA & NA\\\\\n",
       "\tNA.22 & NA & NA & NA & NA & NA & NA & NA & NA & NA & NA & ⋯  & NA & NA & NA & NA & NA & NA & NA & NA & NA & NA\\\\\n",
       "\tNA.23 & NA & NA & NA & NA & NA & NA & NA & NA & NA & NA & ⋯  & NA & NA & NA & NA & NA & NA & NA & NA & NA & NA\\\\\n",
       "\t⋮ & ⋮ & ⋮ & ⋮ & ⋮ & ⋮ & ⋮ & ⋮ & ⋮ & ⋮ & ⋮ & ⋱ & ⋮ & ⋮ & ⋮ & ⋮ & ⋮ & ⋮ & ⋮ & ⋮ & ⋮ & ⋮\\\\\n",
       "\tNA.108 & NA & NA & NA & NA & NA & NA & NA & NA & NA & NA & ⋯  & NA & NA & NA & NA & NA & NA & NA & NA & NA & NA\\\\\n",
       "\tNA.109 & NA & NA & NA & NA & NA & NA & NA & NA & NA & NA & ⋯  & NA & NA & NA & NA & NA & NA & NA & NA & NA & NA\\\\\n",
       "\tNA.110 & NA & NA & NA & NA & NA & NA & NA & NA & NA & NA & ⋯  & NA & NA & NA & NA & NA & NA & NA & NA & NA & NA\\\\\n",
       "\tNA.111 & NA & NA & NA & NA & NA & NA & NA & NA & NA & NA & ⋯  & NA & NA & NA & NA & NA & NA & NA & NA & NA & NA\\\\\n",
       "\tNA.112 & NA & NA & NA & NA & NA & NA & NA & NA & NA & NA & ⋯  & NA & NA & NA & NA & NA & NA & NA & NA & NA & NA\\\\\n",
       "\tNA.113 & NA & NA & NA & NA & NA & NA & NA & NA & NA & NA & ⋯  & NA & NA & NA & NA & NA & NA & NA & NA & NA & NA\\\\\n",
       "\tNA.114 & NA & NA & NA & NA & NA & NA & NA & NA & NA & NA & ⋯  & NA & NA & NA & NA & NA & NA & NA & NA & NA & NA\\\\\n",
       "\tNA.115 & NA & NA & NA & NA & NA & NA & NA & NA & NA & NA & ⋯  & NA & NA & NA & NA & NA & NA & NA & NA & NA & NA\\\\\n",
       "\tNA.116 & NA & NA & NA & NA & NA & NA & NA & NA & NA & NA & ⋯  & NA & NA & NA & NA & NA & NA & NA & NA & NA & NA\\\\\n",
       "\tNA.117 & NA & NA & NA & NA & NA & NA & NA & NA & NA & NA & ⋯  & NA & NA & NA & NA & NA & NA & NA & NA & NA & NA\\\\\n",
       "\tNA.118 & NA & NA & NA & NA & NA & NA & NA & NA & NA & NA & ⋯  & NA & NA & NA & NA & NA & NA & NA & NA & NA & NA\\\\\n",
       "\tNA.119 & NA & NA & NA & NA & NA & NA & NA & NA & NA & NA & ⋯  & NA & NA & NA & NA & NA & NA & NA & NA & NA & NA\\\\\n",
       "\tNA.120 & NA & NA & NA & NA & NA & NA & NA & NA & NA & NA & ⋯  & NA & NA & NA & NA & NA & NA & NA & NA & NA & NA\\\\\n",
       "\tNA.121 & NA & NA & NA & NA & NA & NA & NA & NA & NA & NA & ⋯  & NA & NA & NA & NA & NA & NA & NA & NA & NA & NA\\\\\n",
       "\tNA.122 & NA & NA & NA & NA & NA & NA & NA & NA & NA & NA & ⋯  & NA & NA & NA & NA & NA & NA & NA & NA & NA & NA\\\\\n",
       "\tNA.123 & NA & NA & NA & NA & NA & NA & NA & NA & NA & NA & ⋯  & NA & NA & NA & NA & NA & NA & NA & NA & NA & NA\\\\\n",
       "\tNA.124 & NA & NA & NA & NA & NA & NA & NA & NA & NA & NA & ⋯  & NA & NA & NA & NA & NA & NA & NA & NA & NA & NA\\\\\n",
       "\tNA.125 & NA & NA & NA & NA & NA & NA & NA & NA & NA & NA & ⋯  & NA & NA & NA & NA & NA & NA & NA & NA & NA & NA\\\\\n",
       "\tNA.126 & NA & NA & NA & NA & NA & NA & NA & NA & NA & NA & ⋯  & NA & NA & NA & NA & NA & NA & NA & NA & NA & NA\\\\\n",
       "\tNA.127 & NA & NA & NA & NA & NA & NA & NA & NA & NA & NA & ⋯  & NA & NA & NA & NA & NA & NA & NA & NA & NA & NA\\\\\n",
       "\tNA.128 & NA & NA & NA & NA & NA & NA & NA & NA & NA & NA & ⋯  & NA & NA & NA & NA & NA & NA & NA & NA & NA & NA\\\\\n",
       "\tNA.129 & NA & NA & NA & NA & NA & NA & NA & NA & NA & NA & ⋯  & NA & NA & NA & NA & NA & NA & NA & NA & NA & NA\\\\\n",
       "\tNA.130 & NA & NA & NA & NA & NA & NA & NA & NA & NA & NA & ⋯  & NA & NA & NA & NA & NA & NA & NA & NA & NA & NA\\\\\n",
       "\tNA.131 & NA & NA & NA & NA & NA & NA & NA & NA & NA & NA & ⋯  & NA & NA & NA & NA & NA & NA & NA & NA & NA & NA\\\\\n",
       "\tNA.132 & NA & NA & NA & NA & NA & NA & NA & NA & NA & NA & ⋯  & NA & NA & NA & NA & NA & NA & NA & NA & NA & NA\\\\\n",
       "\tNA.133 & NA & NA & NA & NA & NA & NA & NA & NA & NA & NA & ⋯  & NA & NA & NA & NA & NA & NA & NA & NA & NA & NA\\\\\n",
       "\tNA.134 & NA & NA & NA & NA & NA & NA & NA & NA & NA & NA & ⋯  & NA & NA & NA & NA & NA & NA & NA & NA & NA & NA\\\\\n",
       "\tNA.135 & NA & NA & NA & NA & NA & NA & NA & NA & NA & NA & ⋯  & NA & NA & NA & NA & NA & NA & NA & NA & NA & NA\\\\\n",
       "\tNA.136 & NA & NA & NA & NA & NA & NA & NA & NA & NA & NA & ⋯  & NA & NA & NA & NA & NA & NA & NA & NA & NA & NA\\\\\n",
       "\tNA.137 & NA & NA & NA & NA & NA & NA & NA & NA & NA & NA & ⋯  & NA & NA & NA & NA & NA & NA & NA & NA & NA & NA\\\\\n",
       "\\end{tabular}\n"
      ],
      "text/markdown": [
       "\n",
       "| <!--/--> | county | year | crmrte | prbarr | prbconv | prbpris | avgsen | polpc | density | taxpc | ⋯ | wtuc | wtrd | wfir | wser | wmfg | wfed | wsta | wloc | mix | pctymle | \n",
       "|---|---|---|---|---|---|---|---|---|---|---|---|---|---|---|---|---|---|---|---|---|---|---|---|---|---|---|---|---|---|---|---|---|---|---|---|---|---|---|---|---|---|---|---|---|---|---|---|---|---|---|---|---|---|---|---|---|---|---|---|---|\n",
       "| 92 | NA | NA | NA | NA |    | NA | NA | NA | NA | NA | ⋯  | NA | NA | NA | NA | NA | NA | NA | NA | NA | NA | \n",
       "| 93 | NA | NA | NA | NA |    | NA | NA | NA | NA | NA | ⋯  | NA | NA | NA | NA | NA | NA | NA | NA | NA | NA | \n",
       "| 94 | NA | NA | NA | NA |    | NA | NA | NA | NA | NA | ⋯  | NA | NA | NA | NA | NA | NA | NA | NA | NA | NA | \n",
       "| 95 | NA | NA | NA | NA |    | NA | NA | NA | NA | NA | ⋯  | NA | NA | NA | NA | NA | NA | NA | NA | NA | NA | \n",
       "| 96 | NA | NA | NA | NA |    | NA | NA | NA | NA | NA | ⋯  | NA | NA | NA | NA | NA | NA | NA | NA | NA | NA | \n",
       "| 97 | NA | NA | NA | NA | `  | NA | NA | NA | NA | NA | ⋯  | NA | NA | NA | NA | NA | NA | NA | NA | NA | NA | \n",
       "| NA | NA | NA | NA | NA | NA | NA | NA | NA | NA | NA | ⋯  | NA | NA | NA | NA | NA | NA | NA | NA | NA | NA | \n",
       "| NA.1 | NA | NA | NA | NA | NA | NA | NA | NA | NA | NA | ⋯  | NA | NA | NA | NA | NA | NA | NA | NA | NA | NA | \n",
       "| NA.2 | NA | NA | NA | NA | NA | NA | NA | NA | NA | NA | ⋯  | NA | NA | NA | NA | NA | NA | NA | NA | NA | NA | \n",
       "| NA.3 | NA | NA | NA | NA | NA | NA | NA | NA | NA | NA | ⋯  | NA | NA | NA | NA | NA | NA | NA | NA | NA | NA | \n",
       "| NA.4 | NA | NA | NA | NA | NA | NA | NA | NA | NA | NA | ⋯  | NA | NA | NA | NA | NA | NA | NA | NA | NA | NA | \n",
       "| NA.5 | NA | NA | NA | NA | NA | NA | NA | NA | NA | NA | ⋯  | NA | NA | NA | NA | NA | NA | NA | NA | NA | NA | \n",
       "| NA.6 | NA | NA | NA | NA | NA | NA | NA | NA | NA | NA | ⋯  | NA | NA | NA | NA | NA | NA | NA | NA | NA | NA | \n",
       "| NA.7 | NA | NA | NA | NA | NA | NA | NA | NA | NA | NA | ⋯  | NA | NA | NA | NA | NA | NA | NA | NA | NA | NA | \n",
       "| NA.8 | NA | NA | NA | NA | NA | NA | NA | NA | NA | NA | ⋯  | NA | NA | NA | NA | NA | NA | NA | NA | NA | NA | \n",
       "| NA.9 | NA | NA | NA | NA | NA | NA | NA | NA | NA | NA | ⋯  | NA | NA | NA | NA | NA | NA | NA | NA | NA | NA | \n",
       "| NA.10 | NA | NA | NA | NA | NA | NA | NA | NA | NA | NA | ⋯  | NA | NA | NA | NA | NA | NA | NA | NA | NA | NA | \n",
       "| NA.11 | NA | NA | NA | NA | NA | NA | NA | NA | NA | NA | ⋯  | NA | NA | NA | NA | NA | NA | NA | NA | NA | NA | \n",
       "| NA.12 | NA | NA | NA | NA | NA | NA | NA | NA | NA | NA | ⋯  | NA | NA | NA | NA | NA | NA | NA | NA | NA | NA | \n",
       "| NA.13 | NA | NA | NA | NA | NA | NA | NA | NA | NA | NA | ⋯  | NA | NA | NA | NA | NA | NA | NA | NA | NA | NA | \n",
       "| NA.14 | NA | NA | NA | NA | NA | NA | NA | NA | NA | NA | ⋯  | NA | NA | NA | NA | NA | NA | NA | NA | NA | NA | \n",
       "| NA.15 | NA | NA | NA | NA | NA | NA | NA | NA | NA | NA | ⋯  | NA | NA | NA | NA | NA | NA | NA | NA | NA | NA | \n",
       "| NA.16 | NA | NA | NA | NA | NA | NA | NA | NA | NA | NA | ⋯  | NA | NA | NA | NA | NA | NA | NA | NA | NA | NA | \n",
       "| NA.17 | NA | NA | NA | NA | NA | NA | NA | NA | NA | NA | ⋯  | NA | NA | NA | NA | NA | NA | NA | NA | NA | NA | \n",
       "| NA.18 | NA | NA | NA | NA | NA | NA | NA | NA | NA | NA | ⋯  | NA | NA | NA | NA | NA | NA | NA | NA | NA | NA | \n",
       "| NA.19 | NA | NA | NA | NA | NA | NA | NA | NA | NA | NA | ⋯  | NA | NA | NA | NA | NA | NA | NA | NA | NA | NA | \n",
       "| NA.20 | NA | NA | NA | NA | NA | NA | NA | NA | NA | NA | ⋯  | NA | NA | NA | NA | NA | NA | NA | NA | NA | NA | \n",
       "| NA.21 | NA | NA | NA | NA | NA | NA | NA | NA | NA | NA | ⋯  | NA | NA | NA | NA | NA | NA | NA | NA | NA | NA | \n",
       "| NA.22 | NA | NA | NA | NA | NA | NA | NA | NA | NA | NA | ⋯  | NA | NA | NA | NA | NA | NA | NA | NA | NA | NA | \n",
       "| NA.23 | NA | NA | NA | NA | NA | NA | NA | NA | NA | NA | ⋯  | NA | NA | NA | NA | NA | NA | NA | NA | NA | NA | \n",
       "| ⋮ | ⋮ | ⋮ | ⋮ | ⋮ | ⋮ | ⋮ | ⋮ | ⋮ | ⋮ | ⋮ | ⋱ | ⋮ | ⋮ | ⋮ | ⋮ | ⋮ | ⋮ | ⋮ | ⋮ | ⋮ | ⋮ | \n",
       "| NA.108 | NA | NA | NA | NA | NA | NA | NA | NA | NA | NA | ⋯  | NA | NA | NA | NA | NA | NA | NA | NA | NA | NA | \n",
       "| NA.109 | NA | NA | NA | NA | NA | NA | NA | NA | NA | NA | ⋯  | NA | NA | NA | NA | NA | NA | NA | NA | NA | NA | \n",
       "| NA.110 | NA | NA | NA | NA | NA | NA | NA | NA | NA | NA | ⋯  | NA | NA | NA | NA | NA | NA | NA | NA | NA | NA | \n",
       "| NA.111 | NA | NA | NA | NA | NA | NA | NA | NA | NA | NA | ⋯  | NA | NA | NA | NA | NA | NA | NA | NA | NA | NA | \n",
       "| NA.112 | NA | NA | NA | NA | NA | NA | NA | NA | NA | NA | ⋯  | NA | NA | NA | NA | NA | NA | NA | NA | NA | NA | \n",
       "| NA.113 | NA | NA | NA | NA | NA | NA | NA | NA | NA | NA | ⋯  | NA | NA | NA | NA | NA | NA | NA | NA | NA | NA | \n",
       "| NA.114 | NA | NA | NA | NA | NA | NA | NA | NA | NA | NA | ⋯  | NA | NA | NA | NA | NA | NA | NA | NA | NA | NA | \n",
       "| NA.115 | NA | NA | NA | NA | NA | NA | NA | NA | NA | NA | ⋯  | NA | NA | NA | NA | NA | NA | NA | NA | NA | NA | \n",
       "| NA.116 | NA | NA | NA | NA | NA | NA | NA | NA | NA | NA | ⋯  | NA | NA | NA | NA | NA | NA | NA | NA | NA | NA | \n",
       "| NA.117 | NA | NA | NA | NA | NA | NA | NA | NA | NA | NA | ⋯  | NA | NA | NA | NA | NA | NA | NA | NA | NA | NA | \n",
       "| NA.118 | NA | NA | NA | NA | NA | NA | NA | NA | NA | NA | ⋯  | NA | NA | NA | NA | NA | NA | NA | NA | NA | NA | \n",
       "| NA.119 | NA | NA | NA | NA | NA | NA | NA | NA | NA | NA | ⋯  | NA | NA | NA | NA | NA | NA | NA | NA | NA | NA | \n",
       "| NA.120 | NA | NA | NA | NA | NA | NA | NA | NA | NA | NA | ⋯  | NA | NA | NA | NA | NA | NA | NA | NA | NA | NA | \n",
       "| NA.121 | NA | NA | NA | NA | NA | NA | NA | NA | NA | NA | ⋯  | NA | NA | NA | NA | NA | NA | NA | NA | NA | NA | \n",
       "| NA.122 | NA | NA | NA | NA | NA | NA | NA | NA | NA | NA | ⋯  | NA | NA | NA | NA | NA | NA | NA | NA | NA | NA | \n",
       "| NA.123 | NA | NA | NA | NA | NA | NA | NA | NA | NA | NA | ⋯  | NA | NA | NA | NA | NA | NA | NA | NA | NA | NA | \n",
       "| NA.124 | NA | NA | NA | NA | NA | NA | NA | NA | NA | NA | ⋯  | NA | NA | NA | NA | NA | NA | NA | NA | NA | NA | \n",
       "| NA.125 | NA | NA | NA | NA | NA | NA | NA | NA | NA | NA | ⋯  | NA | NA | NA | NA | NA | NA | NA | NA | NA | NA | \n",
       "| NA.126 | NA | NA | NA | NA | NA | NA | NA | NA | NA | NA | ⋯  | NA | NA | NA | NA | NA | NA | NA | NA | NA | NA | \n",
       "| NA.127 | NA | NA | NA | NA | NA | NA | NA | NA | NA | NA | ⋯  | NA | NA | NA | NA | NA | NA | NA | NA | NA | NA | \n",
       "| NA.128 | NA | NA | NA | NA | NA | NA | NA | NA | NA | NA | ⋯  | NA | NA | NA | NA | NA | NA | NA | NA | NA | NA | \n",
       "| NA.129 | NA | NA | NA | NA | NA | NA | NA | NA | NA | NA | ⋯  | NA | NA | NA | NA | NA | NA | NA | NA | NA | NA | \n",
       "| NA.130 | NA | NA | NA | NA | NA | NA | NA | NA | NA | NA | ⋯  | NA | NA | NA | NA | NA | NA | NA | NA | NA | NA | \n",
       "| NA.131 | NA | NA | NA | NA | NA | NA | NA | NA | NA | NA | ⋯  | NA | NA | NA | NA | NA | NA | NA | NA | NA | NA | \n",
       "| NA.132 | NA | NA | NA | NA | NA | NA | NA | NA | NA | NA | ⋯  | NA | NA | NA | NA | NA | NA | NA | NA | NA | NA | \n",
       "| NA.133 | NA | NA | NA | NA | NA | NA | NA | NA | NA | NA | ⋯  | NA | NA | NA | NA | NA | NA | NA | NA | NA | NA | \n",
       "| NA.134 | NA | NA | NA | NA | NA | NA | NA | NA | NA | NA | ⋯  | NA | NA | NA | NA | NA | NA | NA | NA | NA | NA | \n",
       "| NA.135 | NA | NA | NA | NA | NA | NA | NA | NA | NA | NA | ⋯  | NA | NA | NA | NA | NA | NA | NA | NA | NA | NA | \n",
       "| NA.136 | NA | NA | NA | NA | NA | NA | NA | NA | NA | NA | ⋯  | NA | NA | NA | NA | NA | NA | NA | NA | NA | NA | \n",
       "| NA.137 | NA | NA | NA | NA | NA | NA | NA | NA | NA | NA | ⋯  | NA | NA | NA | NA | NA | NA | NA | NA | NA | NA | \n",
       "\n",
       "\n"
      ],
      "text/plain": [
       "       county year crmrte prbarr prbconv prbpris avgsen polpc density taxpc ⋯\n",
       "92     NA     NA   NA     NA             NA      NA     NA    NA      NA    ⋯\n",
       "93     NA     NA   NA     NA             NA      NA     NA    NA      NA    ⋯\n",
       "94     NA     NA   NA     NA             NA      NA     NA    NA      NA    ⋯\n",
       "95     NA     NA   NA     NA             NA      NA     NA    NA      NA    ⋯\n",
       "96     NA     NA   NA     NA             NA      NA     NA    NA      NA    ⋯\n",
       "97     NA     NA   NA     NA     `       NA      NA     NA    NA      NA    ⋯\n",
       "NA     NA     NA   NA     NA     NA      NA      NA     NA    NA      NA    ⋯\n",
       "NA.1   NA     NA   NA     NA     NA      NA      NA     NA    NA      NA    ⋯\n",
       "NA.2   NA     NA   NA     NA     NA      NA      NA     NA    NA      NA    ⋯\n",
       "NA.3   NA     NA   NA     NA     NA      NA      NA     NA    NA      NA    ⋯\n",
       "NA.4   NA     NA   NA     NA     NA      NA      NA     NA    NA      NA    ⋯\n",
       "NA.5   NA     NA   NA     NA     NA      NA      NA     NA    NA      NA    ⋯\n",
       "NA.6   NA     NA   NA     NA     NA      NA      NA     NA    NA      NA    ⋯\n",
       "NA.7   NA     NA   NA     NA     NA      NA      NA     NA    NA      NA    ⋯\n",
       "NA.8   NA     NA   NA     NA     NA      NA      NA     NA    NA      NA    ⋯\n",
       "NA.9   NA     NA   NA     NA     NA      NA      NA     NA    NA      NA    ⋯\n",
       "NA.10  NA     NA   NA     NA     NA      NA      NA     NA    NA      NA    ⋯\n",
       "NA.11  NA     NA   NA     NA     NA      NA      NA     NA    NA      NA    ⋯\n",
       "NA.12  NA     NA   NA     NA     NA      NA      NA     NA    NA      NA    ⋯\n",
       "NA.13  NA     NA   NA     NA     NA      NA      NA     NA    NA      NA    ⋯\n",
       "NA.14  NA     NA   NA     NA     NA      NA      NA     NA    NA      NA    ⋯\n",
       "NA.15  NA     NA   NA     NA     NA      NA      NA     NA    NA      NA    ⋯\n",
       "NA.16  NA     NA   NA     NA     NA      NA      NA     NA    NA      NA    ⋯\n",
       "NA.17  NA     NA   NA     NA     NA      NA      NA     NA    NA      NA    ⋯\n",
       "NA.18  NA     NA   NA     NA     NA      NA      NA     NA    NA      NA    ⋯\n",
       "NA.19  NA     NA   NA     NA     NA      NA      NA     NA    NA      NA    ⋯\n",
       "NA.20  NA     NA   NA     NA     NA      NA      NA     NA    NA      NA    ⋯\n",
       "NA.21  NA     NA   NA     NA     NA      NA      NA     NA    NA      NA    ⋯\n",
       "NA.22  NA     NA   NA     NA     NA      NA      NA     NA    NA      NA    ⋯\n",
       "NA.23  NA     NA   NA     NA     NA      NA      NA     NA    NA      NA    ⋯\n",
       "⋮      ⋮      ⋮    ⋮      ⋮      ⋮       ⋮       ⋮      ⋮     ⋮       ⋮     ⋱\n",
       "NA.108 NA     NA   NA     NA     NA      NA      NA     NA    NA      NA    ⋯\n",
       "NA.109 NA     NA   NA     NA     NA      NA      NA     NA    NA      NA    ⋯\n",
       "NA.110 NA     NA   NA     NA     NA      NA      NA     NA    NA      NA    ⋯\n",
       "NA.111 NA     NA   NA     NA     NA      NA      NA     NA    NA      NA    ⋯\n",
       "NA.112 NA     NA   NA     NA     NA      NA      NA     NA    NA      NA    ⋯\n",
       "NA.113 NA     NA   NA     NA     NA      NA      NA     NA    NA      NA    ⋯\n",
       "NA.114 NA     NA   NA     NA     NA      NA      NA     NA    NA      NA    ⋯\n",
       "NA.115 NA     NA   NA     NA     NA      NA      NA     NA    NA      NA    ⋯\n",
       "NA.116 NA     NA   NA     NA     NA      NA      NA     NA    NA      NA    ⋯\n",
       "NA.117 NA     NA   NA     NA     NA      NA      NA     NA    NA      NA    ⋯\n",
       "NA.118 NA     NA   NA     NA     NA      NA      NA     NA    NA      NA    ⋯\n",
       "NA.119 NA     NA   NA     NA     NA      NA      NA     NA    NA      NA    ⋯\n",
       "NA.120 NA     NA   NA     NA     NA      NA      NA     NA    NA      NA    ⋯\n",
       "NA.121 NA     NA   NA     NA     NA      NA      NA     NA    NA      NA    ⋯\n",
       "NA.122 NA     NA   NA     NA     NA      NA      NA     NA    NA      NA    ⋯\n",
       "NA.123 NA     NA   NA     NA     NA      NA      NA     NA    NA      NA    ⋯\n",
       "NA.124 NA     NA   NA     NA     NA      NA      NA     NA    NA      NA    ⋯\n",
       "NA.125 NA     NA   NA     NA     NA      NA      NA     NA    NA      NA    ⋯\n",
       "NA.126 NA     NA   NA     NA     NA      NA      NA     NA    NA      NA    ⋯\n",
       "NA.127 NA     NA   NA     NA     NA      NA      NA     NA    NA      NA    ⋯\n",
       "NA.128 NA     NA   NA     NA     NA      NA      NA     NA    NA      NA    ⋯\n",
       "NA.129 NA     NA   NA     NA     NA      NA      NA     NA    NA      NA    ⋯\n",
       "NA.130 NA     NA   NA     NA     NA      NA      NA     NA    NA      NA    ⋯\n",
       "NA.131 NA     NA   NA     NA     NA      NA      NA     NA    NA      NA    ⋯\n",
       "NA.132 NA     NA   NA     NA     NA      NA      NA     NA    NA      NA    ⋯\n",
       "NA.133 NA     NA   NA     NA     NA      NA      NA     NA    NA      NA    ⋯\n",
       "NA.134 NA     NA   NA     NA     NA      NA      NA     NA    NA      NA    ⋯\n",
       "NA.135 NA     NA   NA     NA     NA      NA      NA     NA    NA      NA    ⋯\n",
       "NA.136 NA     NA   NA     NA     NA      NA      NA     NA    NA      NA    ⋯\n",
       "NA.137 NA     NA   NA     NA     NA      NA      NA     NA    NA      NA    ⋯\n",
       "       wtuc wtrd wfir wser wmfg wfed wsta wloc mix pctymle\n",
       "92     NA   NA   NA   NA   NA   NA   NA   NA   NA  NA     \n",
       "93     NA   NA   NA   NA   NA   NA   NA   NA   NA  NA     \n",
       "94     NA   NA   NA   NA   NA   NA   NA   NA   NA  NA     \n",
       "95     NA   NA   NA   NA   NA   NA   NA   NA   NA  NA     \n",
       "96     NA   NA   NA   NA   NA   NA   NA   NA   NA  NA     \n",
       "97     NA   NA   NA   NA   NA   NA   NA   NA   NA  NA     \n",
       "NA     NA   NA   NA   NA   NA   NA   NA   NA   NA  NA     \n",
       "NA.1   NA   NA   NA   NA   NA   NA   NA   NA   NA  NA     \n",
       "NA.2   NA   NA   NA   NA   NA   NA   NA   NA   NA  NA     \n",
       "NA.3   NA   NA   NA   NA   NA   NA   NA   NA   NA  NA     \n",
       "NA.4   NA   NA   NA   NA   NA   NA   NA   NA   NA  NA     \n",
       "NA.5   NA   NA   NA   NA   NA   NA   NA   NA   NA  NA     \n",
       "NA.6   NA   NA   NA   NA   NA   NA   NA   NA   NA  NA     \n",
       "NA.7   NA   NA   NA   NA   NA   NA   NA   NA   NA  NA     \n",
       "NA.8   NA   NA   NA   NA   NA   NA   NA   NA   NA  NA     \n",
       "NA.9   NA   NA   NA   NA   NA   NA   NA   NA   NA  NA     \n",
       "NA.10  NA   NA   NA   NA   NA   NA   NA   NA   NA  NA     \n",
       "NA.11  NA   NA   NA   NA   NA   NA   NA   NA   NA  NA     \n",
       "NA.12  NA   NA   NA   NA   NA   NA   NA   NA   NA  NA     \n",
       "NA.13  NA   NA   NA   NA   NA   NA   NA   NA   NA  NA     \n",
       "NA.14  NA   NA   NA   NA   NA   NA   NA   NA   NA  NA     \n",
       "NA.15  NA   NA   NA   NA   NA   NA   NA   NA   NA  NA     \n",
       "NA.16  NA   NA   NA   NA   NA   NA   NA   NA   NA  NA     \n",
       "NA.17  NA   NA   NA   NA   NA   NA   NA   NA   NA  NA     \n",
       "NA.18  NA   NA   NA   NA   NA   NA   NA   NA   NA  NA     \n",
       "NA.19  NA   NA   NA   NA   NA   NA   NA   NA   NA  NA     \n",
       "NA.20  NA   NA   NA   NA   NA   NA   NA   NA   NA  NA     \n",
       "NA.21  NA   NA   NA   NA   NA   NA   NA   NA   NA  NA     \n",
       "NA.22  NA   NA   NA   NA   NA   NA   NA   NA   NA  NA     \n",
       "NA.23  NA   NA   NA   NA   NA   NA   NA   NA   NA  NA     \n",
       "⋮      ⋮    ⋮    ⋮    ⋮    ⋮    ⋮    ⋮    ⋮    ⋮   ⋮      \n",
       "NA.108 NA   NA   NA   NA   NA   NA   NA   NA   NA  NA     \n",
       "NA.109 NA   NA   NA   NA   NA   NA   NA   NA   NA  NA     \n",
       "NA.110 NA   NA   NA   NA   NA   NA   NA   NA   NA  NA     \n",
       "NA.111 NA   NA   NA   NA   NA   NA   NA   NA   NA  NA     \n",
       "NA.112 NA   NA   NA   NA   NA   NA   NA   NA   NA  NA     \n",
       "NA.113 NA   NA   NA   NA   NA   NA   NA   NA   NA  NA     \n",
       "NA.114 NA   NA   NA   NA   NA   NA   NA   NA   NA  NA     \n",
       "NA.115 NA   NA   NA   NA   NA   NA   NA   NA   NA  NA     \n",
       "NA.116 NA   NA   NA   NA   NA   NA   NA   NA   NA  NA     \n",
       "NA.117 NA   NA   NA   NA   NA   NA   NA   NA   NA  NA     \n",
       "NA.118 NA   NA   NA   NA   NA   NA   NA   NA   NA  NA     \n",
       "NA.119 NA   NA   NA   NA   NA   NA   NA   NA   NA  NA     \n",
       "NA.120 NA   NA   NA   NA   NA   NA   NA   NA   NA  NA     \n",
       "NA.121 NA   NA   NA   NA   NA   NA   NA   NA   NA  NA     \n",
       "NA.122 NA   NA   NA   NA   NA   NA   NA   NA   NA  NA     \n",
       "NA.123 NA   NA   NA   NA   NA   NA   NA   NA   NA  NA     \n",
       "NA.124 NA   NA   NA   NA   NA   NA   NA   NA   NA  NA     \n",
       "NA.125 NA   NA   NA   NA   NA   NA   NA   NA   NA  NA     \n",
       "NA.126 NA   NA   NA   NA   NA   NA   NA   NA   NA  NA     \n",
       "NA.127 NA   NA   NA   NA   NA   NA   NA   NA   NA  NA     \n",
       "NA.128 NA   NA   NA   NA   NA   NA   NA   NA   NA  NA     \n",
       "NA.129 NA   NA   NA   NA   NA   NA   NA   NA   NA  NA     \n",
       "NA.130 NA   NA   NA   NA   NA   NA   NA   NA   NA  NA     \n",
       "NA.131 NA   NA   NA   NA   NA   NA   NA   NA   NA  NA     \n",
       "NA.132 NA   NA   NA   NA   NA   NA   NA   NA   NA  NA     \n",
       "NA.133 NA   NA   NA   NA   NA   NA   NA   NA   NA  NA     \n",
       "NA.134 NA   NA   NA   NA   NA   NA   NA   NA   NA  NA     \n",
       "NA.135 NA   NA   NA   NA   NA   NA   NA   NA   NA  NA     \n",
       "NA.136 NA   NA   NA   NA   NA   NA   NA   NA   NA  NA     \n",
       "NA.137 NA   NA   NA   NA   NA   NA   NA   NA   NA  NA     "
      ]
     },
     "metadata": {},
     "output_type": "display_data"
    },
    {
     "data": {
      "text/html": [
       "<table>\n",
       "<thead><tr><th scope=col>county</th><th scope=col>year</th><th scope=col>crmrte</th><th scope=col>prbarr</th><th scope=col>prbconv</th><th scope=col>prbpris</th><th scope=col>avgsen</th><th scope=col>polpc</th><th scope=col>density</th><th scope=col>taxpc</th><th scope=col>⋯</th><th scope=col>wtuc</th><th scope=col>wtrd</th><th scope=col>wfir</th><th scope=col>wser</th><th scope=col>wmfg</th><th scope=col>wfed</th><th scope=col>wsta</th><th scope=col>wloc</th><th scope=col>mix</th><th scope=col>pctymle</th></tr></thead>\n",
       "<tbody>\n",
       "\t<tr><td> 1         </td><td>87         </td><td>0.0356036  </td><td>0.298270   </td><td>0.527595997</td><td>0.436170   </td><td> 6.71      </td><td>0.00182786 </td><td>2.4226327  </td><td> 30.99368  </td><td>⋯          </td><td>408.7245   </td><td>221.2701   </td><td>453.1722   </td><td>274.1775   </td><td>334.54     </td><td>477.58     </td><td>292.09     </td><td>311.91     </td><td>0.08016878 </td><td>0.07787097 </td></tr>\n",
       "\t<tr><td> 3         </td><td>87         </td><td>0.0152532  </td><td>0.132029   </td><td>1.481480002</td><td>0.450000   </td><td> 6.35      </td><td>0.00074588 </td><td>1.0463320  </td><td> 26.89208  </td><td>⋯          </td><td>376.2542   </td><td>196.0101   </td><td>258.5650   </td><td>192.3077   </td><td>300.38     </td><td>409.83     </td><td>362.96     </td><td>301.47     </td><td>0.03022670 </td><td>0.08260694 </td></tr>\n",
       "\t<tr><td> 5         </td><td>87         </td><td>0.0129603  </td><td>0.444444   </td><td>0.267856985</td><td>0.600000   </td><td> 6.76      </td><td>0.00123431 </td><td>0.4127659  </td><td> 34.81605  </td><td>⋯          </td><td>372.2084   </td><td>229.3209   </td><td>305.9441   </td><td>209.6972   </td><td>237.65     </td><td>358.98     </td><td>331.53     </td><td>281.37     </td><td>0.46511629 </td><td>0.07211538 </td></tr>\n",
       "\t<tr><td> 7         </td><td>87         </td><td>0.0267532  </td><td>0.364760   </td><td>0.525424004</td><td>0.435484   </td><td> 7.14      </td><td>0.00152994 </td><td>0.4915572  </td><td> 42.94759  </td><td>⋯          </td><td>397.6901   </td><td>191.1720   </td><td>281.0651   </td><td>256.7214   </td><td>281.80     </td><td>412.15     </td><td>328.27     </td><td>299.03     </td><td>0.27362204 </td><td>0.07353726 </td></tr>\n",
       "\t<tr><td> 9         </td><td>87         </td><td>0.0106232  </td><td>0.518219   </td><td>0.476563007</td><td>0.442623   </td><td> 8.22      </td><td>0.00086018 </td><td>0.5469484  </td><td> 28.05474  </td><td>⋯          </td><td>377.3126   </td><td>206.8215   </td><td>289.3125   </td><td>215.1933   </td><td>290.89     </td><td>377.35     </td><td>367.23     </td><td>342.82     </td><td>0.06008584 </td><td>0.07069755 </td></tr>\n",
       "\t<tr><td>11         </td><td>87         </td><td>0.0146067  </td><td>0.524664   </td><td>0.068376102</td><td>0.500000   </td><td>13.00      </td><td>0.00288203 </td><td>0.6113361  </td><td> 35.22974  </td><td>⋯          </td><td>401.3378   </td><td>187.8255   </td><td>258.5650   </td><td>237.1507   </td><td>258.60     </td><td>391.48     </td><td>325.71     </td><td>275.22     </td><td>0.31952664 </td><td>0.09891920 </td></tr>\n",
       "\t<tr><td>13         </td><td>87         </td><td>0.0296409  </td><td>0.365004   </td><td>0.520606995</td><td>0.420833   </td><td>10.55      </td><td>0.00133771 </td><td>0.5169492  </td><td> 30.69649  </td><td>⋯          </td><td>366.3004   </td><td>205.5358   </td><td>310.1737   </td><td>259.3391   </td><td>303.42     </td><td>449.84     </td><td>350.72     </td><td>283.76     </td><td>0.15237226 </td><td>0.07073344 </td></tr>\n",
       "\t<tr><td>15         </td><td>87         </td><td>0.0202814  </td><td>0.392111   </td><td>0.769231021</td><td>0.507692   </td><td>10.64      </td><td>0.00103525 </td><td>0.3009986  </td><td> 34.00304  </td><td>⋯          </td><td>353.2182   </td><td>199.2377   </td><td>356.1254   </td><td>206.2816   </td><td>235.05     </td><td>416.49     </td><td>370.62     </td><td>297.13     </td><td>0.23495702 </td><td>0.07430546 </td></tr>\n",
       "\t<tr><td>17         </td><td>87         </td><td>0.0304289  </td><td>0.251599   </td><td>0.436441004</td><td>0.436893   </td><td> 7.32      </td><td>0.00129761 </td><td>0.3503982  </td><td> 34.96204  </td><td>⋯          </td><td>346.6011   </td><td>202.9595   </td><td>268.3363   </td><td>208.2520   </td><td>339.76     </td><td>389.51     </td><td>322.06     </td><td>278.39     </td><td>0.21818182 </td><td>0.07769163 </td></tr>\n",
       "\t<tr><td>19         </td><td>87         </td><td>0.0221567  </td><td>0.162860   </td><td>1.225610018</td><td>0.333333   </td><td>10.34      </td><td>0.00202425 </td><td>0.5767442  </td><td> 61.15251  </td><td>⋯          </td><td>613.2261   </td><td>191.2452   </td><td>290.5141   </td><td>266.0934   </td><td>567.06     </td><td>403.15     </td><td>258.33     </td><td>299.44     </td><td>0.05334728 </td><td>0.07713232 </td></tr>\n",
       "\t<tr><td>21         </td><td>87         </td><td>0.0437355  </td><td>0.234760   </td><td>0.334701002</td><td>0.429072   </td><td>10.62      </td><td>0.00182958 </td><td>2.6024280  </td><td> 52.62629  </td><td>⋯          </td><td>433.8580   </td><td>228.1740   </td><td>363.7671   </td><td>318.3635   </td><td>378.90     </td><td>496.13     </td><td>381.30     </td><td>335.36     </td><td>0.06289308 </td><td>0.07219726 </td></tr>\n",
       "\t<tr><td>23         </td><td>87         </td><td>0.0269836  </td><td>0.289121   </td><td>0.403780013</td><td>0.365957   </td><td> 7.07      </td><td>0.00146111 </td><td>1.5119047  </td><td> 29.08280  </td><td>⋯          </td><td>400.7398   </td><td>213.1840   </td><td>325.0271   </td><td>315.0242   </td><td>327.45     </td><td>463.67     </td><td>361.21     </td><td>308.32     </td><td>0.08400646 </td><td>0.08397806 </td></tr>\n",
       "\t<tr><td>25         </td><td>87         </td><td>0.0302542  </td><td>0.323548   </td><td>0.406780005</td><td>0.492647   </td><td> 8.01      </td><td>0.00197140 </td><td>2.5741758  </td><td> 33.03621  </td><td>⋯          </td><td>384.6154   </td><td>220.5897   </td><td>358.6328   </td><td>318.0335   </td><td>355.59     </td><td>486.36     </td><td>411.08     </td><td>357.44     </td><td>0.08848315 </td><td>0.07641540 </td></tr>\n",
       "\t<tr><td>27         </td><td>87         </td><td>0.0382489  </td><td>0.268018   </td><td>0.352941006</td><td>0.321429   </td><td>11.69      </td><td>0.00145013 </td><td>1.4989384  </td><td> 43.06339  </td><td>⋯          </td><td>428.5023   </td><td>213.4620   </td><td>316.9436   </td><td>292.3517   </td><td>309.27     </td><td>450.28     </td><td>283.60     </td><td>310.85     </td><td>0.08957055 </td><td>0.08353864 </td></tr>\n",
       "\t<tr><td>33         </td><td>87         </td><td>0.0159189  </td><td>0.270950   </td><td>0.515464008</td><td>0.480000   </td><td> 7.32      </td><td>0.00075593 </td><td>0.5257009  </td><td> 27.38110  </td><td>⋯          </td><td>286.4157   </td><td>195.1995   </td><td>368.2488   </td><td>172.4733   </td><td>324.45     </td><td>357.16     </td><td>407.54     </td><td>268.44     </td><td>0.15112540 </td><td>0.08005202 </td></tr>\n",
       "\t<tr><td>35         </td><td>87         </td><td>0.0408569  </td><td>0.266026   </td><td>0.325300992</td><td>0.370370   </td><td>10.06      </td><td>0.00189444 </td><td>2.9242425  </td><td> 56.86211  </td><td>⋯          </td><td>469.2220   </td><td>277.2925   </td><td>359.3117   </td><td>296.8491   </td><td>341.32     </td><td>525.51     </td><td>360.68     </td><td>333.32     </td><td>0.18122160 </td><td>0.07891140 </td></tr>\n",
       "\t<tr><td>37         </td><td>87         </td><td>0.0226017  </td><td>0.321867   </td><td>0.385495991</td><td>0.316832   </td><td> 8.69      </td><td>0.00130501 </td><td>0.5127119  </td><td> 34.70248  </td><td>⋯          </td><td>462.4408   </td><td>227.7858   </td><td>305.6546   </td><td>231.3615   </td><td>321.90     </td><td>460.62     </td><td>393.29     </td><td>321.53     </td><td>0.08100930 </td><td>0.07154077 </td></tr>\n",
       "\t<tr><td>39         </td><td>87         </td><td>0.0119154  </td><td>0.308333   </td><td>0.972972989</td><td>0.291667   </td><td>11.58      </td><td>0.00119154 </td><td>0.4623894  </td><td> 27.27564  </td><td>⋯          </td><td>390.1895   </td><td>180.0634   </td><td>295.8580   </td><td>246.0152   </td><td>270.78     </td><td>397.33     </td><td>313.06     </td><td>239.17     </td><td>0.13744076 </td><td>0.06973287 </td></tr>\n",
       "\t<tr><td>41         </td><td>87         </td><td>0.0257713  </td><td>0.307246   </td><td>0.452829987</td><td>0.520833   </td><td>17.41      </td><td>0.00149399 </td><td>0.7417582  </td><td> 41.76929  </td><td>⋯          </td><td>379.0005   </td><td>238.5589   </td><td>271.7391   </td><td>232.5916   </td><td>332.07     </td><td>451.84     </td><td>389.99     </td><td>312.05     </td><td>0.09872611 </td><td>0.06355526 </td></tr>\n",
       "\t<tr><td>45         </td><td>87         </td><td>0.0362807  </td><td>0.202627   </td><td>0.450567007</td><td>0.474820   </td><td> 8.96      </td><td>0.00121531 </td><td>1.8440171  </td><td> 30.84900  </td><td>⋯          </td><td>403.0558   </td><td>248.7759   </td><td>301.8632   </td><td>293.1148   </td><td>367.42     </td><td>463.37     </td><td>352.35     </td><td>320.82     </td><td>0.08594864 </td><td>0.08013537 </td></tr>\n",
       "\t<tr><td>47         </td><td>87         </td><td>0.0313623  </td><td>0.182927   </td><td>0.763333023</td><td>0.270742   </td><td> 7.79      </td><td>0.00128127 </td><td>0.5639659  </td><td> 32.66050  </td><td>⋯          </td><td>342.5724   </td><td>194.6777   </td><td>352.6135   </td><td>256.4102   </td><td>355.83     </td><td>426.56     </td><td>313.71     </td><td>313.84     </td><td>0.12405757 </td><td>0.07381025 </td></tr>\n",
       "\t<tr><td>49         </td><td>87         </td><td>0.0374979  </td><td>0.264420   </td><td>0.371879011</td><td>0.356890   </td><td> 8.70      </td><td>0.00148532 </td><td>1.1440799  </td><td> 39.23048  </td><td>⋯          </td><td>406.5041   </td><td>212.4851   </td><td>312.6954   </td><td>304.3066   </td><td>375.32     </td><td>474.30     </td><td>297.69     </td><td>290.48     </td><td>0.10692308 </td><td>0.12224479 </td></tr>\n",
       "\t<tr><td>51         </td><td>87         </td><td>0.0883849  </td><td>0.155248   </td><td>0.259833008</td><td>0.407628   </td><td>11.93      </td><td>0.00190802 </td><td>3.9345510  </td><td> 35.69936  </td><td>⋯          </td><td>412.4720   </td><td>213.7524   </td><td>324.8357   </td><td>257.3344   </td><td>441.72     </td><td>433.94     </td><td>367.34     </td><td>333.71     </td><td>0.10474319 </td><td>0.14223780 </td></tr>\n",
       "\t<tr><td>53         </td><td>87         </td><td>0.0140655  </td><td>0.303191   </td><td>0.140350997</td><td>0.250000   </td><td>11.96      </td><td>0.00112225 </td><td>0.5351562  </td><td> 50.38139  </td><td>⋯          </td><td>202.4292   </td><td>219.7802   </td><td>305.9441   </td><td>223.8502   </td><td>250.42     </td><td>371.79     </td><td>383.72     </td><td>296.64     </td><td>0.08045977 </td><td>0.08476309 </td></tr>\n",
       "\t<tr><td>55         </td><td>87         </td><td>0.0790163  </td><td>0.224628   </td><td>0.207830995</td><td>0.304348   </td><td>13.57      </td><td>0.00400962 </td><td>0.5115089  </td><td>119.76145  </td><td>⋯          </td><td>445.2762   </td><td>189.7436   </td><td>284.5933   </td><td>221.3903   </td><td>319.21     </td><td>338.91     </td><td>361.68     </td><td>326.08     </td><td>0.08437271 </td><td>0.07613807 </td></tr>\n",
       "\t<tr><td>57         </td><td>87         </td><td>0.0300216  </td><td>0.222002   </td><td>0.736908972</td><td>0.320624   </td><td>10.47      </td><td>0.00136191 </td><td>2.2518249  </td><td> 28.59199  </td><td>⋯          </td><td>418.6380   </td><td>225.5296   </td><td>338.5699   </td><td>261.3512   </td><td>324.67     </td><td>496.07     </td><td>325.15     </td><td>314.01     </td><td>0.07497714 </td><td>0.07873024 </td></tr>\n",
       "\t<tr><td>59         </td><td>87         </td><td>0.0233327  </td><td>0.227753   </td><td>0.62251699 </td><td>0.425532   </td><td> 6.50      </td><td>0.00119655 </td><td>1.0262172  </td><td> 41.07194  </td><td>⋯          </td><td>335.4590   </td><td>210.3365   </td><td>317.3077   </td><td>316.6645   </td><td>316.57     </td><td>428.33     </td><td>388.92     </td><td>307.25     </td><td>0.11616162 </td><td>0.07756928 </td></tr>\n",
       "\t<tr><td>61         </td><td>87         </td><td>0.0233677  </td><td>0.398119   </td><td>0.493438005</td><td>0.361702   </td><td> 8.77      </td><td>0.00141622 </td><td>0.5079365  </td><td> 32.59961  </td><td>⋯          </td><td>308.5150   </td><td>214.2203   </td><td>327.1213   </td><td>203.8864   </td><td>266.58     </td><td>414.84     </td><td>333.46     </td><td>308.05     </td><td>0.16707317 </td><td>0.07579902 </td></tr>\n",
       "\t<tr><td>63         </td><td>87         </td><td>0.0706599  </td><td>0.133225   </td><td>0.459215999</td><td>0.363636   </td><td>11.51      </td><td>0.00237609 </td><td>5.6744967  </td><td> 50.19918  </td><td>⋯          </td><td>548.9865   </td><td>238.9154   </td><td>435.1107   </td><td>391.3081   </td><td>646.85     </td><td>563.77     </td><td>415.51     </td><td>362.58     </td><td>0.07585382 </td><td>0.09468981 </td></tr>\n",
       "\t<tr><td>65         </td><td>87         </td><td>0.0658801  </td><td>0.287330   </td><td>0.154451996</td><td>0.403922   </td><td> 9.84      </td><td>0.00185739 </td><td>1.1679842  </td><td> 30.62824  </td><td>⋯          </td><td>540.1061   </td><td>209.0579   </td><td>316.2955   </td><td>216.4589   </td><td>313.71     </td><td>543.03     </td><td>348.88     </td><td>329.16     </td><td>0.09364294 </td><td>0.07622346 </td></tr>\n",
       "\t<tr><td>⋮</td><td>⋮</td><td>⋮</td><td>⋮</td><td>⋮</td><td>⋮</td><td>⋮</td><td>⋮</td><td>⋮</td><td>⋮</td><td>⋱</td><td>⋮</td><td>⋮</td><td>⋮</td><td>⋮</td><td>⋮</td><td>⋮</td><td>⋮</td><td>⋮</td><td>⋮</td><td>⋮</td></tr>\n",
       "\t<tr><td>151         </td><td>87          </td><td>0.0264557   </td><td>0.299198    </td><td>0.36015299  </td><td>0.340426    </td><td>12.57       </td><td>0.00132430  </td><td>1.2737642530</td><td>25.69287    </td><td>⋯           </td><td>415.1317    </td><td>218.7198    </td><td>322.4150    </td><td> 278.1124   </td><td>294.37      </td><td>474.26      </td><td>298.66      </td><td>294.72      </td><td>0.07342084  </td><td>0.07763254  </td></tr>\n",
       "\t<tr><td>153         </td><td>87          </td><td>0.0317563   </td><td>0.345368    </td><td>0.520709991 </td><td>0.458333    </td><td>11.33       </td><td>0.00138447  </td><td>0.9622641210</td><td>37.22833    </td><td>⋯           </td><td>294.6650    </td><td>192.8994    </td><td>267.3797    </td><td> 237.1590   </td><td>301.29      </td><td>467.08      </td><td>350.24      </td><td>302.25      </td><td>0.16323297  </td><td>0.07570874  </td></tr>\n",
       "\t<tr><td>155         </td><td>87          </td><td>0.0312279   </td><td>0.408200    </td><td>0.559822977 </td><td>0.386544    </td><td> 8.71       </td><td>0.00145925  </td><td>1.1296100620</td><td>31.37446    </td><td>⋯           </td><td>407.0929    </td><td>200.2213    </td><td>337.9095    </td><td> 262.9849   </td><td>278.82      </td><td>441.49      </td><td>381.46      </td><td>304.73      </td><td>0.12516960  </td><td>0.08183564  </td></tr>\n",
       "\t<tr><td>157         </td><td>87          </td><td>0.0305908   </td><td>0.278287    </td><td>0.443681002 </td><td>0.377709    </td><td> 7.48       </td><td>0.00191777  </td><td>1.5096660850</td><td>39.16965    </td><td>⋯           </td><td>409.7771    </td><td>192.4181    </td><td>302.6162    </td><td> 245.7938   </td><td>418.48      </td><td>478.48      </td><td>342.13      </td><td>318.07      </td><td>0.12467756  </td><td>0.07771273  </td></tr>\n",
       "\t<tr><td>159         </td><td>87          </td><td>0.0362330   </td><td>0.243590    </td><td>0.492940009 </td><td>0.476563    </td><td> 8.64       </td><td>0.00158619  </td><td>2.0192677970</td><td>27.76489    </td><td>⋯           </td><td>475.3228    </td><td>260.2710    </td><td>329.5464    </td><td> 265.4315   </td><td>374.41      </td><td>491.16      </td><td>346.81      </td><td>351.74      </td><td>0.09146758  </td><td>0.07705218  </td></tr>\n",
       "\t<tr><td>161         </td><td>87          </td><td>0.0200070   </td><td>0.482425    </td><td>0.50819701  </td><td>0.451613    </td><td> 7.98       </td><td>0.00124824  </td><td>1.0052816870</td><td>31.34530    </td><td>⋯           </td><td>402.5045    </td><td>201.5675    </td><td>279.2492    </td><td> 251.4202   </td><td>334.92      </td><td>450.28      </td><td>277.60      </td><td>302.83      </td><td>0.11024390  </td><td>0.07362188  </td></tr>\n",
       "\t<tr><td>163         </td><td>87          </td><td>0.0215728   </td><td>0.310987    </td><td>0.401198    </td><td>0.455224    </td><td>11.25       </td><td>0.00136587  </td><td>0.5353748800</td><td>34.01291    </td><td>⋯           </td><td>415.2824    </td><td>196.5514    </td><td>279.0347    </td><td> 238.6300   </td><td>295.07      </td><td>429.27      </td><td>318.02      </td><td>299.92      </td><td>0.12108560  </td><td>0.07472797  </td></tr>\n",
       "\t<tr><td>165         </td><td>87          </td><td>0.0508341   </td><td>0.340679    </td><td>0.468531013 </td><td>0.432836    </td><td> 7.42       </td><td>0.00151382  </td><td>1.0783698560</td><td>38.74739    </td><td>⋯           </td><td>471.3424    </td><td>203.0162    </td><td>294.4124    </td><td> 267.6852   </td><td>374.25      </td><td>442.38      </td><td>381.14      </td><td>285.50      </td><td>0.09595300  </td><td>0.08548180  </td></tr>\n",
       "\t<tr><td>167         </td><td>87          </td><td>0.0238285   </td><td>0.362270    </td><td>0.322580993 </td><td>0.371429    </td><td>10.48       </td><td>0.00155144  </td><td>1.2752525810</td><td>35.09686    </td><td>⋯           </td><td>419.0362    </td><td>221.0995    </td><td>326.8283    </td><td> 253.0096   </td><td>351.09      </td><td>463.69      </td><td>312.53      </td><td>311.47      </td><td>0.10925926  </td><td>0.07687439  </td></tr>\n",
       "\t<tr><td>169         </td><td>87          </td><td>0.0121033   </td><td>0.343387    </td><td>0.722972989 </td><td>0.448598    </td><td>12.36       </td><td>0.00109520  </td><td>0.8008849620</td><td>37.70785    </td><td>⋯           </td><td>588.6970    </td><td>190.5555    </td><td>331.5650    </td><td> 206.6858   </td><td>306.42      </td><td>406.62      </td><td>348.37      </td><td>306.68      </td><td>0.13720317  </td><td>0.08280677  </td></tr>\n",
       "\t<tr><td>171         </td><td>87          </td><td>0.0243954   </td><td>0.175649    </td><td>0.909090996 </td><td>0.458333    </td><td> 8.67       </td><td>0.00157442  </td><td>1.1521335840</td><td>31.15306    </td><td>⋯           </td><td>412.5212    </td><td>224.7224    </td><td>339.9547    </td><td> 253.6207   </td><td>288.32      </td><td>452.53      </td><td>341.77      </td><td>324.06      </td><td>0.08207343  </td><td>0.07735254  </td></tr>\n",
       "\t<tr><td>173         </td><td>87          </td><td>0.0139937   </td><td>0.530435    </td><td>0.327868998 </td><td>0.150000    </td><td> 6.64       </td><td>0.00316379  </td><td>0.0000203422</td><td>37.72702    </td><td>⋯           </td><td>213.6752    </td><td>175.1604    </td><td>267.0940    </td><td> 204.3792   </td><td>193.01      </td><td>334.44      </td><td>414.68      </td><td>304.32      </td><td>0.41975310  </td><td>0.07462687  </td></tr>\n",
       "\t<tr><td>175         </td><td>87          </td><td>0.0164932   </td><td>0.350348    </td><td>0.410596013 </td><td>0.387097    </td><td> 7.31       </td><td>0.00164549  </td><td>0.6878306870</td><td>46.41461    </td><td>⋯           </td><td>402.5045    </td><td>172.6453    </td><td>317.3394    </td><td> 257.8734   </td><td>627.02      </td><td>344.06      </td><td>357.69      </td><td>298.33      </td><td>0.10230179  </td><td>0.08436658  </td></tr>\n",
       "\t<tr><td>179         </td><td>87          </td><td>0.0318720   </td><td>0.377543    </td><td>0.328664005 </td><td>0.426230    </td><td> 9.90       </td><td>0.00147820  </td><td>1.2816901210</td><td>38.44067    </td><td>⋯           </td><td>361.1018    </td><td>241.0034    </td><td>342.6819    </td><td> 270.4866   </td><td>349.63      </td><td>459.32      </td><td>387.16      </td><td>376.45      </td><td>0.13481072  </td><td>0.08703093  </td></tr>\n",
       "\t<tr><td>181         </td><td>87          </td><td>0.0729479   </td><td>0.182590    </td><td>0.343023002 </td><td>0.548023    </td><td> 7.06       </td><td>0.00172948  </td><td>1.5702811480</td><td>27.59179    </td><td>⋯           </td><td>365.4716    </td><td>279.2273    </td><td>325.0271    </td><td> 213.5822   </td><td>290.69      </td><td>453.53      </td><td>317.23      </td><td>286.45      </td><td>0.10003893  </td><td>0.07977433  </td></tr>\n",
       "\t<tr><td>183         </td><td>87          </td><td>0.0568423   </td><td>0.204216    </td><td>0.381908    </td><td>0.367347    </td><td>12.15       </td><td>0.00212751  </td><td>4.3887586590</td><td>48.76492    </td><td>⋯           </td><td>528.5593    </td><td>306.0835    </td><td>430.0697    </td><td> 348.2754   </td><td>444.45      </td><td>597.95      </td><td>453.08      </td><td>362.99      </td><td>0.08527010  </td><td>0.09935585  </td></tr>\n",
       "\t<tr><td>185         </td><td>87          </td><td>0.0108703   </td><td>0.195266    </td><td>2.121210098 </td><td>0.442857    </td><td> 5.38       </td><td>0.00122210  </td><td>0.3887587790</td><td>40.82454    </td><td>⋯           </td><td>331.5650    </td><td>167.3726    </td><td>264.4231    </td><td>2177.0681   </td><td>247.72      </td><td>381.33      </td><td>367.25      </td><td>300.13      </td><td>0.04968944  </td><td>0.07008217  </td></tr>\n",
       "\t<tr><td>187         </td><td>87          </td><td>0.0345231   </td><td>0.332669    </td><td>0.443114012 </td><td>0.432432    </td><td> 6.98       </td><td>0.00116911  </td><td>0.4427710770</td><td>34.71814    </td><td>⋯           </td><td>421.3483    </td><td>170.5293    </td><td>282.0513    </td><td> 183.1502   </td><td>297.14      </td><td>390.94      </td><td>356.91      </td><td>267.08      </td><td>0.29048842  </td><td>0.07794872  </td></tr>\n",
       "\t<tr><td>189         </td><td>87          </td><td>0.0313130   </td><td>0.161381    </td><td>0.300577998 </td><td>0.288462    </td><td>12.27       </td><td>0.00227837  </td><td>1.1019108300</td><td>31.33022    </td><td>⋯           </td><td>354.2510    </td><td>180.9359    </td><td>369.4332    </td><td> 253.2281   </td><td>304.72      </td><td>427.84      </td><td>451.79      </td><td>297.19      </td><td>0.05719921  </td><td>0.15092644  </td></tr>\n",
       "\t<tr><td>191         </td><td>87          </td><td>0.0458895   </td><td>0.172257    </td><td>0.449999988 </td><td>0.421053    </td><td> 9.59       </td><td>0.00122733  </td><td>1.7725632190</td><td>32.74533    </td><td>⋯           </td><td>400.8570    </td><td>230.9888    </td><td>320.0345    </td><td> 238.4958   </td><td>295.26      </td><td>334.55      </td><td>375.45      </td><td>327.62      </td><td>0.08616445  </td><td>0.08828809  </td></tr>\n",
       "\t<tr><td>193         </td><td>87          </td><td>0.0235277   </td><td>0.266055    </td><td>0.588859022 </td><td>0.423423    </td><td> 5.86       </td><td>0.00117887  </td><td>0.8138297800</td><td>28.51783    </td><td>⋯           </td><td>480.1948    </td><td>268.3836    </td><td>365.0196    </td><td> 295.9352   </td><td>295.63      </td><td>468.26      </td><td>337.88      </td><td>348.74      </td><td>0.11050157  </td><td>0.07819394  </td></tr>\n",
       "\t<tr><td>193         </td><td>87          </td><td>0.0235277   </td><td>0.266055    </td><td>0.588859022 </td><td>0.423423    </td><td> 5.86       </td><td>0.00117887  </td><td>0.8138297800</td><td>28.51783    </td><td>⋯           </td><td>480.1948    </td><td>268.3836    </td><td>365.0196    </td><td> 295.9352   </td><td>295.63      </td><td>468.26      </td><td>337.88      </td><td>348.74      </td><td>0.11050157  </td><td>0.07819394  </td></tr>\n",
       "\t<tr><td>195         </td><td>87          </td><td>0.0313973   </td><td>0.201397    </td><td>1.670519948 </td><td>0.470588    </td><td>13.02       </td><td>0.00445923  </td><td>1.7459893230</td><td>53.66693    </td><td>⋯           </td><td>377.9356    </td><td>246.0614    </td><td>411.4330    </td><td> 296.8684   </td><td>392.27      </td><td>480.79      </td><td>303.11      </td><td>337.28      </td><td>0.15612382  </td><td>0.07945071  </td></tr>\n",
       "\t<tr><td>197         </td><td>87          </td><td>0.0141928   </td><td>0.207595    </td><td>1.182929993 </td><td>0.360825    </td><td>12.23       </td><td>0.00118573  </td><td>0.8898809550</td><td>25.95258    </td><td>⋯           </td><td>341.8803    </td><td>182.8020    </td><td>348.1432    </td><td> 212.8205   </td><td>322.92      </td><td>391.72      </td><td>385.65      </td><td>306.85      </td><td>0.06756757  </td><td>0.07419893  </td></tr>\n",
       "\t<tr><td> NA         </td><td>NA          </td><td>       NA   </td><td>      NA    </td><td>            </td><td>      NA    </td><td>   NA       </td><td>        NA  </td><td>          NA</td><td>      NA    </td><td>⋯           </td><td>      NA    </td><td>      NA    </td><td>      NA    </td><td>       NA   </td><td>    NA      </td><td>    NA      </td><td>    NA      </td><td>    NA      </td><td>        NA  </td><td>        NA  </td></tr>\n",
       "\t<tr><td> NA         </td><td>NA          </td><td>       NA   </td><td>      NA    </td><td>            </td><td>      NA    </td><td>   NA       </td><td>        NA  </td><td>          NA</td><td>      NA    </td><td>⋯           </td><td>      NA    </td><td>      NA    </td><td>      NA    </td><td>       NA   </td><td>    NA      </td><td>    NA      </td><td>    NA      </td><td>    NA      </td><td>        NA  </td><td>        NA  </td></tr>\n",
       "\t<tr><td> NA         </td><td>NA          </td><td>       NA   </td><td>      NA    </td><td>            </td><td>      NA    </td><td>   NA       </td><td>        NA  </td><td>          NA</td><td>      NA    </td><td>⋯           </td><td>      NA    </td><td>      NA    </td><td>      NA    </td><td>       NA   </td><td>    NA      </td><td>    NA      </td><td>    NA      </td><td>    NA      </td><td>        NA  </td><td>        NA  </td></tr>\n",
       "\t<tr><td> NA         </td><td>NA          </td><td>       NA   </td><td>      NA    </td><td>            </td><td>      NA    </td><td>   NA       </td><td>        NA  </td><td>          NA</td><td>      NA    </td><td>⋯           </td><td>      NA    </td><td>      NA    </td><td>      NA    </td><td>       NA   </td><td>    NA      </td><td>    NA      </td><td>    NA      </td><td>    NA      </td><td>        NA  </td><td>        NA  </td></tr>\n",
       "\t<tr><td> NA         </td><td>NA          </td><td>       NA   </td><td>      NA    </td><td>            </td><td>      NA    </td><td>   NA       </td><td>        NA  </td><td>          NA</td><td>      NA    </td><td>⋯           </td><td>      NA    </td><td>      NA    </td><td>      NA    </td><td>       NA   </td><td>    NA      </td><td>    NA      </td><td>    NA      </td><td>    NA      </td><td>        NA  </td><td>        NA  </td></tr>\n",
       "\t<tr><td> NA         </td><td>NA          </td><td>       NA   </td><td>      NA    </td><td>`           </td><td>      NA    </td><td>   NA       </td><td>        NA  </td><td>          NA</td><td>      NA    </td><td>⋯           </td><td>      NA    </td><td>      NA    </td><td>      NA    </td><td>       NA   </td><td>    NA      </td><td>    NA      </td><td>    NA      </td><td>    NA      </td><td>        NA  </td><td>        NA  </td></tr>\n",
       "</tbody>\n",
       "</table>\n"
      ],
      "text/latex": [
       "\\begin{tabular}{r|lllllllllllllllllllllllll}\n",
       " county & year & crmrte & prbarr & prbconv & prbpris & avgsen & polpc & density & taxpc & ⋯ & wtuc & wtrd & wfir & wser & wmfg & wfed & wsta & wloc & mix & pctymle\\\\\n",
       "\\hline\n",
       "\t  1          & 87          & 0.0356036   & 0.298270    & 0.527595997 & 0.436170    &  6.71       & 0.00182786  & 2.4226327   &  30.99368   & ⋯           & 408.7245    & 221.2701    & 453.1722    & 274.1775    & 334.54      & 477.58      & 292.09      & 311.91      & 0.08016878  & 0.07787097 \\\\\n",
       "\t  3          & 87          & 0.0152532   & 0.132029    & 1.481480002 & 0.450000    &  6.35       & 0.00074588  & 1.0463320   &  26.89208   & ⋯           & 376.2542    & 196.0101    & 258.5650    & 192.3077    & 300.38      & 409.83      & 362.96      & 301.47      & 0.03022670  & 0.08260694 \\\\\n",
       "\t  5          & 87          & 0.0129603   & 0.444444    & 0.267856985 & 0.600000    &  6.76       & 0.00123431  & 0.4127659   &  34.81605   & ⋯           & 372.2084    & 229.3209    & 305.9441    & 209.6972    & 237.65      & 358.98      & 331.53      & 281.37      & 0.46511629  & 0.07211538 \\\\\n",
       "\t  7          & 87          & 0.0267532   & 0.364760    & 0.525424004 & 0.435484    &  7.14       & 0.00152994  & 0.4915572   &  42.94759   & ⋯           & 397.6901    & 191.1720    & 281.0651    & 256.7214    & 281.80      & 412.15      & 328.27      & 299.03      & 0.27362204  & 0.07353726 \\\\\n",
       "\t  9          & 87          & 0.0106232   & 0.518219    & 0.476563007 & 0.442623    &  8.22       & 0.00086018  & 0.5469484   &  28.05474   & ⋯           & 377.3126    & 206.8215    & 289.3125    & 215.1933    & 290.89      & 377.35      & 367.23      & 342.82      & 0.06008584  & 0.07069755 \\\\\n",
       "\t 11          & 87          & 0.0146067   & 0.524664    & 0.068376102 & 0.500000    & 13.00       & 0.00288203  & 0.6113361   &  35.22974   & ⋯           & 401.3378    & 187.8255    & 258.5650    & 237.1507    & 258.60      & 391.48      & 325.71      & 275.22      & 0.31952664  & 0.09891920 \\\\\n",
       "\t 13          & 87          & 0.0296409   & 0.365004    & 0.520606995 & 0.420833    & 10.55       & 0.00133771  & 0.5169492   &  30.69649   & ⋯           & 366.3004    & 205.5358    & 310.1737    & 259.3391    & 303.42      & 449.84      & 350.72      & 283.76      & 0.15237226  & 0.07073344 \\\\\n",
       "\t 15          & 87          & 0.0202814   & 0.392111    & 0.769231021 & 0.507692    & 10.64       & 0.00103525  & 0.3009986   &  34.00304   & ⋯           & 353.2182    & 199.2377    & 356.1254    & 206.2816    & 235.05      & 416.49      & 370.62      & 297.13      & 0.23495702  & 0.07430546 \\\\\n",
       "\t 17          & 87          & 0.0304289   & 0.251599    & 0.436441004 & 0.436893    &  7.32       & 0.00129761  & 0.3503982   &  34.96204   & ⋯           & 346.6011    & 202.9595    & 268.3363    & 208.2520    & 339.76      & 389.51      & 322.06      & 278.39      & 0.21818182  & 0.07769163 \\\\\n",
       "\t 19          & 87          & 0.0221567   & 0.162860    & 1.225610018 & 0.333333    & 10.34       & 0.00202425  & 0.5767442   &  61.15251   & ⋯           & 613.2261    & 191.2452    & 290.5141    & 266.0934    & 567.06      & 403.15      & 258.33      & 299.44      & 0.05334728  & 0.07713232 \\\\\n",
       "\t 21          & 87          & 0.0437355   & 0.234760    & 0.334701002 & 0.429072    & 10.62       & 0.00182958  & 2.6024280   &  52.62629   & ⋯           & 433.8580    & 228.1740    & 363.7671    & 318.3635    & 378.90      & 496.13      & 381.30      & 335.36      & 0.06289308  & 0.07219726 \\\\\n",
       "\t 23          & 87          & 0.0269836   & 0.289121    & 0.403780013 & 0.365957    &  7.07       & 0.00146111  & 1.5119047   &  29.08280   & ⋯           & 400.7398    & 213.1840    & 325.0271    & 315.0242    & 327.45      & 463.67      & 361.21      & 308.32      & 0.08400646  & 0.08397806 \\\\\n",
       "\t 25          & 87          & 0.0302542   & 0.323548    & 0.406780005 & 0.492647    &  8.01       & 0.00197140  & 2.5741758   &  33.03621   & ⋯           & 384.6154    & 220.5897    & 358.6328    & 318.0335    & 355.59      & 486.36      & 411.08      & 357.44      & 0.08848315  & 0.07641540 \\\\\n",
       "\t 27          & 87          & 0.0382489   & 0.268018    & 0.352941006 & 0.321429    & 11.69       & 0.00145013  & 1.4989384   &  43.06339   & ⋯           & 428.5023    & 213.4620    & 316.9436    & 292.3517    & 309.27      & 450.28      & 283.60      & 310.85      & 0.08957055  & 0.08353864 \\\\\n",
       "\t 33          & 87          & 0.0159189   & 0.270950    & 0.515464008 & 0.480000    &  7.32       & 0.00075593  & 0.5257009   &  27.38110   & ⋯           & 286.4157    & 195.1995    & 368.2488    & 172.4733    & 324.45      & 357.16      & 407.54      & 268.44      & 0.15112540  & 0.08005202 \\\\\n",
       "\t 35          & 87          & 0.0408569   & 0.266026    & 0.325300992 & 0.370370    & 10.06       & 0.00189444  & 2.9242425   &  56.86211   & ⋯           & 469.2220    & 277.2925    & 359.3117    & 296.8491    & 341.32      & 525.51      & 360.68      & 333.32      & 0.18122160  & 0.07891140 \\\\\n",
       "\t 37          & 87          & 0.0226017   & 0.321867    & 0.385495991 & 0.316832    &  8.69       & 0.00130501  & 0.5127119   &  34.70248   & ⋯           & 462.4408    & 227.7858    & 305.6546    & 231.3615    & 321.90      & 460.62      & 393.29      & 321.53      & 0.08100930  & 0.07154077 \\\\\n",
       "\t 39          & 87          & 0.0119154   & 0.308333    & 0.972972989 & 0.291667    & 11.58       & 0.00119154  & 0.4623894   &  27.27564   & ⋯           & 390.1895    & 180.0634    & 295.8580    & 246.0152    & 270.78      & 397.33      & 313.06      & 239.17      & 0.13744076  & 0.06973287 \\\\\n",
       "\t 41          & 87          & 0.0257713   & 0.307246    & 0.452829987 & 0.520833    & 17.41       & 0.00149399  & 0.7417582   &  41.76929   & ⋯           & 379.0005    & 238.5589    & 271.7391    & 232.5916    & 332.07      & 451.84      & 389.99      & 312.05      & 0.09872611  & 0.06355526 \\\\\n",
       "\t 45          & 87          & 0.0362807   & 0.202627    & 0.450567007 & 0.474820    &  8.96       & 0.00121531  & 1.8440171   &  30.84900   & ⋯           & 403.0558    & 248.7759    & 301.8632    & 293.1148    & 367.42      & 463.37      & 352.35      & 320.82      & 0.08594864  & 0.08013537 \\\\\n",
       "\t 47          & 87          & 0.0313623   & 0.182927    & 0.763333023 & 0.270742    &  7.79       & 0.00128127  & 0.5639659   &  32.66050   & ⋯           & 342.5724    & 194.6777    & 352.6135    & 256.4102    & 355.83      & 426.56      & 313.71      & 313.84      & 0.12405757  & 0.07381025 \\\\\n",
       "\t 49          & 87          & 0.0374979   & 0.264420    & 0.371879011 & 0.356890    &  8.70       & 0.00148532  & 1.1440799   &  39.23048   & ⋯           & 406.5041    & 212.4851    & 312.6954    & 304.3066    & 375.32      & 474.30      & 297.69      & 290.48      & 0.10692308  & 0.12224479 \\\\\n",
       "\t 51          & 87          & 0.0883849   & 0.155248    & 0.259833008 & 0.407628    & 11.93       & 0.00190802  & 3.9345510   &  35.69936   & ⋯           & 412.4720    & 213.7524    & 324.8357    & 257.3344    & 441.72      & 433.94      & 367.34      & 333.71      & 0.10474319  & 0.14223780 \\\\\n",
       "\t 53          & 87          & 0.0140655   & 0.303191    & 0.140350997 & 0.250000    & 11.96       & 0.00112225  & 0.5351562   &  50.38139   & ⋯           & 202.4292    & 219.7802    & 305.9441    & 223.8502    & 250.42      & 371.79      & 383.72      & 296.64      & 0.08045977  & 0.08476309 \\\\\n",
       "\t 55          & 87          & 0.0790163   & 0.224628    & 0.207830995 & 0.304348    & 13.57       & 0.00400962  & 0.5115089   & 119.76145   & ⋯           & 445.2762    & 189.7436    & 284.5933    & 221.3903    & 319.21      & 338.91      & 361.68      & 326.08      & 0.08437271  & 0.07613807 \\\\\n",
       "\t 57          & 87          & 0.0300216   & 0.222002    & 0.736908972 & 0.320624    & 10.47       & 0.00136191  & 2.2518249   &  28.59199   & ⋯           & 418.6380    & 225.5296    & 338.5699    & 261.3512    & 324.67      & 496.07      & 325.15      & 314.01      & 0.07497714  & 0.07873024 \\\\\n",
       "\t 59          & 87          & 0.0233327   & 0.227753    & 0.62251699  & 0.425532    &  6.50       & 0.00119655  & 1.0262172   &  41.07194   & ⋯           & 335.4590    & 210.3365    & 317.3077    & 316.6645    & 316.57      & 428.33      & 388.92      & 307.25      & 0.11616162  & 0.07756928 \\\\\n",
       "\t 61          & 87          & 0.0233677   & 0.398119    & 0.493438005 & 0.361702    &  8.77       & 0.00141622  & 0.5079365   &  32.59961   & ⋯           & 308.5150    & 214.2203    & 327.1213    & 203.8864    & 266.58      & 414.84      & 333.46      & 308.05      & 0.16707317  & 0.07579902 \\\\\n",
       "\t 63          & 87          & 0.0706599   & 0.133225    & 0.459215999 & 0.363636    & 11.51       & 0.00237609  & 5.6744967   &  50.19918   & ⋯           & 548.9865    & 238.9154    & 435.1107    & 391.3081    & 646.85      & 563.77      & 415.51      & 362.58      & 0.07585382  & 0.09468981 \\\\\n",
       "\t 65          & 87          & 0.0658801   & 0.287330    & 0.154451996 & 0.403922    &  9.84       & 0.00185739  & 1.1679842   &  30.62824   & ⋯           & 540.1061    & 209.0579    & 316.2955    & 216.4589    & 313.71      & 543.03      & 348.88      & 329.16      & 0.09364294  & 0.07622346 \\\\\n",
       "\t ⋮ & ⋮ & ⋮ & ⋮ & ⋮ & ⋮ & ⋮ & ⋮ & ⋮ & ⋮ & ⋱ & ⋮ & ⋮ & ⋮ & ⋮ & ⋮ & ⋮ & ⋮ & ⋮ & ⋮ & ⋮\\\\\n",
       "\t 151          & 87           & 0.0264557    & 0.299198     & 0.36015299   & 0.340426     & 12.57        & 0.00132430   & 1.2737642530 & 25.69287     & ⋯            & 415.1317     & 218.7198     & 322.4150     &  278.1124    & 294.37       & 474.26       & 298.66       & 294.72       & 0.07342084   & 0.07763254  \\\\\n",
       "\t 153          & 87           & 0.0317563    & 0.345368     & 0.520709991  & 0.458333     & 11.33        & 0.00138447   & 0.9622641210 & 37.22833     & ⋯            & 294.6650     & 192.8994     & 267.3797     &  237.1590    & 301.29       & 467.08       & 350.24       & 302.25       & 0.16323297   & 0.07570874  \\\\\n",
       "\t 155          & 87           & 0.0312279    & 0.408200     & 0.559822977  & 0.386544     &  8.71        & 0.00145925   & 1.1296100620 & 31.37446     & ⋯            & 407.0929     & 200.2213     & 337.9095     &  262.9849    & 278.82       & 441.49       & 381.46       & 304.73       & 0.12516960   & 0.08183564  \\\\\n",
       "\t 157          & 87           & 0.0305908    & 0.278287     & 0.443681002  & 0.377709     &  7.48        & 0.00191777   & 1.5096660850 & 39.16965     & ⋯            & 409.7771     & 192.4181     & 302.6162     &  245.7938    & 418.48       & 478.48       & 342.13       & 318.07       & 0.12467756   & 0.07771273  \\\\\n",
       "\t 159          & 87           & 0.0362330    & 0.243590     & 0.492940009  & 0.476563     &  8.64        & 0.00158619   & 2.0192677970 & 27.76489     & ⋯            & 475.3228     & 260.2710     & 329.5464     &  265.4315    & 374.41       & 491.16       & 346.81       & 351.74       & 0.09146758   & 0.07705218  \\\\\n",
       "\t 161          & 87           & 0.0200070    & 0.482425     & 0.50819701   & 0.451613     &  7.98        & 0.00124824   & 1.0052816870 & 31.34530     & ⋯            & 402.5045     & 201.5675     & 279.2492     &  251.4202    & 334.92       & 450.28       & 277.60       & 302.83       & 0.11024390   & 0.07362188  \\\\\n",
       "\t 163          & 87           & 0.0215728    & 0.310987     & 0.401198     & 0.455224     & 11.25        & 0.00136587   & 0.5353748800 & 34.01291     & ⋯            & 415.2824     & 196.5514     & 279.0347     &  238.6300    & 295.07       & 429.27       & 318.02       & 299.92       & 0.12108560   & 0.07472797  \\\\\n",
       "\t 165          & 87           & 0.0508341    & 0.340679     & 0.468531013  & 0.432836     &  7.42        & 0.00151382   & 1.0783698560 & 38.74739     & ⋯            & 471.3424     & 203.0162     & 294.4124     &  267.6852    & 374.25       & 442.38       & 381.14       & 285.50       & 0.09595300   & 0.08548180  \\\\\n",
       "\t 167          & 87           & 0.0238285    & 0.362270     & 0.322580993  & 0.371429     & 10.48        & 0.00155144   & 1.2752525810 & 35.09686     & ⋯            & 419.0362     & 221.0995     & 326.8283     &  253.0096    & 351.09       & 463.69       & 312.53       & 311.47       & 0.10925926   & 0.07687439  \\\\\n",
       "\t 169          & 87           & 0.0121033    & 0.343387     & 0.722972989  & 0.448598     & 12.36        & 0.00109520   & 0.8008849620 & 37.70785     & ⋯            & 588.6970     & 190.5555     & 331.5650     &  206.6858    & 306.42       & 406.62       & 348.37       & 306.68       & 0.13720317   & 0.08280677  \\\\\n",
       "\t 171          & 87           & 0.0243954    & 0.175649     & 0.909090996  & 0.458333     &  8.67        & 0.00157442   & 1.1521335840 & 31.15306     & ⋯            & 412.5212     & 224.7224     & 339.9547     &  253.6207    & 288.32       & 452.53       & 341.77       & 324.06       & 0.08207343   & 0.07735254  \\\\\n",
       "\t 173          & 87           & 0.0139937    & 0.530435     & 0.327868998  & 0.150000     &  6.64        & 0.00316379   & 0.0000203422 & 37.72702     & ⋯            & 213.6752     & 175.1604     & 267.0940     &  204.3792    & 193.01       & 334.44       & 414.68       & 304.32       & 0.41975310   & 0.07462687  \\\\\n",
       "\t 175          & 87           & 0.0164932    & 0.350348     & 0.410596013  & 0.387097     &  7.31        & 0.00164549   & 0.6878306870 & 46.41461     & ⋯            & 402.5045     & 172.6453     & 317.3394     &  257.8734    & 627.02       & 344.06       & 357.69       & 298.33       & 0.10230179   & 0.08436658  \\\\\n",
       "\t 179          & 87           & 0.0318720    & 0.377543     & 0.328664005  & 0.426230     &  9.90        & 0.00147820   & 1.2816901210 & 38.44067     & ⋯            & 361.1018     & 241.0034     & 342.6819     &  270.4866    & 349.63       & 459.32       & 387.16       & 376.45       & 0.13481072   & 0.08703093  \\\\\n",
       "\t 181          & 87           & 0.0729479    & 0.182590     & 0.343023002  & 0.548023     &  7.06        & 0.00172948   & 1.5702811480 & 27.59179     & ⋯            & 365.4716     & 279.2273     & 325.0271     &  213.5822    & 290.69       & 453.53       & 317.23       & 286.45       & 0.10003893   & 0.07977433  \\\\\n",
       "\t 183          & 87           & 0.0568423    & 0.204216     & 0.381908     & 0.367347     & 12.15        & 0.00212751   & 4.3887586590 & 48.76492     & ⋯            & 528.5593     & 306.0835     & 430.0697     &  348.2754    & 444.45       & 597.95       & 453.08       & 362.99       & 0.08527010   & 0.09935585  \\\\\n",
       "\t 185          & 87           & 0.0108703    & 0.195266     & 2.121210098  & 0.442857     &  5.38        & 0.00122210   & 0.3887587790 & 40.82454     & ⋯            & 331.5650     & 167.3726     & 264.4231     & 2177.0681    & 247.72       & 381.33       & 367.25       & 300.13       & 0.04968944   & 0.07008217  \\\\\n",
       "\t 187          & 87           & 0.0345231    & 0.332669     & 0.443114012  & 0.432432     &  6.98        & 0.00116911   & 0.4427710770 & 34.71814     & ⋯            & 421.3483     & 170.5293     & 282.0513     &  183.1502    & 297.14       & 390.94       & 356.91       & 267.08       & 0.29048842   & 0.07794872  \\\\\n",
       "\t 189          & 87           & 0.0313130    & 0.161381     & 0.300577998  & 0.288462     & 12.27        & 0.00227837   & 1.1019108300 & 31.33022     & ⋯            & 354.2510     & 180.9359     & 369.4332     &  253.2281    & 304.72       & 427.84       & 451.79       & 297.19       & 0.05719921   & 0.15092644  \\\\\n",
       "\t 191          & 87           & 0.0458895    & 0.172257     & 0.449999988  & 0.421053     &  9.59        & 0.00122733   & 1.7725632190 & 32.74533     & ⋯            & 400.8570     & 230.9888     & 320.0345     &  238.4958    & 295.26       & 334.55       & 375.45       & 327.62       & 0.08616445   & 0.08828809  \\\\\n",
       "\t 193          & 87           & 0.0235277    & 0.266055     & 0.588859022  & 0.423423     &  5.86        & 0.00117887   & 0.8138297800 & 28.51783     & ⋯            & 480.1948     & 268.3836     & 365.0196     &  295.9352    & 295.63       & 468.26       & 337.88       & 348.74       & 0.11050157   & 0.07819394  \\\\\n",
       "\t 193          & 87           & 0.0235277    & 0.266055     & 0.588859022  & 0.423423     &  5.86        & 0.00117887   & 0.8138297800 & 28.51783     & ⋯            & 480.1948     & 268.3836     & 365.0196     &  295.9352    & 295.63       & 468.26       & 337.88       & 348.74       & 0.11050157   & 0.07819394  \\\\\n",
       "\t 195          & 87           & 0.0313973    & 0.201397     & 1.670519948  & 0.470588     & 13.02        & 0.00445923   & 1.7459893230 & 53.66693     & ⋯            & 377.9356     & 246.0614     & 411.4330     &  296.8684    & 392.27       & 480.79       & 303.11       & 337.28       & 0.15612382   & 0.07945071  \\\\\n",
       "\t 197          & 87           & 0.0141928    & 0.207595     & 1.182929993  & 0.360825     & 12.23        & 0.00118573   & 0.8898809550 & 25.95258     & ⋯            & 341.8803     & 182.8020     & 348.1432     &  212.8205    & 322.92       & 391.72       & 385.65       & 306.85       & 0.06756757   & 0.07419893  \\\\\n",
       "\t  NA          & NA           &        NA    &       NA     &              &       NA     &    NA        &         NA   &           NA &       NA     & ⋯            &       NA     &       NA     &       NA     &        NA    &     NA       &     NA       &     NA       &     NA       &         NA   &         NA  \\\\\n",
       "\t  NA          & NA           &        NA    &       NA     &              &       NA     &    NA        &         NA   &           NA &       NA     & ⋯            &       NA     &       NA     &       NA     &        NA    &     NA       &     NA       &     NA       &     NA       &         NA   &         NA  \\\\\n",
       "\t  NA          & NA           &        NA    &       NA     &              &       NA     &    NA        &         NA   &           NA &       NA     & ⋯            &       NA     &       NA     &       NA     &        NA    &     NA       &     NA       &     NA       &     NA       &         NA   &         NA  \\\\\n",
       "\t  NA          & NA           &        NA    &       NA     &              &       NA     &    NA        &         NA   &           NA &       NA     & ⋯            &       NA     &       NA     &       NA     &        NA    &     NA       &     NA       &     NA       &     NA       &         NA   &         NA  \\\\\n",
       "\t  NA          & NA           &        NA    &       NA     &              &       NA     &    NA        &         NA   &           NA &       NA     & ⋯            &       NA     &       NA     &       NA     &        NA    &     NA       &     NA       &     NA       &     NA       &         NA   &         NA  \\\\\n",
       "\t  NA          & NA           &        NA    &       NA     & `            &       NA     &    NA        &         NA   &           NA &       NA     & ⋯            &       NA     &       NA     &       NA     &        NA    &     NA       &     NA       &     NA       &     NA       &         NA   &         NA  \\\\\n",
       "\\end{tabular}\n"
      ],
      "text/markdown": [
       "\n",
       "county | year | crmrte | prbarr | prbconv | prbpris | avgsen | polpc | density | taxpc | ⋯ | wtuc | wtrd | wfir | wser | wmfg | wfed | wsta | wloc | mix | pctymle | \n",
       "|---|---|---|---|---|---|---|---|---|---|---|---|---|---|---|---|---|---|---|---|---|---|---|---|---|---|---|---|---|---|---|---|---|---|---|---|---|---|---|---|---|---|---|---|---|---|---|---|---|---|---|---|---|---|---|---|---|---|---|---|---|\n",
       "|  1          | 87          | 0.0356036   | 0.298270    | 0.527595997 | 0.436170    |  6.71       | 0.00182786  | 2.4226327   |  30.99368   | ⋯           | 408.7245    | 221.2701    | 453.1722    | 274.1775    | 334.54      | 477.58      | 292.09      | 311.91      | 0.08016878  | 0.07787097  | \n",
       "|  3          | 87          | 0.0152532   | 0.132029    | 1.481480002 | 0.450000    |  6.35       | 0.00074588  | 1.0463320   |  26.89208   | ⋯           | 376.2542    | 196.0101    | 258.5650    | 192.3077    | 300.38      | 409.83      | 362.96      | 301.47      | 0.03022670  | 0.08260694  | \n",
       "|  5          | 87          | 0.0129603   | 0.444444    | 0.267856985 | 0.600000    |  6.76       | 0.00123431  | 0.4127659   |  34.81605   | ⋯           | 372.2084    | 229.3209    | 305.9441    | 209.6972    | 237.65      | 358.98      | 331.53      | 281.37      | 0.46511629  | 0.07211538  | \n",
       "|  7          | 87          | 0.0267532   | 0.364760    | 0.525424004 | 0.435484    |  7.14       | 0.00152994  | 0.4915572   |  42.94759   | ⋯           | 397.6901    | 191.1720    | 281.0651    | 256.7214    | 281.80      | 412.15      | 328.27      | 299.03      | 0.27362204  | 0.07353726  | \n",
       "|  9          | 87          | 0.0106232   | 0.518219    | 0.476563007 | 0.442623    |  8.22       | 0.00086018  | 0.5469484   |  28.05474   | ⋯           | 377.3126    | 206.8215    | 289.3125    | 215.1933    | 290.89      | 377.35      | 367.23      | 342.82      | 0.06008584  | 0.07069755  | \n",
       "| 11          | 87          | 0.0146067   | 0.524664    | 0.068376102 | 0.500000    | 13.00       | 0.00288203  | 0.6113361   |  35.22974   | ⋯           | 401.3378    | 187.8255    | 258.5650    | 237.1507    | 258.60      | 391.48      | 325.71      | 275.22      | 0.31952664  | 0.09891920  | \n",
       "| 13          | 87          | 0.0296409   | 0.365004    | 0.520606995 | 0.420833    | 10.55       | 0.00133771  | 0.5169492   |  30.69649   | ⋯           | 366.3004    | 205.5358    | 310.1737    | 259.3391    | 303.42      | 449.84      | 350.72      | 283.76      | 0.15237226  | 0.07073344  | \n",
       "| 15          | 87          | 0.0202814   | 0.392111    | 0.769231021 | 0.507692    | 10.64       | 0.00103525  | 0.3009986   |  34.00304   | ⋯           | 353.2182    | 199.2377    | 356.1254    | 206.2816    | 235.05      | 416.49      | 370.62      | 297.13      | 0.23495702  | 0.07430546  | \n",
       "| 17          | 87          | 0.0304289   | 0.251599    | 0.436441004 | 0.436893    |  7.32       | 0.00129761  | 0.3503982   |  34.96204   | ⋯           | 346.6011    | 202.9595    | 268.3363    | 208.2520    | 339.76      | 389.51      | 322.06      | 278.39      | 0.21818182  | 0.07769163  | \n",
       "| 19          | 87          | 0.0221567   | 0.162860    | 1.225610018 | 0.333333    | 10.34       | 0.00202425  | 0.5767442   |  61.15251   | ⋯           | 613.2261    | 191.2452    | 290.5141    | 266.0934    | 567.06      | 403.15      | 258.33      | 299.44      | 0.05334728  | 0.07713232  | \n",
       "| 21          | 87          | 0.0437355   | 0.234760    | 0.334701002 | 0.429072    | 10.62       | 0.00182958  | 2.6024280   |  52.62629   | ⋯           | 433.8580    | 228.1740    | 363.7671    | 318.3635    | 378.90      | 496.13      | 381.30      | 335.36      | 0.06289308  | 0.07219726  | \n",
       "| 23          | 87          | 0.0269836   | 0.289121    | 0.403780013 | 0.365957    |  7.07       | 0.00146111  | 1.5119047   |  29.08280   | ⋯           | 400.7398    | 213.1840    | 325.0271    | 315.0242    | 327.45      | 463.67      | 361.21      | 308.32      | 0.08400646  | 0.08397806  | \n",
       "| 25          | 87          | 0.0302542   | 0.323548    | 0.406780005 | 0.492647    |  8.01       | 0.00197140  | 2.5741758   |  33.03621   | ⋯           | 384.6154    | 220.5897    | 358.6328    | 318.0335    | 355.59      | 486.36      | 411.08      | 357.44      | 0.08848315  | 0.07641540  | \n",
       "| 27          | 87          | 0.0382489   | 0.268018    | 0.352941006 | 0.321429    | 11.69       | 0.00145013  | 1.4989384   |  43.06339   | ⋯           | 428.5023    | 213.4620    | 316.9436    | 292.3517    | 309.27      | 450.28      | 283.60      | 310.85      | 0.08957055  | 0.08353864  | \n",
       "| 33          | 87          | 0.0159189   | 0.270950    | 0.515464008 | 0.480000    |  7.32       | 0.00075593  | 0.5257009   |  27.38110   | ⋯           | 286.4157    | 195.1995    | 368.2488    | 172.4733    | 324.45      | 357.16      | 407.54      | 268.44      | 0.15112540  | 0.08005202  | \n",
       "| 35          | 87          | 0.0408569   | 0.266026    | 0.325300992 | 0.370370    | 10.06       | 0.00189444  | 2.9242425   |  56.86211   | ⋯           | 469.2220    | 277.2925    | 359.3117    | 296.8491    | 341.32      | 525.51      | 360.68      | 333.32      | 0.18122160  | 0.07891140  | \n",
       "| 37          | 87          | 0.0226017   | 0.321867    | 0.385495991 | 0.316832    |  8.69       | 0.00130501  | 0.5127119   |  34.70248   | ⋯           | 462.4408    | 227.7858    | 305.6546    | 231.3615    | 321.90      | 460.62      | 393.29      | 321.53      | 0.08100930  | 0.07154077  | \n",
       "| 39          | 87          | 0.0119154   | 0.308333    | 0.972972989 | 0.291667    | 11.58       | 0.00119154  | 0.4623894   |  27.27564   | ⋯           | 390.1895    | 180.0634    | 295.8580    | 246.0152    | 270.78      | 397.33      | 313.06      | 239.17      | 0.13744076  | 0.06973287  | \n",
       "| 41          | 87          | 0.0257713   | 0.307246    | 0.452829987 | 0.520833    | 17.41       | 0.00149399  | 0.7417582   |  41.76929   | ⋯           | 379.0005    | 238.5589    | 271.7391    | 232.5916    | 332.07      | 451.84      | 389.99      | 312.05      | 0.09872611  | 0.06355526  | \n",
       "| 45          | 87          | 0.0362807   | 0.202627    | 0.450567007 | 0.474820    |  8.96       | 0.00121531  | 1.8440171   |  30.84900   | ⋯           | 403.0558    | 248.7759    | 301.8632    | 293.1148    | 367.42      | 463.37      | 352.35      | 320.82      | 0.08594864  | 0.08013537  | \n",
       "| 47          | 87          | 0.0313623   | 0.182927    | 0.763333023 | 0.270742    |  7.79       | 0.00128127  | 0.5639659   |  32.66050   | ⋯           | 342.5724    | 194.6777    | 352.6135    | 256.4102    | 355.83      | 426.56      | 313.71      | 313.84      | 0.12405757  | 0.07381025  | \n",
       "| 49          | 87          | 0.0374979   | 0.264420    | 0.371879011 | 0.356890    |  8.70       | 0.00148532  | 1.1440799   |  39.23048   | ⋯           | 406.5041    | 212.4851    | 312.6954    | 304.3066    | 375.32      | 474.30      | 297.69      | 290.48      | 0.10692308  | 0.12224479  | \n",
       "| 51          | 87          | 0.0883849   | 0.155248    | 0.259833008 | 0.407628    | 11.93       | 0.00190802  | 3.9345510   |  35.69936   | ⋯           | 412.4720    | 213.7524    | 324.8357    | 257.3344    | 441.72      | 433.94      | 367.34      | 333.71      | 0.10474319  | 0.14223780  | \n",
       "| 53          | 87          | 0.0140655   | 0.303191    | 0.140350997 | 0.250000    | 11.96       | 0.00112225  | 0.5351562   |  50.38139   | ⋯           | 202.4292    | 219.7802    | 305.9441    | 223.8502    | 250.42      | 371.79      | 383.72      | 296.64      | 0.08045977  | 0.08476309  | \n",
       "| 55          | 87          | 0.0790163   | 0.224628    | 0.207830995 | 0.304348    | 13.57       | 0.00400962  | 0.5115089   | 119.76145   | ⋯           | 445.2762    | 189.7436    | 284.5933    | 221.3903    | 319.21      | 338.91      | 361.68      | 326.08      | 0.08437271  | 0.07613807  | \n",
       "| 57          | 87          | 0.0300216   | 0.222002    | 0.736908972 | 0.320624    | 10.47       | 0.00136191  | 2.2518249   |  28.59199   | ⋯           | 418.6380    | 225.5296    | 338.5699    | 261.3512    | 324.67      | 496.07      | 325.15      | 314.01      | 0.07497714  | 0.07873024  | \n",
       "| 59          | 87          | 0.0233327   | 0.227753    | 0.62251699  | 0.425532    |  6.50       | 0.00119655  | 1.0262172   |  41.07194   | ⋯           | 335.4590    | 210.3365    | 317.3077    | 316.6645    | 316.57      | 428.33      | 388.92      | 307.25      | 0.11616162  | 0.07756928  | \n",
       "| 61          | 87          | 0.0233677   | 0.398119    | 0.493438005 | 0.361702    |  8.77       | 0.00141622  | 0.5079365   |  32.59961   | ⋯           | 308.5150    | 214.2203    | 327.1213    | 203.8864    | 266.58      | 414.84      | 333.46      | 308.05      | 0.16707317  | 0.07579902  | \n",
       "| 63          | 87          | 0.0706599   | 0.133225    | 0.459215999 | 0.363636    | 11.51       | 0.00237609  | 5.6744967   |  50.19918   | ⋯           | 548.9865    | 238.9154    | 435.1107    | 391.3081    | 646.85      | 563.77      | 415.51      | 362.58      | 0.07585382  | 0.09468981  | \n",
       "| 65          | 87          | 0.0658801   | 0.287330    | 0.154451996 | 0.403922    |  9.84       | 0.00185739  | 1.1679842   |  30.62824   | ⋯           | 540.1061    | 209.0579    | 316.2955    | 216.4589    | 313.71      | 543.03      | 348.88      | 329.16      | 0.09364294  | 0.07622346  | \n",
       "| ⋮ | ⋮ | ⋮ | ⋮ | ⋮ | ⋮ | ⋮ | ⋮ | ⋮ | ⋮ | ⋱ | ⋮ | ⋮ | ⋮ | ⋮ | ⋮ | ⋮ | ⋮ | ⋮ | ⋮ | ⋮ | \n",
       "| 151          | 87           | 0.0264557    | 0.299198     | 0.36015299   | 0.340426     | 12.57        | 0.00132430   | 1.2737642530 | 25.69287     | ⋯            | 415.1317     | 218.7198     | 322.4150     |  278.1124    | 294.37       | 474.26       | 298.66       | 294.72       | 0.07342084   | 0.07763254   | \n",
       "| 153          | 87           | 0.0317563    | 0.345368     | 0.520709991  | 0.458333     | 11.33        | 0.00138447   | 0.9622641210 | 37.22833     | ⋯            | 294.6650     | 192.8994     | 267.3797     |  237.1590    | 301.29       | 467.08       | 350.24       | 302.25       | 0.16323297   | 0.07570874   | \n",
       "| 155          | 87           | 0.0312279    | 0.408200     | 0.559822977  | 0.386544     |  8.71        | 0.00145925   | 1.1296100620 | 31.37446     | ⋯            | 407.0929     | 200.2213     | 337.9095     |  262.9849    | 278.82       | 441.49       | 381.46       | 304.73       | 0.12516960   | 0.08183564   | \n",
       "| 157          | 87           | 0.0305908    | 0.278287     | 0.443681002  | 0.377709     |  7.48        | 0.00191777   | 1.5096660850 | 39.16965     | ⋯            | 409.7771     | 192.4181     | 302.6162     |  245.7938    | 418.48       | 478.48       | 342.13       | 318.07       | 0.12467756   | 0.07771273   | \n",
       "| 159          | 87           | 0.0362330    | 0.243590     | 0.492940009  | 0.476563     |  8.64        | 0.00158619   | 2.0192677970 | 27.76489     | ⋯            | 475.3228     | 260.2710     | 329.5464     |  265.4315    | 374.41       | 491.16       | 346.81       | 351.74       | 0.09146758   | 0.07705218   | \n",
       "| 161          | 87           | 0.0200070    | 0.482425     | 0.50819701   | 0.451613     |  7.98        | 0.00124824   | 1.0052816870 | 31.34530     | ⋯            | 402.5045     | 201.5675     | 279.2492     |  251.4202    | 334.92       | 450.28       | 277.60       | 302.83       | 0.11024390   | 0.07362188   | \n",
       "| 163          | 87           | 0.0215728    | 0.310987     | 0.401198     | 0.455224     | 11.25        | 0.00136587   | 0.5353748800 | 34.01291     | ⋯            | 415.2824     | 196.5514     | 279.0347     |  238.6300    | 295.07       | 429.27       | 318.02       | 299.92       | 0.12108560   | 0.07472797   | \n",
       "| 165          | 87           | 0.0508341    | 0.340679     | 0.468531013  | 0.432836     |  7.42        | 0.00151382   | 1.0783698560 | 38.74739     | ⋯            | 471.3424     | 203.0162     | 294.4124     |  267.6852    | 374.25       | 442.38       | 381.14       | 285.50       | 0.09595300   | 0.08548180   | \n",
       "| 167          | 87           | 0.0238285    | 0.362270     | 0.322580993  | 0.371429     | 10.48        | 0.00155144   | 1.2752525810 | 35.09686     | ⋯            | 419.0362     | 221.0995     | 326.8283     |  253.0096    | 351.09       | 463.69       | 312.53       | 311.47       | 0.10925926   | 0.07687439   | \n",
       "| 169          | 87           | 0.0121033    | 0.343387     | 0.722972989  | 0.448598     | 12.36        | 0.00109520   | 0.8008849620 | 37.70785     | ⋯            | 588.6970     | 190.5555     | 331.5650     |  206.6858    | 306.42       | 406.62       | 348.37       | 306.68       | 0.13720317   | 0.08280677   | \n",
       "| 171          | 87           | 0.0243954    | 0.175649     | 0.909090996  | 0.458333     |  8.67        | 0.00157442   | 1.1521335840 | 31.15306     | ⋯            | 412.5212     | 224.7224     | 339.9547     |  253.6207    | 288.32       | 452.53       | 341.77       | 324.06       | 0.08207343   | 0.07735254   | \n",
       "| 173          | 87           | 0.0139937    | 0.530435     | 0.327868998  | 0.150000     |  6.64        | 0.00316379   | 0.0000203422 | 37.72702     | ⋯            | 213.6752     | 175.1604     | 267.0940     |  204.3792    | 193.01       | 334.44       | 414.68       | 304.32       | 0.41975310   | 0.07462687   | \n",
       "| 175          | 87           | 0.0164932    | 0.350348     | 0.410596013  | 0.387097     |  7.31        | 0.00164549   | 0.6878306870 | 46.41461     | ⋯            | 402.5045     | 172.6453     | 317.3394     |  257.8734    | 627.02       | 344.06       | 357.69       | 298.33       | 0.10230179   | 0.08436658   | \n",
       "| 179          | 87           | 0.0318720    | 0.377543     | 0.328664005  | 0.426230     |  9.90        | 0.00147820   | 1.2816901210 | 38.44067     | ⋯            | 361.1018     | 241.0034     | 342.6819     |  270.4866    | 349.63       | 459.32       | 387.16       | 376.45       | 0.13481072   | 0.08703093   | \n",
       "| 181          | 87           | 0.0729479    | 0.182590     | 0.343023002  | 0.548023     |  7.06        | 0.00172948   | 1.5702811480 | 27.59179     | ⋯            | 365.4716     | 279.2273     | 325.0271     |  213.5822    | 290.69       | 453.53       | 317.23       | 286.45       | 0.10003893   | 0.07977433   | \n",
       "| 183          | 87           | 0.0568423    | 0.204216     | 0.381908     | 0.367347     | 12.15        | 0.00212751   | 4.3887586590 | 48.76492     | ⋯            | 528.5593     | 306.0835     | 430.0697     |  348.2754    | 444.45       | 597.95       | 453.08       | 362.99       | 0.08527010   | 0.09935585   | \n",
       "| 185          | 87           | 0.0108703    | 0.195266     | 2.121210098  | 0.442857     |  5.38        | 0.00122210   | 0.3887587790 | 40.82454     | ⋯            | 331.5650     | 167.3726     | 264.4231     | 2177.0681    | 247.72       | 381.33       | 367.25       | 300.13       | 0.04968944   | 0.07008217   | \n",
       "| 187          | 87           | 0.0345231    | 0.332669     | 0.443114012  | 0.432432     |  6.98        | 0.00116911   | 0.4427710770 | 34.71814     | ⋯            | 421.3483     | 170.5293     | 282.0513     |  183.1502    | 297.14       | 390.94       | 356.91       | 267.08       | 0.29048842   | 0.07794872   | \n",
       "| 189          | 87           | 0.0313130    | 0.161381     | 0.300577998  | 0.288462     | 12.27        | 0.00227837   | 1.1019108300 | 31.33022     | ⋯            | 354.2510     | 180.9359     | 369.4332     |  253.2281    | 304.72       | 427.84       | 451.79       | 297.19       | 0.05719921   | 0.15092644   | \n",
       "| 191          | 87           | 0.0458895    | 0.172257     | 0.449999988  | 0.421053     |  9.59        | 0.00122733   | 1.7725632190 | 32.74533     | ⋯            | 400.8570     | 230.9888     | 320.0345     |  238.4958    | 295.26       | 334.55       | 375.45       | 327.62       | 0.08616445   | 0.08828809   | \n",
       "| 193          | 87           | 0.0235277    | 0.266055     | 0.588859022  | 0.423423     |  5.86        | 0.00117887   | 0.8138297800 | 28.51783     | ⋯            | 480.1948     | 268.3836     | 365.0196     |  295.9352    | 295.63       | 468.26       | 337.88       | 348.74       | 0.11050157   | 0.07819394   | \n",
       "| 193          | 87           | 0.0235277    | 0.266055     | 0.588859022  | 0.423423     |  5.86        | 0.00117887   | 0.8138297800 | 28.51783     | ⋯            | 480.1948     | 268.3836     | 365.0196     |  295.9352    | 295.63       | 468.26       | 337.88       | 348.74       | 0.11050157   | 0.07819394   | \n",
       "| 195          | 87           | 0.0313973    | 0.201397     | 1.670519948  | 0.470588     | 13.02        | 0.00445923   | 1.7459893230 | 53.66693     | ⋯            | 377.9356     | 246.0614     | 411.4330     |  296.8684    | 392.27       | 480.79       | 303.11       | 337.28       | 0.15612382   | 0.07945071   | \n",
       "| 197          | 87           | 0.0141928    | 0.207595     | 1.182929993  | 0.360825     | 12.23        | 0.00118573   | 0.8898809550 | 25.95258     | ⋯            | 341.8803     | 182.8020     | 348.1432     |  212.8205    | 322.92       | 391.72       | 385.65       | 306.85       | 0.06756757   | 0.07419893   | \n",
       "|  NA          | NA           |        NA    |       NA     |              |       NA     |    NA        |         NA   |           NA |       NA     | ⋯            |       NA     |       NA     |       NA     |        NA    |     NA       |     NA       |     NA       |     NA       |         NA   |         NA   | \n",
       "|  NA          | NA           |        NA    |       NA     |              |       NA     |    NA        |         NA   |           NA |       NA     | ⋯            |       NA     |       NA     |       NA     |        NA    |     NA       |     NA       |     NA       |     NA       |         NA   |         NA   | \n",
       "|  NA          | NA           |        NA    |       NA     |              |       NA     |    NA        |         NA   |           NA |       NA     | ⋯            |       NA     |       NA     |       NA     |        NA    |     NA       |     NA       |     NA       |     NA       |         NA   |         NA   | \n",
       "|  NA          | NA           |        NA    |       NA     |              |       NA     |    NA        |         NA   |           NA |       NA     | ⋯            |       NA     |       NA     |       NA     |        NA    |     NA       |     NA       |     NA       |     NA       |         NA   |         NA   | \n",
       "|  NA          | NA           |        NA    |       NA     |              |       NA     |    NA        |         NA   |           NA |       NA     | ⋯            |       NA     |       NA     |       NA     |        NA    |     NA       |     NA       |     NA       |     NA       |         NA   |         NA   | \n",
       "|  NA          | NA           |        NA    |       NA     | `            |       NA     |    NA        |         NA   |           NA |       NA     | ⋯            |       NA     |       NA     |       NA     |        NA    |     NA       |     NA       |     NA       |     NA       |         NA   |         NA   | \n",
       "\n",
       "\n"
      ],
      "text/plain": [
       "   county year crmrte    prbarr   prbconv     prbpris  avgsen polpc     \n",
       "1   1     87   0.0356036 0.298270 0.527595997 0.436170  6.71  0.00182786\n",
       "2   3     87   0.0152532 0.132029 1.481480002 0.450000  6.35  0.00074588\n",
       "3   5     87   0.0129603 0.444444 0.267856985 0.600000  6.76  0.00123431\n",
       "4   7     87   0.0267532 0.364760 0.525424004 0.435484  7.14  0.00152994\n",
       "5   9     87   0.0106232 0.518219 0.476563007 0.442623  8.22  0.00086018\n",
       "6  11     87   0.0146067 0.524664 0.068376102 0.500000 13.00  0.00288203\n",
       "7  13     87   0.0296409 0.365004 0.520606995 0.420833 10.55  0.00133771\n",
       "8  15     87   0.0202814 0.392111 0.769231021 0.507692 10.64  0.00103525\n",
       "9  17     87   0.0304289 0.251599 0.436441004 0.436893  7.32  0.00129761\n",
       "10 19     87   0.0221567 0.162860 1.225610018 0.333333 10.34  0.00202425\n",
       "11 21     87   0.0437355 0.234760 0.334701002 0.429072 10.62  0.00182958\n",
       "12 23     87   0.0269836 0.289121 0.403780013 0.365957  7.07  0.00146111\n",
       "13 25     87   0.0302542 0.323548 0.406780005 0.492647  8.01  0.00197140\n",
       "14 27     87   0.0382489 0.268018 0.352941006 0.321429 11.69  0.00145013\n",
       "15 33     87   0.0159189 0.270950 0.515464008 0.480000  7.32  0.00075593\n",
       "16 35     87   0.0408569 0.266026 0.325300992 0.370370 10.06  0.00189444\n",
       "17 37     87   0.0226017 0.321867 0.385495991 0.316832  8.69  0.00130501\n",
       "18 39     87   0.0119154 0.308333 0.972972989 0.291667 11.58  0.00119154\n",
       "19 41     87   0.0257713 0.307246 0.452829987 0.520833 17.41  0.00149399\n",
       "20 45     87   0.0362807 0.202627 0.450567007 0.474820  8.96  0.00121531\n",
       "21 47     87   0.0313623 0.182927 0.763333023 0.270742  7.79  0.00128127\n",
       "22 49     87   0.0374979 0.264420 0.371879011 0.356890  8.70  0.00148532\n",
       "23 51     87   0.0883849 0.155248 0.259833008 0.407628 11.93  0.00190802\n",
       "24 53     87   0.0140655 0.303191 0.140350997 0.250000 11.96  0.00112225\n",
       "25 55     87   0.0790163 0.224628 0.207830995 0.304348 13.57  0.00400962\n",
       "26 57     87   0.0300216 0.222002 0.736908972 0.320624 10.47  0.00136191\n",
       "27 59     87   0.0233327 0.227753 0.62251699  0.425532  6.50  0.00119655\n",
       "28 61     87   0.0233677 0.398119 0.493438005 0.361702  8.77  0.00141622\n",
       "29 63     87   0.0706599 0.133225 0.459215999 0.363636 11.51  0.00237609\n",
       "30 65     87   0.0658801 0.287330 0.154451996 0.403922  9.84  0.00185739\n",
       "⋮  ⋮      ⋮    ⋮         ⋮        ⋮           ⋮        ⋮      ⋮         \n",
       "68 151    87   0.0264557 0.299198 0.36015299  0.340426 12.57  0.00132430\n",
       "69 153    87   0.0317563 0.345368 0.520709991 0.458333 11.33  0.00138447\n",
       "70 155    87   0.0312279 0.408200 0.559822977 0.386544  8.71  0.00145925\n",
       "71 157    87   0.0305908 0.278287 0.443681002 0.377709  7.48  0.00191777\n",
       "72 159    87   0.0362330 0.243590 0.492940009 0.476563  8.64  0.00158619\n",
       "73 161    87   0.0200070 0.482425 0.50819701  0.451613  7.98  0.00124824\n",
       "74 163    87   0.0215728 0.310987 0.401198    0.455224 11.25  0.00136587\n",
       "75 165    87   0.0508341 0.340679 0.468531013 0.432836  7.42  0.00151382\n",
       "76 167    87   0.0238285 0.362270 0.322580993 0.371429 10.48  0.00155144\n",
       "77 169    87   0.0121033 0.343387 0.722972989 0.448598 12.36  0.00109520\n",
       "78 171    87   0.0243954 0.175649 0.909090996 0.458333  8.67  0.00157442\n",
       "79 173    87   0.0139937 0.530435 0.327868998 0.150000  6.64  0.00316379\n",
       "80 175    87   0.0164932 0.350348 0.410596013 0.387097  7.31  0.00164549\n",
       "81 179    87   0.0318720 0.377543 0.328664005 0.426230  9.90  0.00147820\n",
       "82 181    87   0.0729479 0.182590 0.343023002 0.548023  7.06  0.00172948\n",
       "83 183    87   0.0568423 0.204216 0.381908    0.367347 12.15  0.00212751\n",
       "84 185    87   0.0108703 0.195266 2.121210098 0.442857  5.38  0.00122210\n",
       "85 187    87   0.0345231 0.332669 0.443114012 0.432432  6.98  0.00116911\n",
       "86 189    87   0.0313130 0.161381 0.300577998 0.288462 12.27  0.00227837\n",
       "87 191    87   0.0458895 0.172257 0.449999988 0.421053  9.59  0.00122733\n",
       "88 193    87   0.0235277 0.266055 0.588859022 0.423423  5.86  0.00117887\n",
       "89 193    87   0.0235277 0.266055 0.588859022 0.423423  5.86  0.00117887\n",
       "90 195    87   0.0313973 0.201397 1.670519948 0.470588 13.02  0.00445923\n",
       "91 197    87   0.0141928 0.207595 1.182929993 0.360825 12.23  0.00118573\n",
       "92  NA    NA          NA       NA                   NA    NA          NA\n",
       "93  NA    NA          NA       NA                   NA    NA          NA\n",
       "94  NA    NA          NA       NA                   NA    NA          NA\n",
       "95  NA    NA          NA       NA                   NA    NA          NA\n",
       "96  NA    NA          NA       NA                   NA    NA          NA\n",
       "97  NA    NA          NA       NA `                 NA    NA          NA\n",
       "   density      taxpc     ⋯ wtuc     wtrd     wfir     wser      wmfg   wfed  \n",
       "1  2.4226327     30.99368 ⋯ 408.7245 221.2701 453.1722 274.1775  334.54 477.58\n",
       "2  1.0463320     26.89208 ⋯ 376.2542 196.0101 258.5650 192.3077  300.38 409.83\n",
       "3  0.4127659     34.81605 ⋯ 372.2084 229.3209 305.9441 209.6972  237.65 358.98\n",
       "4  0.4915572     42.94759 ⋯ 397.6901 191.1720 281.0651 256.7214  281.80 412.15\n",
       "5  0.5469484     28.05474 ⋯ 377.3126 206.8215 289.3125 215.1933  290.89 377.35\n",
       "6  0.6113361     35.22974 ⋯ 401.3378 187.8255 258.5650 237.1507  258.60 391.48\n",
       "7  0.5169492     30.69649 ⋯ 366.3004 205.5358 310.1737 259.3391  303.42 449.84\n",
       "8  0.3009986     34.00304 ⋯ 353.2182 199.2377 356.1254 206.2816  235.05 416.49\n",
       "9  0.3503982     34.96204 ⋯ 346.6011 202.9595 268.3363 208.2520  339.76 389.51\n",
       "10 0.5767442     61.15251 ⋯ 613.2261 191.2452 290.5141 266.0934  567.06 403.15\n",
       "11 2.6024280     52.62629 ⋯ 433.8580 228.1740 363.7671 318.3635  378.90 496.13\n",
       "12 1.5119047     29.08280 ⋯ 400.7398 213.1840 325.0271 315.0242  327.45 463.67\n",
       "13 2.5741758     33.03621 ⋯ 384.6154 220.5897 358.6328 318.0335  355.59 486.36\n",
       "14 1.4989384     43.06339 ⋯ 428.5023 213.4620 316.9436 292.3517  309.27 450.28\n",
       "15 0.5257009     27.38110 ⋯ 286.4157 195.1995 368.2488 172.4733  324.45 357.16\n",
       "16 2.9242425     56.86211 ⋯ 469.2220 277.2925 359.3117 296.8491  341.32 525.51\n",
       "17 0.5127119     34.70248 ⋯ 462.4408 227.7858 305.6546 231.3615  321.90 460.62\n",
       "18 0.4623894     27.27564 ⋯ 390.1895 180.0634 295.8580 246.0152  270.78 397.33\n",
       "19 0.7417582     41.76929 ⋯ 379.0005 238.5589 271.7391 232.5916  332.07 451.84\n",
       "20 1.8440171     30.84900 ⋯ 403.0558 248.7759 301.8632 293.1148  367.42 463.37\n",
       "21 0.5639659     32.66050 ⋯ 342.5724 194.6777 352.6135 256.4102  355.83 426.56\n",
       "22 1.1440799     39.23048 ⋯ 406.5041 212.4851 312.6954 304.3066  375.32 474.30\n",
       "23 3.9345510     35.69936 ⋯ 412.4720 213.7524 324.8357 257.3344  441.72 433.94\n",
       "24 0.5351562     50.38139 ⋯ 202.4292 219.7802 305.9441 223.8502  250.42 371.79\n",
       "25 0.5115089    119.76145 ⋯ 445.2762 189.7436 284.5933 221.3903  319.21 338.91\n",
       "26 2.2518249     28.59199 ⋯ 418.6380 225.5296 338.5699 261.3512  324.67 496.07\n",
       "27 1.0262172     41.07194 ⋯ 335.4590 210.3365 317.3077 316.6645  316.57 428.33\n",
       "28 0.5079365     32.59961 ⋯ 308.5150 214.2203 327.1213 203.8864  266.58 414.84\n",
       "29 5.6744967     50.19918 ⋯ 548.9865 238.9154 435.1107 391.3081  646.85 563.77\n",
       "30 1.1679842     30.62824 ⋯ 540.1061 209.0579 316.2955 216.4589  313.71 543.03\n",
       "⋮  ⋮            ⋮         ⋱ ⋮        ⋮        ⋮        ⋮         ⋮      ⋮     \n",
       "68 1.2737642530 25.69287  ⋯ 415.1317 218.7198 322.4150  278.1124 294.37 474.26\n",
       "69 0.9622641210 37.22833  ⋯ 294.6650 192.8994 267.3797  237.1590 301.29 467.08\n",
       "70 1.1296100620 31.37446  ⋯ 407.0929 200.2213 337.9095  262.9849 278.82 441.49\n",
       "71 1.5096660850 39.16965  ⋯ 409.7771 192.4181 302.6162  245.7938 418.48 478.48\n",
       "72 2.0192677970 27.76489  ⋯ 475.3228 260.2710 329.5464  265.4315 374.41 491.16\n",
       "73 1.0052816870 31.34530  ⋯ 402.5045 201.5675 279.2492  251.4202 334.92 450.28\n",
       "74 0.5353748800 34.01291  ⋯ 415.2824 196.5514 279.0347  238.6300 295.07 429.27\n",
       "75 1.0783698560 38.74739  ⋯ 471.3424 203.0162 294.4124  267.6852 374.25 442.38\n",
       "76 1.2752525810 35.09686  ⋯ 419.0362 221.0995 326.8283  253.0096 351.09 463.69\n",
       "77 0.8008849620 37.70785  ⋯ 588.6970 190.5555 331.5650  206.6858 306.42 406.62\n",
       "78 1.1521335840 31.15306  ⋯ 412.5212 224.7224 339.9547  253.6207 288.32 452.53\n",
       "79 0.0000203422 37.72702  ⋯ 213.6752 175.1604 267.0940  204.3792 193.01 334.44\n",
       "80 0.6878306870 46.41461  ⋯ 402.5045 172.6453 317.3394  257.8734 627.02 344.06\n",
       "81 1.2816901210 38.44067  ⋯ 361.1018 241.0034 342.6819  270.4866 349.63 459.32\n",
       "82 1.5702811480 27.59179  ⋯ 365.4716 279.2273 325.0271  213.5822 290.69 453.53\n",
       "83 4.3887586590 48.76492  ⋯ 528.5593 306.0835 430.0697  348.2754 444.45 597.95\n",
       "84 0.3887587790 40.82454  ⋯ 331.5650 167.3726 264.4231 2177.0681 247.72 381.33\n",
       "85 0.4427710770 34.71814  ⋯ 421.3483 170.5293 282.0513  183.1502 297.14 390.94\n",
       "86 1.1019108300 31.33022  ⋯ 354.2510 180.9359 369.4332  253.2281 304.72 427.84\n",
       "87 1.7725632190 32.74533  ⋯ 400.8570 230.9888 320.0345  238.4958 295.26 334.55\n",
       "88 0.8138297800 28.51783  ⋯ 480.1948 268.3836 365.0196  295.9352 295.63 468.26\n",
       "89 0.8138297800 28.51783  ⋯ 480.1948 268.3836 365.0196  295.9352 295.63 468.26\n",
       "90 1.7459893230 53.66693  ⋯ 377.9356 246.0614 411.4330  296.8684 392.27 480.79\n",
       "91 0.8898809550 25.95258  ⋯ 341.8803 182.8020 348.1432  212.8205 322.92 391.72\n",
       "92           NA       NA  ⋯       NA       NA       NA        NA     NA     NA\n",
       "93           NA       NA  ⋯       NA       NA       NA        NA     NA     NA\n",
       "94           NA       NA  ⋯       NA       NA       NA        NA     NA     NA\n",
       "95           NA       NA  ⋯       NA       NA       NA        NA     NA     NA\n",
       "96           NA       NA  ⋯       NA       NA       NA        NA     NA     NA\n",
       "97           NA       NA  ⋯       NA       NA       NA        NA     NA     NA\n",
       "   wsta   wloc   mix        pctymle   \n",
       "1  292.09 311.91 0.08016878 0.07787097\n",
       "2  362.96 301.47 0.03022670 0.08260694\n",
       "3  331.53 281.37 0.46511629 0.07211538\n",
       "4  328.27 299.03 0.27362204 0.07353726\n",
       "5  367.23 342.82 0.06008584 0.07069755\n",
       "6  325.71 275.22 0.31952664 0.09891920\n",
       "7  350.72 283.76 0.15237226 0.07073344\n",
       "8  370.62 297.13 0.23495702 0.07430546\n",
       "9  322.06 278.39 0.21818182 0.07769163\n",
       "10 258.33 299.44 0.05334728 0.07713232\n",
       "11 381.30 335.36 0.06289308 0.07219726\n",
       "12 361.21 308.32 0.08400646 0.08397806\n",
       "13 411.08 357.44 0.08848315 0.07641540\n",
       "14 283.60 310.85 0.08957055 0.08353864\n",
       "15 407.54 268.44 0.15112540 0.08005202\n",
       "16 360.68 333.32 0.18122160 0.07891140\n",
       "17 393.29 321.53 0.08100930 0.07154077\n",
       "18 313.06 239.17 0.13744076 0.06973287\n",
       "19 389.99 312.05 0.09872611 0.06355526\n",
       "20 352.35 320.82 0.08594864 0.08013537\n",
       "21 313.71 313.84 0.12405757 0.07381025\n",
       "22 297.69 290.48 0.10692308 0.12224479\n",
       "23 367.34 333.71 0.10474319 0.14223780\n",
       "24 383.72 296.64 0.08045977 0.08476309\n",
       "25 361.68 326.08 0.08437271 0.07613807\n",
       "26 325.15 314.01 0.07497714 0.07873024\n",
       "27 388.92 307.25 0.11616162 0.07756928\n",
       "28 333.46 308.05 0.16707317 0.07579902\n",
       "29 415.51 362.58 0.07585382 0.09468981\n",
       "30 348.88 329.16 0.09364294 0.07622346\n",
       "⋮  ⋮      ⋮      ⋮          ⋮         \n",
       "68 298.66 294.72 0.07342084 0.07763254\n",
       "69 350.24 302.25 0.16323297 0.07570874\n",
       "70 381.46 304.73 0.12516960 0.08183564\n",
       "71 342.13 318.07 0.12467756 0.07771273\n",
       "72 346.81 351.74 0.09146758 0.07705218\n",
       "73 277.60 302.83 0.11024390 0.07362188\n",
       "74 318.02 299.92 0.12108560 0.07472797\n",
       "75 381.14 285.50 0.09595300 0.08548180\n",
       "76 312.53 311.47 0.10925926 0.07687439\n",
       "77 348.37 306.68 0.13720317 0.08280677\n",
       "78 341.77 324.06 0.08207343 0.07735254\n",
       "79 414.68 304.32 0.41975310 0.07462687\n",
       "80 357.69 298.33 0.10230179 0.08436658\n",
       "81 387.16 376.45 0.13481072 0.08703093\n",
       "82 317.23 286.45 0.10003893 0.07977433\n",
       "83 453.08 362.99 0.08527010 0.09935585\n",
       "84 367.25 300.13 0.04968944 0.07008217\n",
       "85 356.91 267.08 0.29048842 0.07794872\n",
       "86 451.79 297.19 0.05719921 0.15092644\n",
       "87 375.45 327.62 0.08616445 0.08828809\n",
       "88 337.88 348.74 0.11050157 0.07819394\n",
       "89 337.88 348.74 0.11050157 0.07819394\n",
       "90 303.11 337.28 0.15612382 0.07945071\n",
       "91 385.65 306.85 0.06756757 0.07419893\n",
       "92     NA     NA         NA         NA\n",
       "93     NA     NA         NA         NA\n",
       "94     NA     NA         NA         NA\n",
       "95     NA     NA         NA         NA\n",
       "96     NA     NA         NA         NA\n",
       "97     NA     NA         NA         NA"
      ]
     },
     "metadata": {},
     "output_type": "display_data"
    },
    {
     "data": {
      "text/html": [
       "97"
      ],
      "text/latex": [
       "97"
      ],
      "text/markdown": [
       "97"
      ],
      "text/plain": [
       "[1] 97"
      ]
     },
     "metadata": {},
     "output_type": "display_data"
    }
   ],
   "source": [
    "dfCrime[is.na(dfCrime),]\n",
    "dfCrime\n",
    "nrow(dfCrime)"
   ]
  },
  {
   "cell_type": "code",
   "execution_count": 3,
   "metadata": {},
   "outputs": [
    {
     "data": {
      "text/html": [
       "91"
      ],
      "text/latex": [
       "91"
      ],
      "text/markdown": [
       "91"
      ],
      "text/plain": [
       "[1] 91"
      ]
     },
     "metadata": {},
     "output_type": "display_data"
    }
   ],
   "source": [
    "dfCrime <-na.omit(dfCrime) # get rid of the NA rows\n",
    "nrow(dfCrime)"
   ]
  },
  {
   "cell_type": "code",
   "execution_count": 4,
   "metadata": {},
   "outputs": [
    {
     "data": {
      "text/html": [
       "<table>\n",
       "<thead><tr><th></th><th scope=col>county</th><th scope=col>year</th><th scope=col>crmrte</th><th scope=col>prbarr</th><th scope=col>prbconv</th><th scope=col>prbpris</th><th scope=col>avgsen</th><th scope=col>polpc</th><th scope=col>density</th><th scope=col>taxpc</th><th scope=col>⋯</th><th scope=col>wtuc</th><th scope=col>wtrd</th><th scope=col>wfir</th><th scope=col>wser</th><th scope=col>wmfg</th><th scope=col>wfed</th><th scope=col>wsta</th><th scope=col>wloc</th><th scope=col>mix</th><th scope=col>pctymle</th></tr></thead>\n",
       "<tbody>\n",
       "\t<tr><th scope=row>89</th><td>193        </td><td>87         </td><td>0.0235277  </td><td>0.266055   </td><td>0.588859022</td><td>0.423423   </td><td>5.86       </td><td>0.00117887 </td><td>0.8138298  </td><td>28.51783   </td><td>⋯          </td><td>480.1948   </td><td>268.3836   </td><td>365.0196   </td><td>295.9352   </td><td>295.63     </td><td>468.26     </td><td>337.88     </td><td>348.74     </td><td>0.1105016  </td><td>0.07819394 </td></tr>\n",
       "</tbody>\n",
       "</table>\n"
      ],
      "text/latex": [
       "\\begin{tabular}{r|lllllllllllllllllllllllll}\n",
       "  & county & year & crmrte & prbarr & prbconv & prbpris & avgsen & polpc & density & taxpc & ⋯ & wtuc & wtrd & wfir & wser & wmfg & wfed & wsta & wloc & mix & pctymle\\\\\n",
       "\\hline\n",
       "\t89 & 193         & 87          & 0.0235277   & 0.266055    & 0.588859022 & 0.423423    & 5.86        & 0.00117887  & 0.8138298   & 28.51783    & ⋯           & 480.1948    & 268.3836    & 365.0196    & 295.9352    & 295.63      & 468.26      & 337.88      & 348.74      & 0.1105016   & 0.07819394 \\\\\n",
       "\\end{tabular}\n"
      ],
      "text/markdown": [
       "\n",
       "| <!--/--> | county | year | crmrte | prbarr | prbconv | prbpris | avgsen | polpc | density | taxpc | ⋯ | wtuc | wtrd | wfir | wser | wmfg | wfed | wsta | wloc | mix | pctymle | \n",
       "|---|\n",
       "| 89 | 193         | 87          | 0.0235277   | 0.266055    | 0.588859022 | 0.423423    | 5.86        | 0.00117887  | 0.8138298   | 28.51783    | ⋯           | 480.1948    | 268.3836    | 365.0196    | 295.9352    | 295.63      | 468.26      | 337.88      | 348.74      | 0.1105016   | 0.07819394  | \n",
       "\n",
       "\n"
      ],
      "text/plain": [
       "   county year crmrte    prbarr   prbconv     prbpris  avgsen polpc     \n",
       "89 193    87   0.0235277 0.266055 0.588859022 0.423423 5.86   0.00117887\n",
       "   density   taxpc    ⋯ wtuc     wtrd     wfir     wser     wmfg   wfed  \n",
       "89 0.8138298 28.51783 ⋯ 480.1948 268.3836 365.0196 295.9352 295.63 468.26\n",
       "   wsta   wloc   mix       pctymle   \n",
       "89 337.88 348.74 0.1105016 0.07819394"
      ]
     },
     "metadata": {},
     "output_type": "display_data"
    },
    {
     "data": {
      "text/html": [
       "<ol class=list-inline>\n",
       "\t<li>1</li>\n",
       "\t<li>3</li>\n",
       "\t<li>5</li>\n",
       "\t<li>7</li>\n",
       "\t<li>9</li>\n",
       "\t<li>11</li>\n",
       "\t<li>13</li>\n",
       "\t<li>15</li>\n",
       "\t<li>17</li>\n",
       "\t<li>19</li>\n",
       "\t<li>21</li>\n",
       "\t<li>23</li>\n",
       "\t<li>25</li>\n",
       "\t<li>27</li>\n",
       "\t<li>33</li>\n",
       "\t<li>35</li>\n",
       "\t<li>37</li>\n",
       "\t<li>39</li>\n",
       "\t<li>41</li>\n",
       "\t<li>45</li>\n",
       "\t<li>47</li>\n",
       "\t<li>49</li>\n",
       "\t<li>51</li>\n",
       "\t<li>53</li>\n",
       "\t<li>55</li>\n",
       "\t<li>57</li>\n",
       "\t<li>59</li>\n",
       "\t<li>61</li>\n",
       "\t<li>63</li>\n",
       "\t<li>65</li>\n",
       "\t<li>67</li>\n",
       "\t<li>69</li>\n",
       "\t<li>71</li>\n",
       "\t<li>77</li>\n",
       "\t<li>79</li>\n",
       "\t<li>81</li>\n",
       "\t<li>83</li>\n",
       "\t<li>85</li>\n",
       "\t<li>87</li>\n",
       "\t<li>89</li>\n",
       "\t<li>91</li>\n",
       "\t<li>93</li>\n",
       "\t<li>97</li>\n",
       "\t<li>99</li>\n",
       "\t<li>101</li>\n",
       "\t<li>105</li>\n",
       "\t<li>107</li>\n",
       "\t<li>109</li>\n",
       "\t<li>111</li>\n",
       "\t<li>113</li>\n",
       "\t<li>115</li>\n",
       "\t<li>117</li>\n",
       "\t<li>119</li>\n",
       "\t<li>123</li>\n",
       "\t<li>125</li>\n",
       "\t<li>127</li>\n",
       "\t<li>129</li>\n",
       "\t<li>131</li>\n",
       "\t<li>133</li>\n",
       "\t<li>135</li>\n",
       "\t<li>137</li>\n",
       "\t<li>139</li>\n",
       "\t<li>141</li>\n",
       "\t<li>143</li>\n",
       "\t<li>145</li>\n",
       "\t<li>147</li>\n",
       "\t<li>149</li>\n",
       "\t<li>151</li>\n",
       "\t<li>153</li>\n",
       "\t<li>155</li>\n",
       "\t<li>157</li>\n",
       "\t<li>159</li>\n",
       "\t<li>161</li>\n",
       "\t<li>163</li>\n",
       "\t<li>165</li>\n",
       "\t<li>167</li>\n",
       "\t<li>169</li>\n",
       "\t<li>171</li>\n",
       "\t<li>173</li>\n",
       "\t<li>175</li>\n",
       "\t<li>179</li>\n",
       "\t<li>181</li>\n",
       "\t<li>183</li>\n",
       "\t<li>185</li>\n",
       "\t<li>187</li>\n",
       "\t<li>189</li>\n",
       "\t<li>191</li>\n",
       "\t<li>193</li>\n",
       "\t<li>195</li>\n",
       "\t<li>197</li>\n",
       "</ol>\n"
      ],
      "text/latex": [
       "\\begin{enumerate*}\n",
       "\\item 1\n",
       "\\item 3\n",
       "\\item 5\n",
       "\\item 7\n",
       "\\item 9\n",
       "\\item 11\n",
       "\\item 13\n",
       "\\item 15\n",
       "\\item 17\n",
       "\\item 19\n",
       "\\item 21\n",
       "\\item 23\n",
       "\\item 25\n",
       "\\item 27\n",
       "\\item 33\n",
       "\\item 35\n",
       "\\item 37\n",
       "\\item 39\n",
       "\\item 41\n",
       "\\item 45\n",
       "\\item 47\n",
       "\\item 49\n",
       "\\item 51\n",
       "\\item 53\n",
       "\\item 55\n",
       "\\item 57\n",
       "\\item 59\n",
       "\\item 61\n",
       "\\item 63\n",
       "\\item 65\n",
       "\\item 67\n",
       "\\item 69\n",
       "\\item 71\n",
       "\\item 77\n",
       "\\item 79\n",
       "\\item 81\n",
       "\\item 83\n",
       "\\item 85\n",
       "\\item 87\n",
       "\\item 89\n",
       "\\item 91\n",
       "\\item 93\n",
       "\\item 97\n",
       "\\item 99\n",
       "\\item 101\n",
       "\\item 105\n",
       "\\item 107\n",
       "\\item 109\n",
       "\\item 111\n",
       "\\item 113\n",
       "\\item 115\n",
       "\\item 117\n",
       "\\item 119\n",
       "\\item 123\n",
       "\\item 125\n",
       "\\item 127\n",
       "\\item 129\n",
       "\\item 131\n",
       "\\item 133\n",
       "\\item 135\n",
       "\\item 137\n",
       "\\item 139\n",
       "\\item 141\n",
       "\\item 143\n",
       "\\item 145\n",
       "\\item 147\n",
       "\\item 149\n",
       "\\item 151\n",
       "\\item 153\n",
       "\\item 155\n",
       "\\item 157\n",
       "\\item 159\n",
       "\\item 161\n",
       "\\item 163\n",
       "\\item 165\n",
       "\\item 167\n",
       "\\item 169\n",
       "\\item 171\n",
       "\\item 173\n",
       "\\item 175\n",
       "\\item 179\n",
       "\\item 181\n",
       "\\item 183\n",
       "\\item 185\n",
       "\\item 187\n",
       "\\item 189\n",
       "\\item 191\n",
       "\\item 193\n",
       "\\item 195\n",
       "\\item 197\n",
       "\\end{enumerate*}\n"
      ],
      "text/markdown": [
       "1. 1\n",
       "2. 3\n",
       "3. 5\n",
       "4. 7\n",
       "5. 9\n",
       "6. 11\n",
       "7. 13\n",
       "8. 15\n",
       "9. 17\n",
       "10. 19\n",
       "11. 21\n",
       "12. 23\n",
       "13. 25\n",
       "14. 27\n",
       "15. 33\n",
       "16. 35\n",
       "17. 37\n",
       "18. 39\n",
       "19. 41\n",
       "20. 45\n",
       "21. 47\n",
       "22. 49\n",
       "23. 51\n",
       "24. 53\n",
       "25. 55\n",
       "26. 57\n",
       "27. 59\n",
       "28. 61\n",
       "29. 63\n",
       "30. 65\n",
       "31. 67\n",
       "32. 69\n",
       "33. 71\n",
       "34. 77\n",
       "35. 79\n",
       "36. 81\n",
       "37. 83\n",
       "38. 85\n",
       "39. 87\n",
       "40. 89\n",
       "41. 91\n",
       "42. 93\n",
       "43. 97\n",
       "44. 99\n",
       "45. 101\n",
       "46. 105\n",
       "47. 107\n",
       "48. 109\n",
       "49. 111\n",
       "50. 113\n",
       "51. 115\n",
       "52. 117\n",
       "53. 119\n",
       "54. 123\n",
       "55. 125\n",
       "56. 127\n",
       "57. 129\n",
       "58. 131\n",
       "59. 133\n",
       "60. 135\n",
       "61. 137\n",
       "62. 139\n",
       "63. 141\n",
       "64. 143\n",
       "65. 145\n",
       "66. 147\n",
       "67. 149\n",
       "68. 151\n",
       "69. 153\n",
       "70. 155\n",
       "71. 157\n",
       "72. 159\n",
       "73. 161\n",
       "74. 163\n",
       "75. 165\n",
       "76. 167\n",
       "77. 169\n",
       "78. 171\n",
       "79. 173\n",
       "80. 175\n",
       "81. 179\n",
       "82. 181\n",
       "83. 183\n",
       "84. 185\n",
       "85. 187\n",
       "86. 189\n",
       "87. 191\n",
       "88. 193\n",
       "89. 195\n",
       "90. 197\n",
       "\n",
       "\n"
      ],
      "text/plain": [
       " [1]   1   3   5   7   9  11  13  15  17  19  21  23  25  27  33  35  37  39  41\n",
       "[20]  45  47  49  51  53  55  57  59  61  63  65  67  69  71  77  79  81  83  85\n",
       "[39]  87  89  91  93  97  99 101 105 107 109 111 113 115 117 119 123 125 127 129\n",
       "[58] 131 133 135 137 139 141 143 145 147 149 151 153 155 157 159 161 163 165 167\n",
       "[77] 169 171 173 175 179 181 183 185 187 189 191 193 195 197"
      ]
     },
     "metadata": {},
     "output_type": "display_data"
    }
   ],
   "source": [
    "dfCrime[duplicated(dfCrime),]\n",
    "unique(dfCrime$county)"
   ]
  },
  {
   "cell_type": "code",
   "execution_count": 5,
   "metadata": {},
   "outputs": [
    {
     "data": {
      "text/html": [
       "90"
      ],
      "text/latex": [
       "90"
      ],
      "text/markdown": [
       "90"
      ],
      "text/plain": [
       "[1] 90"
      ]
     },
     "metadata": {},
     "output_type": "display_data"
    }
   ],
   "source": [
    "dfCrime <- dfCrime[!duplicated(dfCrime),] # get rid of the duplicated row\n",
    "nrow(dfCrime)"
   ]
  },
  {
   "cell_type": "code",
   "execution_count": 11,
   "metadata": {},
   "outputs": [
    {
     "name": "stderr",
     "output_type": "stream",
     "text": [
      "Warning message in eval(expr, envir, enclos):\n",
      "“NAs introduced by coercion”"
     ]
    }
   ],
   "source": [
    "dfCrime$prbconv<-as.numeric(levels(dfCrime$prbconv))[dfCrime$prbconv]\n",
    "#dfCrime$prbconv<-as.double(dfCrime$prbconv)"
   ]
  },
  {
   "cell_type": "code",
   "execution_count": null,
   "metadata": {},
   "outputs": [],
   "source": [
    "dfCrime$county<-as.factor(dfCrime$county) #note that we're missing 10 counties from NC; 6 were blank rows in this set, one row was a duplicate"
   ]
  },
  {
   "cell_type": "code",
   "execution_count": null,
   "metadata": {},
   "outputs": [],
   "source": [
    "dfCrime$pctmin80<-dfCrime$pctmin80/100 # units are off in comparison to pctymle; we either divide by 100 here or multiply the other one"
   ]
  },
  {
   "cell_type": "code",
   "execution_count": 21,
   "metadata": {},
   "outputs": [],
   "source": [
    "#Map central and west to a region code.\n",
    "# Note that county 71 has both western and central codes\n",
    "dfCrime$region <- case_when (\n",
    "            (dfCrime$central ==0 & dfCrime$west ==0) ~ 0, #Eastern, Coastal, Other\n",
    "            (dfCrime$central ==0 & dfCrime$west ==1) ~ 1, #Western\n",
    "            (dfCrime$central ==1 & dfCrime$west ==0) ~ 2, #Central\n",
    "            (dfCrime$central ==1 & dfCrime$west ==1) ~ 3, #Central-Western border county - this could be Charlotte or it could be a coding error.\n",
    "        )"
   ]
  },
  {
   "cell_type": "code",
   "execution_count": 22,
   "metadata": {},
   "outputs": [],
   "source": [
    "# create a factor for 'central', 'western', 'central/western' and 'eastern, coastal, other' region\n",
    "dfCrime$region =\n",
    "            factor( dfCrime$region , levels = 0:3 , labels =\n",
    "                    c( 'Region 1',\n",
    "                       'Region 2',\n",
    "                       'Region 3',\n",
    "                       'Region 4'\n",
    "                      )\n",
    "                   )"
   ]
  },
  {
   "cell_type": "code",
   "execution_count": null,
   "metadata": {},
   "outputs": [],
   "source": [
    "# create factor for SMSA (standard metropolitan statistical areas) with two levels - inside or outside\n",
    "#    https://www2.census.gov/prod2/decennial/documents/1980/1980censusofpopu8011uns_bw.pdf\n",
    "dfCrime$metro =\n",
    "            factor( dfCrime$urban , levels = 0:1 , labels =\n",
    "                    c( 'Outside',\n",
    "                       'Inside'\n",
    "                      )\n",
    "                   )"
   ]
  },
  {
   "cell_type": "markdown",
   "metadata": {},
   "source": [
    "## model 1"
   ]
  },
  {
   "cell_type": "code",
   "execution_count": 12,
   "metadata": {},
   "outputs": [
    {
     "data": {
      "text/plain": [
       "\n",
       "Call:\n",
       "lm(formula = dfCrime$crmrte ~ dfCrime$prbconv + dfCrime$taxpc)\n",
       "\n",
       "Coefficients:\n",
       "    (Intercept)  dfCrime$prbconv    dfCrime$taxpc  \n",
       "       0.021002        -0.017822         0.000585  \n"
      ]
     },
     "metadata": {},
     "output_type": "display_data"
    },
    {
     "data": {
      "text/plain": [
       "\n",
       "Call:\n",
       "lm(formula = dfCrime$crmrte ~ dfCrime$prbconv + dfCrime$taxpc)\n",
       "\n",
       "Residuals:\n",
       "      Min        1Q    Median        3Q       Max \n",
       "-0.033910 -0.010210 -0.002763  0.007298  0.051128 \n",
       "\n",
       "Coefficients:\n",
       "                  Estimate Std. Error t value Pr(>|t|)    \n",
       "(Intercept)      0.0210025  0.0061125   3.436 0.000907 ***\n",
       "dfCrime$prbconv -0.0178223  0.0047835  -3.726 0.000345 ***\n",
       "dfCrime$taxpc    0.0005850  0.0001292   4.527 1.89e-05 ***\n",
       "---\n",
       "Signif. codes:  0 ‘***’ 0.001 ‘**’ 0.01 ‘*’ 0.05 ‘.’ 0.1 ‘ ’ 1\n",
       "\n",
       "Residual standard error: 0.01585 on 87 degrees of freedom\n",
       "Multiple R-squared:  0.3112,\tAdjusted R-squared:  0.2954 \n",
       "F-statistic: 19.66 on 2 and 87 DF,  p-value: 9.035e-08\n"
      ]
     },
     "metadata": {},
     "output_type": "display_data"
    }
   ],
   "source": [
    "mod1 <- lm(dfCrime$crmrte ~ dfCrime$prbconv + dfCrime$taxpc)\n",
    "mod1\n",
    "summary(mod1)"
   ]
  },
  {
   "cell_type": "code",
   "execution_count": 13,
   "metadata": {},
   "outputs": [
    {
     "data": {
      "text/plain": [
       "\n",
       "Call:\n",
       "lm(formula = dfCrime$crmrte ~ (dfCrime$prbconv + dfCrime$wcon * \n",
       "    (1 + dfCrime$urban)))\n",
       "\n",
       "Coefficients:\n",
       "               (Intercept)             dfCrime$prbconv  \n",
       "                 1.474e-02                  -1.404e-02  \n",
       "              dfCrime$wcon               dfCrime$urban  \n",
       "                 8.268e-05                   3.685e-02  \n",
       "dfCrime$wcon:dfCrime$urban  \n",
       "                -1.224e-05  \n"
      ]
     },
     "metadata": {},
     "output_type": "display_data"
    },
    {
     "data": {
      "text/plain": [
       "\n",
       "Call:\n",
       "lm(formula = dfCrime$crmrte ~ (dfCrime$prbconv + dfCrime$wcon * \n",
       "    (1 + dfCrime$urban)))\n",
       "\n",
       "Residuals:\n",
       "      Min        1Q    Median        3Q       Max \n",
       "-0.025235 -0.009620 -0.002084  0.005606  0.042781 \n",
       "\n",
       "Coefficients:\n",
       "                             Estimate Std. Error t value Pr(>|t|)   \n",
       "(Intercept)                 1.474e-02  1.074e-02   1.373  0.17340   \n",
       "dfCrime$prbconv            -1.404e-02  4.232e-03  -3.319  0.00133 **\n",
       "dfCrime$wcon                8.268e-05  3.626e-05   2.280  0.02509 * \n",
       "dfCrime$urban               3.685e-02  2.692e-02   1.369  0.17459   \n",
       "dfCrime$wcon:dfCrime$urban -1.224e-05  8.137e-05  -0.150  0.88075   \n",
       "---\n",
       "Signif. codes:  0 ‘***’ 0.001 ‘**’ 0.01 ‘*’ 0.05 ‘.’ 0.1 ‘ ’ 1\n",
       "\n",
       "Residual standard error: 0.01383 on 85 degrees of freedom\n",
       "Multiple R-squared:  0.4882,\tAdjusted R-squared:  0.4641 \n",
       "F-statistic: 20.27 on 4 and 85 DF,  p-value: 9.425e-12\n"
      ]
     },
     "metadata": {},
     "output_type": "display_data"
    }
   ],
   "source": [
    "# list out high leverage points and rerun with \n",
    "# augment find broom package in tidy\n",
    "# create new column for dummy variable 0,1 (maybe a package for this?)\n",
    "# https://stats.idre.ucla.edu/r/modules/coding-for-categorical-variables-in-regression-models/\n",
    "mod2 <- lm(dfCrime$crmrte ~ (dfCrime$prbconv + dfCrime$wcon*(1+dfCrime$urban)))\n",
    "mod2\n",
    "summary(mod2)"
   ]
  },
  {
   "cell_type": "markdown",
   "metadata": {},
   "source": [
    "### Stepwise functions"
   ]
  },
  {
   "cell_type": "code",
   "execution_count": 14,
   "metadata": {},
   "outputs": [],
   "source": [
    "#Stepwise AIC to see best model for whole dataset\n",
    "stepmod<-lm(crmrte~., data = dfCrime)"
   ]
  },
  {
   "cell_type": "code",
   "execution_count": 26,
   "metadata": {},
   "outputs": [],
   "source": [
    "step<-stepAIC(stepmod,trace=F)"
   ]
  },
  {
   "cell_type": "code",
   "execution_count": 27,
   "metadata": {},
   "outputs": [
    {
     "data": {
      "text/plain": [
       "\n",
       "Call:\n",
       "lm(formula = crmrte ~ prbarr + prbconv + polpc + density + taxpc + \n",
       "    pctmin80 + wsta + mix + pctymle, data = dfCrime)\n",
       "\n",
       "Residuals:\n",
       "       Min         1Q     Median         3Q        Max \n",
       "-0.0189254 -0.0046357 -0.0005724  0.0052607  0.0203218 \n",
       "\n",
       "Coefficients:\n",
       "              Estimate Std. Error t value Pr(>|t|)    \n",
       "(Intercept)  3.511e-02  1.022e-02   3.436  0.00094 ***\n",
       "prbarr      -5.367e-02  9.211e-03  -5.827 1.13e-07 ***\n",
       "prbconv     -2.146e-02  3.013e-03  -7.123 4.12e-10 ***\n",
       "polpc        6.906e+00  1.249e+00   5.530 3.90e-07 ***\n",
       "density      5.524e-03  6.785e-04   8.141 4.28e-12 ***\n",
       "taxpc        1.615e-04  7.743e-05   2.086  0.04013 *  \n",
       "pctmin80     3.951e-04  5.422e-05   7.287 1.98e-10 ***\n",
       "wsta        -4.052e-05  2.133e-05  -1.900  0.06104 .  \n",
       "mix         -2.400e-02  1.248e-02  -1.924  0.05796 .  \n",
       "pctymle      9.063e-02  3.993e-02   2.270  0.02590 *  \n",
       "---\n",
       "Signif. codes:  0 ‘***’ 0.001 ‘**’ 0.01 ‘*’ 0.05 ‘.’ 0.1 ‘ ’ 1\n",
       "\n",
       "Residual standard error: 0.008033 on 80 degrees of freedom\n",
       "Multiple R-squared:  0.8374,\tAdjusted R-squared:  0.8191 \n",
       "F-statistic: 45.77 on 9 and 80 DF,  p-value: < 2.2e-16\n"
      ]
     },
     "metadata": {},
     "output_type": "display_data"
    }
   ],
   "source": [
    "summary(step)"
   ]
  },
  {
   "cell_type": "code",
   "execution_count": 18,
   "metadata": {},
   "outputs": [
    {
     "data": {
      "text/plain": [
       "\n",
       "Call:\n",
       "lm(formula = taxpc ~ crmrte + polpc + west + central + pctmin80 + \n",
       "    wcon + wser + wmfg + wfed + pctymle, data = dfCrime)\n",
       "\n",
       "Residuals:\n",
       "    Min      1Q  Median      3Q     Max \n",
       "-21.484  -5.449  -0.676   5.723  35.366 \n",
       "\n",
       "Coefficients:\n",
       "              Estimate Std. Error t value Pr(>|t|)    \n",
       "(Intercept)  6.207e+01  1.173e+01   5.291 1.06e-06 ***\n",
       "crmrte       3.944e+02  7.552e+01   5.222 1.40e-06 ***\n",
       "polpc        2.976e+03  1.146e+03   2.597 0.011200 *  \n",
       "west        -1.105e+01  4.026e+00  -2.744 0.007503 ** \n",
       "central     -6.368e+00  2.914e+00  -2.185 0.031861 *  \n",
       "pctmin80    -2.534e-01  9.634e-02  -2.630 0.010262 *  \n",
       "wcon         5.348e-02  2.809e-02   1.904 0.060613 .  \n",
       "wser         1.222e-02  5.454e-03   2.241 0.027816 *  \n",
       "wmfg         2.389e-02  1.456e-02   1.640 0.104895    \n",
       "wfed        -9.421e-02  2.448e-02  -3.848 0.000240 ***\n",
       "pctymle     -1.850e+02  4.873e+01  -3.795 0.000288 ***\n",
       "---\n",
       "Signif. codes:  0 ‘***’ 0.001 ‘**’ 0.01 ‘*’ 0.05 ‘.’ 0.1 ‘ ’ 1\n",
       "\n",
       "Residual standard error: 9.865 on 79 degrees of freedom\n",
       "Multiple R-squared:  0.4975,\tAdjusted R-squared:  0.4339 \n",
       "F-statistic: 7.823 on 10 and 79 DF,  p-value: 1.371e-08\n"
      ]
     },
     "metadata": {},
     "output_type": "display_data"
    }
   ],
   "source": [
    "#Stepwise model to see what affects taxes\n",
    "stepfinmod<-lm(taxpc~., data=dfCrime)\n",
    "step2<-stepAIC(stepfinmod,trace=F)\n",
    "summary(step2)"
   ]
  },
  {
   "cell_type": "code",
   "execution_count": 24,
   "metadata": {},
   "outputs": [],
   "source": [
    "options(repr.plot.width=6, repr.plot.height=4)"
   ]
  },
  {
   "cell_type": "markdown",
   "metadata": {},
   "source": [
    "### Operationalization of economic opportunity"
   ]
  },
  {
   "cell_type": "code",
   "execution_count": 126,
   "metadata": {},
   "outputs": [],
   "source": [
    "# Quantiles for all jobs\n",
    "dfWage<-mutate(dfCrime,qCon=ntile(dfCrime$wcon,4))\n",
    "dfWage<-mutate(dfWage,qTuc=ntile(dfCrime$wtuc,4))\n",
    "dfWage<-mutate(dfWage,qTrd=ntile(dfCrime$wtrd,4))\n",
    "dfWage<-mutate(dfWage,qFir=ntile(dfCrime$wfir,4))\n",
    "dfWage<-mutate(dfWage,qSer=ntile(dfCrime$wser,4))\n",
    "dfWage<-mutate(dfWage,qMfg=ntile(dfCrime$wmfg,4))\n",
    "dfWage<-mutate(dfWage,qFed=ntile(dfCrime$wfed,4))\n",
    "dfWage<-mutate(dfWage,qSta=ntile(dfCrime$wsta,4))\n",
    "dfWage<-mutate(dfWage,qLoc=ntile(dfCrime$wloc,4))"
   ]
  },
  {
   "cell_type": "code",
   "execution_count": 130,
   "metadata": {},
   "outputs": [],
   "source": [
    "# Average quantile\n",
    "dfWage$qAvg= (dfWage$qCon+dfWage$qTuc+dfWage$qTrd+dfWage$qFir+dfWage$qSer+dfWage$qMfg+dfWage$qFed+dfWage$qSta+dfWage$qLoc)/9"
   ]
  },
  {
   "cell_type": "code",
   "execution_count": 139,
   "metadata": {},
   "outputs": [],
   "source": [
    "# Create a new variable called all wages that adds up the different wages\n",
    "dfWage$allwage=(dfWage$wcon+ dfWage$wtuc + dfWage$wtrd + dfWage$wfir + dfWage$wser + dfWage$wmfg + dfWage$wfed + dfWage$wsta + dfWage$wloc)\n",
    "dfWage<-mutate(dfWage,qAllwage=ntile(dfWage$allwage,4))\n",
    "dfWage<-mutate(dfWage,pAllwage=ntile(dfWage$allwage,100))\n",
    "# Create a variable called crimjust\n",
    "dfWage$crimjust=dfWage$prbarr*dfWage$prbconv\n",
    "# Apply urban as a dummy variable\n",
    "dfWage$pUrban=dfWage$pAllwage*dfWage$urban\n",
    "dfWage$pTax=dfWage$taxpc*dfWage$urban"
   ]
  },
  {
   "cell_type": "code",
   "execution_count": 131,
   "metadata": {},
   "outputs": [
    {
     "data": {
      "text/html": [
       "<table>\n",
       "<thead><tr><th scope=col>county</th><th scope=col>year</th><th scope=col>crmrte</th><th scope=col>prbarr</th><th scope=col>prbconv</th><th scope=col>prbpris</th><th scope=col>avgsen</th><th scope=col>polpc</th><th scope=col>density</th><th scope=col>taxpc</th><th scope=col>⋯</th><th scope=col>qCon</th><th scope=col>qTuc</th><th scope=col>qTrd</th><th scope=col>qFir</th><th scope=col>qSer</th><th scope=col>qMfg</th><th scope=col>qFed</th><th scope=col>qSta</th><th scope=col>qLoc</th><th scope=col>qAvg</th></tr></thead>\n",
       "<tbody>\n",
       "\t<tr><td> 1        </td><td>87        </td><td>0.0356036 </td><td>0.298270  </td><td>0.5275960 </td><td>0.436170  </td><td> 6.71     </td><td>0.00182786</td><td>2.4226327 </td><td>30.99368  </td><td>⋯         </td><td>3         </td><td>3         </td><td>3         </td><td>4         </td><td>3         </td><td>3         </td><td>3         </td><td>1         </td><td>3         </td><td>2.888889  </td></tr>\n",
       "\t<tr><td> 3        </td><td>87        </td><td>0.0152532 </td><td>0.132029  </td><td>1.4814800 </td><td>0.450000  </td><td> 6.35     </td><td>0.00074588</td><td>1.0463320 </td><td>26.89208  </td><td>⋯         </td><td>2         </td><td>2         </td><td>2         </td><td>1         </td><td>1         </td><td>2         </td><td>2         </td><td>3         </td><td>2         </td><td>1.888889  </td></tr>\n",
       "\t<tr><td> 5        </td><td>87        </td><td>0.0129603 </td><td>0.444444  </td><td>0.2678570 </td><td>0.600000  </td><td> 6.76     </td><td>0.00123431</td><td>0.4127659 </td><td>34.81605  </td><td>⋯         </td><td>1         </td><td>1         </td><td>4         </td><td>2         </td><td>1         </td><td>1         </td><td>1         </td><td>2         </td><td>1         </td><td>1.555556  </td></tr>\n",
       "\t<tr><td> 7        </td><td>87        </td><td>0.0267532 </td><td>0.364760  </td><td>0.5254240 </td><td>0.435484  </td><td> 7.14     </td><td>0.00152994</td><td>0.4915572 </td><td>42.94759  </td><td>⋯         </td><td>4         </td><td>2         </td><td>2         </td><td>1         </td><td>3         </td><td>1         </td><td>2         </td><td>1         </td><td>2         </td><td>2.000000  </td></tr>\n",
       "\t<tr><td> 9        </td><td>87        </td><td>0.0106232 </td><td>0.518219  </td><td>0.4765630 </td><td>0.442623  </td><td> 8.22     </td><td>0.00086018</td><td>0.5469484 </td><td>28.05474  </td><td>⋯         </td><td>3         </td><td>2         </td><td>3         </td><td>2         </td><td>1         </td><td>2         </td><td>1         </td><td>3         </td><td>4         </td><td>2.333333  </td></tr>\n",
       "\t<tr><td>11        </td><td>87        </td><td>0.0146067 </td><td>0.524664  </td><td>0.0683761 </td><td>0.500000  </td><td>13.00     </td><td>0.00288203</td><td>0.6113361 </td><td>35.22974  </td><td>⋯         </td><td>1         </td><td>2         </td><td>1         </td><td>1         </td><td>2         </td><td>1         </td><td>1         </td><td>1         </td><td>1         </td><td>1.222222  </td></tr>\n",
       "</tbody>\n",
       "</table>\n"
      ],
      "text/latex": [
       "\\begin{tabular}{r|llllllllllllllllllllllllllllllllllll}\n",
       " county & year & crmrte & prbarr & prbconv & prbpris & avgsen & polpc & density & taxpc & ⋯ & qCon & qTuc & qTrd & qFir & qSer & qMfg & qFed & qSta & qLoc & qAvg\\\\\n",
       "\\hline\n",
       "\t  1         & 87         & 0.0356036  & 0.298270   & 0.5275960  & 0.436170   &  6.71      & 0.00182786 & 2.4226327  & 30.99368   & ⋯          & 3          & 3          & 3          & 4          & 3          & 3          & 3          & 1          & 3          & 2.888889  \\\\\n",
       "\t  3         & 87         & 0.0152532  & 0.132029   & 1.4814800  & 0.450000   &  6.35      & 0.00074588 & 1.0463320  & 26.89208   & ⋯          & 2          & 2          & 2          & 1          & 1          & 2          & 2          & 3          & 2          & 1.888889  \\\\\n",
       "\t  5         & 87         & 0.0129603  & 0.444444   & 0.2678570  & 0.600000   &  6.76      & 0.00123431 & 0.4127659  & 34.81605   & ⋯          & 1          & 1          & 4          & 2          & 1          & 1          & 1          & 2          & 1          & 1.555556  \\\\\n",
       "\t  7         & 87         & 0.0267532  & 0.364760   & 0.5254240  & 0.435484   &  7.14      & 0.00152994 & 0.4915572  & 42.94759   & ⋯          & 4          & 2          & 2          & 1          & 3          & 1          & 2          & 1          & 2          & 2.000000  \\\\\n",
       "\t  9         & 87         & 0.0106232  & 0.518219   & 0.4765630  & 0.442623   &  8.22      & 0.00086018 & 0.5469484  & 28.05474   & ⋯          & 3          & 2          & 3          & 2          & 1          & 2          & 1          & 3          & 4          & 2.333333  \\\\\n",
       "\t 11         & 87         & 0.0146067  & 0.524664   & 0.0683761  & 0.500000   & 13.00      & 0.00288203 & 0.6113361  & 35.22974   & ⋯          & 1          & 2          & 1          & 1          & 2          & 1          & 1          & 1          & 1          & 1.222222  \\\\\n",
       "\\end{tabular}\n"
      ],
      "text/markdown": [
       "\n",
       "county | year | crmrte | prbarr | prbconv | prbpris | avgsen | polpc | density | taxpc | ⋯ | qCon | qTuc | qTrd | qFir | qSer | qMfg | qFed | qSta | qLoc | qAvg | \n",
       "|---|---|---|---|---|---|\n",
       "|  1         | 87         | 0.0356036  | 0.298270   | 0.5275960  | 0.436170   |  6.71      | 0.00182786 | 2.4226327  | 30.99368   | ⋯          | 3          | 3          | 3          | 4          | 3          | 3          | 3          | 1          | 3          | 2.888889   | \n",
       "|  3         | 87         | 0.0152532  | 0.132029   | 1.4814800  | 0.450000   |  6.35      | 0.00074588 | 1.0463320  | 26.89208   | ⋯          | 2          | 2          | 2          | 1          | 1          | 2          | 2          | 3          | 2          | 1.888889   | \n",
       "|  5         | 87         | 0.0129603  | 0.444444   | 0.2678570  | 0.600000   |  6.76      | 0.00123431 | 0.4127659  | 34.81605   | ⋯          | 1          | 1          | 4          | 2          | 1          | 1          | 1          | 2          | 1          | 1.555556   | \n",
       "|  7         | 87         | 0.0267532  | 0.364760   | 0.5254240  | 0.435484   |  7.14      | 0.00152994 | 0.4915572  | 42.94759   | ⋯          | 4          | 2          | 2          | 1          | 3          | 1          | 2          | 1          | 2          | 2.000000   | \n",
       "|  9         | 87         | 0.0106232  | 0.518219   | 0.4765630  | 0.442623   |  8.22      | 0.00086018 | 0.5469484  | 28.05474   | ⋯          | 3          | 2          | 3          | 2          | 1          | 2          | 1          | 3          | 4          | 2.333333   | \n",
       "| 11         | 87         | 0.0146067  | 0.524664   | 0.0683761  | 0.500000   | 13.00      | 0.00288203 | 0.6113361  | 35.22974   | ⋯          | 1          | 2          | 1          | 1          | 2          | 1          | 1          | 1          | 1          | 1.222222   | \n",
       "\n",
       "\n"
      ],
      "text/plain": [
       "  county year crmrte    prbarr   prbconv   prbpris  avgsen polpc      density  \n",
       "1  1     87   0.0356036 0.298270 0.5275960 0.436170  6.71  0.00182786 2.4226327\n",
       "2  3     87   0.0152532 0.132029 1.4814800 0.450000  6.35  0.00074588 1.0463320\n",
       "3  5     87   0.0129603 0.444444 0.2678570 0.600000  6.76  0.00123431 0.4127659\n",
       "4  7     87   0.0267532 0.364760 0.5254240 0.435484  7.14  0.00152994 0.4915572\n",
       "5  9     87   0.0106232 0.518219 0.4765630 0.442623  8.22  0.00086018 0.5469484\n",
       "6 11     87   0.0146067 0.524664 0.0683761 0.500000 13.00  0.00288203 0.6113361\n",
       "  taxpc    ⋯ qCon qTuc qTrd qFir qSer qMfg qFed qSta qLoc qAvg    \n",
       "1 30.99368 ⋯ 3    3    3    4    3    3    3    1    3    2.888889\n",
       "2 26.89208 ⋯ 2    2    2    1    1    2    2    3    2    1.888889\n",
       "3 34.81605 ⋯ 1    1    4    2    1    1    1    2    1    1.555556\n",
       "4 42.94759 ⋯ 4    2    2    1    3    1    2    1    2    2.000000\n",
       "5 28.05474 ⋯ 3    2    3    2    1    2    1    3    4    2.333333\n",
       "6 35.22974 ⋯ 1    2    1    1    2    1    1    1    1    1.222222"
      ]
     },
     "metadata": {},
     "output_type": "display_data"
    }
   ],
   "source": [
    "head(dfWage)"
   ]
  },
  {
   "cell_type": "code",
   "execution_count": 62,
   "metadata": {},
   "outputs": [
    {
     "data": {
      "text/plain": [
       "\n",
       "Call:\n",
       "lm(formula = crmrte ~ pAllwage, data = dfWage)\n",
       "\n",
       "Residuals:\n",
       "      Min        1Q    Median        3Q       Max \n",
       "-0.035350 -0.010028 -0.005299  0.009382  0.053005 \n",
       "\n",
       "Coefficients:\n",
       "             Estimate Std. Error t value Pr(>|t|)    \n",
       "(Intercept) 2.054e-02  3.676e-03   5.588 2.53e-07 ***\n",
       "pAllwage    2.594e-04  6.368e-05   4.073 0.000101 ***\n",
       "---\n",
       "Signif. codes:  0 ‘***’ 0.001 ‘**’ 0.01 ‘*’ 0.05 ‘.’ 0.1 ‘ ’ 1\n",
       "\n",
       "Residual standard error: 0.01742 on 88 degrees of freedom\n",
       "Multiple R-squared:  0.1586,\tAdjusted R-squared:  0.1491 \n",
       "F-statistic: 16.59 on 1 and 88 DF,  p-value: 0.0001012\n"
      ]
     },
     "metadata": {},
     "output_type": "display_data"
    }
   ],
   "source": [
    "wagelm<-lm(crmrte~pAllwage,data=dfWage)\n",
    "summary(wagelm)"
   ]
  },
  {
   "cell_type": "code",
   "execution_count": 64,
   "metadata": {},
   "outputs": [
    {
     "data": {
      "text/plain": [
       "\n",
       "Call:\n",
       "lm(formula = crmrte ~ crimjust + taxpc, data = dfWage)\n",
       "\n",
       "Residuals:\n",
       "      Min        1Q    Median        3Q       Max \n",
       "-0.030495 -0.009958 -0.002992  0.005931  0.052197 \n",
       "\n",
       "Coefficients:\n",
       "              Estimate Std. Error t value Pr(>|t|)    \n",
       "(Intercept)  0.0170271  0.0057122   2.981 0.003727 ** \n",
       "crimjust    -0.0342368  0.0097873  -3.498 0.000741 ***\n",
       "taxpc        0.0005754  0.0001308   4.399 3.07e-05 ***\n",
       "---\n",
       "Signif. codes:  0 ‘***’ 0.001 ‘**’ 0.01 ‘*’ 0.05 ‘.’ 0.1 ‘ ’ 1\n",
       "\n",
       "Residual standard error: 0.01598 on 87 degrees of freedom\n",
       "Multiple R-squared:  0.2998,\tAdjusted R-squared:  0.2837 \n",
       "F-statistic: 18.63 on 2 and 87 DF,  p-value: 1.847e-07\n"
      ]
     },
     "metadata": {},
     "output_type": "display_data"
    }
   ],
   "source": [
    "# CrimJustice + taxpc\n",
    "mod3<-lm(crmrte~crimjust + taxpc,data=dfWage)\n",
    "summary(mod3)"
   ]
  },
  {
   "cell_type": "code",
   "execution_count": 65,
   "metadata": {},
   "outputs": [
    {
     "data": {
      "text/plain": [
       "\n",
       "Call:\n",
       "lm(formula = crmrte ~ crimjust + qAllwage, data = dfWage)\n",
       "\n",
       "Residuals:\n",
       "      Min        1Q    Median        3Q       Max \n",
       "-0.023791 -0.011412 -0.003888  0.008853  0.050925 \n",
       "\n",
       "Coefficients:\n",
       "             Estimate Std. Error t value Pr(>|t|)    \n",
       "(Intercept)  0.024430   0.004330   5.642 2.06e-07 ***\n",
       "crimjust    -0.043947   0.009751  -4.507 2.04e-05 ***\n",
       "qAllwage     0.006472   0.001520   4.258 5.19e-05 ***\n",
       "---\n",
       "Signif. codes:  0 ‘***’ 0.001 ‘**’ 0.01 ‘*’ 0.05 ‘.’ 0.1 ‘ ’ 1\n",
       "\n",
       "Residual standard error: 0.01608 on 87 degrees of freedom\n",
       "Multiple R-squared:  0.2917,\tAdjusted R-squared:  0.2754 \n",
       "F-statistic: 17.92 on 2 and 87 DF,  p-value: 3.048e-07\n"
      ]
     },
     "metadata": {},
     "output_type": "display_data"
    }
   ],
   "source": [
    "# CrimJustice + all wage quartiles\n",
    "mod4<-lm(crmrte~crimjust + qAllwage,data=dfWage)\n",
    "summary(mod4)"
   ]
  },
  {
   "cell_type": "code",
   "execution_count": 69,
   "metadata": {},
   "outputs": [
    {
     "data": {
      "text/plain": [
       "\n",
       "Call:\n",
       "lm(formula = crmrte ~ crimjust + pAllwage, data = dfWage)\n",
       "\n",
       "Residuals:\n",
       "      Min        1Q    Median        3Q       Max \n",
       "-0.026156 -0.010561 -0.005187  0.007413  0.047994 \n",
       "\n",
       "Coefficients:\n",
       "              Estimate Std. Error t value Pr(>|t|)    \n",
       "(Intercept)  2.689e-02  3.634e-03   7.400 8.08e-11 ***\n",
       "crimjust    -4.244e-02  9.580e-03  -4.430 2.73e-05 ***\n",
       "pAllwage     2.682e-04  5.789e-05   4.634 1.25e-05 ***\n",
       "---\n",
       "Signif. codes:  0 ‘***’ 0.001 ‘**’ 0.01 ‘*’ 0.05 ‘.’ 0.1 ‘ ’ 1\n",
       "\n",
       "Residual standard error: 0.01583 on 87 degrees of freedom\n",
       "Multiple R-squared:  0.3135,\tAdjusted R-squared:  0.2977 \n",
       "F-statistic: 19.87 on 2 and 87 DF,  p-value: 7.831e-08\n"
      ]
     },
     "metadata": {},
     "output_type": "display_data"
    }
   ],
   "source": [
    "# CrimJustice + all wage percentiles\n",
    "mod6<-lm(crmrte~crimjust + pAllwage,data=dfWage)\n",
    "summary(mod5)"
   ]
  },
  {
   "cell_type": "code",
   "execution_count": 74,
   "metadata": {},
   "outputs": [
    {
     "data": {
      "text/plain": [
       "\n",
       "Call:\n",
       "lm(formula = crmrte ~ prbconv + pAllwage, data = dfWage)\n",
       "\n",
       "Residuals:\n",
       "      Min        1Q    Median        3Q       Max \n",
       "-0.025413 -0.010087 -0.003089  0.007520  0.046340 \n",
       "\n",
       "Coefficients:\n",
       "              Estimate Std. Error t value Pr(>|t|)    \n",
       "(Intercept)  0.0317327  0.0039045   8.127 2.73e-12 ***\n",
       "prbconv     -0.0237873  0.0046346  -5.133 1.72e-06 ***\n",
       "pAllwage     0.0002976  0.0000566   5.258 1.03e-06 ***\n",
       "---\n",
       "Signif. codes:  0 ‘***’ 0.001 ‘**’ 0.01 ‘*’ 0.05 ‘.’ 0.1 ‘ ’ 1\n",
       "\n",
       "Residual standard error: 0.01535 on 87 degrees of freedom\n",
       "Multiple R-squared:  0.3542,\tAdjusted R-squared:  0.3393 \n",
       "F-statistic: 23.86 on 2 and 87 DF,  p-value: 5.493e-09\n"
      ]
     },
     "metadata": {},
     "output_type": "display_data"
    }
   ],
   "source": [
    "# prbconv + all wage percentiles\n",
    "mod6<-lm(crmrte~prbconv + pAllwage,data=dfWage)\n",
    "summary(mod6)"
   ]
  },
  {
   "cell_type": "code",
   "execution_count": 75,
   "metadata": {},
   "outputs": [
    {
     "data": {
      "text/plain": [
       "\n",
       "Call:\n",
       "lm(formula = crmrte ~ prbconv + pUrban, data = dfWage)\n",
       "\n",
       "Residuals:\n",
       "      Min        1Q    Median        3Q       Max \n",
       "-0.026295 -0.010007 -0.001860  0.005854  0.043346 \n",
       "\n",
       "Coefficients:\n",
       "              Estimate Std. Error t value Pr(>|t|)    \n",
       "(Intercept)  3.885e-02  2.928e-03  13.270  < 2e-16 ***\n",
       "prbconv     -1.532e-02  4.339e-03  -3.532 0.000663 ***\n",
       "pUrban       4.221e-04  6.237e-05   6.768 1.45e-09 ***\n",
       "---\n",
       "Signif. codes:  0 ‘***’ 0.001 ‘**’ 0.01 ‘*’ 0.05 ‘.’ 0.1 ‘ ’ 1\n",
       "\n",
       "Residual standard error: 0.01426 on 87 degrees of freedom\n",
       "Multiple R-squared:  0.4425,\tAdjusted R-squared:  0.4297 \n",
       "F-statistic: 34.53 on 2 and 87 DF,  p-value: 9.14e-12\n"
      ]
     },
     "metadata": {},
     "output_type": "display_data"
    }
   ],
   "source": [
    "# prbconv + all wage percentiles*urban\n",
    "mod7<-lm(crmrte~prbconv + pUrban,data=dfWage)\n",
    "summary(mod7)"
   ]
  },
  {
   "cell_type": "code",
   "execution_count": 80,
   "metadata": {},
   "outputs": [
    {
     "data": {
      "text/plain": [
       "\n",
       "Call:\n",
       "lm(formula = crmrte ~ prbconv + pTax, data = dfWage)\n",
       "\n",
       "Residuals:\n",
       "      Min        1Q    Median        3Q       Max \n",
       "-0.026627 -0.009272 -0.001634  0.005052  0.043660 \n",
       "\n",
       "Coefficients:\n",
       "              Estimate Std. Error t value Pr(>|t|)    \n",
       "(Intercept)  0.0384603  0.0028652  13.423  < 2e-16 ***\n",
       "prbconv     -0.0149376  0.0042411  -3.522 0.000684 ***\n",
       "pTax         0.0007012  0.0000970   7.229 1.78e-10 ***\n",
       "---\n",
       "Signif. codes:  0 ‘***’ 0.001 ‘**’ 0.01 ‘*’ 0.05 ‘.’ 0.1 ‘ ’ 1\n",
       "\n",
       "Residual standard error: 0.01393 on 87 degrees of freedom\n",
       "Multiple R-squared:  0.4683,\tAdjusted R-squared:  0.4561 \n",
       "F-statistic: 38.32 on 2 and 87 DF,  p-value: 1.164e-12\n"
      ]
     },
     "metadata": {},
     "output_type": "display_data"
    }
   ],
   "source": [
    "# prbconv + taxpc*urban\n",
    "mod8<-lm(crmrte~prbconv + pTax,data=dfWage)\n",
    "summary(mod8)"
   ]
  },
  {
   "cell_type": "code",
   "execution_count": 81,
   "metadata": {},
   "outputs": [
    {
     "data": {
      "text/plain": [
       "\n",
       "Call:\n",
       "lm(formula = crmrte ~ crimjust + pTax, data = dfWage)\n",
       "\n",
       "Residuals:\n",
       "      Min        1Q    Median        3Q       Max \n",
       "-0.026191 -0.008554 -0.002010  0.005383  0.045336 \n",
       "\n",
       "Coefficients:\n",
       "              Estimate Std. Error t value Pr(>|t|)    \n",
       "(Intercept)  3.511e-02  2.098e-03  16.738  < 2e-16 ***\n",
       "crimjust    -3.070e-02  8.515e-03  -3.606 0.000519 ***\n",
       "pTax         7.074e-04  9.635e-05   7.341 1.06e-10 ***\n",
       "---\n",
       "Signif. codes:  0 ‘***’ 0.001 ‘**’ 0.01 ‘*’ 0.05 ‘.’ 0.1 ‘ ’ 1\n",
       "\n",
       "Residual standard error: 0.01389 on 87 degrees of freedom\n",
       "Multiple R-squared:  0.4715,\tAdjusted R-squared:  0.4593 \n",
       "F-statistic: 38.81 on 2 and 87 DF,  p-value: 8.978e-13\n"
      ]
     },
     "metadata": {},
     "output_type": "display_data"
    }
   ],
   "source": [
    "# prbconv + taxpc*urban\n",
    "mod9<-lm(crmrte~crimjust + pTax,data=dfWage)\n",
    "summary(mod9)"
   ]
  },
  {
   "cell_type": "code",
   "execution_count": 134,
   "metadata": {},
   "outputs": [
    {
     "data": {
      "text/plain": [
       "\n",
       "Call:\n",
       "lm(formula = crmrte ~ prbconv + qAvg, data = dfWage)\n",
       "\n",
       "Residuals:\n",
       "      Min        1Q    Median        3Q       Max \n",
       "-0.028599 -0.010487 -0.002528  0.008177  0.047946 \n",
       "\n",
       "Coefficients:\n",
       "             Estimate Std. Error t value Pr(>|t|)    \n",
       "(Intercept)  0.015676   0.006445   2.432   0.0171 *  \n",
       "prbconv     -0.019561   0.004627  -4.228 5.80e-05 ***\n",
       "qAvg         0.011495   0.002243   5.125 1.78e-06 ***\n",
       "---\n",
       "Signif. codes:  0 ‘***’ 0.001 ‘**’ 0.01 ‘*’ 0.05 ‘.’ 0.1 ‘ ’ 1\n",
       "\n",
       "Residual standard error: 0.01544 on 87 degrees of freedom\n",
       "Multiple R-squared:  0.3463,\tAdjusted R-squared:  0.3313 \n",
       "F-statistic: 23.04 on 2 and 87 DF,  p-value: 9.311e-09\n"
      ]
     },
     "metadata": {},
     "output_type": "display_data"
    }
   ],
   "source": [
    "# prbconv + taxpc*urban\n",
    "mod10<-lm(crmrte~prbconv + qAvg,data=dfWage)\n",
    "summary(mod10)"
   ]
  },
  {
   "cell_type": "code",
   "execution_count": 142,
   "metadata": {},
   "outputs": [
    {
     "data": {
      "text/plain": [
       "\n",
       "Call:\n",
       "lm(formula = crmrte ~ prbarr + prbconv + polpc + density + taxpc + \n",
       "    pctmin80 + wtuc + wser + wmfg + pctymle + qFir + qSer + qSta + \n",
       "    pAllwage + crimjust, data = dfWage)\n",
       "\n",
       "Residuals:\n",
       "       Min         1Q     Median         3Q        Max \n",
       "-0.0193602 -0.0045114 -0.0002736  0.0038237  0.0200484 \n",
       "\n",
       "Coefficients:\n",
       "              Estimate Std. Error t value Pr(>|t|)    \n",
       "(Intercept)  4.572e-02  1.084e-02   4.219 6.87e-05 ***\n",
       "prbarr      -7.238e-02  1.314e-02  -5.507 5.03e-07 ***\n",
       "prbconv     -2.450e-02  4.989e-03  -4.910 5.29e-06 ***\n",
       "polpc        3.343e+00  1.570e+00   2.129 0.036566 *  \n",
       "density      5.842e-03  7.335e-04   7.965 1.51e-11 ***\n",
       "taxpc        2.822e-04  7.917e-05   3.564 0.000643 ***\n",
       "pctmin80     3.490e-04  5.101e-05   6.841 1.94e-09 ***\n",
       "wtuc        -2.788e-05  1.542e-05  -1.808 0.074701 .  \n",
       "wser        -1.106e-05  5.793e-06  -1.910 0.060040 .  \n",
       "wmfg        -3.058e-05  1.379e-05  -2.218 0.029620 *  \n",
       "pctymle      1.443e-01  3.881e-02   3.719 0.000387 ***\n",
       "qFir        -2.094e-03  1.073e-03  -1.951 0.054826 .  \n",
       "qSer        -3.504e-03  1.126e-03  -3.113 0.002630 ** \n",
       "qSta        -2.060e-03  7.757e-04  -2.655 0.009696 ** \n",
       "pAllwage     3.146e-04  7.650e-05   4.112 0.000100 ***\n",
       "crimjust     3.001e-02  1.512e-02   1.985 0.050899 .  \n",
       "---\n",
       "Signif. codes:  0 ‘***’ 0.001 ‘**’ 0.01 ‘*’ 0.05 ‘.’ 0.1 ‘ ’ 1\n",
       "\n",
       "Residual standard error: 0.007468 on 74 degrees of freedom\n",
       "Multiple R-squared:   0.87,\tAdjusted R-squared:  0.8437 \n",
       "F-statistic: 33.02 on 15 and 74 DF,  p-value: < 2.2e-16\n"
      ]
     },
     "metadata": {},
     "output_type": "display_data"
    }
   ],
   "source": [
    "# Stepwise for dfWage\n",
    "stepWage<-lm(crmrte~., data=dfWage)\n",
    "step3<-stepAIC(stepWage,trace=F)\n",
    "summary(step3)"
   ]
  },
  {
   "cell_type": "markdown",
   "metadata": {},
   "source": [
    "#### Who is the super high tax datapoint?"
   ]
  },
  {
   "cell_type": "code",
   "execution_count": 90,
   "metadata": {},
   "outputs": [
    {
     "data": {},
     "metadata": {},
     "output_type": "display_data"
    },
    {
     "data": {
      "image/png": "[encoded data removed]",
      "text/plain": [
       "plot without title"
      ]
     },
     "metadata": {},
     "output_type": "display_data"
    }
   ],
   "source": [
    "ggplot(data = dfWage, aes(x = taxpc, y = pAllwage, color = urban)) + \n",
    "  geom_point()"
   ]
  },
  {
   "cell_type": "code",
   "execution_count": 96,
   "metadata": {},
   "outputs": [
    {
     "data": {
      "text/html": [
       "<table>\n",
       "<thead><tr><th scope=col>county</th><th scope=col>year</th><th scope=col>crmrte</th><th scope=col>prbarr</th><th scope=col>prbconv</th><th scope=col>prbpris</th><th scope=col>avgsen</th><th scope=col>polpc</th><th scope=col>density</th><th scope=col>taxpc</th><th scope=col>⋯</th><th scope=col>region</th><th scope=col>qCon</th><th scope=col>qSer</th><th scope=col>qMfg</th><th scope=col>allwage</th><th scope=col>qAllwage</th><th scope=col>crimjust</th><th scope=col>pAllwage</th><th scope=col>pUrban</th><th scope=col>pTax</th></tr></thead>\n",
       "<tbody>\n",
       "\t<tr><td>55        </td><td>87        </td><td>0.0790163 </td><td>0.224628  </td><td>0.207831  </td><td>0.304348  </td><td>13.57     </td><td>0.00400962</td><td>0.5115089 </td><td>119.7615  </td><td>⋯         </td><td>Region 1  </td><td>3         </td><td>1         </td><td>2         </td><td>2796.407  </td><td>2         </td><td>0.04668466</td><td>34        </td><td>0         </td><td>0         </td></tr>\n",
       "</tbody>\n",
       "</table>\n"
      ],
      "text/latex": [
       "\\begin{tabular}{r|lllllllllllllllllllllllllllllllllll}\n",
       " county & year & crmrte & prbarr & prbconv & prbpris & avgsen & polpc & density & taxpc & ⋯ & region & qCon & qSer & qMfg & allwage & qAllwage & crimjust & pAllwage & pUrban & pTax\\\\\n",
       "\\hline\n",
       "\t 55         & 87         & 0.0790163  & 0.224628   & 0.207831   & 0.304348   & 13.57      & 0.00400962 & 0.5115089  & 119.7615   & ⋯          & Region 1   & 3          & 1          & 2          & 2796.407   & 2          & 0.04668466 & 34         & 0          & 0         \\\\\n",
       "\\end{tabular}\n"
      ],
      "text/markdown": [
       "\n",
       "county | year | crmrte | prbarr | prbconv | prbpris | avgsen | polpc | density | taxpc | ⋯ | region | qCon | qSer | qMfg | allwage | qAllwage | crimjust | pAllwage | pUrban | pTax | \n",
       "|---|\n",
       "| 55         | 87         | 0.0790163  | 0.224628   | 0.207831   | 0.304348   | 13.57      | 0.00400962 | 0.5115089  | 119.7615   | ⋯          | Region 1   | 3          | 1          | 2          | 2796.407   | 2          | 0.04668466 | 34         | 0          | 0          | \n",
       "\n",
       "\n"
      ],
      "text/plain": [
       "  county year crmrte    prbarr   prbconv  prbpris  avgsen polpc      density  \n",
       "1 55     87   0.0790163 0.224628 0.207831 0.304348 13.57  0.00400962 0.5115089\n",
       "  taxpc    ⋯ region   qCon qSer qMfg allwage  qAllwage crimjust   pAllwage\n",
       "1 119.7615 ⋯ Region 1 3    1    2    2796.407 2        0.04668466 34      \n",
       "  pUrban pTax\n",
       "1 0      0   "
      ]
     },
     "metadata": {},
     "output_type": "display_data"
    }
   ],
   "source": [
    "dfWage%>% filter(taxpc > 100)"
   ]
  },
  {
   "cell_type": "code",
   "execution_count": 135,
   "metadata": {},
   "outputs": [
    {
     "name": "stdout",
     "output_type": "stream",
     "text": [
      "\n",
      "=======================================================================================================================\n",
      "                                                                 Dependent variable:                                   \n",
      "                              -----------------------------------------------------------------------------------------\n",
      "                               crmrte                                       crmrte                                     \n",
      "                                 (1)       (2)       (3)       (4)       (5)       (6)       (7)       (8)       (9)   \n",
      "-----------------------------------------------------------------------------------------------------------------------\n",
      "prbconv                       -0.018***                                                                                \n",
      "                               (0.005)                                                                                 \n",
      "                                                                                                                       \n",
      "taxpc                         0.001***                                                                                 \n",
      "                              (0.0001)                                                                                 \n",
      "                                                                                                                       \n",
      "crimjust                                -0.034*** -0.044*** -0.042***                               -0.031***          \n",
      "                                         (0.010)   (0.010)   (0.010)                                 (0.009)           \n",
      "                                                                                                                       \n",
      "taxpc                                   0.001***                                                                       \n",
      "                                        (0.0001)                                                                       \n",
      "                                                                                                                       \n",
      "qAllwage                                          0.006***                                                             \n",
      "                                                   (0.002)                                                             \n",
      "                                                                                                                       \n",
      "prbconv                                                               -0.024*** -0.015*** -0.015***           -0.020***\n",
      "                                                                       (0.005)   (0.004)   (0.004)             (0.005) \n",
      "                                                                                                                       \n",
      "pAllwage                                                    0.0003*** 0.0003***                                        \n",
      "                                                            (0.0001)  (0.0001)                                         \n",
      "                                                                                                                       \n",
      "pUrban                                                                          0.0004***                              \n",
      "                                                                                (0.0001)                               \n",
      "                                                                                                                       \n",
      "pTax                                                                                      0.001***  0.001***           \n",
      "                                                                                          (0.0001)  (0.0001)           \n",
      "                                                                                                                       \n",
      "qAvg                                                                                                          0.011*** \n",
      "                                                                                                               (0.002) \n",
      "                                                                                                                       \n",
      "Constant                      0.021***  0.017***  0.024***  0.027***  0.032***  0.039***  0.038***  0.035***   0.016** \n",
      "                               (0.006)   (0.006)   (0.004)   (0.004)   (0.004)   (0.003)   (0.003)   (0.002)   (0.006) \n",
      "                                                                                                                       \n",
      "-----------------------------------------------------------------------------------------------------------------------\n",
      "Observations                     90        90        90        90        90        90        90        90        90    \n",
      "R2                              0.311     0.300     0.292     0.314     0.354     0.443     0.468     0.471     0.346  \n",
      "Adjusted R2                     0.295     0.284     0.275     0.298     0.339     0.430     0.456     0.459     0.331  \n",
      "Residual Std. Error (df = 87)   0.016     0.016     0.016     0.016     0.015     0.014     0.014     0.014     0.015  \n",
      "F Statistic (df = 2; 87)      19.657*** 18.627*** 17.916*** 19.865*** 23.856*** 34.530*** 38.315*** 38.805*** 23.044***\n",
      "=======================================================================================================================\n",
      "Note:                                                                                       *p<0.1; **p<0.05; ***p<0.01\n"
     ]
    }
   ],
   "source": [
    "library(stargazer)\n",
    "stargazer(mod1,mod3,mod4,mod5,mod6,mod7,mod8,mod9,mod10,type=\"text\")"
   ]
  },
  {
   "cell_type": "code",
   "execution_count": 114,
   "metadata": {},
   "outputs": [
    {
     "data": {
      "text/html": [
       "<dl class=dl-horizontal>\n",
       "\t<dt>county</dt>\n",
       "\t\t<dd>9054</dd>\n",
       "\t<dt>year</dt>\n",
       "\t\t<dd>7830</dd>\n",
       "\t<dt>crmrte</dt>\n",
       "\t\t<dd>3.015893187</dd>\n",
       "\t<dt>prbarr</dt>\n",
       "\t\t<dd>26.571377942</dd>\n",
       "\t<dt>prbconv</dt>\n",
       "\t\t<dd>49.577497118</dd>\n",
       "\t<dt>prbpris</dt>\n",
       "\t\t<dd>36.956305843</dd>\n",
       "\t<dt>avgsen</dt>\n",
       "\t\t<dd>872.000001916</dd>\n",
       "\t<dt>polpc</dt>\n",
       "\t\t<dd>0.15371761</dd>\n",
       "\t<dt>density</dt>\n",
       "\t\t<dd>129.2103210592</dd>\n",
       "\t<dt>taxpc</dt>\n",
       "\t\t<dd>3434.49314878</dd>\n",
       "\t<dt>west</dt>\n",
       "\t\t<dd>22</dd>\n",
       "\t<dt>central</dt>\n",
       "\t\t<dd>34</dd>\n",
       "\t<dt>urban</dt>\n",
       "\t\t<dd>8</dd>\n",
       "\t<dt>pctmin80</dt>\n",
       "\t\t<dd>2314.156706072</dd>\n",
       "\t<dt>wcon</dt>\n",
       "\t\t<dd>25681.7913971</dd>\n",
       "\t<dt>wtuc</dt>\n",
       "\t\t<dd>36981.5890042</dd>\n",
       "\t<dt>wtrd</dt>\n",
       "\t\t<dd>18982.9303589</dd>\n",
       "\t<dt>wfir</dt>\n",
       "\t\t<dd>28945.9172517</dd>\n",
       "\t<dt>wser</dt>\n",
       "\t\t<dd>24780.4080956</dd>\n",
       "\t<dt>wmfg</dt>\n",
       "\t\t<dd>30242.9401701</dd>\n",
       "\t<dt>wfed</dt>\n",
       "\t\t<dd>39835.6999818</dd>\n",
       "\t<dt>wsta</dt>\n",
       "\t\t<dd>32196.6198428</dd>\n",
       "\t<dt>wloc</dt>\n",
       "\t\t<dd>28105.2099457</dd>\n",
       "\t<dt>mix</dt>\n",
       "\t\t<dd>11.614094365</dd>\n",
       "\t<dt>pctymle</dt>\n",
       "\t\t<dd>7.562353223</dd>\n",
       "\t<dt>qCon</dt>\n",
       "\t\t<dd>224</dd>\n",
       "\t<dt>qSer</dt>\n",
       "\t\t<dd>224</dd>\n",
       "\t<dt>qMfg</dt>\n",
       "\t\t<dd>224</dd>\n",
       "\t<dt>allwage</dt>\n",
       "\t\t<dd>265753.1060479</dd>\n",
       "\t<dt>qAllwage</dt>\n",
       "\t\t<dd>224</dd>\n",
       "\t<dt>crimjust</dt>\n",
       "\t\t<dd>14.394987700965</dd>\n",
       "\t<dt>pAllwage</dt>\n",
       "\t\t<dd>4500</dd>\n",
       "\t<dt>pUrban</dt>\n",
       "\t\t<dd>660</dd>\n",
       "\t<dt>pTax</dt>\n",
       "\t\t<dd>420.752285</dd>\n",
       "</dl>\n"
      ],
      "text/latex": [
       "\\begin{description*}\n",
       "\\item[county] 9054\n",
       "\\item[year] 7830\n",
       "\\item[crmrte] 3.015893187\n",
       "\\item[prbarr] 26.571377942\n",
       "\\item[prbconv] 49.577497118\n",
       "\\item[prbpris] 36.956305843\n",
       "\\item[avgsen] 872.000001916\n",
       "\\item[polpc] 0.15371761\n",
       "\\item[density] 129.2103210592\n",
       "\\item[taxpc] 3434.49314878\n",
       "\\item[west] 22\n",
       "\\item[central] 34\n",
       "\\item[urban] 8\n",
       "\\item[pctmin80] 2314.156706072\n",
       "\\item[wcon] 25681.7913971\n",
       "\\item[wtuc] 36981.5890042\n",
       "\\item[wtrd] 18982.9303589\n",
       "\\item[wfir] 28945.9172517\n",
       "\\item[wser] 24780.4080956\n",
       "\\item[wmfg] 30242.9401701\n",
       "\\item[wfed] 39835.6999818\n",
       "\\item[wsta] 32196.6198428\n",
       "\\item[wloc] 28105.2099457\n",
       "\\item[mix] 11.614094365\n",
       "\\item[pctymle] 7.562353223\n",
       "\\item[qCon] 224\n",
       "\\item[qSer] 224\n",
       "\\item[qMfg] 224\n",
       "\\item[allwage] 265753.1060479\n",
       "\\item[qAllwage] 224\n",
       "\\item[crimjust] 14.394987700965\n",
       "\\item[pAllwage] 4500\n",
       "\\item[pUrban] 660\n",
       "\\item[pTax] 420.752285\n",
       "\\end{description*}\n"
      ],
      "text/markdown": [
       "county\n",
       ":   9054year\n",
       ":   7830crmrte\n",
       ":   3.015893187prbarr\n",
       ":   26.571377942prbconv\n",
       ":   49.577497118prbpris\n",
       ":   36.956305843avgsen\n",
       ":   872.000001916polpc\n",
       ":   0.15371761density\n",
       ":   129.2103210592taxpc\n",
       ":   3434.49314878west\n",
       ":   22central\n",
       ":   34urban\n",
       ":   8pctmin80\n",
       ":   2314.156706072wcon\n",
       ":   25681.7913971wtuc\n",
       ":   36981.5890042wtrd\n",
       ":   18982.9303589wfir\n",
       ":   28945.9172517wser\n",
       ":   24780.4080956wmfg\n",
       ":   30242.9401701wfed\n",
       ":   39835.6999818wsta\n",
       ":   32196.6198428wloc\n",
       ":   28105.2099457mix\n",
       ":   11.614094365pctymle\n",
       ":   7.562353223qCon\n",
       ":   224qSer\n",
       ":   224qMfg\n",
       ":   224allwage\n",
       ":   265753.1060479qAllwage\n",
       ":   224crimjust\n",
       ":   14.394987700965pAllwage\n",
       ":   4500pUrban\n",
       ":   660pTax\n",
       ":   420.752285\n",
       "\n"
      ],
      "text/plain": [
       "      county         year       crmrte       prbarr      prbconv      prbpris \n",
       "9.054000e+03 7.830000e+03 3.015893e+00 2.657138e+01 4.957750e+01 3.695631e+01 \n",
       "      avgsen        polpc      density        taxpc         west      central \n",
       "8.720000e+02 1.537176e-01 1.292103e+02 3.434493e+03 2.200000e+01 3.400000e+01 \n",
       "       urban     pctmin80         wcon         wtuc         wtrd         wfir \n",
       "8.000000e+00 2.314157e+03 2.568179e+04 3.698159e+04 1.898293e+04 2.894592e+04 \n",
       "        wser         wmfg         wfed         wsta         wloc          mix \n",
       "2.478041e+04 3.024294e+04 3.983570e+04 3.219662e+04 2.810521e+04 1.161409e+01 \n",
       "     pctymle         qCon         qSer         qMfg      allwage     qAllwage \n",
       "7.562353e+00 2.240000e+02 2.240000e+02 2.240000e+02 2.657531e+05 2.240000e+02 \n",
       "    crimjust     pAllwage       pUrban         pTax \n",
       "1.439499e+01 4.500000e+03 6.600000e+02 4.207523e+02 "
      ]
     },
     "metadata": {},
     "output_type": "display_data"
    }
   ],
   "source": [
    "colSums(dfWage[sapply(dfWage, is.numeric)])"
   ]
  },
  {
   "cell_type": "code",
   "execution_count": 141,
   "metadata": {},
   "outputs": [
    {
     "data": {
      "image/png": "[encoded data removed]",
      "text/plain": [
       "plot without title"
      ]
     },
     "metadata": {},
     "output_type": "display_data"
    }
   ],
   "source": [
    "plot(dfWage$pAllwage,dfWage$qAvg)"
   ]
  },
  {
   "cell_type": "code",
   "execution_count": 148,
   "metadata": {},
   "outputs": [
    {
     "data": {
      "image/png": "[encoded data removed]",
      "text/plain": [
       "Plot with title “Histogram of dfWage$allwage”"
      ]
     },
     "metadata": {},
     "output_type": "display_data"
    }
   ],
   "source": [
    "hist(dfWage$allwage)"
   ]
  },
  {
   "cell_type": "markdown",
   "metadata": {},
   "source": [
    "### Misc work"
   ]
  },
  {
   "cell_type": "code",
   "execution_count": null,
   "metadata": {},
   "outputs": [],
   "source": [
    "options(repr.plot.width=6, repr.plot.height=4)\n",
    "plot(dfCrime$taxpc,dfCrime$wcon)\n",
    "plot(dfCrime$taxpc,dfCrime$wtuc)\n",
    "plot(dfCrime$taxpc,dfCrime$wtrd)"
   ]
  },
  {
   "cell_type": "code",
   "execution_count": null,
   "metadata": {},
   "outputs": [],
   "source": [
    "plot(dfCrime$taxpc,dfCrime$wfir)\n",
    "plot(dfCrime$taxpc,dfCrime$wser)\n",
    "plot(dfCrime$taxpc,dfCrime$wmfg)"
   ]
  },
  {
   "cell_type": "code",
   "execution_count": null,
   "metadata": {},
   "outputs": [],
   "source": [
    "plot(dfCrime$taxpc,dfCrime$wfed)\n",
    "plot(dfCrime$taxpc,dfCrime$wsta)\n",
    "plot(dfCrime$taxpc,dfCrime$wloc)"
   ]
  },
  {
   "cell_type": "code",
   "execution_count": null,
   "metadata": {},
   "outputs": [],
   "source": [
    "plot(dfCrime$taxpc,dfCrime$urban)"
   ]
  },
  {
   "cell_type": "code",
   "execution_count": null,
   "metadata": {},
   "outputs": [],
   "source": [
    "plot(dfCrime$crmrte,dfCrime$urban)"
   ]
  },
  {
   "cell_type": "code",
   "execution_count": null,
   "metadata": {},
   "outputs": [],
   "source": [
    "hist(dfCrime$taxpc)"
   ]
  },
  {
   "cell_type": "code",
   "execution_count": 25,
   "metadata": {},
   "outputs": [
    {
     "data": {},
     "metadata": {},
     "output_type": "display_data"
    },
    {
     "data": {
      "image/png": "[encoded data removed]",
      "text/plain": [
       "plot without title"
      ]
     },
     "metadata": {},
     "output_type": "display_data"
    }
   ],
   "source": [
    "ggplot(data = dfCrime, aes(x = taxpc, y = crmrte, color = region)) + \n",
    "  geom_point()"
   ]
  },
  {
   "cell_type": "code",
   "execution_count": 30,
   "metadata": {
    "scrolled": true
   },
   "outputs": [
    {
     "data": {
      "image/png": "[encoded data removed]",
      "text/plain": [
       "plot without title"
      ]
     },
     "metadata": {},
     "output_type": "display_data"
    }
   ],
   "source": [
    "plot(dfCrime$taxpc,dfCrime$crmrte)\n",
    "abline(dfCrime$taxpc,dfCrime$crmrte)"
   ]
  },
  {
   "cell_type": "markdown",
   "metadata": {},
   "source": [
    "###Univariate analysis on Crime Rate"
   ]
  },
  {
   "cell_type": "code",
   "execution_count": 150,
   "metadata": {},
   "outputs": [
    {
     "data": {
      "image/png": "[encoded data removed]",
      "text/plain": [
       "Plot with title “Histogram of dfCrime$crmrte”"
      ]
     },
     "metadata": {},
     "output_type": "display_data"
    }
   ],
   "source": [
    "hist(dfCrime$crmrte)"
   ]
  },
  {
   "cell_type": "code",
   "execution_count": 155,
   "metadata": {},
   "outputs": [
    {
     "data": {
      "image/png": "[encoded data removed]",
      "text/plain": [
       "Plot with title “Distribution of Crime Rate by County”"
      ]
     },
     "metadata": {},
     "output_type": "display_data"
    }
   ],
   "source": [
    "boxplot(dfCrime$crmrte, main=\"Distribution of Crime Rate by County\", ylab=\"Crimes per person\")"
   ]
  },
  {
   "cell_type": "code",
   "execution_count": 151,
   "metadata": {},
   "outputs": [
    {
     "data": {
      "text/plain": [
       "    Min.  1st Qu.   Median     Mean  3rd Qu.     Max. \n",
       "0.005533 0.020604 0.030002 0.033510 0.040249 0.098966 "
      ]
     },
     "metadata": {},
     "output_type": "display_data"
    }
   ],
   "source": [
    "summary(dfCrime$crmrte)"
   ]
  },
  {
   "cell_type": "code",
   "execution_count": 153,
   "metadata": {},
   "outputs": [
    {
     "data": {
      "text/html": [
       "90"
      ],
      "text/latex": [
       "90"
      ],
      "text/markdown": [
       "90"
      ],
      "text/plain": [
       "[1] 90"
      ]
     },
     "metadata": {},
     "output_type": "display_data"
    }
   ],
   "source": [
    "length(dfCrime$crmrte)"
   ]
  },
  {
   "cell_type": "code",
   "execution_count": null,
   "metadata": {},
   "outputs": [],
   "source": []
  }
 ],
 "metadata": {
  "kernelspec": {
   "display_name": "R",
   "language": "R",
   "name": "ir"
  },
  "language_info": {
   "codemirror_mode": "r",
   "file_extension": ".r",
   "mimetype": "text/x-r-source",
   "name": "R",
   "pygments_lexer": "r",
   "version": "3.5.1"
  }
 },
 "nbformat": 4,
 "nbformat_minor": 2
}
